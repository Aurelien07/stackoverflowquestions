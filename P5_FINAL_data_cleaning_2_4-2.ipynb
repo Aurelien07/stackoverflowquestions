{
 "cells": [
  {
   "cell_type": "markdown",
   "id": "large-transcript",
   "metadata": {},
   "source": [
    "#  Stack Overflow part : 2/3"
   ]
  },
  {
   "cell_type": "markdown",
   "id": "ddb367dc",
   "metadata": {},
   "source": [
    "Utilisation de la librairie Nb Extend pour mettre le code au format PEP 8."
   ]
  },
  {
   "cell_type": "markdown",
   "id": "3ce128f2",
   "metadata": {},
   "source": [
    "## Fonction importante pour le modelling :"
   ]
  },
  {
   "cell_type": "code",
   "execution_count": 1,
   "id": "9f62cd1e",
   "metadata": {
    "ExecuteTime": {
     "end_time": "2022-10-17T14:26:20.407691Z",
     "start_time": "2022-10-17T14:26:20.403246Z"
    }
   },
   "outputs": [],
   "source": [
    "# potentiellement à optimisé pour une meilleure visibilité :\n",
    "def visu_yellow(data):\n",
    "\n",
    "    # Load the text data\n",
    "    Balise = data\n",
    "\n",
    "    vectorizer = CountVectorizer()\n",
    "    docs = vectorizer.fit_transform(Balise)\n",
    "    features = vectorizer.get_feature_names_out()\n",
    "    # plt.figure(figsize=(18,12)) # Erreur => utilisation de size\n",
    "    visualizer = FreqDistVisualizer(\n",
    "        features=features, orient='v', size=(1080, 720))\n",
    "    visualizer.fit(docs)\n",
    "    visualizer.show()"
   ]
  },
  {
   "cell_type": "code",
   "execution_count": 2,
   "id": "bbdd93a9",
   "metadata": {
    "ExecuteTime": {
     "end_time": "2022-10-17T14:26:20.412411Z",
     "start_time": "2022-10-17T14:26:20.409610Z"
    }
   },
   "outputs": [],
   "source": [
    "def print_score(model, y_test, y_pred):\n",
    "    Visualisation_score[model] = {\"Accuracy :\", metrics.accuracy_score(y_test, y_pred),\n",
    "                                  \"Hamming loss :\", metrics.hamming_loss(\n",
    "                                      y_test, y_pred),\n",
    "                                  \"jaccard_score :\", metrics.jaccard_score(\n",
    "                                      y_test, y_pred),\n",
    "                                  }\n",
    "    return Visualisation_score"
   ]
  },
  {
   "cell_type": "code",
   "execution_count": 3,
   "id": "25f0289d",
   "metadata": {
    "ExecuteTime": {
     "end_time": "2022-10-17T14:26:20.418463Z",
     "start_time": "2022-10-17T14:26:20.415080Z"
    }
   },
   "outputs": [],
   "source": [
    "def UMAP_Corpus_Visualization (text, data) :\n",
    "\n",
    "    corpus = text\n",
    "\n",
    "    tfidf = TfidfVectorizer()\n",
    "    docs = tfidf.fit_transform(corpus.data)\n",
    "    labels = corpus.target\n",
    "\n",
    "    # Visualizer\n",
    "    umap = UMAPVisualizer()\n",
    "    umap.fit(docs, labels)\n",
    "    umap.show()"
   ]
  },
  {
   "cell_type": "markdown",
   "id": "multiple-termination",
   "metadata": {},
   "source": [
    "## Importation des données"
   ]
  },
  {
   "cell_type": "markdown",
   "id": "invisible-preparation",
   "metadata": {},
   "source": [
    "Pour les besoins du notebook nous ne conservons que les titres, corps du texte et tags des document importés. "
   ]
  },
  {
   "cell_type": "code",
   "execution_count": 4,
   "id": "experienced-budapest",
   "metadata": {
    "ExecuteTime": {
     "end_time": "2022-10-17T14:26:25.054815Z",
     "start_time": "2022-10-17T14:26:20.420771Z"
    }
   },
   "outputs": [
    {
     "name": "stderr",
     "output_type": "stream",
     "text": [
      "/opt/anaconda3/lib/python3.8/site-packages/scipy/__init__.py:146: UserWarning: A NumPy version >=1.16.5 and <1.23.0 is required for this version of SciPy (detected version 1.23.1\n",
      "  warnings.warn(f\"A NumPy version >={np_minversion} and <{np_maxversion}\"\n"
     ]
    }
   ],
   "source": [
    "import pandas as pd\n",
    "import numpy as np\n",
    "import IPython.display\n",
    "import re\n",
    "\n",
    "from contractions import CONTRACTION_MAP  # pour les verbes contractées\n",
    "# source : https://towardsdatascience.com/a-practitioners-guide-to-natural-language-processing-part-i-processing-understanding-text-9f4abfd13e72\n",
    "\n",
    "# Pour la visualisation graphique :\n",
    "import matplotlib.pyplot as plt\n",
    "import seaborn as sns\n",
    "import plotly.express as px\n",
    "\n",
    "# pour le modelling des mots :\n",
    "import nltk\n",
    "from nltk.corpus import stopwords\n",
    "from nltk import word_tokenize\n",
    "from nltk.tokenize import sent_tokenize\n",
    "from nltk.stem import WordNetLemmatizer\n",
    "import lxml\n",
    "import html5lib\n",
    "from bs4 import BeautifulSoup\n",
    "\n",
    "# Pour la visualisation des tokens :\n",
    "from sklearn.feature_extraction.text import CountVectorizer\n",
    "from yellowbrick.text import FreqDistVisualizer\n",
    "\n",
    "# Pour les scores :\n",
    "from sklearn import metrics\n",
    "from sklearn.metrics import accuracy_score, jaccard_score, hamming_loss\n",
    "\n",
    "# Pour supprimer les warnings :\n",
    "import sys\n",
    "if not sys.warnoptions:\n",
    "    import warnings\n",
    "    warnings.simplefilter(\"ignore\")"
   ]
  },
  {
   "cell_type": "markdown",
   "id": "d5afff5c",
   "metadata": {},
   "source": [
    "### Pré-visualisation avant traitement :"
   ]
  },
  {
   "cell_type": "code",
   "execution_count": 5,
   "id": "dbb0ab10",
   "metadata": {
    "ExecuteTime": {
     "end_time": "2022-10-17T14:26:25.897527Z",
     "start_time": "2022-10-17T14:26:25.055831Z"
    }
   },
   "outputs": [
    {
     "data": {
      "text/html": [
       "<div>\n",
       "<style scoped>\n",
       "    .dataframe tbody tr th:only-of-type {\n",
       "        vertical-align: middle;\n",
       "    }\n",
       "\n",
       "    .dataframe tbody tr th {\n",
       "        vertical-align: top;\n",
       "    }\n",
       "\n",
       "    .dataframe thead th {\n",
       "        text-align: right;\n",
       "    }\n",
       "</style>\n",
       "<table border=\"1\" class=\"dataframe\">\n",
       "  <thead>\n",
       "    <tr style=\"text-align: right;\">\n",
       "      <th></th>\n",
       "      <th>Title</th>\n",
       "      <th>Body</th>\n",
       "      <th>Tags</th>\n",
       "    </tr>\n",
       "  </thead>\n",
       "  <tbody>\n",
       "    <tr>\n",
       "      <th>0</th>\n",
       "      <td>Using A Parent Associative Foreach Loop That C...</td>\n",
       "      <td>&lt;p&gt;I have a form that outputs images and their...</td>\n",
       "      <td>&lt;php&gt;&lt;foreach&gt;&lt;pdo&gt;&lt;associative-array&gt;</td>\n",
       "    </tr>\n",
       "    <tr>\n",
       "      <th>1</th>\n",
       "      <td>How to run sql script in mysql on Ubuntu?</td>\n",
       "      <td>&lt;p&gt;I am new to sql. I know I can run script wi...</td>\n",
       "      <td>&lt;mysql&gt;&lt;sql&gt;&lt;script&gt;</td>\n",
       "    </tr>\n",
       "    <tr>\n",
       "      <th>2</th>\n",
       "      <td>token verification failing using JWK/JWT for u...</td>\n",
       "      <td>&lt;p&gt;I am trying to verify an idToken using a pu...</td>\n",
       "      <td>&lt;python&gt;&lt;oauth-2.0&gt;&lt;jwt&gt;&lt;rsa&gt;&lt;jwk&gt;</td>\n",
       "    </tr>\n",
       "    <tr>\n",
       "      <th>3</th>\n",
       "      <td>Should the \"opening work\" of a context manager...</td>\n",
       "      <td>&lt;p&gt;I found the &lt;a href=\"https://book.pythontip...</td>\n",
       "      <td>&lt;python&gt;&lt;contextmanager&gt;</td>\n",
       "    </tr>\n",
       "    <tr>\n",
       "      <th>4</th>\n",
       "      <td>How to disable Github branch protection rule f...</td>\n",
       "      <td>&lt;p&gt;I have a git repository where some of the c...</td>\n",
       "      <td>&lt;github&gt;</td>\n",
       "    </tr>\n",
       "  </tbody>\n",
       "</table>\n",
       "</div>"
      ],
      "text/plain": [
       "                                               Title  \\\n",
       "0  Using A Parent Associative Foreach Loop That C...   \n",
       "1          How to run sql script in mysql on Ubuntu?   \n",
       "2  token verification failing using JWK/JWT for u...   \n",
       "3  Should the \"opening work\" of a context manager...   \n",
       "4  How to disable Github branch protection rule f...   \n",
       "\n",
       "                                                Body  \\\n",
       "0  <p>I have a form that outputs images and their...   \n",
       "1  <p>I am new to sql. I know I can run script wi...   \n",
       "2  <p>I am trying to verify an idToken using a pu...   \n",
       "3  <p>I found the <a href=\"https://book.pythontip...   \n",
       "4  <p>I have a git repository where some of the c...   \n",
       "\n",
       "                                     Tags  \n",
       "0  <php><foreach><pdo><associative-array>  \n",
       "1                    <mysql><sql><script>  \n",
       "2      <python><oauth-2.0><jwt><rsa><jwk>  \n",
       "3                <python><contextmanager>  \n",
       "4                                <github>  "
      ]
     },
     "execution_count": 5,
     "metadata": {},
     "output_type": "execute_result"
    }
   ],
   "source": [
    "data = pd.read_csv(\"P5_exploration.csv\")\n",
    "data.head()"
   ]
  },
  {
   "cell_type": "markdown",
   "id": "continuing-affiliate",
   "metadata": {},
   "source": [
    "## Pré-traitement"
   ]
  },
  {
   "cell_type": "markdown",
   "id": "6689dabc",
   "metadata": {},
   "source": [
    "Pour chacune de nos opérations, nous allons utiliser la fonction %%time pour nous permettre de connaître le temps entre chaque opération.\n",
    "\n",
    "En considérant le temps entre chaque opération, si l'opération est trop longue, il conviendra de faire un pickle pour le garder en mémoire."
   ]
  },
  {
   "cell_type": "markdown",
   "id": "7d1a251b",
   "metadata": {},
   "source": [
    "### Suppression des balises Tags :"
   ]
  },
  {
   "cell_type": "code",
   "execution_count": 6,
   "id": "efbc05d1",
   "metadata": {
    "ExecuteTime": {
     "end_time": "2022-10-17T14:26:26.067813Z",
     "start_time": "2022-10-17T14:26:25.898325Z"
    }
   },
   "outputs": [],
   "source": [
    "# Preprocess les tags\n",
    "data[\"Tags\"] = data[\"Tags\"].str.lower() \n",
    "data[\"Tags\"] = data[\"Tags\"].replace({\"><\" : \" \"}, regex=True)\n",
    "data[\"Tags\"] = data[\"Tags\"].replace({\"<\" : \"\"}, regex=True)\n",
    "data[\"Tags\"] = data[\"Tags\"].replace({\">\" : \"\"}, regex=True)"
   ]
  },
  {
   "cell_type": "markdown",
   "id": "cultural-supplier",
   "metadata": {},
   "source": [
    "### Création de la colonne corpus :"
   ]
  },
  {
   "cell_type": "markdown",
   "id": "applicable-mayor",
   "metadata": {},
   "source": [
    "Nous commençons par créer une nouvelle variable associant le titre (Title) et le corps du texte (Body)"
   ]
  },
  {
   "cell_type": "code",
   "execution_count": 7,
   "id": "d93cef24",
   "metadata": {
    "ExecuteTime": {
     "end_time": "2022-10-17T14:26:26.177598Z",
     "start_time": "2022-10-17T14:26:26.069070Z"
    }
   },
   "outputs": [
    {
     "data": {
      "text/html": [
       "<div>\n",
       "<style scoped>\n",
       "    .dataframe tbody tr th:only-of-type {\n",
       "        vertical-align: middle;\n",
       "    }\n",
       "\n",
       "    .dataframe tbody tr th {\n",
       "        vertical-align: top;\n",
       "    }\n",
       "\n",
       "    .dataframe thead th {\n",
       "        text-align: right;\n",
       "    }\n",
       "</style>\n",
       "<table border=\"1\" class=\"dataframe\">\n",
       "  <thead>\n",
       "    <tr style=\"text-align: right;\">\n",
       "      <th></th>\n",
       "      <th>Title</th>\n",
       "      <th>Body</th>\n",
       "      <th>Tags</th>\n",
       "      <th>Corpus</th>\n",
       "    </tr>\n",
       "  </thead>\n",
       "  <tbody>\n",
       "    <tr>\n",
       "      <th>0</th>\n",
       "      <td>Using A Parent Associative Foreach Loop That C...</td>\n",
       "      <td>&lt;p&gt;I have a form that outputs images and their...</td>\n",
       "      <td>php foreach pdo associative-array</td>\n",
       "      <td>Using A Parent Associative Foreach Loop That C...</td>\n",
       "    </tr>\n",
       "    <tr>\n",
       "      <th>1</th>\n",
       "      <td>How to run sql script in mysql on Ubuntu?</td>\n",
       "      <td>&lt;p&gt;I am new to sql. I know I can run script wi...</td>\n",
       "      <td>mysql sql script</td>\n",
       "      <td>How to run sql script in mysql on Ubuntu? &lt;p&gt;I...</td>\n",
       "    </tr>\n",
       "    <tr>\n",
       "      <th>2</th>\n",
       "      <td>token verification failing using JWK/JWT for u...</td>\n",
       "      <td>&lt;p&gt;I am trying to verify an idToken using a pu...</td>\n",
       "      <td>python oauth-2.0 jwt rsa jwk</td>\n",
       "      <td>token verification failing using JWK/JWT for u...</td>\n",
       "    </tr>\n",
       "    <tr>\n",
       "      <th>3</th>\n",
       "      <td>Should the \"opening work\" of a context manager...</td>\n",
       "      <td>&lt;p&gt;I found the &lt;a href=\"https://book.pythontip...</td>\n",
       "      <td>python contextmanager</td>\n",
       "      <td>Should the \"opening work\" of a context manager...</td>\n",
       "    </tr>\n",
       "    <tr>\n",
       "      <th>4</th>\n",
       "      <td>How to disable Github branch protection rule f...</td>\n",
       "      <td>&lt;p&gt;I have a git repository where some of the c...</td>\n",
       "      <td>github</td>\n",
       "      <td>How to disable Github branch protection rule f...</td>\n",
       "    </tr>\n",
       "  </tbody>\n",
       "</table>\n",
       "</div>"
      ],
      "text/plain": [
       "                                               Title  \\\n",
       "0  Using A Parent Associative Foreach Loop That C...   \n",
       "1          How to run sql script in mysql on Ubuntu?   \n",
       "2  token verification failing using JWK/JWT for u...   \n",
       "3  Should the \"opening work\" of a context manager...   \n",
       "4  How to disable Github branch protection rule f...   \n",
       "\n",
       "                                                Body  \\\n",
       "0  <p>I have a form that outputs images and their...   \n",
       "1  <p>I am new to sql. I know I can run script wi...   \n",
       "2  <p>I am trying to verify an idToken using a pu...   \n",
       "3  <p>I found the <a href=\"https://book.pythontip...   \n",
       "4  <p>I have a git repository where some of the c...   \n",
       "\n",
       "                                Tags  \\\n",
       "0  php foreach pdo associative-array   \n",
       "1                   mysql sql script   \n",
       "2       python oauth-2.0 jwt rsa jwk   \n",
       "3              python contextmanager   \n",
       "4                             github   \n",
       "\n",
       "                                              Corpus  \n",
       "0  Using A Parent Associative Foreach Loop That C...  \n",
       "1  How to run sql script in mysql on Ubuntu? <p>I...  \n",
       "2  token verification failing using JWK/JWT for u...  \n",
       "3  Should the \"opening work\" of a context manager...  \n",
       "4  How to disable Github branch protection rule f...  "
      ]
     },
     "metadata": {},
     "output_type": "display_data"
    },
    {
     "name": "stdout",
     "output_type": "stream",
     "text": [
      "CPU times: user 84.7 ms, sys: 21.4 ms, total: 106 ms\n",
      "Wall time: 105 ms\n"
     ]
    }
   ],
   "source": [
    "%%time\n",
    "data['Corpus'] = data['Title'] + ' ' + data['Body']\n",
    "# Certains algorithmes auront besoin d'une liste\n",
    "corpus = data['Corpus'].to_list()\n",
    "# Certains algorithmes auront besoin d'une liste\n",
    "tags = data['Tags'].to_list()\n",
    "display(data.head(5))"
   ]
  },
  {
   "cell_type": "code",
   "execution_count": 8,
   "id": "6319eefd",
   "metadata": {
    "ExecuteTime": {
     "end_time": "2022-10-17T14:26:26.186199Z",
     "start_time": "2022-10-17T14:26:26.180252Z"
    }
   },
   "outputs": [
    {
     "name": "stdout",
     "output_type": "stream",
     "text": [
      "Visualisation pré-nettoyage du Corpus :\n",
      "\n"
     ]
    },
    {
     "data": {
      "text/plain": [
       "\"Using A Parent Associative Foreach Loop That Contains A Glob Function (to delete files) and a PDO Statement To Update A Database - PHP <p>I have a form that outputs images and their related titles and tags via a <code>while</code> loop, and at the bottom of this form I have the option to delete an image.</p>\\n<p>Because the input elements inside the form produce an array of values, when deleting an image I need to run the PDO statements and PHP <code>glob</code> methods that delete the images from their folders inside a parent foreach loop.</p>\\n<p>I cannot get this to work though. Without the foreach loop I'm getting the PHP <code>Array to string conversion</code> error, which I understand/expect. This error throws on the line <code>$stmt-&gt;bindParam(':image_id', $image_id);</code> in the second section of code below.</p>\\n<p>I think I need to wrap the code from in-between the <code>// ---- START FOREACH ?</code> and <code>// ---- END FOREACH ?</code> comments in an associative foreach loop, but I can't work how to do this in terms of the key/value pairs?</p>\\n<p>Any help would be really appreciated.</p>\\n<p><strong>Output onto page (the issue is in the block of code after this)</strong></p>\\n<pre><code>&lt;?php\\n    isset($_REQUEST['username']) ? $username = $_REQUEST['username'] : header(&quot;Location: login.php&quot;);\\n    $user_id = $_SESSION['logged_in'] ?? header(&quot;Location: login.php&quot;);\\n?&gt;\\n\\n&lt;form method=&quot;post&quot; enctype=&quot;multipart/form-data&quot;&gt;\\n\\n    &lt;?php\\n        $stmt = $connection-&gt;prepare(&quot;SELECT * FROM lj_imageposts WHERE user_id = :user_id&quot;);\\n\\n        $stmt-&gt;execute([\\n            ':user_id' =&gt; $user_id\\n        ]); \\n\\n        while ($row = $stmt-&gt;fetch()) {\\n\\n            $db_image_id = htmlspecialchars($row['image_id']);\\n            $db_image_filename = htmlspecialchars($row['filename']);\\n            $db_image_ext = htmlspecialchars($row['file_extension']);\\n\\n    ?&gt;\\n    \\n    &lt;div class=&quot;upload-details-component&quot;&gt;                \\n            &lt;div&gt;\\n                &lt;img src=&quot;project/images-lib/image.jpg&quot;&gt;\\n            &lt;/div&gt;\\n            &lt;div class=&quot;edit-zone&quot;&gt;\\n                &lt;div class=&quot;form-row&quot;&gt;\\n                    &lt;label for=&quot;upload-details-title&quot;&gt;Image Title&lt;/label&gt;\\n                    &lt;input id=&quot;upload-details-title&quot; type=&quot;text&quot; name=&quot;image-title[]&quot;&gt;\\n                &lt;/div&gt;\\n                &lt;div class=&quot;form-row upload-details-form-row&quot;&gt;\\n                    &lt;label for=&quot;upload-details-tags&quot;&gt;Comma Separated Image Tags&lt;/label&gt;\\n                    &lt;textarea name=&quot;image-tags[]&quot;&gt;&lt;/textarea&gt;\\n                &lt;/div&gt;\\n                &lt;div class=&quot;form-row&quot;&gt;\\n                    &lt;input type=&quot;hidden&quot; name=&quot;username&quot; value=&quot;&lt;?php echo $username;?&gt;&quot;&gt;\\n                    &lt;input type=&quot;hidden&quot; name=&quot;image-id[]&quot; value=&quot;&lt;?php echo $db_image_id;?&gt;&quot;&gt;\\n                    &lt;button name=&quot;upload-details-delete[]&quot;&gt;DELETE&lt;/button&gt;\\n                &lt;/div&gt;\\n            &lt;/div&gt;\\n    &lt;/div&gt;\\n\\n    &lt;?php } ?&gt;\\n\\n        &lt;div class=&quot;form-row upload-details-submit-row&quot;&gt;\\n            &lt;button type=&quot;submit&quot; name=&quot;upload-submit&quot;&gt;COMPLETE UPLOAD&lt;/button&gt;\\n        &lt;/div&gt;\\n    &lt;/form&gt;\\n</code></pre>\\n<p><strong>Deleting An Image</strong></p>\\n<pre><code>&lt;?php\\n\\n    if(isset($_POST['upload-details-delete'])) {\\n\\n        $loggedInUser = $user_id;\\n        $imagesLibrary = 'images-lib/';\\n        $imagesDownload = 'images-download/';\\n        $image_id = $_POST['image-id'];\\n\\n    try {\\n        $sql = &quot;DELETE FROM `lj_imageposts` WHERE image_id = :image_id AND user_id = :user_id&quot;;\\n        $stmt = $connection-&gt;prepare($sql);\\n\\n        // ---- START FOREACH ?\\n\\n        $stmt-&gt;bindParam(':image_id', $image_id);\\n        $stmt-&gt;bindParam(':user_id', $loggedInUser);\\n\\n        $stmt-&gt;execute();\\n        \\n        // delete image files from 'images-lib' folder\\n        foreach(glob($imagesLibrary . $db_image_filename . '-{500,750,1000,1500}' . '.' . $db_image_ext, GLOB_BRACE) as $i) {\\n            unlink($i);\\n        }\\n\\n        // delete files from 'images-download' folder\\n        foreach(glob($imagesDownload . $db_image_filename . '.' . $db_image_ext) as $i) {\\n            unlink($i);\\n        }\\n\\n        // ---- END FOREACH ?\\n                \\n        header(&quot;Location: upload-details.php?username={$db_username}&quot;);\\n\\n        exit;\\n\\n        } catch (PDOException $e) {\\n            echo &quot;Error: &quot; . $e-&gt;getMessage();\\n        }\\n    }\\n?&gt;\\n</code></pre>\\n\""
      ]
     },
     "metadata": {},
     "output_type": "display_data"
    },
    {
     "name": "stdout",
     "output_type": "stream",
     "text": [
      "\n"
     ]
    }
   ],
   "source": [
    "print(\"Visualisation pré-nettoyage du Corpus :\")\n",
    "print('')\n",
    "display(data.Corpus[0])\n",
    "print('')"
   ]
  },
  {
   "cell_type": "markdown",
   "id": "accessory-rebound",
   "metadata": {},
   "source": [
    "### Nettoyage HTML via beautiful soup :"
   ]
  },
  {
   "cell_type": "markdown",
   "id": "utility-consistency",
   "metadata": {},
   "source": [
    "Nous allons maintenant nettoyer les données en rapport avec les balises HTML."
   ]
  },
  {
   "cell_type": "code",
   "execution_count": 9,
   "id": "wired-depth",
   "metadata": {
    "ExecuteTime": {
     "end_time": "2022-10-17T14:28:10.109511Z",
     "start_time": "2022-10-17T14:26:26.190076Z"
    }
   },
   "outputs": [
    {
     "name": "stdout",
     "output_type": "stream",
     "text": [
      "CPU times: user 1min 43s, sys: 246 ms, total: 1min 43s\n",
      "Wall time: 1min 43s\n"
     ]
    }
   ],
   "source": [
    "%%time\n",
    "\n",
    "def clean_html(text_html):\n",
    "    soup = BeautifulSoup(text_html, \"html5lib\")\n",
    "    for element in soup.find_all(\"code\"):\n",
    "        # print(element)\n",
    "        element.decompose()\n",
    "    return soup.get_text().replace(\"\\n\", \" \")\n",
    "\n",
    "\n",
    "corpus_del_bal = [clean_html(text) for text in corpus]\n",
    "data['Corpus'] = data['Corpus'].apply(lambda x : clean_html(x))"
   ]
  },
  {
   "cell_type": "code",
   "execution_count": 10,
   "id": "62399946",
   "metadata": {
    "ExecuteTime": {
     "end_time": "2022-10-17T14:28:10.113367Z",
     "start_time": "2022-10-17T14:28:10.110492Z"
    }
   },
   "outputs": [
    {
     "name": "stdout",
     "output_type": "stream",
     "text": [
      "Visualisation du nettoyage Beautiful Soup :\n",
      "\n"
     ]
    },
    {
     "data": {
      "text/plain": [
       "\"Using A Parent Associative Foreach Loop That Contains A Glob Function (to delete files) and a PDO Statement To Update A Database - PHP I have a form that outputs images and their related titles and tags via a  loop, and at the bottom of this form I have the option to delete an image. Because the input elements inside the form produce an array of values, when deleting an image I need to run the PDO statements and PHP  methods that delete the images from their folders inside a parent foreach loop. I cannot get this to work though. Without the foreach loop I'm getting the PHP  error, which I understand/expect. This error throws on the line  in the second section of code below. I think I need to wrap the code from in-between the  and  comments in an associative foreach loop, but I can't work how to do this in terms of the key/value pairs? Any help would be really appreciated. Output onto page (the issue is in the block of code after this)  Deleting An Image  \""
      ]
     },
     "metadata": {},
     "output_type": "display_data"
    },
    {
     "name": "stdout",
     "output_type": "stream",
     "text": [
      "\n"
     ]
    }
   ],
   "source": [
    "print(\"Visualisation du nettoyage Beautiful Soup :\")\n",
    "print('')\n",
    "display(corpus_del_bal[0])\n",
    "print('')"
   ]
  },
  {
   "cell_type": "markdown",
   "id": "76f49de8",
   "metadata": {},
   "source": [
    "#### Visualisation Yellowbricks en token :"
   ]
  },
  {
   "cell_type": "code",
   "execution_count": 11,
   "id": "aac82a4f",
   "metadata": {
    "ExecuteTime": {
     "end_time": "2022-10-17T14:28:12.201047Z",
     "start_time": "2022-10-17T14:28:10.114256Z"
    }
   },
   "outputs": [
    {
     "data": {
      "image/png": "[encoded data removed]",
      "text/plain": [
       "<Figure size 1080x720 with 1 Axes>"
      ]
     },
     "metadata": {},
     "output_type": "display_data"
    }
   ],
   "source": [
    "visu_yellow(corpus_del_bal)"
   ]
  },
  {
   "cell_type": "markdown",
   "id": "7dae84ba",
   "metadata": {},
   "source": [
    "On voit qu'il y a toujours des mots redondants qui ne servent à rien à l'analyse."
   ]
  },
  {
   "cell_type": "markdown",
   "id": "direct-savannah",
   "metadata": {},
   "source": [
    "### Nettoyage du texte (Suppression des fins de lignes et des chiffres) :"
   ]
  },
  {
   "cell_type": "markdown",
   "id": "af5c65d2",
   "metadata": {},
   "source": [
    "ici, nous supprimons les fins de lignes et les chiffres."
   ]
  },
  {
   "cell_type": "code",
   "execution_count": 12,
   "id": "compliant-wayne",
   "metadata": {
    "ExecuteTime": {
     "end_time": "2022-10-17T14:28:19.379500Z",
     "start_time": "2022-10-17T14:28:12.202202Z"
    }
   },
   "outputs": [
    {
     "name": "stdout",
     "output_type": "stream",
     "text": [
      "CPU times: user 7.27 s, sys: 124 ms, total: 7.39 s\n",
      "Wall time: 7.17 s\n"
     ]
    }
   ],
   "source": [
    "%%time\n",
    "\n",
    "\n",
    "def text_cleaning(text):\n",
    "    text = re.sub('\\w*\\d\\w*', '', text)  # supprimer tout les chiffres\n",
    "    text = re.sub(r'\\n', '', text)  # retirer les fins de lignes\n",
    "    text = re.sub(r'\\s+', ' ', text)  # retirer les fins de lignes de corpus\n",
    "    # text = re.split(\",\" , \" \")\n",
    "    return text\n",
    "\n",
    "\n",
    "corpus_x = [text_cleaning(text) for text in corpus_del_bal]  # pour la liste\n",
    "tags_x = [text_cleaning(text).strip() for text in tags]  # pour la liste\n",
    "data['Corpus'] = data['Corpus'].apply(lambda x : text_cleaning(x))"
   ]
  },
  {
   "cell_type": "code",
   "execution_count": 13,
   "id": "923bdfe7",
   "metadata": {
    "ExecuteTime": {
     "end_time": "2022-10-17T14:28:19.384671Z",
     "start_time": "2022-10-17T14:28:19.380615Z"
    }
   },
   "outputs": [
    {
     "name": "stdout",
     "output_type": "stream",
     "text": [
      "---------------------------------------------\n",
      "Visualisation du nettoyage texte sur le corpus :\n",
      "---------------------------------------------\n"
     ]
    },
    {
     "data": {
      "text/plain": [
       "\"Using A Parent Associative Foreach Loop That Contains A Glob Function (to delete files) and a PDO Statement To Update A Database - PHP I have a form that outputs images and their related titles and tags via a loop, and at the bottom of this form I have the option to delete an image. Because the input elements inside the form produce an array of values, when deleting an image I need to run the PDO statements and PHP methods that delete the images from their folders inside a parent foreach loop. I cannot get this to work though. Without the foreach loop I'm getting the PHP error, which I understand/expect. This error throws on the line in the second section of code below. I think I need to wrap the code from in-between the and comments in an associative foreach loop, but I can't work how to do this in terms of the key/value pairs? Any help would be really appreciated. Output onto page (the issue is in the block of code after this) Deleting An Image \""
      ]
     },
     "metadata": {},
     "output_type": "display_data"
    },
    {
     "name": "stdout",
     "output_type": "stream",
     "text": [
      "\n",
      "---------------------------------------------\n",
      "Visualisation du nettoyage texte sur les tags :\n",
      "---------------------------------------------\n"
     ]
    },
    {
     "data": {
      "text/plain": [
       "'php foreach pdo associative-array'"
      ]
     },
     "metadata": {},
     "output_type": "display_data"
    },
    {
     "name": "stdout",
     "output_type": "stream",
     "text": [
      "\n"
     ]
    }
   ],
   "source": [
    "print('-'*45)\n",
    "print(\"Visualisation du nettoyage texte sur le corpus :\")\n",
    "print('-'*45)\n",
    "display(corpus_x[0])\n",
    "print(\"\")\n",
    "\n",
    "print('-'*45)\n",
    "print(\"Visualisation du nettoyage texte sur les tags :\")\n",
    "print('-'*45)\n",
    "display(tags_x[0])\n",
    "print(\"\")"
   ]
  },
  {
   "cell_type": "markdown",
   "id": "55950378",
   "metadata": {},
   "source": [
    "#### Visualisation Yellowbricks en token :"
   ]
  },
  {
   "cell_type": "code",
   "execution_count": 14,
   "id": "cd55f6ad",
   "metadata": {
    "ExecuteTime": {
     "end_time": "2022-10-17T14:28:21.344810Z",
     "start_time": "2022-10-17T14:28:19.385590Z"
    }
   },
   "outputs": [
    {
     "data": {
      "image/png": "[encoded data removed]",
      "text/plain": [
       "<Figure size 1080x720 with 1 Axes>"
      ]
     },
     "metadata": {},
     "output_type": "display_data"
    }
   ],
   "source": [
    "visu_yellow(corpus_x)"
   ]
  },
  {
   "cell_type": "markdown",
   "id": "cad7f251",
   "metadata": {},
   "source": [
    "Le corpus pré-nettoyé reste actuellement inutilisable."
   ]
  },
  {
   "cell_type": "code",
   "execution_count": 15,
   "id": "c0faf734",
   "metadata": {
    "ExecuteTime": {
     "end_time": "2022-10-17T14:28:21.697603Z",
     "start_time": "2022-10-17T14:28:21.345892Z"
    }
   },
   "outputs": [
    {
     "data": {
      "image/png": "[encoded data removed]",
      "text/plain": [
       "<Figure size 1080x720 with 1 Axes>"
      ]
     },
     "metadata": {},
     "output_type": "display_data"
    }
   ],
   "source": [
    "visu_yellow(tags_x)"
   ]
  },
  {
   "cell_type": "markdown",
   "id": "46886262",
   "metadata": {},
   "source": [
    "Ici, on peut voir que les Tags sont bien représentés."
   ]
  },
  {
   "cell_type": "markdown",
   "id": "c8ac08eb",
   "metadata": {},
   "source": [
    "### Suppression des verbes contractées :"
   ]
  },
  {
   "cell_type": "markdown",
   "id": "522975f8",
   "metadata": {},
   "source": [
    "Suppression des formes contractés des verbes."
   ]
  },
  {
   "cell_type": "code",
   "execution_count": 16,
   "id": "907d5ca3",
   "metadata": {
    "ExecuteTime": {
     "end_time": "2022-10-17T14:28:21.703032Z",
     "start_time": "2022-10-17T14:28:21.699270Z"
    }
   },
   "outputs": [],
   "source": [
    "def expand_contractions(text, contraction_mapping=CONTRACTION_MAP):\n",
    "\n",
    "    contractions_pattern = re.compile('({})'.format('|'.join(contraction_mapping.keys())),\n",
    "                                      flags=re.IGNORECASE | re.DOTALL)\n",
    "\n",
    "    def expand_match(contraction):\n",
    "        match = contraction.group(0)\n",
    "        first_char = match[0]\n",
    "        expanded_contraction = contraction_mapping.get(match)\\\n",
    "            if contraction_mapping.get(match)\\\n",
    "            else contraction_mapping.get(match.lower())\n",
    "        expanded_contraction = first_char+expanded_contraction[1:]\n",
    "        return expanded_contraction\n",
    "\n",
    "    expanded_text = contractions_pattern.sub(expand_match, text)\n",
    "    expanded_text = re.sub(\"'\", \"\", expanded_text)\n",
    "    return expanded_text"
   ]
  },
  {
   "cell_type": "code",
   "execution_count": 17,
   "id": "8218fa54",
   "metadata": {
    "ExecuteTime": {
     "end_time": "2022-10-17T14:28:49.337334Z",
     "start_time": "2022-10-17T14:28:21.704038Z"
    }
   },
   "outputs": [
    {
     "name": "stdout",
     "output_type": "stream",
     "text": [
      "CPU times: user 27.7 s, sys: 150 ms, total: 27.8 s\n",
      "Wall time: 27.6 s\n"
     ]
    }
   ],
   "source": [
    "%%time\n",
    "corpus_x = [expand_contractions(text) for text in corpus_del_bal]\n",
    "tags_x = [expand_contractions(text).strip() for text in tags]\n",
    "# data['Corpus'] = data['Corpus'].apply(lambda x : expand_contractions(x))"
   ]
  },
  {
   "cell_type": "code",
   "execution_count": 18,
   "id": "ed594f19",
   "metadata": {
    "ExecuteTime": {
     "end_time": "2022-10-17T14:28:49.343515Z",
     "start_time": "2022-10-17T14:28:49.338306Z"
    }
   },
   "outputs": [
    {
     "name": "stdout",
     "output_type": "stream",
     "text": [
      "------------------------------------------------------------\n",
      "Visualisation de la suppression des verbes contractés sur le corpus :\n",
      "------------------------------------------------------------\n"
     ]
    },
    {
     "data": {
      "text/plain": [
       "'Using A Parent Associative Foreach Loop That Contains A Glob Function (to delete files) and a PDO Statement To Update A Database - PHP I have a form that outputs images and their related titles and tags via a  loop, and at the bottom of this form I have the option to delete an image. Because the input elements inside the form produce an array of values, when deleting an image I need to run the PDO statements and PHP  methods that delete the images from their folders inside a parent foreach loop. I cannot get this to work though. Without the foreach loop I am getting the PHP  error, which I understand/expect. This error throws on the line  in the second section of code below. I think I need to wrap the code from in-between the  and  comments in an associative foreach loop, but I cannot work how to do this in terms of the key/value pairs? Any help would be really appreciated. Output onto page (the issue is in the block of code after this)  Deleting An Image  '"
      ]
     },
     "metadata": {},
     "output_type": "display_data"
    },
    {
     "name": "stdout",
     "output_type": "stream",
     "text": [
      "\n",
      "------------------------------------------------------------\n",
      "Visualisation de la suppression des verbes contractés sur les tags :\n",
      "------------------------------------------------------------\n"
     ]
    },
    {
     "data": {
      "text/plain": [
       "'php foreach pdo associative-array'"
      ]
     },
     "metadata": {},
     "output_type": "display_data"
    },
    {
     "name": "stdout",
     "output_type": "stream",
     "text": [
      "\n"
     ]
    }
   ],
   "source": [
    "print('-'*60)\n",
    "print(\"Visualisation de la suppression des verbes contractés sur le corpus :\")\n",
    "print('-'*60)\n",
    "display(corpus_x[0])\n",
    "print(\"\")\n",
    "\n",
    "print('-'*60)\n",
    "print(\"Visualisation de la suppression des verbes contractés sur les tags :\")\n",
    "print('-'*60)\n",
    "display(tags_x[0])\n",
    "print(\"\")"
   ]
  },
  {
   "cell_type": "markdown",
   "id": "da26b527",
   "metadata": {},
   "source": [
    "#### Visualisation Yellowbricks en token :"
   ]
  },
  {
   "cell_type": "code",
   "execution_count": 19,
   "id": "623b6c46",
   "metadata": {
    "ExecuteTime": {
     "end_time": "2022-10-17T14:28:51.902636Z",
     "start_time": "2022-10-17T14:28:49.344413Z"
    }
   },
   "outputs": [
    {
     "data": {
      "image/png": "[encoded data removed]",
      "text/plain": [
       "<Figure size 1080x720 with 1 Axes>"
      ]
     },
     "metadata": {},
     "output_type": "display_data"
    }
   ],
   "source": [
    "visu_yellow(corpus_x)"
   ]
  },
  {
   "cell_type": "markdown",
   "id": "04913499",
   "metadata": {},
   "source": [
    "Peu de difference ici, vu que les mots contractées ne doivent pas être dans le top 50."
   ]
  },
  {
   "cell_type": "code",
   "execution_count": 20,
   "id": "3fe3524e",
   "metadata": {
    "ExecuteTime": {
     "end_time": "2022-10-17T14:28:52.254661Z",
     "start_time": "2022-10-17T14:28:51.903597Z"
    }
   },
   "outputs": [
    {
     "data": {
      "image/png": "[encoded data removed]",
      "text/plain": [
       "<Figure size 1080x720 with 1 Axes>"
      ]
     },
     "metadata": {},
     "output_type": "display_data"
    }
   ],
   "source": [
    "visu_yellow(tags_x)"
   ]
  },
  {
   "cell_type": "markdown",
   "id": "21c772d3",
   "metadata": {},
   "source": [
    "Idem les tags étant déjà des termes spécifiques, pas de raison de retrouver une difference entre les 2."
   ]
  },
  {
   "cell_type": "markdown",
   "id": "primary-naples",
   "metadata": {},
   "source": [
    "### Tokenization + suppression des stopwords :"
   ]
  },
  {
   "cell_type": "markdown",
   "id": "dffb5d90",
   "metadata": {},
   "source": [
    "La tokenisation consiste essentielleent à diviser une phrase, paragraphe ou un document de texte en unités plus petites, entant que mots ou termes individuels. On appelle ces mots des tokens d'ou tokenisation."
   ]
  },
  {
   "cell_type": "markdown",
   "id": "7cb9b1e4",
   "metadata": {},
   "source": [
    "Un stopword est un mot qui est tellement commun qu'il est inutile de l'indexer ou de l'utiliser dans une recherche."
   ]
  },
  {
   "cell_type": "code",
   "execution_count": 21,
   "id": "fe286d84",
   "metadata": {
    "ExecuteTime": {
     "end_time": "2022-10-17T14:28:52.657155Z",
     "start_time": "2022-10-17T14:28:52.255811Z"
    }
   },
   "outputs": [
    {
     "name": "stderr",
     "output_type": "stream",
     "text": [
      "[nltk_data] Downloading package stopwords to\n",
      "[nltk_data]     /Users/aurelien_gorguet/nltk_data...\n",
      "[nltk_data]   Package stopwords is already up-to-date!\n"
     ]
    }
   ],
   "source": [
    "import string  # permet d'avoir accés à toute les ponctuations.\n",
    "from nltk.corpus import stopwords\n",
    "nltk.download('stopwords')\n",
    "from nltk.tokenize import word_tokenize"
   ]
  },
  {
   "cell_type": "code",
   "execution_count": 22,
   "id": "moral-closure",
   "metadata": {
    "ExecuteTime": {
     "end_time": "2022-10-17T14:28:52.668218Z",
     "start_time": "2022-10-17T14:28:52.661250Z"
    },
    "scrolled": false
   },
   "outputs": [],
   "source": [
    "def tokenize(text):\n",
    "\n",
    "    stop_words = set(stopwords.words('english'))\n",
    "    punctuation = set(string.punctuation)\n",
    "\n",
    "    try:\n",
    "        res = word_tokenize(text, language='english')\n",
    "    except TypeError:\n",
    "        return text\n",
    "\n",
    "    res = [token for token in res if token not in punctuation]\n",
    "    res = [token for token in res if token not in stop_words]\n",
    "   # res = [token for token in res if token not in letters]\n",
    "    return res"
   ]
  },
  {
   "cell_type": "code",
   "execution_count": 23,
   "id": "ac59fa7b",
   "metadata": {
    "ExecuteTime": {
     "end_time": "2022-10-17T14:29:21.530462Z",
     "start_time": "2022-10-17T14:28:52.671222Z"
    }
   },
   "outputs": [
    {
     "name": "stdout",
     "output_type": "stream",
     "text": [
      "CPU times: user 27.6 s, sys: 1.01 s, total: 28.6 s\n",
      "Wall time: 28.9 s\n"
     ]
    }
   ],
   "source": [
    "%%time\n",
    "corpus_token = [tokenize(text) for text in corpus_x]\n",
    "tag_token = [tokenize(text) for text in tags_x]\n",
    "# data['Corpus'] = data['Corpus'].apply(lambda x : tokenize(x))"
   ]
  },
  {
   "cell_type": "code",
   "execution_count": 24,
   "id": "3c7733ee",
   "metadata": {
    "ExecuteTime": {
     "end_time": "2022-10-17T14:29:21.536369Z",
     "start_time": "2022-10-17T14:29:21.531349Z"
    },
    "scrolled": false
   },
   "outputs": [
    {
     "name": "stdout",
     "output_type": "stream",
     "text": [
      "-----------------------------------------------------------------\n",
      "Visualisation de la suppression de la tokennisation sur le corpus :\n",
      "-----------------------------------------------------------------\n"
     ]
    },
    {
     "data": {
      "text/plain": [
       "['Using',\n",
       " 'A',\n",
       " 'Parent',\n",
       " 'Associative',\n",
       " 'Foreach',\n",
       " 'Loop',\n",
       " 'That',\n",
       " 'Contains',\n",
       " 'A',\n",
       " 'Glob',\n",
       " 'Function',\n",
       " 'delete',\n",
       " 'files',\n",
       " 'PDO',\n",
       " 'Statement',\n",
       " 'To',\n",
       " 'Update',\n",
       " 'A',\n",
       " 'Database',\n",
       " 'PHP',\n",
       " 'I',\n",
       " 'form',\n",
       " 'outputs',\n",
       " 'images',\n",
       " 'related',\n",
       " 'titles',\n",
       " 'tags',\n",
       " 'via',\n",
       " 'loop',\n",
       " 'bottom',\n",
       " 'form',\n",
       " 'I',\n",
       " 'option',\n",
       " 'delete',\n",
       " 'image',\n",
       " 'Because',\n",
       " 'input',\n",
       " 'elements',\n",
       " 'inside',\n",
       " 'form',\n",
       " 'produce',\n",
       " 'array',\n",
       " 'values',\n",
       " 'deleting',\n",
       " 'image',\n",
       " 'I',\n",
       " 'need',\n",
       " 'run',\n",
       " 'PDO',\n",
       " 'statements',\n",
       " 'PHP',\n",
       " 'methods',\n",
       " 'delete',\n",
       " 'images',\n",
       " 'folders',\n",
       " 'inside',\n",
       " 'parent',\n",
       " 'foreach',\n",
       " 'loop',\n",
       " 'I',\n",
       " 'get',\n",
       " 'work',\n",
       " 'though',\n",
       " 'Without',\n",
       " 'foreach',\n",
       " 'loop',\n",
       " 'I',\n",
       " 'getting',\n",
       " 'PHP',\n",
       " 'error',\n",
       " 'I',\n",
       " 'understand/expect',\n",
       " 'This',\n",
       " 'error',\n",
       " 'throws',\n",
       " 'line',\n",
       " 'second',\n",
       " 'section',\n",
       " 'code',\n",
       " 'I',\n",
       " 'think',\n",
       " 'I',\n",
       " 'need',\n",
       " 'wrap',\n",
       " 'code',\n",
       " 'in-between',\n",
       " 'comments',\n",
       " 'associative',\n",
       " 'foreach',\n",
       " 'loop',\n",
       " 'I',\n",
       " 'work',\n",
       " 'terms',\n",
       " 'key/value',\n",
       " 'pairs',\n",
       " 'Any',\n",
       " 'help',\n",
       " 'would',\n",
       " 'really',\n",
       " 'appreciated',\n",
       " 'Output',\n",
       " 'onto',\n",
       " 'page',\n",
       " 'issue',\n",
       " 'block',\n",
       " 'code',\n",
       " 'Deleting',\n",
       " 'An',\n",
       " 'Image']"
      ]
     },
     "metadata": {},
     "output_type": "display_data"
    },
    {
     "name": "stdout",
     "output_type": "stream",
     "text": [
      "\n",
      "-----------------------------------------------------------------\n",
      "Visualisation de la suppression de la tokennisation sur les tags :\n",
      "-----------------------------------------------------------------\n"
     ]
    },
    {
     "data": {
      "text/plain": [
       "['php', 'foreach', 'pdo', 'associative-array']"
      ]
     },
     "metadata": {},
     "output_type": "display_data"
    },
    {
     "name": "stdout",
     "output_type": "stream",
     "text": [
      "\n"
     ]
    }
   ],
   "source": [
    "print('-'*65)\n",
    "print(\"Visualisation de la suppression de la tokennisation sur le corpus :\")\n",
    "print('-'*65)\n",
    "display(corpus_token[0])\n",
    "print(\"\")\n",
    "\n",
    "print('-'*65)\n",
    "print(\"Visualisation de la suppression de la tokennisation sur les tags :\")\n",
    "print('-'*65)\n",
    "display(tag_token[0])\n",
    "print('')"
   ]
  },
  {
   "cell_type": "markdown",
   "id": "honey-basement",
   "metadata": {},
   "source": [
    "###  POS tagging :"
   ]
  },
  {
   "cell_type": "markdown",
   "id": "481c2b3d",
   "metadata": {},
   "source": [
    "Parts of Speech (POS) Tagging. Parts of speech tagging simply refers to assigning parts of speech to individual words in a sentence, which means that, unlike phrase matching, which is performed at the sentence or multi-word level, parts of speech tagging is performed at the token level.\n",
    "\n",
    "source : https://stackabuse.com/python-for-nlp-parts-of-speech-tagging-and-named-entity-recognition/"
   ]
  },
  {
   "cell_type": "markdown",
   "id": "4b38fa55",
   "metadata": {},
   "source": [
    "NN: noun, common, singular or mass"
   ]
  },
  {
   "cell_type": "code",
   "execution_count": 25,
   "id": "abstract-settlement",
   "metadata": {
    "ExecuteTime": {
     "end_time": "2022-10-17T14:29:21.540052Z",
     "start_time": "2022-10-17T14:29:21.537264Z"
    },
    "scrolled": false
   },
   "outputs": [],
   "source": [
    "def filtering_nouns(text):\n",
    "\n",
    "    res = nltk.pos_tag(text)\n",
    "\n",
    "    res = [token[0] for token in res if token[1] == 'NN']# Rajouter adverbe etc etc\n",
    "\n",
    "    return res"
   ]
  },
  {
   "cell_type": "code",
   "execution_count": 26,
   "id": "76b1ecbb",
   "metadata": {
    "ExecuteTime": {
     "end_time": "2022-10-17T14:30:40.538151Z",
     "start_time": "2022-10-17T14:29:21.541236Z"
    }
   },
   "outputs": [
    {
     "name": "stdout",
     "output_type": "stream",
     "text": [
      "CPU times: user 1min 18s, sys: 431 ms, total: 1min 18s\n",
      "Wall time: 1min 18s\n"
     ]
    }
   ],
   "source": [
    "%%time\n",
    "nn_corpus = [filtering_nouns(tokens) for tokens in corpus_token]"
   ]
  },
  {
   "cell_type": "code",
   "execution_count": 27,
   "id": "c8d67dd1",
   "metadata": {
    "ExecuteTime": {
     "end_time": "2022-10-17T14:30:40.547258Z",
     "start_time": "2022-10-17T14:30:40.544187Z"
    }
   },
   "outputs": [
    {
     "name": "stdout",
     "output_type": "stream",
     "text": [
      "-----------------------------------------------------------------\n",
      "Visualisation du POS Tagging sur le corpus :\n",
      "-----------------------------------------------------------------\n"
     ]
    },
    {
     "data": {
      "text/plain": [
       "['delete',\n",
       " 'loop',\n",
       " 'form',\n",
       " 'option',\n",
       " 'image',\n",
       " 'input',\n",
       " 'form',\n",
       " 'array',\n",
       " 'image',\n",
       " 'parent',\n",
       " 'foreach',\n",
       " 'loop',\n",
       " 'foreach',\n",
       " 'loop',\n",
       " 'error',\n",
       " 'error',\n",
       " 'line',\n",
       " 'section',\n",
       " 'code',\n",
       " 'code',\n",
       " 'foreach',\n",
       " 'loop',\n",
       " 'help',\n",
       " 'issue',\n",
       " 'block',\n",
       " 'code',\n",
       " 'Image']"
      ]
     },
     "metadata": {},
     "output_type": "display_data"
    },
    {
     "name": "stdout",
     "output_type": "stream",
     "text": [
      "\n"
     ]
    }
   ],
   "source": [
    "print('-'*65)\n",
    "print(\"Visualisation du POS Tagging sur le corpus :\")\n",
    "print('-'*65)\n",
    "display(nn_corpus[0])\n",
    "print(\"\")"
   ]
  },
  {
   "cell_type": "markdown",
   "id": "color-bargain",
   "metadata": {},
   "source": [
    "### Lemmatisation"
   ]
  },
  {
   "cell_type": "markdown",
   "id": "d963dfcb",
   "metadata": {},
   "source": [
    "La lemmatisation désigne un traitement lexical apporté à un texte en vue de son classement dans un index ou de son analyse. Ce traitement consiste à appliquer aux occurrences des lexèmes sujets à flexion un codage renvoyant à leur entrée lexicale commune, que l'on désigne sous le terme de lemme.\n",
    "\n",
    "source : Wikipedia"
   ]
  },
  {
   "cell_type": "code",
   "execution_count": 28,
   "id": "d6c6f23a",
   "metadata": {
    "ExecuteTime": {
     "end_time": "2022-10-17T14:30:40.555697Z",
     "start_time": "2022-10-17T14:30:40.548242Z"
    }
   },
   "outputs": [],
   "source": [
    "from nltk.corpus import wordnet"
   ]
  },
  {
   "cell_type": "code",
   "execution_count": 29,
   "id": "loved-improvement",
   "metadata": {
    "ExecuteTime": {
     "end_time": "2022-10-17T14:30:40.559271Z",
     "start_time": "2022-10-17T14:30:40.556688Z"
    }
   },
   "outputs": [],
   "source": [
    "def lemmatisation(text):\n",
    "\n",
    "    # Init the Wordnet Lemmatizer\n",
    "    lemmatizer = WordNetLemmatizer()\n",
    "\n",
    "    res = [lemmatizer.lemmatize(word, wordnet.VERB) for word in text]\n",
    "    res = [lemmatizer.lemmatize(word, wordnet.ADJ) for word in res]\n",
    "    res = [lemmatizer.lemmatize(word, wordnet.NOUN) for word in res]\n",
    "    res = [lemmatizer.lemmatize(word, wordnet.ADV) for word in res]\n",
    "    return res"
   ]
  },
  {
   "cell_type": "code",
   "execution_count": 30,
   "id": "45177108",
   "metadata": {
    "ExecuteTime": {
     "end_time": "2022-10-17T14:30:47.220466Z",
     "start_time": "2022-10-17T14:30:40.560121Z"
    }
   },
   "outputs": [
    {
     "name": "stdout",
     "output_type": "stream",
     "text": [
      "CPU times: user 6.61 s, sys: 35.5 ms, total: 6.64 s\n",
      "Wall time: 6.66 s\n"
     ]
    }
   ],
   "source": [
    "%%time\n",
    "corpus_lem = [lemmatisation(tokens) for tokens in nn_corpus]\n",
    "tags_lem = [lemmatisation(tokens) for tokens in tag_token]\n",
    "# data['Corpus'] = data['Corpus'].apply(lambda x : lemmatisation(x))\n",
    "\n",
    "tags_liste = []\n",
    "for tokens in tags_lem:\n",
    "    tokens = [token for token in tokens if len(token) > 1]\n",
    "    tags_liste.append(tokens)"
   ]
  },
  {
   "cell_type": "code",
   "execution_count": 31,
   "id": "3f191138",
   "metadata": {
    "ExecuteTime": {
     "end_time": "2022-10-17T14:30:47.225679Z",
     "start_time": "2022-10-17T14:30:47.221379Z"
    }
   },
   "outputs": [
    {
     "name": "stdout",
     "output_type": "stream",
     "text": [
      "-----------------------------------------------------------------\n",
      "Visualisation de la lemmatisation sur le corpus :\n",
      "-----------------------------------------------------------------\n"
     ]
    },
    {
     "data": {
      "text/plain": [
       "['delete',\n",
       " 'loop',\n",
       " 'form',\n",
       " 'option',\n",
       " 'image',\n",
       " 'input',\n",
       " 'form',\n",
       " 'array',\n",
       " 'image',\n",
       " 'parent',\n",
       " 'foreach',\n",
       " 'loop',\n",
       " 'foreach',\n",
       " 'loop',\n",
       " 'error',\n",
       " 'error',\n",
       " 'line',\n",
       " 'section',\n",
       " 'code',\n",
       " 'code',\n",
       " 'foreach',\n",
       " 'loop',\n",
       " 'help',\n",
       " 'issue',\n",
       " 'block',\n",
       " 'code',\n",
       " 'Image']"
      ]
     },
     "metadata": {},
     "output_type": "display_data"
    },
    {
     "name": "stdout",
     "output_type": "stream",
     "text": [
      "\n",
      "-----------------------------------------------------------------\n",
      "Visualisation de la lemmatisation sur les Tags\n",
      "-----------------------------------------------------------------\n"
     ]
    },
    {
     "data": {
      "text/plain": [
       "['php', 'foreach', 'pdo', 'associative-array']"
      ]
     },
     "metadata": {},
     "output_type": "display_data"
    },
    {
     "name": "stdout",
     "output_type": "stream",
     "text": [
      "\n"
     ]
    }
   ],
   "source": [
    "print('-'*65)\n",
    "print(\"Visualisation de la lemmatisation sur le corpus :\")\n",
    "print('-'*65)\n",
    "display(corpus_lem[0])\n",
    "print(\"\")\n",
    "\n",
    "print('-'*65)\n",
    "print(\"Visualisation de la lemmatisation sur les Tags\")\n",
    "print('-'*65)\n",
    "display(tags_lem[0])\n",
    "print(\"\")"
   ]
  },
  {
   "cell_type": "markdown",
   "id": "governmental-paraguay",
   "metadata": {},
   "source": [
    "# Features Engineering :"
   ]
  },
  {
   "cell_type": "markdown",
   "id": "reliable-butter",
   "metadata": {},
   "source": [
    "## Création des colonnes de preprocessing et création d'un nouveau DF :"
   ]
  },
  {
   "cell_type": "code",
   "execution_count": 32,
   "id": "fc403b29",
   "metadata": {
    "ExecuteTime": {
     "end_time": "2022-10-17T14:30:47.249403Z",
     "start_time": "2022-10-17T14:30:47.226678Z"
    }
   },
   "outputs": [],
   "source": [
    "# remettre sous forme de phrase et non sous forme de liste\n",
    "corpus_df = [\" \".join(text) for text in corpus_lem]\n",
    "# On crée un dataframe\n",
    "corpus_df = pd.DataFrame(corpus_df, columns=['corpus_preprocessing'])"
   ]
  },
  {
   "cell_type": "code",
   "execution_count": 33,
   "id": "7ba45820",
   "metadata": {
    "ExecuteTime": {
     "end_time": "2022-10-17T14:30:47.256972Z",
     "start_time": "2022-10-17T14:30:47.250396Z"
    }
   },
   "outputs": [
    {
     "data": {
      "text/html": [
       "<div>\n",
       "<style scoped>\n",
       "    .dataframe tbody tr th:only-of-type {\n",
       "        vertical-align: middle;\n",
       "    }\n",
       "\n",
       "    .dataframe tbody tr th {\n",
       "        vertical-align: top;\n",
       "    }\n",
       "\n",
       "    .dataframe thead th {\n",
       "        text-align: right;\n",
       "    }\n",
       "</style>\n",
       "<table border=\"1\" class=\"dataframe\">\n",
       "  <thead>\n",
       "    <tr style=\"text-align: right;\">\n",
       "      <th></th>\n",
       "      <th>corpus_preprocessing</th>\n",
       "    </tr>\n",
       "  </thead>\n",
       "  <tbody>\n",
       "    <tr>\n",
       "      <th>0</th>\n",
       "      <td>delete loop form option image input form array...</td>\n",
       "    </tr>\n",
       "    <tr>\n",
       "      <th>1</th>\n",
       "      <td>script mysql sql path way path path</td>\n",
       "    </tr>\n",
       "    <tr>\n",
       "      <th>2</th>\n",
       "      <td>verification authentication python decode func...</td>\n",
       "    </tr>\n",
       "    <tr>\n",
       "      <th>3</th>\n",
       "      <td>work context manager example manager file sugg...</td>\n",
       "    </tr>\n",
       "    <tr>\n",
       "      <th>4</th>\n",
       "      <td>branch protection rule configuration branch br...</td>\n",
       "    </tr>\n",
       "    <tr>\n",
       "      <th>...</th>\n",
       "      <td>...</td>\n",
       "    </tr>\n",
       "    <tr>\n",
       "      <th>31159</th>\n",
       "      <td>class compile time class compile time code sni...</td>\n",
       "    </tr>\n",
       "    <tr>\n",
       "      <th>31160</th>\n",
       "      <td>inline constraint function implementation look...</td>\n",
       "    </tr>\n",
       "    <tr>\n",
       "      <th>31161</th>\n",
       "      <td>classname javascript change class name li</td>\n",
       "    </tr>\n",
       "    <tr>\n",
       "      <th>31162</th>\n",
       "      <td>input change size shape tap shape user input e...</td>\n",
       "    </tr>\n",
       "    <tr>\n",
       "      <th>31163</th>\n",
       "      <td>function macro definition gdb source file frag...</td>\n",
       "    </tr>\n",
       "  </tbody>\n",
       "</table>\n",
       "<p>31164 rows × 1 columns</p>\n",
       "</div>"
      ],
      "text/plain": [
       "                                    corpus_preprocessing\n",
       "0      delete loop form option image input form array...\n",
       "1                    script mysql sql path way path path\n",
       "2      verification authentication python decode func...\n",
       "3      work context manager example manager file sugg...\n",
       "4      branch protection rule configuration branch br...\n",
       "...                                                  ...\n",
       "31159  class compile time class compile time code sni...\n",
       "31160  inline constraint function implementation look...\n",
       "31161          classname javascript change class name li\n",
       "31162  input change size shape tap shape user input e...\n",
       "31163  function macro definition gdb source file frag...\n",
       "\n",
       "[31164 rows x 1 columns]"
      ]
     },
     "execution_count": 33,
     "metadata": {},
     "output_type": "execute_result"
    }
   ],
   "source": [
    "corpus_df"
   ]
  },
  {
   "cell_type": "code",
   "execution_count": 34,
   "id": "f24fa385",
   "metadata": {
    "ExecuteTime": {
     "end_time": "2022-10-17T14:30:47.267214Z",
     "start_time": "2022-10-17T14:30:47.258024Z"
    }
   },
   "outputs": [],
   "source": [
    "tags_df = [\" \".join(tags) for tags in tags_liste]\n",
    "tags_df = pd.DataFrame(tags_df, columns=['tags_preprocessing'])"
   ]
  },
  {
   "cell_type": "code",
   "execution_count": 35,
   "id": "3de439c8",
   "metadata": {
    "ExecuteTime": {
     "end_time": "2022-10-17T14:30:47.273964Z",
     "start_time": "2022-10-17T14:30:47.268416Z"
    }
   },
   "outputs": [
    {
     "data": {
      "text/html": [
       "<div>\n",
       "<style scoped>\n",
       "    .dataframe tbody tr th:only-of-type {\n",
       "        vertical-align: middle;\n",
       "    }\n",
       "\n",
       "    .dataframe tbody tr th {\n",
       "        vertical-align: top;\n",
       "    }\n",
       "\n",
       "    .dataframe thead th {\n",
       "        text-align: right;\n",
       "    }\n",
       "</style>\n",
       "<table border=\"1\" class=\"dataframe\">\n",
       "  <thead>\n",
       "    <tr style=\"text-align: right;\">\n",
       "      <th></th>\n",
       "      <th>tags_preprocessing</th>\n",
       "    </tr>\n",
       "  </thead>\n",
       "  <tbody>\n",
       "    <tr>\n",
       "      <th>0</th>\n",
       "      <td>php foreach pdo associative-array</td>\n",
       "    </tr>\n",
       "    <tr>\n",
       "      <th>1</th>\n",
       "      <td>mysql sql script</td>\n",
       "    </tr>\n",
       "    <tr>\n",
       "      <th>2</th>\n",
       "      <td>python oauth-2.0 jwt rsa jwk</td>\n",
       "    </tr>\n",
       "    <tr>\n",
       "      <th>3</th>\n",
       "      <td>python contextmanager</td>\n",
       "    </tr>\n",
       "    <tr>\n",
       "      <th>4</th>\n",
       "      <td>github</td>\n",
       "    </tr>\n",
       "    <tr>\n",
       "      <th>...</th>\n",
       "      <td>...</td>\n",
       "    </tr>\n",
       "    <tr>\n",
       "      <th>31159</th>\n",
       "      <td>c++ c-preprocessor c++20 template-meta-program...</td>\n",
       "    </tr>\n",
       "    <tr>\n",
       "      <th>31160</th>\n",
       "      <td>typescript typescript-generics tsc generic-con...</td>\n",
       "    </tr>\n",
       "    <tr>\n",
       "      <th>31161</th>\n",
       "      <td>javascript html cs</td>\n",
       "    </tr>\n",
       "    <tr>\n",
       "      <th>31162</th>\n",
       "      <td>swift swiftui augmented-reality realitykit</td>\n",
       "    </tr>\n",
       "    <tr>\n",
       "      <th>31163</th>\n",
       "      <td>gcc macro gdb</td>\n",
       "    </tr>\n",
       "  </tbody>\n",
       "</table>\n",
       "<p>31164 rows × 1 columns</p>\n",
       "</div>"
      ],
      "text/plain": [
       "                                      tags_preprocessing\n",
       "0                      php foreach pdo associative-array\n",
       "1                                       mysql sql script\n",
       "2                           python oauth-2.0 jwt rsa jwk\n",
       "3                                  python contextmanager\n",
       "4                                                 github\n",
       "...                                                  ...\n",
       "31159  c++ c-preprocessor c++20 template-meta-program...\n",
       "31160  typescript typescript-generics tsc generic-con...\n",
       "31161                                 javascript html cs\n",
       "31162         swift swiftui augmented-reality realitykit\n",
       "31163                                      gcc macro gdb\n",
       "\n",
       "[31164 rows x 1 columns]"
      ]
     },
     "execution_count": 35,
     "metadata": {},
     "output_type": "execute_result"
    }
   ],
   "source": [
    "tags_df"
   ]
  },
  {
   "cell_type": "code",
   "execution_count": 36,
   "id": "05baf4b6",
   "metadata": {
    "ExecuteTime": {
     "end_time": "2022-10-17T14:30:47.278074Z",
     "start_time": "2022-10-17T14:30:47.274896Z"
    }
   },
   "outputs": [],
   "source": [
    "df_final = pd.concat([corpus_df, tags_df], axis=1)"
   ]
  },
  {
   "cell_type": "code",
   "execution_count": 37,
   "id": "8124ceb4",
   "metadata": {
    "ExecuteTime": {
     "end_time": "2022-10-17T14:30:47.345770Z",
     "start_time": "2022-10-17T14:30:47.278945Z"
    }
   },
   "outputs": [],
   "source": [
    "df_final['corpus_preprocessing'] = df_final['corpus_preprocessing'].apply(\n",
    "    lambda x: x.split(' '))\n",
    "df_final['tags_preprocessing'] = df_final['tags_preprocessing'].apply(\n",
    "    lambda x: x.split(' '))"
   ]
  },
  {
   "cell_type": "code",
   "execution_count": 38,
   "id": "0d5507e1",
   "metadata": {
    "ExecuteTime": {
     "end_time": "2022-10-17T14:30:47.357981Z",
     "start_time": "2022-10-17T14:30:47.346880Z"
    }
   },
   "outputs": [],
   "source": [
    "corpus_final = df_final['corpus_preprocessing'].to_list()\n",
    "tags_final = df_final['tags_preprocessing'].to_list()\n",
    "data_corpus_base = data['Corpus'].to_list()"
   ]
  },
  {
   "cell_type": "code",
   "execution_count": 39,
   "id": "07a73bb9",
   "metadata": {
    "ExecuteTime": {
     "end_time": "2022-10-17T14:30:47.366179Z",
     "start_time": "2022-10-17T14:30:47.359928Z"
    }
   },
   "outputs": [],
   "source": [
    "df_visualisation = pd.concat([data['Corpus'],\n",
    "                              data['Tags'],\n",
    "                              df_final['corpus_preprocessing'],\n",
    "                              df_final['tags_preprocessing']],\n",
    "                             axis=1)"
   ]
  },
  {
   "cell_type": "code",
   "execution_count": 40,
   "id": "1818708b",
   "metadata": {
    "ExecuteTime": {
     "end_time": "2022-10-17T14:30:47.374420Z",
     "start_time": "2022-10-17T14:30:47.367221Z"
    },
    "scrolled": false
   },
   "outputs": [
    {
     "data": {
      "text/html": [
       "<div>\n",
       "<style scoped>\n",
       "    .dataframe tbody tr th:only-of-type {\n",
       "        vertical-align: middle;\n",
       "    }\n",
       "\n",
       "    .dataframe tbody tr th {\n",
       "        vertical-align: top;\n",
       "    }\n",
       "\n",
       "    .dataframe thead th {\n",
       "        text-align: right;\n",
       "    }\n",
       "</style>\n",
       "<table border=\"1\" class=\"dataframe\">\n",
       "  <thead>\n",
       "    <tr style=\"text-align: right;\">\n",
       "      <th></th>\n",
       "      <th>Corpus</th>\n",
       "      <th>Tags</th>\n",
       "      <th>corpus_preprocessing</th>\n",
       "      <th>tags_preprocessing</th>\n",
       "    </tr>\n",
       "  </thead>\n",
       "  <tbody>\n",
       "    <tr>\n",
       "      <th>0</th>\n",
       "      <td>Using A Parent Associative Foreach Loop That C...</td>\n",
       "      <td>php foreach pdo associative-array</td>\n",
       "      <td>[delete, loop, form, option, image, input, for...</td>\n",
       "      <td>[php, foreach, pdo, associative-array]</td>\n",
       "    </tr>\n",
       "    <tr>\n",
       "      <th>1</th>\n",
       "      <td>How to run sql script in mysql on Ubuntu? I am...</td>\n",
       "      <td>mysql sql script</td>\n",
       "      <td>[script, mysql, sql, path, way, path, path]</td>\n",
       "      <td>[mysql, sql, script]</td>\n",
       "    </tr>\n",
       "    <tr>\n",
       "      <th>2</th>\n",
       "      <td>token verification failing using JWK/JWT for u...</td>\n",
       "      <td>python oauth-2.0 jwt rsa jwk</td>\n",
       "      <td>[verification, authentication, python, decode,...</td>\n",
       "      <td>[python, oauth-2.0, jwt, rsa, jwk]</td>\n",
       "    </tr>\n",
       "    <tr>\n",
       "      <th>3</th>\n",
       "      <td>Should the \"opening work\" of a context manager...</td>\n",
       "      <td>python contextmanager</td>\n",
       "      <td>[work, context, manager, example, manager, fil...</td>\n",
       "      <td>[python, contextmanager]</td>\n",
       "    </tr>\n",
       "    <tr>\n",
       "      <th>4</th>\n",
       "      <td>How to disable Github branch protection rule f...</td>\n",
       "      <td>github</td>\n",
       "      <td>[branch, protection, rule, configuration, bran...</td>\n",
       "      <td>[github]</td>\n",
       "    </tr>\n",
       "  </tbody>\n",
       "</table>\n",
       "</div>"
      ],
      "text/plain": [
       "                                              Corpus  \\\n",
       "0  Using A Parent Associative Foreach Loop That C...   \n",
       "1  How to run sql script in mysql on Ubuntu? I am...   \n",
       "2  token verification failing using JWK/JWT for u...   \n",
       "3  Should the \"opening work\" of a context manager...   \n",
       "4  How to disable Github branch protection rule f...   \n",
       "\n",
       "                                Tags  \\\n",
       "0  php foreach pdo associative-array   \n",
       "1                   mysql sql script   \n",
       "2       python oauth-2.0 jwt rsa jwk   \n",
       "3              python contextmanager   \n",
       "4                             github   \n",
       "\n",
       "                                corpus_preprocessing  \\\n",
       "0  [delete, loop, form, option, image, input, for...   \n",
       "1        [script, mysql, sql, path, way, path, path]   \n",
       "2  [verification, authentication, python, decode,...   \n",
       "3  [work, context, manager, example, manager, fil...   \n",
       "4  [branch, protection, rule, configuration, bran...   \n",
       "\n",
       "                       tags_preprocessing  \n",
       "0  [php, foreach, pdo, associative-array]  \n",
       "1                    [mysql, sql, script]  \n",
       "2      [python, oauth-2.0, jwt, rsa, jwk]  \n",
       "3                [python, contextmanager]  \n",
       "4                                [github]  "
      ]
     },
     "metadata": {},
     "output_type": "display_data"
    }
   ],
   "source": [
    "display(df_visualisation.head())\n",
    "# Ici on voit bien qu'on a nos tags modifiés et non modifiés,.\n",
    "# on pourra supprimer les balises via regex par la suite pour les tags"
   ]
  },
  {
   "cell_type": "code",
   "execution_count": 41,
   "id": "10faf293",
   "metadata": {
    "ExecuteTime": {
     "end_time": "2022-10-17T14:30:47.378515Z",
     "start_time": "2022-10-17T14:30:47.376407Z"
    }
   },
   "outputs": [],
   "source": [
    "# Faire un CSV to dataframe pour éviter de tout relancer"
   ]
  },
  {
   "cell_type": "markdown",
   "id": "659191c6",
   "metadata": {},
   "source": [
    "Avant de calculer le bag of Word, le tf idf et le nmf, on va réduire le nombre de tags pour notre analyse."
   ]
  },
  {
   "cell_type": "markdown",
   "id": "199a74ba",
   "metadata": {},
   "source": [
    "## Comptage des Tags :"
   ]
  },
  {
   "cell_type": "code",
   "execution_count": 42,
   "id": "2fd60600",
   "metadata": {
    "ExecuteTime": {
     "end_time": "2022-10-17T14:30:47.404899Z",
     "start_time": "2022-10-17T14:30:47.380345Z"
    }
   },
   "outputs": [
    {
     "data": {
      "text/html": [
       "<div>\n",
       "<style scoped>\n",
       "    .dataframe tbody tr th:only-of-type {\n",
       "        vertical-align: middle;\n",
       "    }\n",
       "\n",
       "    .dataframe tbody tr th {\n",
       "        vertical-align: top;\n",
       "    }\n",
       "\n",
       "    .dataframe thead th {\n",
       "        text-align: right;\n",
       "    }\n",
       "</style>\n",
       "<table border=\"1\" class=\"dataframe\">\n",
       "  <thead>\n",
       "    <tr style=\"text-align: right;\">\n",
       "      <th></th>\n",
       "      <th>Corpus</th>\n",
       "      <th>Tags</th>\n",
       "      <th>corpus_preprocessing</th>\n",
       "      <th>tags_preprocessing</th>\n",
       "      <th>Tags_count</th>\n",
       "    </tr>\n",
       "  </thead>\n",
       "  <tbody>\n",
       "    <tr>\n",
       "      <th>0</th>\n",
       "      <td>Using A Parent Associative Foreach Loop That C...</td>\n",
       "      <td>php foreach pdo associative-array</td>\n",
       "      <td>[delete, loop, form, option, image, input, for...</td>\n",
       "      <td>[php, foreach, pdo, associative-array]</td>\n",
       "      <td>4</td>\n",
       "    </tr>\n",
       "    <tr>\n",
       "      <th>1</th>\n",
       "      <td>How to run sql script in mysql on Ubuntu? I am...</td>\n",
       "      <td>mysql sql script</td>\n",
       "      <td>[script, mysql, sql, path, way, path, path]</td>\n",
       "      <td>[mysql, sql, script]</td>\n",
       "      <td>3</td>\n",
       "    </tr>\n",
       "    <tr>\n",
       "      <th>2</th>\n",
       "      <td>token verification failing using JWK/JWT for u...</td>\n",
       "      <td>python oauth-2.0 jwt rsa jwk</td>\n",
       "      <td>[verification, authentication, python, decode,...</td>\n",
       "      <td>[python, oauth-2.0, jwt, rsa, jwk]</td>\n",
       "      <td>5</td>\n",
       "    </tr>\n",
       "    <tr>\n",
       "      <th>3</th>\n",
       "      <td>Should the \"opening work\" of a context manager...</td>\n",
       "      <td>python contextmanager</td>\n",
       "      <td>[work, context, manager, example, manager, fil...</td>\n",
       "      <td>[python, contextmanager]</td>\n",
       "      <td>2</td>\n",
       "    </tr>\n",
       "    <tr>\n",
       "      <th>4</th>\n",
       "      <td>How to disable Github branch protection rule f...</td>\n",
       "      <td>github</td>\n",
       "      <td>[branch, protection, rule, configuration, bran...</td>\n",
       "      <td>[github]</td>\n",
       "      <td>1</td>\n",
       "    </tr>\n",
       "  </tbody>\n",
       "</table>\n",
       "</div>"
      ],
      "text/plain": [
       "                                              Corpus  \\\n",
       "0  Using A Parent Associative Foreach Loop That C...   \n",
       "1  How to run sql script in mysql on Ubuntu? I am...   \n",
       "2  token verification failing using JWK/JWT for u...   \n",
       "3  Should the \"opening work\" of a context manager...   \n",
       "4  How to disable Github branch protection rule f...   \n",
       "\n",
       "                                Tags  \\\n",
       "0  php foreach pdo associative-array   \n",
       "1                   mysql sql script   \n",
       "2       python oauth-2.0 jwt rsa jwk   \n",
       "3              python contextmanager   \n",
       "4                             github   \n",
       "\n",
       "                                corpus_preprocessing  \\\n",
       "0  [delete, loop, form, option, image, input, for...   \n",
       "1        [script, mysql, sql, path, way, path, path]   \n",
       "2  [verification, authentication, python, decode,...   \n",
       "3  [work, context, manager, example, manager, fil...   \n",
       "4  [branch, protection, rule, configuration, bran...   \n",
       "\n",
       "                       tags_preprocessing  Tags_count  \n",
       "0  [php, foreach, pdo, associative-array]           4  \n",
       "1                    [mysql, sql, script]           3  \n",
       "2      [python, oauth-2.0, jwt, rsa, jwk]           5  \n",
       "3                [python, contextmanager]           2  \n",
       "4                                [github]           1  "
      ]
     },
     "execution_count": 42,
     "metadata": {},
     "output_type": "execute_result"
    }
   ],
   "source": [
    "df_visualisation[\"Tags_count\"] = df_visualisation[\"Tags\"].apply(lambda x : len(x.split()))\n",
    "df_visualisation.head()"
   ]
  },
  {
   "cell_type": "code",
   "execution_count": 43,
   "id": "62b6c0cf",
   "metadata": {
    "ExecuteTime": {
     "end_time": "2022-10-17T14:30:47.504795Z",
     "start_time": "2022-10-17T14:30:47.405970Z"
    }
   },
   "outputs": [
    {
     "data": {
      "image/png": "[encoded data removed]",
      "text/plain": [
       "<Figure size 864x864 with 1 Axes>"
      ]
     },
     "metadata": {},
     "output_type": "display_data"
    }
   ],
   "source": [
    "#define data\n",
    "plt.figure(figsize=(12,12))\n",
    "data = df_visualisation[\"Tags_count\"].value_counts()\n",
    "labels = ['1 tag', '2 tags', '3 tags', '4 tags', '5 tags']\n",
    "\n",
    "#define Seaborn color palette to use\n",
    "colors = sns.color_palette('bright')[0:5]\n",
    "\n",
    "#create pie chart\n",
    "plt.pie(data, labels = labels, colors = colors, autopct='%.0f%%')\n",
    "plt.legend(labels)\n",
    "plt.show()"
   ]
  },
  {
   "cell_type": "code",
   "execution_count": 44,
   "id": "f233190a",
   "metadata": {
    "ExecuteTime": {
     "end_time": "2022-10-17T14:30:47.509498Z",
     "start_time": "2022-10-17T14:30:47.505973Z"
    }
   },
   "outputs": [
    {
     "name": "stdout",
     "output_type": "stream",
     "text": [
      "Le nombre de Tags dans une question est au nombre de :  \u001b[1m3.25\u001b[0m\n"
     ]
    }
   ],
   "source": [
    "print( \"Le nombre de Tags dans une question est au nombre de : \", '\\033[1m'+ str(round(df_visualisation[\"Tags_count\"].mean(),2)) + '\\033[0m')"
   ]
  },
  {
   "cell_type": "markdown",
   "id": "ca8fbc52",
   "metadata": {},
   "source": [
    "# Enregistrer le dataframe dans un CSV :"
   ]
  },
  {
   "cell_type": "code",
   "execution_count": 45,
   "id": "920c43db",
   "metadata": {
    "ExecuteTime": {
     "end_time": "2022-10-17T14:30:47.513054Z",
     "start_time": "2022-10-17T14:30:47.510625Z"
    }
   },
   "outputs": [],
   "source": [
    "# df_visualisation.to_csv(\"P5_final.csv\", index=False) # Cela permettra d'éviter d'attendre de relancer le notebook."
   ]
  },
  {
   "cell_type": "markdown",
   "id": "dd7cc95b",
   "metadata": {},
   "source": [
    "# Analyse non supervisée :"
   ]
  },
  {
   "cell_type": "code",
   "execution_count": 46,
   "id": "c2c8338b",
   "metadata": {
    "ExecuteTime": {
     "end_time": "2022-10-17T14:30:47.525126Z",
     "start_time": "2022-10-17T14:30:47.514686Z"
    }
   },
   "outputs": [
    {
     "data": {
      "text/html": [
       "<div>\n",
       "<style scoped>\n",
       "    .dataframe tbody tr th:only-of-type {\n",
       "        vertical-align: middle;\n",
       "    }\n",
       "\n",
       "    .dataframe tbody tr th {\n",
       "        vertical-align: top;\n",
       "    }\n",
       "\n",
       "    .dataframe thead th {\n",
       "        text-align: right;\n",
       "    }\n",
       "</style>\n",
       "<table border=\"1\" class=\"dataframe\">\n",
       "  <thead>\n",
       "    <tr style=\"text-align: right;\">\n",
       "      <th></th>\n",
       "      <th>Corpus</th>\n",
       "      <th>Tags</th>\n",
       "      <th>corpus_preprocessing</th>\n",
       "      <th>tags_preprocessing</th>\n",
       "      <th>Tags_count</th>\n",
       "    </tr>\n",
       "  </thead>\n",
       "  <tbody>\n",
       "    <tr>\n",
       "      <th>0</th>\n",
       "      <td>Using A Parent Associative Foreach Loop That C...</td>\n",
       "      <td>php foreach pdo associative-array</td>\n",
       "      <td>[delete, loop, form, option, image, input, for...</td>\n",
       "      <td>[php, foreach, pdo, associative-array]</td>\n",
       "      <td>4</td>\n",
       "    </tr>\n",
       "    <tr>\n",
       "      <th>1</th>\n",
       "      <td>How to run sql script in mysql on Ubuntu? I am...</td>\n",
       "      <td>mysql sql script</td>\n",
       "      <td>[script, mysql, sql, path, way, path, path]</td>\n",
       "      <td>[mysql, sql, script]</td>\n",
       "      <td>3</td>\n",
       "    </tr>\n",
       "    <tr>\n",
       "      <th>2</th>\n",
       "      <td>token verification failing using JWK/JWT for u...</td>\n",
       "      <td>python oauth-2.0 jwt rsa jwk</td>\n",
       "      <td>[verification, authentication, python, decode,...</td>\n",
       "      <td>[python, oauth-2.0, jwt, rsa, jwk]</td>\n",
       "      <td>5</td>\n",
       "    </tr>\n",
       "    <tr>\n",
       "      <th>3</th>\n",
       "      <td>Should the \"opening work\" of a context manager...</td>\n",
       "      <td>python contextmanager</td>\n",
       "      <td>[work, context, manager, example, manager, fil...</td>\n",
       "      <td>[python, contextmanager]</td>\n",
       "      <td>2</td>\n",
       "    </tr>\n",
       "    <tr>\n",
       "      <th>4</th>\n",
       "      <td>How to disable Github branch protection rule f...</td>\n",
       "      <td>github</td>\n",
       "      <td>[branch, protection, rule, configuration, bran...</td>\n",
       "      <td>[github]</td>\n",
       "      <td>1</td>\n",
       "    </tr>\n",
       "    <tr>\n",
       "      <th>...</th>\n",
       "      <td>...</td>\n",
       "      <td>...</td>\n",
       "      <td>...</td>\n",
       "      <td>...</td>\n",
       "      <td>...</td>\n",
       "    </tr>\n",
       "    <tr>\n",
       "      <th>31159</th>\n",
       "      <td>C++ Separate different instances of a class at...</td>\n",
       "      <td>c++ c-preprocessor c++20 template-meta-program...</td>\n",
       "      <td>[class, compile, time, class, compile, time, c...</td>\n",
       "      <td>[c++, c-preprocessor, c++20, template-meta-pro...</td>\n",
       "      <td>4</td>\n",
       "    </tr>\n",
       "    <tr>\n",
       "      <th>31160</th>\n",
       "      <td>Why does tsc inline generic constraint? I have...</td>\n",
       "      <td>typescript typescript-generics tsc generic-con...</td>\n",
       "      <td>[inline, constraint, function, implementation,...</td>\n",
       "      <td>[typescript, typescript-generics, tsc, generic...</td>\n",
       "      <td>4</td>\n",
       "    </tr>\n",
       "    <tr>\n",
       "      <th>31161</th>\n",
       "      <td>changing the classname of the specific Li that...</td>\n",
       "      <td>javascript html css</td>\n",
       "      <td>[classname, javascript, change, class, name, li]</td>\n",
       "      <td>[javascript, html, cs]</td>\n",
       "      <td>3</td>\n",
       "    </tr>\n",
       "    <tr>\n",
       "      <th>31162</th>\n",
       "      <td>User input to change size of shape that is gen...</td>\n",
       "      <td>swift swiftui augmented-reality realitykit</td>\n",
       "      <td>[input, change, size, shape, tap, shape, user,...</td>\n",
       "      <td>[swift, swiftui, augmented-reality, realitykit]</td>\n",
       "      <td>4</td>\n",
       "    </tr>\n",
       "    <tr>\n",
       "      <th>31163</th>\n",
       "      <td>Print function macro definition in gdb Here is...</td>\n",
       "      <td>c gcc macros gdb</td>\n",
       "      <td>[function, macro, definition, gdb, source, fil...</td>\n",
       "      <td>[gcc, macro, gdb]</td>\n",
       "      <td>4</td>\n",
       "    </tr>\n",
       "  </tbody>\n",
       "</table>\n",
       "<p>31164 rows × 5 columns</p>\n",
       "</div>"
      ],
      "text/plain": [
       "                                                  Corpus  \\\n",
       "0      Using A Parent Associative Foreach Loop That C...   \n",
       "1      How to run sql script in mysql on Ubuntu? I am...   \n",
       "2      token verification failing using JWK/JWT for u...   \n",
       "3      Should the \"opening work\" of a context manager...   \n",
       "4      How to disable Github branch protection rule f...   \n",
       "...                                                  ...   \n",
       "31159  C++ Separate different instances of a class at...   \n",
       "31160  Why does tsc inline generic constraint? I have...   \n",
       "31161  changing the classname of the specific Li that...   \n",
       "31162  User input to change size of shape that is gen...   \n",
       "31163  Print function macro definition in gdb Here is...   \n",
       "\n",
       "                                                    Tags  \\\n",
       "0                      php foreach pdo associative-array   \n",
       "1                                       mysql sql script   \n",
       "2                           python oauth-2.0 jwt rsa jwk   \n",
       "3                                  python contextmanager   \n",
       "4                                                 github   \n",
       "...                                                  ...   \n",
       "31159  c++ c-preprocessor c++20 template-meta-program...   \n",
       "31160  typescript typescript-generics tsc generic-con...   \n",
       "31161                                javascript html css   \n",
       "31162         swift swiftui augmented-reality realitykit   \n",
       "31163                                   c gcc macros gdb   \n",
       "\n",
       "                                    corpus_preprocessing  \\\n",
       "0      [delete, loop, form, option, image, input, for...   \n",
       "1            [script, mysql, sql, path, way, path, path]   \n",
       "2      [verification, authentication, python, decode,...   \n",
       "3      [work, context, manager, example, manager, fil...   \n",
       "4      [branch, protection, rule, configuration, bran...   \n",
       "...                                                  ...   \n",
       "31159  [class, compile, time, class, compile, time, c...   \n",
       "31160  [inline, constraint, function, implementation,...   \n",
       "31161   [classname, javascript, change, class, name, li]   \n",
       "31162  [input, change, size, shape, tap, shape, user,...   \n",
       "31163  [function, macro, definition, gdb, source, fil...   \n",
       "\n",
       "                                      tags_preprocessing  Tags_count  \n",
       "0                 [php, foreach, pdo, associative-array]           4  \n",
       "1                                   [mysql, sql, script]           3  \n",
       "2                     [python, oauth-2.0, jwt, rsa, jwk]           5  \n",
       "3                               [python, contextmanager]           2  \n",
       "4                                               [github]           1  \n",
       "...                                                  ...         ...  \n",
       "31159  [c++, c-preprocessor, c++20, template-meta-pro...           4  \n",
       "31160  [typescript, typescript-generics, tsc, generic...           4  \n",
       "31161                             [javascript, html, cs]           3  \n",
       "31162    [swift, swiftui, augmented-reality, realitykit]           4  \n",
       "31163                                  [gcc, macro, gdb]           4  \n",
       "\n",
       "[31164 rows x 5 columns]"
      ]
     },
     "execution_count": 46,
     "metadata": {},
     "output_type": "execute_result"
    }
   ],
   "source": [
    "df_visualisation"
   ]
  },
  {
   "cell_type": "markdown",
   "id": "af246a1d",
   "metadata": {},
   "source": [
    "## BOW :"
   ]
  },
  {
   "cell_type": "markdown",
   "id": "b1d3ce0b",
   "metadata": {},
   "source": [
    "### Pour les tags : "
   ]
  },
  {
   "cell_type": "code",
   "execution_count": 47,
   "id": "a5164547",
   "metadata": {
    "ExecuteTime": {
     "end_time": "2022-10-17T14:30:47.527895Z",
     "start_time": "2022-10-17T14:30:47.526083Z"
    }
   },
   "outputs": [],
   "source": [
    "from nltk.tokenize import word_tokenize"
   ]
  },
  {
   "cell_type": "code",
   "execution_count": 48,
   "id": "228782a1",
   "metadata": {
    "ExecuteTime": {
     "end_time": "2022-10-17T14:30:47.621826Z",
     "start_time": "2022-10-17T14:30:47.528691Z"
    }
   },
   "outputs": [],
   "source": [
    "vectorizer = CountVectorizer(tokenizer = lambda x: x.split())\n",
    "tag_bow = vectorizer.fit_transform(df_visualisation['Tags'])"
   ]
  },
  {
   "cell_type": "code",
   "execution_count": 49,
   "id": "12de9f44",
   "metadata": {
    "ExecuteTime": {
     "end_time": "2022-10-17T14:30:47.625277Z",
     "start_time": "2022-10-17T14:30:47.622878Z"
    }
   },
   "outputs": [
    {
     "name": "stdout",
     "output_type": "stream",
     "text": [
      "Nombres de questions : 31164\n",
      "Nombres de tags uniques : 11383\n"
     ]
    }
   ],
   "source": [
    "print(\"Nombres de questions :\", tag_bow.shape[0])\n",
    "print(\"Nombres de tags uniques :\", tag_bow.shape[1])"
   ]
  },
  {
   "cell_type": "markdown",
   "id": "350cf7fd",
   "metadata": {},
   "source": [
    "Visualisation des 10 premiers Tags :"
   ]
  },
  {
   "cell_type": "code",
   "execution_count": 50,
   "id": "fbb27650",
   "metadata": {
    "ExecuteTime": {
     "end_time": "2022-10-17T14:30:47.632605Z",
     "start_time": "2022-10-17T14:30:47.626282Z"
    }
   },
   "outputs": [
    {
     "name": "stdout",
     "output_type": "stream",
     "text": [
      "Visualisation des 10 premiers tags pour le BOW : ['.class-file' '.d.ts' '.git-folder' '.htaccess' '.net' '.net-4.0'\n",
      " '.net-4.5' '.net-4.6.1' '.net-4.8' '.net-5']\n"
     ]
    }
   ],
   "source": [
    "tags_name = vectorizer.get_feature_names_out()\n",
    "print(\"Visualisation des 10 premiers tags pour le BOW :\", tags_name[:10])"
   ]
  },
  {
   "cell_type": "code",
   "execution_count": null,
   "id": "18db1081",
   "metadata": {},
   "outputs": [],
   "source": []
  },
  {
   "cell_type": "code",
   "execution_count": 51,
   "id": "a88a4845",
   "metadata": {
    "ExecuteTime": {
     "end_time": "2022-10-17T14:30:47.638155Z",
     "start_time": "2022-10-17T14:30:47.633718Z"
    }
   },
   "outputs": [],
   "source": [
    "frequence = tag_bow.sum(axis=0).A1 # Equivalent to ravel\n",
    "tag_dict = dict(zip(tags, frequence))"
   ]
  },
  {
   "cell_type": "code",
   "execution_count": 52,
   "id": "d1e4e4dc",
   "metadata": {
    "ExecuteTime": {
     "end_time": "2022-10-17T14:30:47.643171Z",
     "start_time": "2022-10-17T14:30:47.639157Z"
    }
   },
   "outputs": [],
   "source": [
    "liste = []\n",
    "for key, value in tag_dict.items():\n",
    "  liste.append([key, value]) "
   ]
  },
  {
   "cell_type": "code",
   "execution_count": 53,
   "id": "e298c115",
   "metadata": {
    "ExecuteTime": {
     "end_time": "2022-10-17T14:30:47.651493Z",
     "start_time": "2022-10-17T14:30:47.644088Z"
    }
   },
   "outputs": [
    {
     "data": {
      "text/html": [
       "<div>\n",
       "<style scoped>\n",
       "    .dataframe tbody tr th:only-of-type {\n",
       "        vertical-align: middle;\n",
       "    }\n",
       "\n",
       "    .dataframe tbody tr th {\n",
       "        vertical-align: top;\n",
       "    }\n",
       "\n",
       "    .dataframe thead th {\n",
       "        text-align: right;\n",
       "    }\n",
       "</style>\n",
       "<table border=\"1\" class=\"dataframe\">\n",
       "  <thead>\n",
       "    <tr style=\"text-align: right;\">\n",
       "      <th></th>\n",
       "      <th>Tags</th>\n",
       "      <th>Counts</th>\n",
       "    </tr>\n",
       "  </thead>\n",
       "  <tbody>\n",
       "    <tr>\n",
       "      <th>0</th>\n",
       "      <td>php foreach pdo associative-array</td>\n",
       "      <td>2</td>\n",
       "    </tr>\n",
       "    <tr>\n",
       "      <th>1</th>\n",
       "      <td>mysql sql script</td>\n",
       "      <td>2</td>\n",
       "    </tr>\n",
       "    <tr>\n",
       "      <th>2</th>\n",
       "      <td>python oauth-2.0 jwt rsa jwk</td>\n",
       "      <td>1</td>\n",
       "    </tr>\n",
       "    <tr>\n",
       "      <th>3</th>\n",
       "      <td>python contextmanager</td>\n",
       "      <td>24</td>\n",
       "    </tr>\n",
       "    <tr>\n",
       "      <th>4</th>\n",
       "      <td>github</td>\n",
       "      <td>1</td>\n",
       "    </tr>\n",
       "    <tr>\n",
       "      <th>5</th>\n",
       "      <td>go go-modules</td>\n",
       "      <td>1</td>\n",
       "    </tr>\n",
       "    <tr>\n",
       "      <th>6</th>\n",
       "      <td>go struct</td>\n",
       "      <td>1</td>\n",
       "    </tr>\n",
       "    <tr>\n",
       "      <th>7</th>\n",
       "      <td>python pandas duplicates pandas-groupby</td>\n",
       "      <td>2</td>\n",
       "    </tr>\n",
       "    <tr>\n",
       "      <th>8</th>\n",
       "      <td>python list slice</td>\n",
       "      <td>12</td>\n",
       "    </tr>\n",
       "    <tr>\n",
       "      <th>9</th>\n",
       "      <td>tensorflow machine-learning keras computer-vis...</td>\n",
       "      <td>11</td>\n",
       "    </tr>\n",
       "  </tbody>\n",
       "</table>\n",
       "</div>"
      ],
      "text/plain": [
       "                                                Tags  Counts\n",
       "0                  php foreach pdo associative-array       2\n",
       "1                                   mysql sql script       2\n",
       "2                       python oauth-2.0 jwt rsa jwk       1\n",
       "3                              python contextmanager      24\n",
       "4                                             github       1\n",
       "5                                      go go-modules       1\n",
       "6                                          go struct       1\n",
       "7            python pandas duplicates pandas-groupby       2\n",
       "8                                  python list slice      12\n",
       "9  tensorflow machine-learning keras computer-vis...      11"
      ]
     },
     "execution_count": 53,
     "metadata": {},
     "output_type": "execute_result"
    }
   ],
   "source": [
    "tag_counting = pd.DataFrame(liste, columns=['Tags', 'Counts'])\n",
    "tag_counting.head(10)"
   ]
  },
  {
   "cell_type": "code",
   "execution_count": 54,
   "id": "da1c443a",
   "metadata": {
    "ExecuteTime": {
     "end_time": "2022-10-17T14:30:47.659489Z",
     "start_time": "2022-10-17T14:30:47.652590Z"
    }
   },
   "outputs": [
    {
     "data": {
      "text/plain": [
       "Tags      zsh zshrc zsh-completion\n",
       "Counts                        5076\n",
       "dtype: object"
      ]
     },
     "metadata": {},
     "output_type": "display_data"
    },
    {
     "data": {
      "text/plain": [
       "Tags      .net amazon-web-services oauth-2.0 amazon-cogn...\n",
       "Counts                                                    1\n",
       "dtype: object"
      ]
     },
     "metadata": {},
     "output_type": "display_data"
    }
   ],
   "source": [
    "display(tag_counting.max())\n",
    "display(tag_counting.min())"
   ]
  },
  {
   "cell_type": "code",
   "execution_count": 55,
   "id": "d3c368aa",
   "metadata": {
    "ExecuteTime": {
     "end_time": "2022-10-17T14:30:47.733264Z",
     "start_time": "2022-10-17T14:30:47.660286Z"
    }
   },
   "outputs": [
    {
     "data": {
      "text/plain": [
       "Text(0, 0.5, 'Fréquence')"
      ]
     },
     "execution_count": 55,
     "metadata": {},
     "output_type": "execute_result"
    },
    {
     "data": {
      "image/png": "[encoded data removed]",
      "text/plain": [
       "<Figure size 576x396 with 1 Axes>"
      ]
     },
     "metadata": {},
     "output_type": "display_data"
    }
   ],
   "source": [
    "tag_counting_graph = tag_counting.sort_values(['Counts'], ascending=False)\n",
    "plt.plot(tag_counting_graph['Counts'].values)\n",
    "plt.grid(True)\n",
    "plt.title(\"Distribution des Tags :\")\n",
    "plt.xlabel(\"Nombre de Tags sur les plus fréquents\")\n",
    "plt.ylabel(\"Fréquence\")"
   ]
  },
  {
   "cell_type": "code",
   "execution_count": 56,
   "id": "9ec9017a",
   "metadata": {
    "ExecuteTime": {
     "end_time": "2022-10-17T14:30:47.809599Z",
     "start_time": "2022-10-17T14:30:47.734683Z"
    }
   },
   "outputs": [
    {
     "data": {
      "text/plain": [
       "Text(0, 0.5, 'Fréquence')"
      ]
     },
     "execution_count": 56,
     "metadata": {},
     "output_type": "execute_result"
    },
    {
     "data": {
      "image/png": "[encoded data removed]",
      "text/plain": [
       "<Figure size 576x396 with 1 Axes>"
      ]
     },
     "metadata": {},
     "output_type": "display_data"
    }
   ],
   "source": [
    "plt.plot(tag_counting_graph['Counts'][0:100].values)\n",
    "plt.grid(True)\n",
    "plt.title(\"Distribution des top 100 Tags :\")\n",
    "plt.xlabel(\"Nombre de Tags sur les plus fréquents\")\n",
    "plt.ylabel(\"Fréquence\")"
   ]
  },
  {
   "cell_type": "code",
   "execution_count": 57,
   "id": "77a2499c",
   "metadata": {
    "ExecuteTime": {
     "end_time": "2022-10-17T14:30:47.881454Z",
     "start_time": "2022-10-17T14:30:47.812032Z"
    }
   },
   "outputs": [
    {
     "data": {
      "text/plain": [
       "Text(0, 0.5, 'Fréquence')"
      ]
     },
     "execution_count": 57,
     "metadata": {},
     "output_type": "execute_result"
    },
    {
     "data": {
      "image/png": "[encoded data removed]",
      "text/plain": [
       "<Figure size 576x396 with 1 Axes>"
      ]
     },
     "metadata": {},
     "output_type": "display_data"
    }
   ],
   "source": [
    "plt.plot(tag_counting_graph['Counts'][0:10].values)\n",
    "plt.grid(True)\n",
    "plt.title(\"Distribution des top 10 Tags :\")\n",
    "plt.xlabel(\"Nombre de Tags sur les plus fréquents\")\n",
    "plt.ylabel(\"Fréquence\")"
   ]
  },
  {
   "cell_type": "markdown",
   "id": "d51aaa8c",
   "metadata": {},
   "source": [
    "On peut voir qu'à partir de 8 on commence à avoir une fréquence inférieur à 1000, on aurait donc tendance à garder 1000 en fréquence.\n",
    "\n",
    "Et 8 en tag number max"
   ]
  },
  {
   "cell_type": "code",
   "execution_count": 58,
   "id": "931c70c9",
   "metadata": {
    "ExecuteTime": {
     "end_time": "2022-10-17T14:30:47.889563Z",
     "start_time": "2022-10-17T14:30:47.882871Z"
    }
   },
   "outputs": [
    {
     "name": "stdout",
     "output_type": "stream",
     "text": [
      "972 tags qui sont utilisés plus de 10 fois\n",
      "400 tags qui sont utilisés plus de 25 fois\n",
      "206 tags qui sont utilisés plus de 50 fois\n",
      "103 tags qui sont utilisés plus de 100 fois\n",
      "59 tags qui sont utilisés plus de 200 fois\n",
      "18 tags qui sont utilisés plus de 500 fois\n"
     ]
    }
   ],
   "source": [
    "print(\"{} tags qui sont utilisés plus de 10 fois\".format(tag_counting[tag_counting[\"Counts\"]>10].shape[0]))\n",
    "print(\"{} tags qui sont utilisés plus de 25 fois\".format(tag_counting[tag_counting[\"Counts\"]>25].shape[0]))\n",
    "print(\"{} tags qui sont utilisés plus de 50 fois\".format(tag_counting[tag_counting[\"Counts\"]>50].shape[0]))\n",
    "print(\"{} tags qui sont utilisés plus de 100 fois\".format(tag_counting[tag_counting[\"Counts\"]>100].shape[0]))\n",
    "print(\"{} tags qui sont utilisés plus de 200 fois\".format(tag_counting[tag_counting[\"Counts\"]>200].shape[0]))\n",
    "print(\"{} tags qui sont utilisés plus de 500 fois\".format(tag_counting[tag_counting[\"Counts\"]>500].shape[0]))"
   ]
  },
  {
   "cell_type": "markdown",
   "id": "605e8618",
   "metadata": {},
   "source": [
    "On peut voir confirmation que le top 206 tags sont utilisés plus de 50x, donc interessant à mettre en place."
   ]
  },
  {
   "cell_type": "code",
   "execution_count": 59,
   "id": "5e9785f6",
   "metadata": {
    "ExecuteTime": {
     "end_time": "2022-10-17T14:30:47.894350Z",
     "start_time": "2022-10-17T14:30:47.890904Z"
    }
   },
   "outputs": [
    {
     "data": {
      "text/plain": [
       "\"df_visualisation['Corpus'] = df_visualisation['Corpus'].str.lower()\\ndf_visualisation['Corpus'] = df_visualisation['Corpus'].apply(lambda x : tokenize(x))\\ndf_visualisation['Corpus'] = df_visualisation['Corpus'].apply(lambda x : filtering_nouns(x))\\ndf_visualisation['Corpus'] = df_visualisation['Corpus'].apply(lambda x : lemmatisation(x))\""
      ]
     },
     "execution_count": 59,
     "metadata": {},
     "output_type": "execute_result"
    }
   ],
   "source": [
    "\"\"\"df_visualisation['Corpus'] = df_visualisation['Corpus'].str.lower()\n",
    "df_visualisation['Corpus'] = df_visualisation['Corpus'].apply(lambda x : tokenize(x))\n",
    "df_visualisation['Corpus'] = df_visualisation['Corpus'].apply(lambda x : filtering_nouns(x))\n",
    "df_visualisation['Corpus'] = df_visualisation['Corpus'].apply(lambda x : lemmatisation(x))\"\"\""
   ]
  },
  {
   "cell_type": "code",
   "execution_count": 60,
   "id": "3fe57ee6",
   "metadata": {
    "ExecuteTime": {
     "end_time": "2022-10-17T14:30:47.919768Z",
     "start_time": "2022-10-17T14:30:47.896071Z"
    }
   },
   "outputs": [],
   "source": [
    "df_visualisation[\"Corpus\"] = df_visualisation[\"corpus_preprocessing\"].apply(lambda x : \" \".join(x))"
   ]
  },
  {
   "cell_type": "code",
   "execution_count": 61,
   "id": "c648c986",
   "metadata": {
    "ExecuteTime": {
     "end_time": "2022-10-17T14:30:47.931562Z",
     "start_time": "2022-10-17T14:30:47.921000Z"
    }
   },
   "outputs": [
    {
     "data": {
      "text/html": [
       "<div>\n",
       "<style scoped>\n",
       "    .dataframe tbody tr th:only-of-type {\n",
       "        vertical-align: middle;\n",
       "    }\n",
       "\n",
       "    .dataframe tbody tr th {\n",
       "        vertical-align: top;\n",
       "    }\n",
       "\n",
       "    .dataframe thead th {\n",
       "        text-align: right;\n",
       "    }\n",
       "</style>\n",
       "<table border=\"1\" class=\"dataframe\">\n",
       "  <thead>\n",
       "    <tr style=\"text-align: right;\">\n",
       "      <th></th>\n",
       "      <th>Corpus</th>\n",
       "      <th>Tags</th>\n",
       "      <th>corpus_preprocessing</th>\n",
       "      <th>tags_preprocessing</th>\n",
       "      <th>Tags_count</th>\n",
       "    </tr>\n",
       "  </thead>\n",
       "  <tbody>\n",
       "    <tr>\n",
       "      <th>0</th>\n",
       "      <td>delete loop form option image input form array...</td>\n",
       "      <td>php foreach pdo associative-array</td>\n",
       "      <td>[delete, loop, form, option, image, input, for...</td>\n",
       "      <td>[php, foreach, pdo, associative-array]</td>\n",
       "      <td>4</td>\n",
       "    </tr>\n",
       "    <tr>\n",
       "      <th>1</th>\n",
       "      <td>script mysql sql path way path path</td>\n",
       "      <td>mysql sql script</td>\n",
       "      <td>[script, mysql, sql, path, way, path, path]</td>\n",
       "      <td>[mysql, sql, script]</td>\n",
       "      <td>3</td>\n",
       "    </tr>\n",
       "    <tr>\n",
       "      <th>2</th>\n",
       "      <td>verification authentication python decode func...</td>\n",
       "      <td>python oauth-2.0 jwt rsa jwk</td>\n",
       "      <td>[verification, authentication, python, decode,...</td>\n",
       "      <td>[python, oauth-2.0, jwt, rsa, jwk]</td>\n",
       "      <td>5</td>\n",
       "    </tr>\n",
       "    <tr>\n",
       "      <th>3</th>\n",
       "      <td>work context manager example manager file sugg...</td>\n",
       "      <td>python contextmanager</td>\n",
       "      <td>[work, context, manager, example, manager, fil...</td>\n",
       "      <td>[python, contextmanager]</td>\n",
       "      <td>2</td>\n",
       "    </tr>\n",
       "    <tr>\n",
       "      <th>4</th>\n",
       "      <td>branch protection rule configuration branch br...</td>\n",
       "      <td>github</td>\n",
       "      <td>[branch, protection, rule, configuration, bran...</td>\n",
       "      <td>[github]</td>\n",
       "      <td>1</td>\n",
       "    </tr>\n",
       "    <tr>\n",
       "      <th>...</th>\n",
       "      <td>...</td>\n",
       "      <td>...</td>\n",
       "      <td>...</td>\n",
       "      <td>...</td>\n",
       "      <td>...</td>\n",
       "    </tr>\n",
       "    <tr>\n",
       "      <th>31159</th>\n",
       "      <td>class compile time class compile time code sni...</td>\n",
       "      <td>c++ c-preprocessor c++20 template-meta-program...</td>\n",
       "      <td>[class, compile, time, class, compile, time, c...</td>\n",
       "      <td>[c++, c-preprocessor, c++20, template-meta-pro...</td>\n",
       "      <td>4</td>\n",
       "    </tr>\n",
       "    <tr>\n",
       "      <th>31160</th>\n",
       "      <td>inline constraint function implementation look...</td>\n",
       "      <td>typescript typescript-generics tsc generic-con...</td>\n",
       "      <td>[inline, constraint, function, implementation,...</td>\n",
       "      <td>[typescript, typescript-generics, tsc, generic...</td>\n",
       "      <td>4</td>\n",
       "    </tr>\n",
       "    <tr>\n",
       "      <th>31161</th>\n",
       "      <td>classname javascript change class name li</td>\n",
       "      <td>javascript html css</td>\n",
       "      <td>[classname, javascript, change, class, name, li]</td>\n",
       "      <td>[javascript, html, cs]</td>\n",
       "      <td>3</td>\n",
       "    </tr>\n",
       "    <tr>\n",
       "      <th>31162</th>\n",
       "      <td>input change size shape tap shape user input e...</td>\n",
       "      <td>swift swiftui augmented-reality realitykit</td>\n",
       "      <td>[input, change, size, shape, tap, shape, user,...</td>\n",
       "      <td>[swift, swiftui, augmented-reality, realitykit]</td>\n",
       "      <td>4</td>\n",
       "    </tr>\n",
       "    <tr>\n",
       "      <th>31163</th>\n",
       "      <td>function macro definition gdb source file frag...</td>\n",
       "      <td>c gcc macros gdb</td>\n",
       "      <td>[function, macro, definition, gdb, source, fil...</td>\n",
       "      <td>[gcc, macro, gdb]</td>\n",
       "      <td>4</td>\n",
       "    </tr>\n",
       "  </tbody>\n",
       "</table>\n",
       "<p>31164 rows × 5 columns</p>\n",
       "</div>"
      ],
      "text/plain": [
       "                                                  Corpus  \\\n",
       "0      delete loop form option image input form array...   \n",
       "1                    script mysql sql path way path path   \n",
       "2      verification authentication python decode func...   \n",
       "3      work context manager example manager file sugg...   \n",
       "4      branch protection rule configuration branch br...   \n",
       "...                                                  ...   \n",
       "31159  class compile time class compile time code sni...   \n",
       "31160  inline constraint function implementation look...   \n",
       "31161          classname javascript change class name li   \n",
       "31162  input change size shape tap shape user input e...   \n",
       "31163  function macro definition gdb source file frag...   \n",
       "\n",
       "                                                    Tags  \\\n",
       "0                      php foreach pdo associative-array   \n",
       "1                                       mysql sql script   \n",
       "2                           python oauth-2.0 jwt rsa jwk   \n",
       "3                                  python contextmanager   \n",
       "4                                                 github   \n",
       "...                                                  ...   \n",
       "31159  c++ c-preprocessor c++20 template-meta-program...   \n",
       "31160  typescript typescript-generics tsc generic-con...   \n",
       "31161                                javascript html css   \n",
       "31162         swift swiftui augmented-reality realitykit   \n",
       "31163                                   c gcc macros gdb   \n",
       "\n",
       "                                    corpus_preprocessing  \\\n",
       "0      [delete, loop, form, option, image, input, for...   \n",
       "1            [script, mysql, sql, path, way, path, path]   \n",
       "2      [verification, authentication, python, decode,...   \n",
       "3      [work, context, manager, example, manager, fil...   \n",
       "4      [branch, protection, rule, configuration, bran...   \n",
       "...                                                  ...   \n",
       "31159  [class, compile, time, class, compile, time, c...   \n",
       "31160  [inline, constraint, function, implementation,...   \n",
       "31161   [classname, javascript, change, class, name, li]   \n",
       "31162  [input, change, size, shape, tap, shape, user,...   \n",
       "31163  [function, macro, definition, gdb, source, fil...   \n",
       "\n",
       "                                      tags_preprocessing  Tags_count  \n",
       "0                 [php, foreach, pdo, associative-array]           4  \n",
       "1                                   [mysql, sql, script]           3  \n",
       "2                     [python, oauth-2.0, jwt, rsa, jwk]           5  \n",
       "3                               [python, contextmanager]           2  \n",
       "4                                               [github]           1  \n",
       "...                                                  ...         ...  \n",
       "31159  [c++, c-preprocessor, c++20, template-meta-pro...           4  \n",
       "31160  [typescript, typescript-generics, tsc, generic...           4  \n",
       "31161                             [javascript, html, cs]           3  \n",
       "31162    [swift, swiftui, augmented-reality, realitykit]           4  \n",
       "31163                                  [gcc, macro, gdb]           4  \n",
       "\n",
       "[31164 rows x 5 columns]"
      ]
     },
     "execution_count": 61,
     "metadata": {},
     "output_type": "execute_result"
    }
   ],
   "source": [
    "df_visualisation"
   ]
  },
  {
   "cell_type": "code",
   "execution_count": 62,
   "id": "b4368e7a",
   "metadata": {
    "ExecuteTime": {
     "end_time": "2022-10-17T14:30:47.937379Z",
     "start_time": "2022-10-17T14:30:47.933004Z"
    }
   },
   "outputs": [],
   "source": [
    "def bag_of_words (texts) :\n",
    "    data = texts\n",
    "    cv = CountVectorizer(min_df = 200).fit(data)\n",
    "    bow = cv.transform(data)\n",
    "    \n",
    "   # print (\"Taille : \",  len (cv.vocabulary_))\n",
    "   # print (\"Contenu : \",  cv.vocabulary_) # too long\n",
    "    \n",
    "   # Nombre de lignes et de colonnes de la matrice via Bag Of Words :\n",
    "   # print(bow.toarray().shape)\n",
    "    \n",
    "    data = pd.DataFrame.from_dict(cv.vocabulary_, orient='index',\n",
    "                       columns=['Frequency'])\n",
    "    data = data.sort_values(by=['Frequency'], ascending = False)\n",
    "    data = data[data['Frequency']>200]\n",
    "    \n",
    "    data['percent'] = round((data['Frequency'])*100/ data['Frequency'].sum(),2)\n",
    "    \n",
    "    return(data, bow)"
   ]
  },
  {
   "cell_type": "markdown",
   "id": "f9c36bb2",
   "metadata": {},
   "source": [
    "### Création d'un DataFrame de visualisation + une matrice :"
   ]
  },
  {
   "cell_type": "code",
   "execution_count": 63,
   "id": "0fadd495",
   "metadata": {
    "ExecuteTime": {
     "end_time": "2022-10-17T14:30:48.677285Z",
     "start_time": "2022-10-17T14:30:47.938704Z"
    }
   },
   "outputs": [
    {
     "name": "stdout",
     "output_type": "stream",
     "text": [
      "CPU times: user 880 ms, sys: 143 ms, total: 1.02 s\n",
      "Wall time: 735 ms\n"
     ]
    }
   ],
   "source": [
    "%%time\n",
    "data_bow,bow = bag_of_words(df_visualisation[\"Corpus\"])"
   ]
  },
  {
   "cell_type": "code",
   "execution_count": 64,
   "id": "4f87b889",
   "metadata": {
    "ExecuteTime": {
     "end_time": "2022-10-17T14:30:48.680618Z",
     "start_time": "2022-10-17T14:30:48.678373Z"
    }
   },
   "outputs": [
    {
     "name": "stdout",
     "output_type": "stream",
     "text": [
      "Nombres de questions pour le BOW: 31164\n",
      "Nombres de tags uniques pour le BOW : 396\n"
     ]
    }
   ],
   "source": [
    "print(\"Nombres de questions pour le BOW:\", bow.shape[0])\n",
    "print(\"Nombres de tags uniques pour le BOW :\", bow.shape[1])"
   ]
  },
  {
   "cell_type": "markdown",
   "id": "0a064305",
   "metadata": {},
   "source": [
    "#### Visualisation : "
   ]
  },
  {
   "cell_type": "code",
   "execution_count": 65,
   "id": "2d6c56b0",
   "metadata": {
    "ExecuteTime": {
     "end_time": "2022-10-17T14:30:48.689540Z",
     "start_time": "2022-10-17T14:30:48.681545Z"
    }
   },
   "outputs": [
    {
     "data": {
      "text/html": [
       "<div>\n",
       "<style scoped>\n",
       "    .dataframe tbody tr th:only-of-type {\n",
       "        vertical-align: middle;\n",
       "    }\n",
       "\n",
       "    .dataframe tbody tr th {\n",
       "        vertical-align: top;\n",
       "    }\n",
       "\n",
       "    .dataframe thead th {\n",
       "        text-align: right;\n",
       "    }\n",
       "</style>\n",
       "<table border=\"1\" class=\"dataframe\">\n",
       "  <thead>\n",
       "    <tr style=\"text-align: right;\">\n",
       "      <th></th>\n",
       "      <th>Frequency</th>\n",
       "      <th>percent</th>\n",
       "    </tr>\n",
       "  </thead>\n",
       "  <tbody>\n",
       "    <tr>\n",
       "      <th>year</th>\n",
       "      <td>395</td>\n",
       "      <td>0.68</td>\n",
       "    </tr>\n",
       "    <tr>\n",
       "      <th>work</th>\n",
       "      <td>394</td>\n",
       "      <td>0.68</td>\n",
       "    </tr>\n",
       "    <tr>\n",
       "      <th>word</th>\n",
       "      <td>393</td>\n",
       "      <td>0.68</td>\n",
       "    </tr>\n",
       "    <tr>\n",
       "      <th>window</th>\n",
       "      <td>392</td>\n",
       "      <td>0.67</td>\n",
       "    </tr>\n",
       "    <tr>\n",
       "      <th>website</th>\n",
       "      <td>391</td>\n",
       "      <td>0.67</td>\n",
       "    </tr>\n",
       "    <tr>\n",
       "      <th>...</th>\n",
       "      <td>...</td>\n",
       "      <td>...</td>\n",
       "    </tr>\n",
       "    <tr>\n",
       "      <th>location</th>\n",
       "      <td>205</td>\n",
       "      <td>0.35</td>\n",
       "    </tr>\n",
       "    <tr>\n",
       "      <th>load</th>\n",
       "      <td>204</td>\n",
       "      <td>0.35</td>\n",
       "    </tr>\n",
       "    <tr>\n",
       "      <th>list</th>\n",
       "      <td>203</td>\n",
       "      <td>0.35</td>\n",
       "    </tr>\n",
       "    <tr>\n",
       "      <th>link</th>\n",
       "      <td>202</td>\n",
       "      <td>0.35</td>\n",
       "    </tr>\n",
       "    <tr>\n",
       "      <th>line</th>\n",
       "      <td>201</td>\n",
       "      <td>0.35</td>\n",
       "    </tr>\n",
       "  </tbody>\n",
       "</table>\n",
       "<p>195 rows × 2 columns</p>\n",
       "</div>"
      ],
      "text/plain": [
       "          Frequency  percent\n",
       "year            395     0.68\n",
       "work            394     0.68\n",
       "word            393     0.68\n",
       "window          392     0.67\n",
       "website         391     0.67\n",
       "...             ...      ...\n",
       "location        205     0.35\n",
       "load            204     0.35\n",
       "list            203     0.35\n",
       "link            202     0.35\n",
       "line            201     0.35\n",
       "\n",
       "[195 rows x 2 columns]"
      ]
     },
     "execution_count": 65,
     "metadata": {},
     "output_type": "execute_result"
    }
   ],
   "source": [
    "data_bow"
   ]
  },
  {
   "cell_type": "markdown",
   "id": "228c3598",
   "metadata": {},
   "source": [
    "### Vectorisation :"
   ]
  },
  {
   "cell_type": "code",
   "execution_count": 66,
   "id": "bd40d8cf",
   "metadata": {
    "ExecuteTime": {
     "end_time": "2022-10-17T14:30:49.141288Z",
     "start_time": "2022-10-17T14:30:48.690669Z"
    }
   },
   "outputs": [
    {
     "name": "stdout",
     "output_type": "stream",
     "text": [
      "CPU times: user 399 ms, sys: 28.3 ms, total: 427 ms\n",
      "Wall time: 448 ms\n"
     ]
    }
   ],
   "source": [
    "%%time\n",
    "cv = CountVectorizer(min_df = 200)\n",
    "data_bow_2 = cv.fit_transform(df_visualisation[\"Corpus\"])\n",
    "data_bow_vec = pd.DataFrame(data_bow_2.toarray(), columns=cv.get_feature_names_out())\n",
    "data_bow_vec.index = df_final.index"
   ]
  },
  {
   "cell_type": "code",
   "execution_count": 67,
   "id": "04db51ba",
   "metadata": {
    "ExecuteTime": {
     "end_time": "2022-10-17T14:30:49.160872Z",
     "start_time": "2022-10-17T14:30:49.142257Z"
    }
   },
   "outputs": [
    {
     "data": {
      "text/html": [
       "<div>\n",
       "<style scoped>\n",
       "    .dataframe tbody tr th:only-of-type {\n",
       "        vertical-align: middle;\n",
       "    }\n",
       "\n",
       "    .dataframe tbody tr th {\n",
       "        vertical-align: top;\n",
       "    }\n",
       "\n",
       "    .dataframe thead th {\n",
       "        text-align: right;\n",
       "    }\n",
       "</style>\n",
       "<table border=\"1\" class=\"dataframe\">\n",
       "  <thead>\n",
       "    <tr style=\"text-align: right;\">\n",
       "      <th></th>\n",
       "      <th>access</th>\n",
       "      <th>account</th>\n",
       "      <th>action</th>\n",
       "      <th>add</th>\n",
       "      <th>address</th>\n",
       "      <th>advance</th>\n",
       "      <th>advice</th>\n",
       "      <th>algorithm</th>\n",
       "      <th>amount</th>\n",
       "      <th>android</th>\n",
       "      <th>...</th>\n",
       "      <th>version</th>\n",
       "      <th>video</th>\n",
       "      <th>view</th>\n",
       "      <th>way</th>\n",
       "      <th>web</th>\n",
       "      <th>website</th>\n",
       "      <th>window</th>\n",
       "      <th>word</th>\n",
       "      <th>work</th>\n",
       "      <th>year</th>\n",
       "    </tr>\n",
       "  </thead>\n",
       "  <tbody>\n",
       "    <tr>\n",
       "      <th>0</th>\n",
       "      <td>0</td>\n",
       "      <td>0</td>\n",
       "      <td>0</td>\n",
       "      <td>0</td>\n",
       "      <td>0</td>\n",
       "      <td>0</td>\n",
       "      <td>0</td>\n",
       "      <td>0</td>\n",
       "      <td>0</td>\n",
       "      <td>0</td>\n",
       "      <td>...</td>\n",
       "      <td>0</td>\n",
       "      <td>0</td>\n",
       "      <td>0</td>\n",
       "      <td>0</td>\n",
       "      <td>0</td>\n",
       "      <td>0</td>\n",
       "      <td>0</td>\n",
       "      <td>0</td>\n",
       "      <td>0</td>\n",
       "      <td>0</td>\n",
       "    </tr>\n",
       "    <tr>\n",
       "      <th>1</th>\n",
       "      <td>0</td>\n",
       "      <td>0</td>\n",
       "      <td>0</td>\n",
       "      <td>0</td>\n",
       "      <td>0</td>\n",
       "      <td>0</td>\n",
       "      <td>0</td>\n",
       "      <td>0</td>\n",
       "      <td>0</td>\n",
       "      <td>0</td>\n",
       "      <td>...</td>\n",
       "      <td>0</td>\n",
       "      <td>0</td>\n",
       "      <td>0</td>\n",
       "      <td>1</td>\n",
       "      <td>0</td>\n",
       "      <td>0</td>\n",
       "      <td>0</td>\n",
       "      <td>0</td>\n",
       "      <td>0</td>\n",
       "      <td>0</td>\n",
       "    </tr>\n",
       "    <tr>\n",
       "      <th>2</th>\n",
       "      <td>0</td>\n",
       "      <td>0</td>\n",
       "      <td>0</td>\n",
       "      <td>0</td>\n",
       "      <td>0</td>\n",
       "      <td>0</td>\n",
       "      <td>0</td>\n",
       "      <td>0</td>\n",
       "      <td>0</td>\n",
       "      <td>0</td>\n",
       "      <td>...</td>\n",
       "      <td>0</td>\n",
       "      <td>0</td>\n",
       "      <td>0</td>\n",
       "      <td>0</td>\n",
       "      <td>0</td>\n",
       "      <td>0</td>\n",
       "      <td>0</td>\n",
       "      <td>0</td>\n",
       "      <td>0</td>\n",
       "      <td>0</td>\n",
       "    </tr>\n",
       "    <tr>\n",
       "      <th>3</th>\n",
       "      <td>0</td>\n",
       "      <td>0</td>\n",
       "      <td>0</td>\n",
       "      <td>0</td>\n",
       "      <td>0</td>\n",
       "      <td>0</td>\n",
       "      <td>0</td>\n",
       "      <td>0</td>\n",
       "      <td>0</td>\n",
       "      <td>0</td>\n",
       "      <td>...</td>\n",
       "      <td>0</td>\n",
       "      <td>0</td>\n",
       "      <td>0</td>\n",
       "      <td>0</td>\n",
       "      <td>0</td>\n",
       "      <td>0</td>\n",
       "      <td>0</td>\n",
       "      <td>0</td>\n",
       "      <td>2</td>\n",
       "      <td>0</td>\n",
       "    </tr>\n",
       "    <tr>\n",
       "      <th>4</th>\n",
       "      <td>0</td>\n",
       "      <td>0</td>\n",
       "      <td>0</td>\n",
       "      <td>0</td>\n",
       "      <td>0</td>\n",
       "      <td>0</td>\n",
       "      <td>0</td>\n",
       "      <td>0</td>\n",
       "      <td>0</td>\n",
       "      <td>0</td>\n",
       "      <td>...</td>\n",
       "      <td>0</td>\n",
       "      <td>0</td>\n",
       "      <td>0</td>\n",
       "      <td>0</td>\n",
       "      <td>0</td>\n",
       "      <td>0</td>\n",
       "      <td>0</td>\n",
       "      <td>0</td>\n",
       "      <td>0</td>\n",
       "      <td>0</td>\n",
       "    </tr>\n",
       "    <tr>\n",
       "      <th>...</th>\n",
       "      <td>...</td>\n",
       "      <td>...</td>\n",
       "      <td>...</td>\n",
       "      <td>...</td>\n",
       "      <td>...</td>\n",
       "      <td>...</td>\n",
       "      <td>...</td>\n",
       "      <td>...</td>\n",
       "      <td>...</td>\n",
       "      <td>...</td>\n",
       "      <td>...</td>\n",
       "      <td>...</td>\n",
       "      <td>...</td>\n",
       "      <td>...</td>\n",
       "      <td>...</td>\n",
       "      <td>...</td>\n",
       "      <td>...</td>\n",
       "      <td>...</td>\n",
       "      <td>...</td>\n",
       "      <td>...</td>\n",
       "      <td>...</td>\n",
       "    </tr>\n",
       "    <tr>\n",
       "      <th>31159</th>\n",
       "      <td>0</td>\n",
       "      <td>0</td>\n",
       "      <td>0</td>\n",
       "      <td>0</td>\n",
       "      <td>0</td>\n",
       "      <td>0</td>\n",
       "      <td>0</td>\n",
       "      <td>0</td>\n",
       "      <td>0</td>\n",
       "      <td>0</td>\n",
       "      <td>...</td>\n",
       "      <td>0</td>\n",
       "      <td>0</td>\n",
       "      <td>0</td>\n",
       "      <td>0</td>\n",
       "      <td>0</td>\n",
       "      <td>0</td>\n",
       "      <td>0</td>\n",
       "      <td>0</td>\n",
       "      <td>0</td>\n",
       "      <td>0</td>\n",
       "    </tr>\n",
       "    <tr>\n",
       "      <th>31160</th>\n",
       "      <td>0</td>\n",
       "      <td>0</td>\n",
       "      <td>0</td>\n",
       "      <td>0</td>\n",
       "      <td>0</td>\n",
       "      <td>0</td>\n",
       "      <td>0</td>\n",
       "      <td>0</td>\n",
       "      <td>0</td>\n",
       "      <td>0</td>\n",
       "      <td>...</td>\n",
       "      <td>0</td>\n",
       "      <td>0</td>\n",
       "      <td>0</td>\n",
       "      <td>0</td>\n",
       "      <td>0</td>\n",
       "      <td>0</td>\n",
       "      <td>0</td>\n",
       "      <td>0</td>\n",
       "      <td>0</td>\n",
       "      <td>0</td>\n",
       "    </tr>\n",
       "    <tr>\n",
       "      <th>31161</th>\n",
       "      <td>0</td>\n",
       "      <td>0</td>\n",
       "      <td>0</td>\n",
       "      <td>0</td>\n",
       "      <td>0</td>\n",
       "      <td>0</td>\n",
       "      <td>0</td>\n",
       "      <td>0</td>\n",
       "      <td>0</td>\n",
       "      <td>0</td>\n",
       "      <td>...</td>\n",
       "      <td>0</td>\n",
       "      <td>0</td>\n",
       "      <td>0</td>\n",
       "      <td>0</td>\n",
       "      <td>0</td>\n",
       "      <td>0</td>\n",
       "      <td>0</td>\n",
       "      <td>0</td>\n",
       "      <td>0</td>\n",
       "      <td>0</td>\n",
       "    </tr>\n",
       "    <tr>\n",
       "      <th>31162</th>\n",
       "      <td>0</td>\n",
       "      <td>0</td>\n",
       "      <td>0</td>\n",
       "      <td>0</td>\n",
       "      <td>0</td>\n",
       "      <td>0</td>\n",
       "      <td>0</td>\n",
       "      <td>0</td>\n",
       "      <td>0</td>\n",
       "      <td>0</td>\n",
       "      <td>...</td>\n",
       "      <td>0</td>\n",
       "      <td>0</td>\n",
       "      <td>1</td>\n",
       "      <td>0</td>\n",
       "      <td>0</td>\n",
       "      <td>0</td>\n",
       "      <td>0</td>\n",
       "      <td>0</td>\n",
       "      <td>1</td>\n",
       "      <td>0</td>\n",
       "    </tr>\n",
       "    <tr>\n",
       "      <th>31163</th>\n",
       "      <td>0</td>\n",
       "      <td>0</td>\n",
       "      <td>0</td>\n",
       "      <td>0</td>\n",
       "      <td>0</td>\n",
       "      <td>0</td>\n",
       "      <td>0</td>\n",
       "      <td>0</td>\n",
       "      <td>0</td>\n",
       "      <td>0</td>\n",
       "      <td>...</td>\n",
       "      <td>0</td>\n",
       "      <td>0</td>\n",
       "      <td>0</td>\n",
       "      <td>2</td>\n",
       "      <td>0</td>\n",
       "      <td>0</td>\n",
       "      <td>0</td>\n",
       "      <td>0</td>\n",
       "      <td>0</td>\n",
       "      <td>0</td>\n",
       "    </tr>\n",
       "  </tbody>\n",
       "</table>\n",
       "<p>31164 rows × 396 columns</p>\n",
       "</div>"
      ],
      "text/plain": [
       "       access  account  action  add  address  advance  advice  algorithm  \\\n",
       "0           0        0       0    0        0        0       0          0   \n",
       "1           0        0       0    0        0        0       0          0   \n",
       "2           0        0       0    0        0        0       0          0   \n",
       "3           0        0       0    0        0        0       0          0   \n",
       "4           0        0       0    0        0        0       0          0   \n",
       "...       ...      ...     ...  ...      ...      ...     ...        ...   \n",
       "31159       0        0       0    0        0        0       0          0   \n",
       "31160       0        0       0    0        0        0       0          0   \n",
       "31161       0        0       0    0        0        0       0          0   \n",
       "31162       0        0       0    0        0        0       0          0   \n",
       "31163       0        0       0    0        0        0       0          0   \n",
       "\n",
       "       amount  android  ...  version  video  view  way  web  website  window  \\\n",
       "0           0        0  ...        0      0     0    0    0        0       0   \n",
       "1           0        0  ...        0      0     0    1    0        0       0   \n",
       "2           0        0  ...        0      0     0    0    0        0       0   \n",
       "3           0        0  ...        0      0     0    0    0        0       0   \n",
       "4           0        0  ...        0      0     0    0    0        0       0   \n",
       "...       ...      ...  ...      ...    ...   ...  ...  ...      ...     ...   \n",
       "31159       0        0  ...        0      0     0    0    0        0       0   \n",
       "31160       0        0  ...        0      0     0    0    0        0       0   \n",
       "31161       0        0  ...        0      0     0    0    0        0       0   \n",
       "31162       0        0  ...        0      0     1    0    0        0       0   \n",
       "31163       0        0  ...        0      0     0    2    0        0       0   \n",
       "\n",
       "       word  work  year  \n",
       "0         0     0     0  \n",
       "1         0     0     0  \n",
       "2         0     0     0  \n",
       "3         0     2     0  \n",
       "4         0     0     0  \n",
       "...     ...   ...   ...  \n",
       "31159     0     0     0  \n",
       "31160     0     0     0  \n",
       "31161     0     0     0  \n",
       "31162     0     1     0  \n",
       "31163     0     0     0  \n",
       "\n",
       "[31164 rows x 396 columns]"
      ]
     },
     "execution_count": 67,
     "metadata": {},
     "output_type": "execute_result"
    }
   ],
   "source": [
    "data_bow_vec"
   ]
  },
  {
   "cell_type": "code",
   "execution_count": 68,
   "id": "e0ac9616",
   "metadata": {
    "ExecuteTime": {
     "end_time": "2022-10-17T14:30:49.219703Z",
     "start_time": "2022-10-17T14:30:49.161888Z"
    }
   },
   "outputs": [
    {
     "name": "stdout",
     "output_type": "stream",
     "text": [
      "Sparsicity:  \u001b[1m2.29\u001b[0m %\n",
      "CPU times: user 20.8 ms, sys: 27.3 ms, total: 48.1 ms\n",
      "Wall time: 55.6 ms\n"
     ]
    }
   ],
   "source": [
    "%%time\n",
    "score_Sparsicity_bow = data_bow_2.todense()\n",
    "print(\"Sparsicity: \", '\\033[1m'+ str((((score_Sparsicity_bow > 0).sum()/score_Sparsicity_bow.size)*100).round(2)) + '\\033[0m' , \"%\")"
   ]
  },
  {
   "cell_type": "markdown",
   "id": "70f24241",
   "metadata": {},
   "source": [
    "Afficher la Sparsicity (sous forme de nombre ou de proportion) d'une matrice.\n",
    "\n",
    "Par exemple, . 99% de  Sparsicity signifie que 99 % des valeurs sont nulles. De même, une Sparsicity de 0 signifie que la matrice est entièrement dense."
   ]
  },
  {
   "cell_type": "markdown",
   "id": "841de5c2",
   "metadata": {},
   "source": [
    "## TF-IDF :"
   ]
  },
  {
   "cell_type": "markdown",
   "id": "a3458d19",
   "metadata": {},
   "source": [
    "La formule du tf-Idf est  : __poids = fréquence du terme * indicateur similarité__"
   ]
  },
  {
   "cell_type": "markdown",
   "id": "2ee37a1a",
   "metadata": {},
   "source": [
    "__Pour extraire les informations on utilise :__"
   ]
  },
  {
   "cell_type": "markdown",
   "id": "a47f4da1",
   "metadata": {},
   "source": [
    "__NER (Named Entity Recognition) :__ reconnaître des personnes, endroits, entreprises, etc.\n",
    "\n",
    "__Extraction de relations :__ essayer d'extraire des relations sémantiques entre différents termes du texte. Par exemple, des relations familiales (\"Marie est l'enfant de Patrick\") spatiales (\"Le piano est devant la fenêtre\"), etc. Ces informations peuvent ensuite être stockées dans une base de données relationnelles ou un graphe.\n",
    "\n",
    "__Extraction d'événements :__ extraire des actions qui arrivent à nos entités. Par exemple \"le cours de l'action X a augmenté de 5%\" ou bien \"le président à déclaré X dans son discours\"\n",
    "\n",
    "__POS Tagging (Part-of-Speech Tagging) :__ représente les méthodes qui récupèrent la nature grammatical des mots d’une phrase - nom, verbe, adjectif, etc. Ce sont des propriété qui peuvent servir de caractéristiques utile lors de la création de certains modèles"
   ]
  },
  {
   "cell_type": "code",
   "execution_count": 69,
   "id": "ac31b65e",
   "metadata": {
    "ExecuteTime": {
     "end_time": "2022-10-17T14:30:49.223629Z",
     "start_time": "2022-10-17T14:30:49.221223Z"
    }
   },
   "outputs": [],
   "source": [
    "from sklearn.feature_extraction.text import TfidfVectorizer\n",
    "from sklearn.feature_extraction.text import TfidfTransformer"
   ]
  },
  {
   "cell_type": "code",
   "execution_count": 70,
   "id": "a8421830",
   "metadata": {
    "ExecuteTime": {
     "end_time": "2022-10-17T14:30:49.228245Z",
     "start_time": "2022-10-17T14:30:49.224977Z"
    }
   },
   "outputs": [],
   "source": [
    "def Tfidf (texts) :\n",
    "    data = texts\n",
    "    tf = TfidfVectorizer(min_df = 200).fit(data) # on choisit de prendre que les mots avec 200 itérations\n",
    "    idf = tf.transform(texts)\n",
    "    \n",
    "    #print (\"Taille : \",  len (tf.vocabulary_))\n",
    "    # print (\"Contenu : \",  tf.vocabulary_) # too long\n",
    "    \n",
    "    # Nombre de lignes et de colonnes de la matrice via Bag Of Words :\n",
    "    #print(idf.toarray().shape)\n",
    "    \n",
    "    data = pd.DataFrame.from_dict(tf.vocabulary_, orient='index',\n",
    "                       columns=['Frequency'])\n",
    "    data = data.sort_values(by=['Frequency'], ascending = False)\n",
    "    data = data[data['Frequency']>200]\n",
    "    \n",
    "    data['percent'] = round((data['Frequency']*100)/ data['Frequency'].sum(),2)\n",
    "    \n",
    "    return(data,idf)"
   ]
  },
  {
   "cell_type": "code",
   "execution_count": null,
   "id": "76418bee",
   "metadata": {},
   "outputs": [],
   "source": []
  },
  {
   "cell_type": "markdown",
   "id": "fd6db0e1",
   "metadata": {},
   "source": [
    "### Création d'un DataFrame de visualisation + une matrice :"
   ]
  },
  {
   "cell_type": "code",
   "execution_count": 71,
   "id": "ca2dabcf",
   "metadata": {
    "ExecuteTime": {
     "end_time": "2022-10-17T14:30:49.955002Z",
     "start_time": "2022-10-17T14:30:49.229327Z"
    }
   },
   "outputs": [
    {
     "name": "stdout",
     "output_type": "stream",
     "text": [
      "CPU times: user 711 ms, sys: 7.52 ms, total: 718 ms\n",
      "Wall time: 723 ms\n"
     ]
    }
   ],
   "source": [
    "%%time\n",
    "Data_idf,idf = Tfidf(df_visualisation[\"Corpus\"])"
   ]
  },
  {
   "cell_type": "code",
   "execution_count": 72,
   "id": "5ca6b18d",
   "metadata": {
    "ExecuteTime": {
     "end_time": "2022-10-17T14:30:49.958164Z",
     "start_time": "2022-10-17T14:30:49.956115Z"
    }
   },
   "outputs": [
    {
     "name": "stdout",
     "output_type": "stream",
     "text": [
      "Nombres de questions pour le TF-IDF : 31164\n",
      "Nombres de tags uniques pour le TF-IDF : 396\n"
     ]
    }
   ],
   "source": [
    "print(\"Nombres de questions pour le TF-IDF :\", idf.shape[0])\n",
    "print(\"Nombres de tags uniques pour le TF-IDF :\", idf.shape[1])"
   ]
  },
  {
   "cell_type": "markdown",
   "id": "6cf34f54",
   "metadata": {},
   "source": [
    "#### Visualisation :"
   ]
  },
  {
   "cell_type": "code",
   "execution_count": 73,
   "id": "6d4d37fe",
   "metadata": {
    "ExecuteTime": {
     "end_time": "2022-10-17T14:30:49.965476Z",
     "start_time": "2022-10-17T14:30:49.959112Z"
    }
   },
   "outputs": [
    {
     "data": {
      "text/html": [
       "<div>\n",
       "<style scoped>\n",
       "    .dataframe tbody tr th:only-of-type {\n",
       "        vertical-align: middle;\n",
       "    }\n",
       "\n",
       "    .dataframe tbody tr th {\n",
       "        vertical-align: top;\n",
       "    }\n",
       "\n",
       "    .dataframe thead th {\n",
       "        text-align: right;\n",
       "    }\n",
       "</style>\n",
       "<table border=\"1\" class=\"dataframe\">\n",
       "  <thead>\n",
       "    <tr style=\"text-align: right;\">\n",
       "      <th></th>\n",
       "      <th>Frequency</th>\n",
       "      <th>percent</th>\n",
       "    </tr>\n",
       "  </thead>\n",
       "  <tbody>\n",
       "    <tr>\n",
       "      <th>year</th>\n",
       "      <td>395</td>\n",
       "      <td>0.68</td>\n",
       "    </tr>\n",
       "    <tr>\n",
       "      <th>work</th>\n",
       "      <td>394</td>\n",
       "      <td>0.68</td>\n",
       "    </tr>\n",
       "    <tr>\n",
       "      <th>word</th>\n",
       "      <td>393</td>\n",
       "      <td>0.68</td>\n",
       "    </tr>\n",
       "    <tr>\n",
       "      <th>window</th>\n",
       "      <td>392</td>\n",
       "      <td>0.67</td>\n",
       "    </tr>\n",
       "    <tr>\n",
       "      <th>website</th>\n",
       "      <td>391</td>\n",
       "      <td>0.67</td>\n",
       "    </tr>\n",
       "    <tr>\n",
       "      <th>...</th>\n",
       "      <td>...</td>\n",
       "      <td>...</td>\n",
       "    </tr>\n",
       "    <tr>\n",
       "      <th>location</th>\n",
       "      <td>205</td>\n",
       "      <td>0.35</td>\n",
       "    </tr>\n",
       "    <tr>\n",
       "      <th>load</th>\n",
       "      <td>204</td>\n",
       "      <td>0.35</td>\n",
       "    </tr>\n",
       "    <tr>\n",
       "      <th>list</th>\n",
       "      <td>203</td>\n",
       "      <td>0.35</td>\n",
       "    </tr>\n",
       "    <tr>\n",
       "      <th>link</th>\n",
       "      <td>202</td>\n",
       "      <td>0.35</td>\n",
       "    </tr>\n",
       "    <tr>\n",
       "      <th>line</th>\n",
       "      <td>201</td>\n",
       "      <td>0.35</td>\n",
       "    </tr>\n",
       "  </tbody>\n",
       "</table>\n",
       "<p>195 rows × 2 columns</p>\n",
       "</div>"
      ],
      "text/plain": [
       "          Frequency  percent\n",
       "year            395     0.68\n",
       "work            394     0.68\n",
       "word            393     0.68\n",
       "window          392     0.67\n",
       "website         391     0.67\n",
       "...             ...      ...\n",
       "location        205     0.35\n",
       "load            204     0.35\n",
       "list            203     0.35\n",
       "link            202     0.35\n",
       "line            201     0.35\n",
       "\n",
       "[195 rows x 2 columns]"
      ]
     },
     "execution_count": 73,
     "metadata": {},
     "output_type": "execute_result"
    }
   ],
   "source": [
    "Data_idf"
   ]
  },
  {
   "cell_type": "markdown",
   "id": "1e05b21f",
   "metadata": {},
   "source": [
    "### Vectorisation :"
   ]
  },
  {
   "cell_type": "code",
   "execution_count": 74,
   "id": "4d5e6ce2",
   "metadata": {
    "ExecuteTime": {
     "end_time": "2022-10-17T14:30:50.027840Z",
     "start_time": "2022-10-17T14:30:49.966548Z"
    }
   },
   "outputs": [
    {
     "data": {
      "text/html": [
       "<div>\n",
       "<style scoped>\n",
       "    .dataframe tbody tr th:only-of-type {\n",
       "        vertical-align: middle;\n",
       "    }\n",
       "\n",
       "    .dataframe tbody tr th {\n",
       "        vertical-align: top;\n",
       "    }\n",
       "\n",
       "    .dataframe thead th {\n",
       "        text-align: right;\n",
       "    }\n",
       "</style>\n",
       "<table border=\"1\" class=\"dataframe\">\n",
       "  <thead>\n",
       "    <tr style=\"text-align: right;\">\n",
       "      <th></th>\n",
       "      <th>access</th>\n",
       "      <th>account</th>\n",
       "      <th>action</th>\n",
       "      <th>add</th>\n",
       "      <th>address</th>\n",
       "      <th>advance</th>\n",
       "      <th>advice</th>\n",
       "      <th>algorithm</th>\n",
       "      <th>amount</th>\n",
       "      <th>android</th>\n",
       "      <th>...</th>\n",
       "      <th>version</th>\n",
       "      <th>video</th>\n",
       "      <th>view</th>\n",
       "      <th>way</th>\n",
       "      <th>web</th>\n",
       "      <th>website</th>\n",
       "      <th>window</th>\n",
       "      <th>word</th>\n",
       "      <th>work</th>\n",
       "      <th>year</th>\n",
       "    </tr>\n",
       "  </thead>\n",
       "  <tbody>\n",
       "    <tr>\n",
       "      <th>0</th>\n",
       "      <td>0.0</td>\n",
       "      <td>0.0</td>\n",
       "      <td>0.0</td>\n",
       "      <td>0.0</td>\n",
       "      <td>0.0</td>\n",
       "      <td>0.0</td>\n",
       "      <td>0.0</td>\n",
       "      <td>0.0</td>\n",
       "      <td>0.0</td>\n",
       "      <td>0.0</td>\n",
       "      <td>...</td>\n",
       "      <td>0.0</td>\n",
       "      <td>0.0</td>\n",
       "      <td>0.0</td>\n",
       "      <td>0.00000</td>\n",
       "      <td>0.0</td>\n",
       "      <td>0.0</td>\n",
       "      <td>0.0</td>\n",
       "      <td>0.0</td>\n",
       "      <td>0.000000</td>\n",
       "      <td>0.0</td>\n",
       "    </tr>\n",
       "    <tr>\n",
       "      <th>1</th>\n",
       "      <td>0.0</td>\n",
       "      <td>0.0</td>\n",
       "      <td>0.0</td>\n",
       "      <td>0.0</td>\n",
       "      <td>0.0</td>\n",
       "      <td>0.0</td>\n",
       "      <td>0.0</td>\n",
       "      <td>0.0</td>\n",
       "      <td>0.0</td>\n",
       "      <td>0.0</td>\n",
       "      <td>...</td>\n",
       "      <td>0.0</td>\n",
       "      <td>0.0</td>\n",
       "      <td>0.0</td>\n",
       "      <td>0.16853</td>\n",
       "      <td>0.0</td>\n",
       "      <td>0.0</td>\n",
       "      <td>0.0</td>\n",
       "      <td>0.0</td>\n",
       "      <td>0.000000</td>\n",
       "      <td>0.0</td>\n",
       "    </tr>\n",
       "    <tr>\n",
       "      <th>2</th>\n",
       "      <td>0.0</td>\n",
       "      <td>0.0</td>\n",
       "      <td>0.0</td>\n",
       "      <td>0.0</td>\n",
       "      <td>0.0</td>\n",
       "      <td>0.0</td>\n",
       "      <td>0.0</td>\n",
       "      <td>0.0</td>\n",
       "      <td>0.0</td>\n",
       "      <td>0.0</td>\n",
       "      <td>...</td>\n",
       "      <td>0.0</td>\n",
       "      <td>0.0</td>\n",
       "      <td>0.0</td>\n",
       "      <td>0.00000</td>\n",
       "      <td>0.0</td>\n",
       "      <td>0.0</td>\n",
       "      <td>0.0</td>\n",
       "      <td>0.0</td>\n",
       "      <td>0.000000</td>\n",
       "      <td>0.0</td>\n",
       "    </tr>\n",
       "    <tr>\n",
       "      <th>3</th>\n",
       "      <td>0.0</td>\n",
       "      <td>0.0</td>\n",
       "      <td>0.0</td>\n",
       "      <td>0.0</td>\n",
       "      <td>0.0</td>\n",
       "      <td>0.0</td>\n",
       "      <td>0.0</td>\n",
       "      <td>0.0</td>\n",
       "      <td>0.0</td>\n",
       "      <td>0.0</td>\n",
       "      <td>...</td>\n",
       "      <td>0.0</td>\n",
       "      <td>0.0</td>\n",
       "      <td>0.0</td>\n",
       "      <td>0.00000</td>\n",
       "      <td>0.0</td>\n",
       "      <td>0.0</td>\n",
       "      <td>0.0</td>\n",
       "      <td>0.0</td>\n",
       "      <td>0.232541</td>\n",
       "      <td>0.0</td>\n",
       "    </tr>\n",
       "    <tr>\n",
       "      <th>4</th>\n",
       "      <td>0.0</td>\n",
       "      <td>0.0</td>\n",
       "      <td>0.0</td>\n",
       "      <td>0.0</td>\n",
       "      <td>0.0</td>\n",
       "      <td>0.0</td>\n",
       "      <td>0.0</td>\n",
       "      <td>0.0</td>\n",
       "      <td>0.0</td>\n",
       "      <td>0.0</td>\n",
       "      <td>...</td>\n",
       "      <td>0.0</td>\n",
       "      <td>0.0</td>\n",
       "      <td>0.0</td>\n",
       "      <td>0.00000</td>\n",
       "      <td>0.0</td>\n",
       "      <td>0.0</td>\n",
       "      <td>0.0</td>\n",
       "      <td>0.0</td>\n",
       "      <td>0.000000</td>\n",
       "      <td>0.0</td>\n",
       "    </tr>\n",
       "  </tbody>\n",
       "</table>\n",
       "<p>5 rows × 396 columns</p>\n",
       "</div>"
      ],
      "text/plain": [
       "   access  account  action  add  address  advance  advice  algorithm  amount  \\\n",
       "0     0.0      0.0     0.0  0.0      0.0      0.0     0.0        0.0     0.0   \n",
       "1     0.0      0.0     0.0  0.0      0.0      0.0     0.0        0.0     0.0   \n",
       "2     0.0      0.0     0.0  0.0      0.0      0.0     0.0        0.0     0.0   \n",
       "3     0.0      0.0     0.0  0.0      0.0      0.0     0.0        0.0     0.0   \n",
       "4     0.0      0.0     0.0  0.0      0.0      0.0     0.0        0.0     0.0   \n",
       "\n",
       "   android  ...  version  video  view      way  web  website  window  word  \\\n",
       "0      0.0  ...      0.0    0.0   0.0  0.00000  0.0      0.0     0.0   0.0   \n",
       "1      0.0  ...      0.0    0.0   0.0  0.16853  0.0      0.0     0.0   0.0   \n",
       "2      0.0  ...      0.0    0.0   0.0  0.00000  0.0      0.0     0.0   0.0   \n",
       "3      0.0  ...      0.0    0.0   0.0  0.00000  0.0      0.0     0.0   0.0   \n",
       "4      0.0  ...      0.0    0.0   0.0  0.00000  0.0      0.0     0.0   0.0   \n",
       "\n",
       "       work  year  \n",
       "0  0.000000   0.0  \n",
       "1  0.000000   0.0  \n",
       "2  0.000000   0.0  \n",
       "3  0.232541   0.0  \n",
       "4  0.000000   0.0  \n",
       "\n",
       "[5 rows x 396 columns]"
      ]
     },
     "execution_count": 74,
     "metadata": {},
     "output_type": "execute_result"
    }
   ],
   "source": [
    "tfidf = TfidfTransformer()\n",
    "data_tfidf = tfidf.fit_transform(bow)\n",
    "data_tfidf_vec = pd.DataFrame(data_tfidf.toarray(), columns=cv.get_feature_names_out())\n",
    "data_tfidf_vec.index = df_final.index\n",
    "data_tfidf_vec.head()"
   ]
  },
  {
   "cell_type": "code",
   "execution_count": 75,
   "id": "c0928d92",
   "metadata": {
    "ExecuteTime": {
     "end_time": "2022-10-17T14:30:50.084588Z",
     "start_time": "2022-10-17T14:30:50.030618Z"
    }
   },
   "outputs": [
    {
     "name": "stdout",
     "output_type": "stream",
     "text": [
      "Sparsicity:  \u001b[1m2.29\u001b[0m %\n",
      "CPU times: user 20.4 ms, sys: 26.6 ms, total: 47 ms\n",
      "Wall time: 51.1 ms\n"
     ]
    }
   ],
   "source": [
    "%%time\n",
    "score_Sparsicity_tfidf = data_tfidf.todense()\n",
    "print(\"Sparsicity: \", '\\033[1m'+ str((((score_Sparsicity_tfidf > 0).sum()/score_Sparsicity_tfidf.size)*100).round(2)) + '\\033[0m' , \"%\")"
   ]
  },
  {
   "cell_type": "markdown",
   "id": "d148fb55",
   "metadata": {},
   "source": [
    "On a donc 4.05% de données avec un 0 dans notre tf-idf."
   ]
  },
  {
   "cell_type": "markdown",
   "id": "f2555e68",
   "metadata": {},
   "source": [
    "## ACP :"
   ]
  },
  {
   "cell_type": "code",
   "execution_count": 76,
   "id": "e2b13e8c",
   "metadata": {
    "ExecuteTime": {
     "end_time": "2022-10-17T14:30:50.089556Z",
     "start_time": "2022-10-17T14:30:50.086114Z"
    }
   },
   "outputs": [],
   "source": [
    "from sklearn.decomposition import PCA\n",
    "from sklearn.preprocessing import scale\n",
    "from sklearn.preprocessing import StandardScaler # classe pour standardisation\n",
    "from sklearn import preprocessing\n",
    "from sklearn import decomposition\n",
    "import matplotlib.pyplot as plt"
   ]
  },
  {
   "cell_type": "markdown",
   "id": "1b0d2b89",
   "metadata": {},
   "source": [
    "Le code provient d'un cours d'OpenClassrooms."
   ]
  },
  {
   "cell_type": "code",
   "execution_count": 77,
   "id": "d82647db",
   "metadata": {
    "ExecuteTime": {
     "end_time": "2022-10-17T14:30:50.527044Z",
     "start_time": "2022-10-17T14:30:50.091488Z"
    }
   },
   "outputs": [
    {
     "name": "stdout",
     "output_type": "stream",
     "text": [
      "CPU times: user 390 ms, sys: 5.43 ms, total: 395 ms\n",
      "Wall time: 433 ms\n"
     ]
    }
   ],
   "source": [
    "%%time\n",
    "vectorizer = TfidfVectorizer(min_df = 200)\n",
    "X = vectorizer.fit_transform(df_visualisation[\"Corpus\"])"
   ]
  },
  {
   "cell_type": "code",
   "execution_count": 78,
   "id": "b9f6c63a",
   "metadata": {
    "ExecuteTime": {
     "end_time": "2022-10-17T14:30:50.542448Z",
     "start_time": "2022-10-17T14:30:50.528460Z"
    }
   },
   "outputs": [],
   "source": [
    "from matplotlib.collections import LineCollection\n",
    "\n",
    "def display_circles(pcs, n_comp, pca, axis_ranks, labels=None, label_rotation=0, lims=None):\n",
    "    \"\"\"Display correlation circles, one for each factorial plane\"\"\"\n",
    "\n",
    "    # For each factorial plane\n",
    "    for d1, d2 in axis_ranks: \n",
    "        if d2 < n_comp:\n",
    "\n",
    "            # Initialise the matplotlib figure\n",
    "            fig, ax = plt.subplots(figsize=(10,10))\n",
    "\n",
    "            # Determine the limits of the chart\n",
    "            if lims is not None :\n",
    "                xmin, xmax, ymin, ymax = lims\n",
    "            elif pcs.shape[1] < 30 :\n",
    "                xmin, xmax, ymin, ymax = -1, 1, -1, 1\n",
    "            else :\n",
    "                xmin, xmax, ymin, ymax = min(pcs[d1,:]), max(pcs[d1,:]), min(pcs[d2,:]), max(pcs[d2,:])\n",
    "\n",
    "            # Add arrows\n",
    "            # If there are more than 30 arrows, we do not display the triangle at the end\n",
    "            if pcs.shape[1] < 30 :\n",
    "                plt.quiver(np.zeros(pcs.shape[1]), np.zeros(pcs.shape[1]),\n",
    "                   pcs[d1,:], pcs[d2,:], \n",
    "                   angles='xy', scale_units='xy', scale=1, color=\"grey\")\n",
    "                # (see the doc : https://matplotlib.org/api/_as_gen/matplotlib.pyplot.quiver.html)\n",
    "            else:\n",
    "                lines = [[[0,0],[x,y]] for x,y in pcs[[d1,d2]].T]\n",
    "                ax.add_collection(LineCollection(lines, axes=ax, alpha=.1, color='black'))\n",
    "            \n",
    "            # Display variable names\n",
    "            if labels is not None:  \n",
    "                for i,(x, y) in enumerate(pcs[[d1,d2]].T):\n",
    "                    if x >= xmin and x <= xmax and y >= ymin and y <= ymax :\n",
    "                        plt.text(x, y, labels[i], fontsize='14', ha='center', va='center', rotation=label_rotation, color=\"blue\", alpha=0.5)\n",
    "            \n",
    "            # Display circle\n",
    "            circle = plt.Circle((0,0), 1, facecolor='none', edgecolor='b')\n",
    "            plt.gca().add_artist(circle)\n",
    "\n",
    "            # Define the limits of the chart\n",
    "            plt.xlim(xmin, xmax)\n",
    "            plt.ylim(ymin, ymax)\n",
    "        \n",
    "            # Display grid lines\n",
    "            plt.plot([-1, 1], [0, 0], color='grey', ls='--')\n",
    "            plt.plot([0, 0], [-1, 1], color='grey', ls='--')\n",
    "\n",
    "            # Label the axes, with the percentage of variance explained\n",
    "            plt.xlabel('PC{} ({}%)'.format(d1+1, round(100*pca.explained_variance_ratio_[d1],1)))\n",
    "            plt.ylabel('PC{} ({}%)'.format(d2+1, round(100*pca.explained_variance_ratio_[d2],1)))\n",
    "\n",
    "            plt.title(\"Correlation Circle (PC{} and PC{})\".format(d1+1, d2+1))\n",
    "            plt.show(block=False)\n",
    "        \n",
    "def display_factorial_planes(X_projected, n_comp, pca, axis_ranks, labels=None, alpha=1, illustrative_var=None):\n",
    "    '''Display a scatter plot on a factorial plane, one for each factorial plane'''\n",
    "\n",
    "    # For each factorial plane\n",
    "    for d1,d2 in axis_ranks:\n",
    "        if d2 < n_comp:\n",
    " \n",
    "            # Initialise the matplotlib figure      \n",
    "            fig = plt.figure(figsize=(7,6))\n",
    "        \n",
    "            # Display the points\n",
    "            if illustrative_var is None:\n",
    "                plt.scatter(X_projected[:, d1], X_projected[:, d2], alpha=alpha)\n",
    "            else:\n",
    "                illustrative_var = np.array(illustrative_var)\n",
    "                for value in np.unique(illustrative_var):\n",
    "                    selected = np.where(illustrative_var == value)\n",
    "                    plt.scatter(X_projected[selected, d1], X_projected[selected, d2], alpha=alpha, label=value)\n",
    "                plt.legend()\n",
    "\n",
    "            # Display the labels on the points\n",
    "            if labels is not None:\n",
    "                for i,(x,y) in enumerate(X_projected[:,[d1,d2]]):\n",
    "                    plt.text(x, y, labels[i],\n",
    "                              fontsize='14', ha='center',va='center') \n",
    "                \n",
    "            # Define the limits of the chart\n",
    "            boundary = np.max(np.abs(X_projected[:, [d1,d2]])) * 1.1\n",
    "            plt.xlim([-boundary,boundary])\n",
    "            plt.ylim([-boundary,boundary])\n",
    "        \n",
    "            # Display grid lines\n",
    "            plt.plot([-100, 100], [0, 0], color='grey', ls='--')\n",
    "            plt.plot([0, 0], [-100, 100], color='grey', ls='--')\n",
    "\n",
    "            # Label the axes, with the percentage of variance explained\n",
    "            plt.xlabel('PC{} ({}%)'.format(d1+1, round(100*pca.explained_variance_ratio_[d1],1)))\n",
    "            plt.ylabel('PC{} ({}%)'.format(d2+1, round(100*pca.explained_variance_ratio_[d2],1)))\n",
    "\n",
    "            plt.title(\"Projection of points (on PC{} and PC{})\".format(d1+1, d2+1))\n",
    "            #plt.show(block=False)\n",
    "   \n",
    "def display_scree_plot(pca):\n",
    "    '''Display a scree plot for the pca'''\n",
    "\n",
    "    scree = pca.explained_variance_ratio_*100\n",
    "    plt.bar(np.arange(len(scree))+1, scree)\n",
    "    plt.plot(np.arange(len(scree))+1, scree.cumsum(),c=\"red\",marker='o')\n",
    "    plt.xlabel(\"Number of principal components\")\n",
    "    plt.ylabel(\"Percentage explained variance\")\n",
    "    plt.title(\"Scree plot\")\n",
    "    plt.show(block=False)"
   ]
  },
  {
   "cell_type": "code",
   "execution_count": 79,
   "id": "7915de92",
   "metadata": {
    "ExecuteTime": {
     "end_time": "2022-10-17T14:30:50.545961Z",
     "start_time": "2022-10-17T14:30:50.543564Z"
    }
   },
   "outputs": [],
   "source": [
    "from sklearn.decomposition import PCA\n",
    "from sklearn.preprocessing import StandardScaler"
   ]
  },
  {
   "cell_type": "code",
   "execution_count": 80,
   "id": "154d071f",
   "metadata": {
    "ExecuteTime": {
     "end_time": "2022-10-17T14:30:54.304691Z",
     "start_time": "2022-10-17T14:30:50.547280Z"
    }
   },
   "outputs": [],
   "source": [
    "# constitution du dataset pour l'ACP\n",
    "df_acp = pd.DataFrame(data = X.toarray(),  \n",
    "                      columns = list(vectorizer.get_feature_names_out()))\n",
    "\n",
    "n_comp = 200\n",
    "scaler = StandardScaler()\n",
    "pca = PCA(n_components=n_comp)\n",
    "\n",
    "X = df_acp.values\n",
    "features = df_acp.columns\n",
    "X_scaled = scaler.fit_transform(X)\n",
    "pca_components = pca.fit_transform(X_scaled)\n",
    "pcs = pca.components_"
   ]
  },
  {
   "cell_type": "code",
   "execution_count": 81,
   "id": "7be1e6ad",
   "metadata": {
    "ExecuteTime": {
     "end_time": "2022-10-17T14:30:57.608679Z",
     "start_time": "2022-10-17T14:30:54.322850Z"
    }
   },
   "outputs": [
    {
     "name": "stdout",
     "output_type": "stream",
     "text": [
      "CPU times: user 12.8 s, sys: 5.25 s, total: 18 s\n",
      "Wall time: 3.28 s\n"
     ]
    },
    {
     "data": {
      "text/html": [
       "<style>#sk-container-id-1 {color: black;background-color: white;}#sk-container-id-1 pre{padding: 0;}#sk-container-id-1 div.sk-toggleable {background-color: white;}#sk-container-id-1 label.sk-toggleable__label {cursor: pointer;display: block;width: 100%;margin-bottom: 0;padding: 0.3em;box-sizing: border-box;text-align: center;}#sk-container-id-1 label.sk-toggleable__label-arrow:before {content: \"▸\";float: left;margin-right: 0.25em;color: #696969;}#sk-container-id-1 label.sk-toggleable__label-arrow:hover:before {color: black;}#sk-container-id-1 div.sk-estimator:hover label.sk-toggleable__label-arrow:before {color: black;}#sk-container-id-1 div.sk-toggleable__content {max-height: 0;max-width: 0;overflow: hidden;text-align: left;background-color: #f0f8ff;}#sk-container-id-1 div.sk-toggleable__content pre {margin: 0.2em;color: black;border-radius: 0.25em;background-color: #f0f8ff;}#sk-container-id-1 input.sk-toggleable__control:checked~div.sk-toggleable__content {max-height: 200px;max-width: 100%;overflow: auto;}#sk-container-id-1 input.sk-toggleable__control:checked~label.sk-toggleable__label-arrow:before {content: \"▾\";}#sk-container-id-1 div.sk-estimator input.sk-toggleable__control:checked~label.sk-toggleable__label {background-color: #d4ebff;}#sk-container-id-1 div.sk-label input.sk-toggleable__control:checked~label.sk-toggleable__label {background-color: #d4ebff;}#sk-container-id-1 input.sk-hidden--visually {border: 0;clip: rect(1px 1px 1px 1px);clip: rect(1px, 1px, 1px, 1px);height: 1px;margin: -1px;overflow: hidden;padding: 0;position: absolute;width: 1px;}#sk-container-id-1 div.sk-estimator {font-family: monospace;background-color: #f0f8ff;border: 1px dotted black;border-radius: 0.25em;box-sizing: border-box;margin-bottom: 0.5em;}#sk-container-id-1 div.sk-estimator:hover {background-color: #d4ebff;}#sk-container-id-1 div.sk-parallel-item::after {content: \"\";width: 100%;border-bottom: 1px solid gray;flex-grow: 1;}#sk-container-id-1 div.sk-label:hover label.sk-toggleable__label {background-color: #d4ebff;}#sk-container-id-1 div.sk-serial::before {content: \"\";position: absolute;border-left: 1px solid gray;box-sizing: border-box;top: 0;bottom: 0;left: 50%;z-index: 0;}#sk-container-id-1 div.sk-serial {display: flex;flex-direction: column;align-items: center;background-color: white;padding-right: 0.2em;padding-left: 0.2em;position: relative;}#sk-container-id-1 div.sk-item {position: relative;z-index: 1;}#sk-container-id-1 div.sk-parallel {display: flex;align-items: stretch;justify-content: center;background-color: white;position: relative;}#sk-container-id-1 div.sk-item::before, #sk-container-id-1 div.sk-parallel-item::before {content: \"\";position: absolute;border-left: 1px solid gray;box-sizing: border-box;top: 0;bottom: 0;left: 50%;z-index: -1;}#sk-container-id-1 div.sk-parallel-item {display: flex;flex-direction: column;z-index: 1;position: relative;background-color: white;}#sk-container-id-1 div.sk-parallel-item:first-child::after {align-self: flex-end;width: 50%;}#sk-container-id-1 div.sk-parallel-item:last-child::after {align-self: flex-start;width: 50%;}#sk-container-id-1 div.sk-parallel-item:only-child::after {width: 0;}#sk-container-id-1 div.sk-dashed-wrapped {border: 1px dashed gray;margin: 0 0.4em 0.5em 0.4em;box-sizing: border-box;padding-bottom: 0.4em;background-color: white;}#sk-container-id-1 div.sk-label label {font-family: monospace;font-weight: bold;display: inline-block;line-height: 1.2em;}#sk-container-id-1 div.sk-label-container {text-align: center;}#sk-container-id-1 div.sk-container {/* jupyter's `normalize.less` sets `[hidden] { display: none; }` but bootstrap.min.css set `[hidden] { display: none !important; }` so we also need the `!important` here to be able to override the default hidden behavior on the sphinx rendered scikit-learn.org. See: https://github.com/scikit-learn/scikit-learn/issues/21755 */display: inline-block !important;position: relative;}#sk-container-id-1 div.sk-text-repr-fallback {display: none;}</style><div id=\"sk-container-id-1\" class=\"sk-top-container\"><div class=\"sk-text-repr-fallback\"><pre>PCA(n_components=200)</pre><b>In a Jupyter environment, please rerun this cell to show the HTML representation or trust the notebook. <br />On GitHub, the HTML representation is unable to render, please try loading this page with nbviewer.org.</b></div><div class=\"sk-container\" hidden><div class=\"sk-item\"><div class=\"sk-estimator sk-toggleable\"><input class=\"sk-toggleable__control sk-hidden--visually\" id=\"sk-estimator-id-1\" type=\"checkbox\" checked><label for=\"sk-estimator-id-1\" class=\"sk-toggleable__label sk-toggleable__label-arrow\">PCA</label><div class=\"sk-toggleable__content\"><pre>PCA(n_components=200)</pre></div></div></div></div></div>"
      ],
      "text/plain": [
       "PCA(n_components=200)"
      ]
     },
     "execution_count": 81,
     "metadata": {},
     "output_type": "execute_result"
    }
   ],
   "source": [
    "%%time\n",
    "PCA_decomposition = decomposition.PCA(n_components = 200)\n",
    "PCA_decomposition.fit(X_scaled)"
   ]
  },
  {
   "cell_type": "code",
   "execution_count": 82,
   "id": "7dc8ec6f",
   "metadata": {
    "ExecuteTime": {
     "end_time": "2022-10-17T14:30:57.613448Z",
     "start_time": "2022-10-17T14:30:57.609759Z"
    }
   },
   "outputs": [
    {
     "name": "stdout",
     "output_type": "stream",
     "text": [
      "\u001b[1mLe pourcentage de variance expliqué pour 200 composantes est de :\u001b[0m\n",
      "\n",
      "[0.690963   0.50965695 0.49555935 0.47207704 0.44168005 0.41838897\n",
      " 0.40681733 0.39465698 0.3915285  0.37727875 0.36524566 0.362579\n",
      " 0.3602401  0.35485681 0.34868673 0.3457375  0.3411778  0.33753099\n",
      " 0.33437181 0.33146979 0.32947917 0.32895821 0.32706009 0.3249439\n",
      " 0.32194417 0.31777427 0.31532601 0.31389064 0.31232529 0.31116153\n",
      " 0.30917987 0.30764498 0.3060171  0.3052524  0.30268575 0.30221756\n",
      " 0.30070039 0.29929657 0.29837396 0.29719465 0.29679434 0.29448982\n",
      " 0.29354559 0.29343901 0.29262751 0.29195218 0.29101411 0.28958789\n",
      " 0.28917354 0.28887469 0.2883765  0.28763243 0.28706368 0.28637424\n",
      " 0.28603456 0.2854044  0.28396195 0.28359604 0.2829778  0.28245602\n",
      " 0.28201763 0.28103197 0.28086476 0.28006081 0.27987393 0.27957509\n",
      " 0.27841901 0.2779449  0.27784774 0.2775323  0.27666325 0.27610314\n",
      " 0.2755538  0.27506422 0.27424904 0.27399191 0.27327553 0.27311487\n",
      " 0.27250521 0.27239143 0.27156884 0.27126403 0.27112119 0.27059518\n",
      " 0.2703909  0.2700091  0.26959093 0.26899047 0.26874976 0.26831387\n",
      " 0.26816268 0.26796282 0.26665508 0.26631762 0.26611455 0.26519852\n",
      " 0.26509132 0.26458223 0.26434365 0.26411677 0.26362822 0.26302075\n",
      " 0.26281869 0.26244864 0.26228482 0.2617557  0.26080266 0.26030934\n",
      " 0.2598045  0.25960843 0.25929354 0.25871734 0.25855643 0.25824686\n",
      " 0.25757028 0.25721889 0.25704829 0.25677283 0.25634964 0.25605117\n",
      " 0.25578243 0.25528539 0.2549901  0.25471349 0.25433501 0.25407412\n",
      " 0.25366205 0.25337907 0.25284057 0.25264851 0.25224205 0.25188439\n",
      " 0.25126908 0.25099571 0.25022864 0.2500458  0.24985522 0.24969046\n",
      " 0.24906839 0.24904269 0.24842261 0.24812349 0.24762647 0.24734897\n",
      " 0.24707969 0.24658828 0.24639659 0.24583589 0.24570246 0.24535535\n",
      " 0.24468679 0.24444197 0.2443511  0.24417756 0.24399334 0.24328595\n",
      " 0.24310117 0.24283528 0.24222379 0.24178334 0.24140796 0.2412703\n",
      " 0.24079294 0.24037863 0.24006147 0.23950819 0.23907038 0.23877706\n",
      " 0.23817999 0.2379784  0.23783469 0.23739053 0.23717176 0.23666789\n",
      " 0.23606817 0.23581515 0.23497416 0.23459863 0.23429672 0.2337925\n",
      " 0.23352517 0.23299148 0.23274296 0.23230993 0.23219542 0.23145293\n",
      " 0.23109087 0.23087581 0.23017024 0.22996975 0.22920385 0.22865313\n",
      " 0.22813836 0.2278882  0.22742921 0.22724004 0.22635466 0.22625267\n",
      " 0.22597074 0.22508313]\n",
      "\n",
      "Le pourcentage de variance expliqué cumulé pour 200 composantes est de : \u001b[1m55.47\u001b[0m %\n"
     ]
    }
   ],
   "source": [
    "print('\\033[1m'+ 'Le pourcentage de variance expliqué pour 200 composantes est de :' + '\\033[0m')\n",
    "print('')\n",
    "print((PCA_decomposition.explained_variance_ratio_)*100)\n",
    "print('')\n",
    "print(f\"Le pourcentage de variance expliqué cumulé pour 200 composantes est de :\", '\\033[1m'+ str(round((PCA_decomposition.explained_variance_ratio_.sum())*100,2)) +'\\033[0m', '%')"
   ]
  },
  {
   "cell_type": "markdown",
   "id": "8c2df1dd",
   "metadata": {},
   "source": [
    "### Visualisation des dimensions :"
   ]
  },
  {
   "cell_type": "code",
   "execution_count": 83,
   "id": "13f5907b",
   "metadata": {
    "ExecuteTime": {
     "end_time": "2022-10-17T14:30:57.868635Z",
     "start_time": "2022-10-17T14:30:57.614466Z"
    }
   },
   "outputs": [
    {
     "data": {
      "image/png": "[encoded data removed]",
      "text/plain": [
       "<Figure size 864x864 with 1 Axes>"
      ]
     },
     "metadata": {},
     "output_type": "display_data"
    }
   ],
   "source": [
    "plt.figure(figsize=(12, 12))\n",
    "display_scree_plot(pca)"
   ]
  },
  {
   "cell_type": "markdown",
   "id": "6a687088",
   "metadata": {},
   "source": [
    "On peut voir qu'au fur et à mesure cela réduit, mais que le pourcentage de variance expliquée est relativement faible.."
   ]
  },
  {
   "cell_type": "markdown",
   "id": "7970797e",
   "metadata": {},
   "source": [
    "### Cercle de corrélation :"
   ]
  },
  {
   "cell_type": "code",
   "execution_count": 84,
   "id": "c29526ae",
   "metadata": {
    "ExecuteTime": {
     "end_time": "2022-10-17T14:30:58.565043Z",
     "start_time": "2022-10-17T14:30:57.871443Z"
    }
   },
   "outputs": [
    {
     "data": {
      "text/plain": [
       "<Figure size 1440x1440 with 0 Axes>"
      ]
     },
     "metadata": {},
     "output_type": "display_data"
    },
    {
     "data": {
      "image/png": "[encoded data removed]",
      "text/plain": [
       "<Figure size 720x720 with 1 Axes>"
      ]
     },
     "metadata": {},
     "output_type": "display_data"
    }
   ],
   "source": [
    "plt.figure(figsize=(20, 20))\n",
    "display_circles(pcs, n_comp, pca, [(0,1)], labels = np.array(features))"
   ]
  },
  {
   "cell_type": "markdown",
   "id": "ef89d43c",
   "metadata": {},
   "source": [
    "### Vectorisation de la PC1 et PC2 :"
   ]
  },
  {
   "cell_type": "code",
   "execution_count": 85,
   "id": "76c344b9",
   "metadata": {
    "ExecuteTime": {
     "end_time": "2022-10-17T14:30:58.753270Z",
     "start_time": "2022-10-17T14:30:58.565998Z"
    }
   },
   "outputs": [
    {
     "data": {
      "text/plain": [
       "<Figure size 2160x2160 with 0 Axes>"
      ]
     },
     "metadata": {},
     "output_type": "display_data"
    },
    {
     "data": {
      "image/png": "[encoded data removed]",
      "text/plain": [
       "<Figure size 504x432 with 1 Axes>"
      ]
     },
     "metadata": {},
     "output_type": "display_data"
    }
   ],
   "source": [
    "X_projected = pca.transform(X_scaled) \n",
    "\n",
    "plt.figure(figsize=(30, 30))\n",
    "display_factorial_planes(X_projected, n_comp, pca, [(0,1)], alpha = 0.1)\n",
    "plt.show()"
   ]
  },
  {
   "cell_type": "markdown",
   "id": "3f789a04",
   "metadata": {},
   "source": [
    "On peut voir ici que la PCA n'est pas pertinente, de ce fait on ne retiendra pas l'acp."
   ]
  },
  {
   "cell_type": "markdown",
   "id": "393002b9",
   "metadata": {},
   "source": [
    "## LDA :"
   ]
  },
  {
   "cell_type": "markdown",
   "id": "8fefccb4",
   "metadata": {},
   "source": [
    "Hypothése de la LDA à confirmer :\n",
    "\n",
    "    - Chaque document du corpus est un ensemble de mots sans ordre (bag-of-words)\n",
    "    \n",
    "    - Chaque document n'aborde un certain nombre de thèmes dans différentes proportions qui lui sont propres p(θm)\n",
    "\n",
    "    - Chaque mot possède une distribution associée à chaque thème p(ϕk)\n",
    "    \n",
    "    - Zn représente le thème du mot Wn\n"
   ]
  },
  {
   "cell_type": "code",
   "execution_count": 86,
   "id": "c4a700d3",
   "metadata": {
    "ExecuteTime": {
     "end_time": "2022-10-17T14:30:58.758161Z",
     "start_time": "2022-10-17T14:30:58.754834Z"
    }
   },
   "outputs": [],
   "source": [
    "from sklearn.decomposition import LatentDirichletAllocation\n",
    "from sklearn.model_selection import GridSearchCV"
   ]
  },
  {
   "cell_type": "markdown",
   "id": "3f950e57",
   "metadata": {},
   "source": [
    "### lda opti pour le BOW :"
   ]
  },
  {
   "cell_type": "code",
   "execution_count": 87,
   "id": "73ed65c1",
   "metadata": {
    "ExecuteTime": {
     "end_time": "2022-10-17T14:30:58.762774Z",
     "start_time": "2022-10-17T14:30:58.759325Z"
    }
   },
   "outputs": [
    {
     "data": {
      "text/plain": [
       "'def lda_opti (texts) :\\n\\n    score = []\\n    perplexity = []\\n    N = [5, 6, 7, 8, 9, 10, 11, 12, 15, 18, 20, 30]\\n    \\n    for n_comp in N :\\n        \\n        lda_model = LatentDirichletAllocation(random_state=0, n_components= n_comp, verbose = 2) # no random\\n        lda_fit = lda_model.fit(texts)\\n        lda_output = lda_fit.transform(texts)\\n        lda_score =  lda_fit.score(texts)\\n        score.append(lda_score)\\n        #print(\"Le score de cohérence est de :\", score)\\n        lda_perplexity =lda_fit.perplexity(texts)\\n        perplexity.append(lda_perplexity)\\n        #print(\"Le score de perplexité est de :\", perplexity)\\n\\n    return(score, perplexity)'"
      ]
     },
     "execution_count": 87,
     "metadata": {},
     "output_type": "execute_result"
    }
   ],
   "source": [
    "\"\"\"def lda_opti (texts) :\n",
    "\n",
    "    score = []\n",
    "    perplexity = []\n",
    "    N = [5, 6, 7, 8, 9, 10, 11, 12, 15, 18, 20, 30]\n",
    "    \n",
    "    for n_comp in N :\n",
    "        \n",
    "        lda_model = LatentDirichletAllocation(random_state=0, n_components= n_comp, verbose = 2) # no random\n",
    "        lda_fit = lda_model.fit(texts)\n",
    "        lda_output = lda_fit.transform(texts)\n",
    "        lda_score =  lda_fit.score(texts)\n",
    "        score.append(lda_score)\n",
    "        #print(\"Le score de cohérence est de :\", score)\n",
    "        lda_perplexity =lda_fit.perplexity(texts)\n",
    "        perplexity.append(lda_perplexity)\n",
    "        #print(\"Le score de perplexité est de :\", perplexity)\n",
    "\n",
    "    return(score, perplexity)\"\"\""
   ]
  },
  {
   "cell_type": "code",
   "execution_count": 88,
   "id": "b553a627",
   "metadata": {
    "ExecuteTime": {
     "end_time": "2022-10-17T14:30:58.767364Z",
     "start_time": "2022-10-17T14:30:58.763884Z"
    }
   },
   "outputs": [
    {
     "data": {
      "text/plain": [
       "\"def lda_opti (texts) :\\n\\n    lda_model = LatentDirichletAllocation(random_state=0) # no random\\n    score = []\\n    perplexity = []\\n    \\n    # Hyperparameters :\\n    params = { \\n        'n_components': [5, 6, 7, 8, 9, 10, 11, 12, 15, 18, 20, 30], # number of component\\n        'learning_decay': [0.75, 0.80, 0.85] # learning rate from online method\\n    }\\n\\n    # GridSearchCV :\\n    lda_search = GridSearchCV(lda_model,\\n                              param_grid=params,\\n                              #n_jobs=-1,\\n                              cv=5,\\n                              verbose=2\\n                             )\\n    \\n    \\n    lda_fit = lda_search.fit(texts) # fit data\\n    lda_output = lda_fit.transform(texts) # tranform data\\n    lda_score =  lda_fit.score(texts)\\n    score.append(lda_score)\\n    lda_perplexity =lda_fit.perplexity(texts)\\n    perplexity.append(lda_perplexity)\\n    \\n    return(score, perplexity, lda_output)\""
      ]
     },
     "execution_count": 88,
     "metadata": {},
     "output_type": "execute_result"
    }
   ],
   "source": [
    "\"\"\"def lda_opti (texts) :\n",
    "\n",
    "    lda_model = LatentDirichletAllocation(random_state=0) # no random\n",
    "    score = []\n",
    "    perplexity = []\n",
    "    \n",
    "    # Hyperparameters :\n",
    "    params = { \n",
    "        'n_components': [5, 6, 7, 8, 9, 10, 11, 12, 15, 18, 20, 30], # number of component\n",
    "        'learning_decay': [0.75, 0.80, 0.85] # learning rate from online method\n",
    "    }\n",
    "\n",
    "    # GridSearchCV :\n",
    "    lda_search = GridSearchCV(lda_model,\n",
    "                              param_grid=params,\n",
    "                              #n_jobs=-1,\n",
    "                              cv=5,\n",
    "                              verbose=2\n",
    "                             )\n",
    "    \n",
    "    \n",
    "    lda_fit = lda_search.fit(texts) # fit data\n",
    "    lda_output = lda_fit.transform(texts) # tranform data\n",
    "    lda_score =  lda_fit.score(texts)\n",
    "    score.append(lda_score)\n",
    "    lda_perplexity =lda_fit.perplexity(texts)\n",
    "    perplexity.append(lda_perplexity)\n",
    "    \n",
    "    return(score, perplexity, lda_output)\"\"\"\n",
    "\n",
    "# Une méthode plus rapide a été utilisée."
   ]
  },
  {
   "cell_type": "code",
   "execution_count": 89,
   "id": "50fc2a8c",
   "metadata": {
    "ExecuteTime": {
     "end_time": "2022-10-17T14:30:58.772163Z",
     "start_time": "2022-10-17T14:30:58.768489Z"
    }
   },
   "outputs": [
    {
     "data": {
      "text/plain": [
       "'\\n%%time\\ncoherence_bow, perplexity_bow = lda_opti(bow)\\n\\nimport pickle\\n# Pour stock les données du lda bow :\\npickle.dump(coherence_bow, open(\\'score_bow.pkl\\', \\'wb\\'))\\npickle.dump(perplexity_bow, open(\\'perplexity_bow.pkl\\', \\'wb\\'))\\n# XXX.to_csv(\"P5_bow_lda.csv\", index=False) # Cela permettra d\\'éviter de relancer le lda\\n# Une méthode plus rapide a été utilisée.\\n'"
      ]
     },
     "execution_count": 89,
     "metadata": {},
     "output_type": "execute_result"
    }
   ],
   "source": [
    "\"\"\"\n",
    "%%time\n",
    "coherence_bow, perplexity_bow = lda_opti(bow)\n",
    "\n",
    "import pickle\n",
    "# Pour stock les données du lda bow :\n",
    "pickle.dump(coherence_bow, open('score_bow.pkl', 'wb'))\n",
    "pickle.dump(perplexity_bow, open('perplexity_bow.pkl', 'wb'))\n",
    "# XXX.to_csv(\"P5_bow_lda.csv\", index=False) # Cela permettra d'éviter de relancer le lda\n",
    "# Une méthode plus rapide a été utilisée.\n",
    "\"\"\""
   ]
  },
  {
   "cell_type": "code",
   "execution_count": null,
   "id": "4c9373e6",
   "metadata": {},
   "outputs": [],
   "source": []
  },
  {
   "cell_type": "code",
   "execution_count": 90,
   "id": "35a3c87f",
   "metadata": {
    "ExecuteTime": {
     "end_time": "2022-10-17T14:30:58.777246Z",
     "start_time": "2022-10-17T14:30:58.773458Z"
    }
   },
   "outputs": [
    {
     "data": {
      "text/plain": [
       "'%%time\\n# Define Search Param\\nparams = {\\'n_components\\': [5, 6, 7, 8, 9, 10, 20, 30],\\n          \\'learning_decay\\': [.5, .7, .9]\\n          }\\n\\n# Init the Model\\nlda = LatentDirichletAllocation(random_state=0)\\n\\n# Init Grid Search Class\\nmodel = GridSearchCV(lda,\\n                     param_grid=params,\\n                     cv=5,\\n                     verbose=2,\\n                     n_jobs=-1,\\n                     )\\n\\n# Do the Grid Search\\nmodel.fit(bow)\\nlda_output = model.transform(bow)\\n\\n# Modéle à choisir\\nbest_lda_model = model.best_estimator_\\n\\n# meilleure paramétres :\\nprint(\"Meilleurs paramétres : \", model.best_params_)\\n\\n# Score de cohérence :\\nprint(\"Meilleur Score de cohérence : \", model.best_score_)\\n\\n# Score de perplexité :\\nprint(\"Meilleur score de perplexité : \", best_lda_model.perplexity(bow))\\n\\n# A mettre en commentaire une fois le best parameter trouvé\\n## Wall time: 17min 39s'"
      ]
     },
     "execution_count": 90,
     "metadata": {},
     "output_type": "execute_result"
    }
   ],
   "source": [
    "\"\"\"%%time\n",
    "# Define Search Param\n",
    "params = {'n_components': [5, 6, 7, 8, 9, 10, 20, 30],\n",
    "          'learning_decay': [.5, .7, .9]\n",
    "          }\n",
    "\n",
    "# Init the Model\n",
    "lda = LatentDirichletAllocation(random_state=0)\n",
    "\n",
    "# Init Grid Search Class\n",
    "model = GridSearchCV(lda,\n",
    "                     param_grid=params,\n",
    "                     cv=5,\n",
    "                     verbose=2,\n",
    "                     n_jobs=-1,\n",
    "                     )\n",
    "\n",
    "# Do the Grid Search\n",
    "model.fit(bow)\n",
    "lda_output = model.transform(bow)\n",
    "\n",
    "# Modéle à choisir\n",
    "best_lda_model = model.best_estimator_\n",
    "\n",
    "# meilleure paramétres :\n",
    "print(\"Meilleurs paramétres : \", model.best_params_)\n",
    "\n",
    "# Score de cohérence :\n",
    "print(\"Meilleur Score de cohérence : \", model.best_score_)\n",
    "\n",
    "# Score de perplexité :\n",
    "print(\"Meilleur score de perplexité : \", best_lda_model.perplexity(bow))\n",
    "\n",
    "# A mettre en commentaire une fois le best parameter trouvé\n",
    "## Wall time: 17min 39s\"\"\""
   ]
  },
  {
   "cell_type": "code",
   "execution_count": 91,
   "id": "e971d210",
   "metadata": {
    "ExecuteTime": {
     "end_time": "2022-10-17T14:33:15.713274Z",
     "start_time": "2022-10-17T14:30:58.778434Z"
    }
   },
   "outputs": [
    {
     "name": "stdout",
     "output_type": "stream",
     "text": [
      "Fitting 5 folds for each of 1 candidates, totalling 5 fits\n",
      "Meilleur Score de cohérence :  -447878.67924792337\n",
      "Meilleur score de perplexité :  225.29462153557822\n",
      "CPU times: user 1min 9s, sys: 315 ms, total: 1min 9s\n",
      "Wall time: 2min 16s\n"
     ]
    }
   ],
   "source": [
    "%%time\n",
    "# Define Search Param\n",
    "params = {'n_components': [5],\n",
    "          'learning_decay': [.5]\n",
    "         }\n",
    "\n",
    "# Init the Model\n",
    "lda = LatentDirichletAllocation(random_state=0)\n",
    "\n",
    "# Init Grid Search Class\n",
    "model = GridSearchCV(lda,\n",
    "                     param_grid=params,\n",
    "                     cv=5,\n",
    "                     verbose=2,\n",
    "                     n_jobs=-1,\n",
    "                    )\n",
    "\n",
    "# Do the Grid Search\n",
    "model.fit(bow)\n",
    "lda_output = model.transform(bow)\n",
    "\n",
    "# Modéle à choisir\n",
    "best_lda_model = model.best_estimator_\n",
    "\n",
    "# Score de cohérence :\n",
    "print(\"Meilleur Score de cohérence : \", model.best_score_)\n",
    "\n",
    "# Score de perplexité :\n",
    "print(\"Meilleur score de perplexité : \", best_lda_model.perplexity(bow))"
   ]
  },
  {
   "cell_type": "markdown",
   "id": "a17b35fe",
   "metadata": {},
   "source": [
    "On a confirmation que le nombre de LDA optimal pour le BOW est 6."
   ]
  },
  {
   "cell_type": "markdown",
   "id": "ff661fc1",
   "metadata": {},
   "source": [
    "#### Visualisation : "
   ]
  },
  {
   "cell_type": "code",
   "execution_count": 92,
   "id": "a27d32be",
   "metadata": {
    "ExecuteTime": {
     "end_time": "2022-10-17T14:33:15.718181Z",
     "start_time": "2022-10-17T14:33:15.714829Z"
    }
   },
   "outputs": [
    {
     "data": {
      "text/plain": [
       "'# Get Log Likelyhoods from Grid Search Output\\nn_topics = [5, 6, 7, 8, 9, 10, 20, 30]\\n\\nlog_likelyhoods_5 = [round(model.cv_results_[\\'mean_test_score\\'][index]) for index, gscore in enumerate(\\n    model.cv_results_[\\'params\\']) if gscore[\\'learning_decay\\'] == 0.5]\\n\\n\\nlog_likelyhoods_7 = [round(model.cv_results_[\\'mean_test_score\\'][index]) for index, gscore in enumerate(\\n    model.cv_results_[\\'params\\']) if gscore[\\'learning_decay\\'] == 0.7]\\n\\nlog_likelyhoods_9 = [round(model.cv_results_[\\'mean_test_score\\'][index]) for index, gscore in enumerate(\\n    model.cv_results_[\\'params\\']) if gscore[\\'learning_decay\\'] == 0.9]\\n\\n# Show graph\\nplt.figure(figsize=(12, 8))\\nplt.plot(n_topics, log_likelyhoods_5, label=\\'0.5\\')\\nplt.plot(n_topics, log_likelyhoods_7, label=\\'0.7\\')\\nplt.plot(n_topics, log_likelyhoods_9, label=\\'0.9\\')\\nplt.title(\"Choosing Optimal LDA Model\")\\nplt.xlabel(\"Num Topics\")\\nplt.ylabel(\"Log Likelyhood Scores\")\\nplt.legend(title=\\'Learning decay\\', loc=\\'best\\')\\nplt.show()'"
      ]
     },
     "execution_count": 92,
     "metadata": {},
     "output_type": "execute_result"
    }
   ],
   "source": [
    "\"\"\"# Get Log Likelyhoods from Grid Search Output\n",
    "n_topics = [5, 6, 7, 8, 9, 10, 20, 30]\n",
    "\n",
    "log_likelyhoods_5 = [round(model.cv_results_['mean_test_score'][index]) for index, gscore in enumerate(\n",
    "    model.cv_results_['params']) if gscore['learning_decay'] == 0.5]\n",
    "\n",
    "\n",
    "log_likelyhoods_7 = [round(model.cv_results_['mean_test_score'][index]) for index, gscore in enumerate(\n",
    "    model.cv_results_['params']) if gscore['learning_decay'] == 0.7]\n",
    "\n",
    "log_likelyhoods_9 = [round(model.cv_results_['mean_test_score'][index]) for index, gscore in enumerate(\n",
    "    model.cv_results_['params']) if gscore['learning_decay'] == 0.9]\n",
    "\n",
    "# Show graph\n",
    "plt.figure(figsize=(12, 8))\n",
    "plt.plot(n_topics, log_likelyhoods_5, label='0.5')\n",
    "plt.plot(n_topics, log_likelyhoods_7, label='0.7')\n",
    "plt.plot(n_topics, log_likelyhoods_9, label='0.9')\n",
    "plt.title(\"Choosing Optimal LDA Model\")\n",
    "plt.xlabel(\"Num Topics\")\n",
    "plt.ylabel(\"Log Likelyhood Scores\")\n",
    "plt.legend(title='Learning decay', loc='best')\n",
    "plt.show()\"\"\""
   ]
  },
  {
   "cell_type": "markdown",
   "id": "d8b741c0",
   "metadata": {},
   "source": [
    "#### Topic dominant :"
   ]
  },
  {
   "cell_type": "markdown",
   "id": "2222e5f4",
   "metadata": {},
   "source": [
    "Une partie du code provient de ce site :\n",
    "\n",
    "source : https://www.machinelearningplus.com/nlp/topic-modeling-python-sklearn-examples/"
   ]
  },
  {
   "cell_type": "code",
   "execution_count": 93,
   "id": "519d8aef",
   "metadata": {
    "ExecuteTime": {
     "end_time": "2022-10-17T14:33:19.439276Z",
     "start_time": "2022-10-17T14:33:15.719067Z"
    }
   },
   "outputs": [
    {
     "name": "stdout",
     "output_type": "stream",
     "text": [
      "CPU times: user 3.63 s, sys: 45.8 ms, total: 3.68 s\n",
      "Wall time: 3.71 s\n"
     ]
    },
    {
     "data": {
      "text/html": [
       "<style type=\"text/css\">\n",
       "#T_d58af_row0_col0, #T_d58af_row0_col2, #T_d58af_row0_col4, #T_d58af_row0_col5, #T_d58af_row1_col0, #T_d58af_row2_col0, #T_d58af_row2_col1, #T_d58af_row2_col4, #T_d58af_row2_col5, #T_d58af_row3_col0, #T_d58af_row4_col0, #T_d58af_row4_col2, #T_d58af_row4_col5, #T_d58af_row5_col0, #T_d58af_row6_col0, #T_d58af_row6_col4, #T_d58af_row7_col3, #T_d58af_row7_col5, #T_d58af_row8_col3, #T_d58af_row8_col5, #T_d58af_row9_col2, #T_d58af_row9_col4, #T_d58af_row9_col5, #T_d58af_row10_col0, #T_d58af_row10_col3, #T_d58af_row10_col5, #T_d58af_row11_col2, #T_d58af_row11_col3, #T_d58af_row11_col4, #T_d58af_row11_col5, #T_d58af_row12_col4, #T_d58af_row12_col5, #T_d58af_row13_col2, #T_d58af_row13_col5, #T_d58af_row14_col0, #T_d58af_row14_col1, #T_d58af_row14_col4 {\n",
       "  color: green;\n",
       "  font-weight: 700;\n",
       "}\n",
       "#T_d58af_row0_col1, #T_d58af_row0_col3, #T_d58af_row1_col1, #T_d58af_row1_col2, #T_d58af_row1_col3, #T_d58af_row1_col4, #T_d58af_row1_col5, #T_d58af_row2_col2, #T_d58af_row2_col3, #T_d58af_row3_col1, #T_d58af_row3_col2, #T_d58af_row3_col3, #T_d58af_row3_col4, #T_d58af_row3_col5, #T_d58af_row4_col1, #T_d58af_row4_col3, #T_d58af_row4_col4, #T_d58af_row5_col1, #T_d58af_row5_col2, #T_d58af_row5_col3, #T_d58af_row5_col4, #T_d58af_row5_col5, #T_d58af_row6_col1, #T_d58af_row6_col2, #T_d58af_row6_col3, #T_d58af_row6_col5, #T_d58af_row7_col0, #T_d58af_row7_col1, #T_d58af_row7_col2, #T_d58af_row7_col4, #T_d58af_row8_col0, #T_d58af_row8_col1, #T_d58af_row8_col2, #T_d58af_row8_col4, #T_d58af_row9_col0, #T_d58af_row9_col1, #T_d58af_row9_col3, #T_d58af_row10_col1, #T_d58af_row10_col2, #T_d58af_row10_col4, #T_d58af_row11_col0, #T_d58af_row11_col1, #T_d58af_row12_col0, #T_d58af_row12_col1, #T_d58af_row12_col2, #T_d58af_row12_col3, #T_d58af_row13_col0, #T_d58af_row13_col1, #T_d58af_row13_col3, #T_d58af_row13_col4, #T_d58af_row14_col2, #T_d58af_row14_col3, #T_d58af_row14_col5 {\n",
       "  color: black;\n",
       "  font-weight: 400;\n",
       "}\n",
       "</style>\n",
       "<table id=\"T_d58af_\">\n",
       "  <thead>\n",
       "    <tr>\n",
       "      <th class=\"blank level0\" >&nbsp;</th>\n",
       "      <th class=\"col_heading level0 col0\" >topic0</th>\n",
       "      <th class=\"col_heading level0 col1\" >topic1</th>\n",
       "      <th class=\"col_heading level0 col2\" >topic2</th>\n",
       "      <th class=\"col_heading level0 col3\" >topic3</th>\n",
       "      <th class=\"col_heading level0 col4\" >topic4</th>\n",
       "      <th class=\"col_heading level0 col5\" >dominant_topic</th>\n",
       "    </tr>\n",
       "  </thead>\n",
       "  <tbody>\n",
       "    <tr>\n",
       "      <th id=\"T_d58af_level0_row0\" class=\"row_heading level0 row0\" >Document0</th>\n",
       "      <td id=\"T_d58af_row0_col0\" class=\"data row0 col0\" >0.160000</td>\n",
       "      <td id=\"T_d58af_row0_col1\" class=\"data row0 col1\" >0.010000</td>\n",
       "      <td id=\"T_d58af_row0_col2\" class=\"data row0 col2\" >0.390000</td>\n",
       "      <td id=\"T_d58af_row0_col3\" class=\"data row0 col3\" >0.010000</td>\n",
       "      <td id=\"T_d58af_row0_col4\" class=\"data row0 col4\" >0.430000</td>\n",
       "      <td id=\"T_d58af_row0_col5\" class=\"data row0 col5\" >4</td>\n",
       "    </tr>\n",
       "    <tr>\n",
       "      <th id=\"T_d58af_level0_row1\" class=\"row_heading level0 row1\" >Document1</th>\n",
       "      <td id=\"T_d58af_row1_col0\" class=\"data row1 col0\" >0.870000</td>\n",
       "      <td id=\"T_d58af_row1_col1\" class=\"data row1 col1\" >0.030000</td>\n",
       "      <td id=\"T_d58af_row1_col2\" class=\"data row1 col2\" >0.030000</td>\n",
       "      <td id=\"T_d58af_row1_col3\" class=\"data row1 col3\" >0.030000</td>\n",
       "      <td id=\"T_d58af_row1_col4\" class=\"data row1 col4\" >0.030000</td>\n",
       "      <td id=\"T_d58af_row1_col5\" class=\"data row1 col5\" >0</td>\n",
       "    </tr>\n",
       "    <tr>\n",
       "      <th id=\"T_d58af_level0_row2\" class=\"row_heading level0 row2\" >Document2</th>\n",
       "      <td id=\"T_d58af_row2_col0\" class=\"data row2 col0\" >0.280000</td>\n",
       "      <td id=\"T_d58af_row2_col1\" class=\"data row2 col1\" >0.310000</td>\n",
       "      <td id=\"T_d58af_row2_col2\" class=\"data row2 col2\" >0.040000</td>\n",
       "      <td id=\"T_d58af_row2_col3\" class=\"data row2 col3\" >0.040000</td>\n",
       "      <td id=\"T_d58af_row2_col4\" class=\"data row2 col4\" >0.330000</td>\n",
       "      <td id=\"T_d58af_row2_col5\" class=\"data row2 col5\" >4</td>\n",
       "    </tr>\n",
       "    <tr>\n",
       "      <th id=\"T_d58af_level0_row3\" class=\"row_heading level0 row3\" >Document3</th>\n",
       "      <td id=\"T_d58af_row3_col0\" class=\"data row3 col0\" >0.900000</td>\n",
       "      <td id=\"T_d58af_row3_col1\" class=\"data row3 col1\" >0.010000</td>\n",
       "      <td id=\"T_d58af_row3_col2\" class=\"data row3 col2\" >0.070000</td>\n",
       "      <td id=\"T_d58af_row3_col3\" class=\"data row3 col3\" >0.010000</td>\n",
       "      <td id=\"T_d58af_row3_col4\" class=\"data row3 col4\" >0.010000</td>\n",
       "      <td id=\"T_d58af_row3_col5\" class=\"data row3 col5\" >0</td>\n",
       "    </tr>\n",
       "    <tr>\n",
       "      <th id=\"T_d58af_level0_row4\" class=\"row_heading level0 row4\" >Document4</th>\n",
       "      <td id=\"T_d58af_row4_col0\" class=\"data row4 col0\" >0.390000</td>\n",
       "      <td id=\"T_d58af_row4_col1\" class=\"data row4 col1\" >0.020000</td>\n",
       "      <td id=\"T_d58af_row4_col2\" class=\"data row4 col2\" >0.540000</td>\n",
       "      <td id=\"T_d58af_row4_col3\" class=\"data row4 col3\" >0.020000</td>\n",
       "      <td id=\"T_d58af_row4_col4\" class=\"data row4 col4\" >0.020000</td>\n",
       "      <td id=\"T_d58af_row4_col5\" class=\"data row4 col5\" >2</td>\n",
       "    </tr>\n",
       "    <tr>\n",
       "      <th id=\"T_d58af_level0_row5\" class=\"row_heading level0 row5\" >Document5</th>\n",
       "      <td id=\"T_d58af_row5_col0\" class=\"data row5 col0\" >0.870000</td>\n",
       "      <td id=\"T_d58af_row5_col1\" class=\"data row5 col1\" >0.030000</td>\n",
       "      <td id=\"T_d58af_row5_col2\" class=\"data row5 col2\" >0.030000</td>\n",
       "      <td id=\"T_d58af_row5_col3\" class=\"data row5 col3\" >0.030000</td>\n",
       "      <td id=\"T_d58af_row5_col4\" class=\"data row5 col4\" >0.030000</td>\n",
       "      <td id=\"T_d58af_row5_col5\" class=\"data row5 col5\" >0</td>\n",
       "    </tr>\n",
       "    <tr>\n",
       "      <th id=\"T_d58af_level0_row6\" class=\"row_heading level0 row6\" >Document6</th>\n",
       "      <td id=\"T_d58af_row6_col0\" class=\"data row6 col0\" >0.600000</td>\n",
       "      <td id=\"T_d58af_row6_col1\" class=\"data row6 col1\" >0.060000</td>\n",
       "      <td id=\"T_d58af_row6_col2\" class=\"data row6 col2\" >0.000000</td>\n",
       "      <td id=\"T_d58af_row6_col3\" class=\"data row6 col3\" >0.000000</td>\n",
       "      <td id=\"T_d58af_row6_col4\" class=\"data row6 col4\" >0.330000</td>\n",
       "      <td id=\"T_d58af_row6_col5\" class=\"data row6 col5\" >0</td>\n",
       "    </tr>\n",
       "    <tr>\n",
       "      <th id=\"T_d58af_level0_row7\" class=\"row_heading level0 row7\" >Document7</th>\n",
       "      <td id=\"T_d58af_row7_col0\" class=\"data row7 col0\" >0.020000</td>\n",
       "      <td id=\"T_d58af_row7_col1\" class=\"data row7 col1\" >0.020000</td>\n",
       "      <td id=\"T_d58af_row7_col2\" class=\"data row7 col2\" >0.020000</td>\n",
       "      <td id=\"T_d58af_row7_col3\" class=\"data row7 col3\" >0.910000</td>\n",
       "      <td id=\"T_d58af_row7_col4\" class=\"data row7 col4\" >0.020000</td>\n",
       "      <td id=\"T_d58af_row7_col5\" class=\"data row7 col5\" >3</td>\n",
       "    </tr>\n",
       "    <tr>\n",
       "      <th id=\"T_d58af_level0_row8\" class=\"row_heading level0 row8\" >Document8</th>\n",
       "      <td id=\"T_d58af_row8_col0\" class=\"data row8 col0\" >0.050000</td>\n",
       "      <td id=\"T_d58af_row8_col1\" class=\"data row8 col1\" >0.050000</td>\n",
       "      <td id=\"T_d58af_row8_col2\" class=\"data row8 col2\" >0.050000</td>\n",
       "      <td id=\"T_d58af_row8_col3\" class=\"data row8 col3\" >0.800000</td>\n",
       "      <td id=\"T_d58af_row8_col4\" class=\"data row8 col4\" >0.050000</td>\n",
       "      <td id=\"T_d58af_row8_col5\" class=\"data row8 col5\" >3</td>\n",
       "    </tr>\n",
       "    <tr>\n",
       "      <th id=\"T_d58af_level0_row9\" class=\"row_heading level0 row9\" >Document9</th>\n",
       "      <td id=\"T_d58af_row9_col0\" class=\"data row9 col0\" >0.060000</td>\n",
       "      <td id=\"T_d58af_row9_col1\" class=\"data row9 col1\" >0.010000</td>\n",
       "      <td id=\"T_d58af_row9_col2\" class=\"data row9 col2\" >0.570000</td>\n",
       "      <td id=\"T_d58af_row9_col3\" class=\"data row9 col3\" >0.010000</td>\n",
       "      <td id=\"T_d58af_row9_col4\" class=\"data row9 col4\" >0.350000</td>\n",
       "      <td id=\"T_d58af_row9_col5\" class=\"data row9 col5\" >2</td>\n",
       "    </tr>\n",
       "    <tr>\n",
       "      <th id=\"T_d58af_level0_row10\" class=\"row_heading level0 row10\" >Document10</th>\n",
       "      <td id=\"T_d58af_row10_col0\" class=\"data row10 col0\" >0.200000</td>\n",
       "      <td id=\"T_d58af_row10_col1\" class=\"data row10 col1\" >0.020000</td>\n",
       "      <td id=\"T_d58af_row10_col2\" class=\"data row10 col2\" >0.020000</td>\n",
       "      <td id=\"T_d58af_row10_col3\" class=\"data row10 col3\" >0.730000</td>\n",
       "      <td id=\"T_d58af_row10_col4\" class=\"data row10 col4\" >0.020000</td>\n",
       "      <td id=\"T_d58af_row10_col5\" class=\"data row10 col5\" >3</td>\n",
       "    </tr>\n",
       "    <tr>\n",
       "      <th id=\"T_d58af_level0_row11\" class=\"row_heading level0 row11\" >Document11</th>\n",
       "      <td id=\"T_d58af_row11_col0\" class=\"data row11 col0\" >0.010000</td>\n",
       "      <td id=\"T_d58af_row11_col1\" class=\"data row11 col1\" >0.010000</td>\n",
       "      <td id=\"T_d58af_row11_col2\" class=\"data row11 col2\" >0.390000</td>\n",
       "      <td id=\"T_d58af_row11_col3\" class=\"data row11 col3\" >0.180000</td>\n",
       "      <td id=\"T_d58af_row11_col4\" class=\"data row11 col4\" >0.420000</td>\n",
       "      <td id=\"T_d58af_row11_col5\" class=\"data row11 col5\" >4</td>\n",
       "    </tr>\n",
       "    <tr>\n",
       "      <th id=\"T_d58af_level0_row12\" class=\"row_heading level0 row12\" >Document12</th>\n",
       "      <td id=\"T_d58af_row12_col0\" class=\"data row12 col0\" >0.020000</td>\n",
       "      <td id=\"T_d58af_row12_col1\" class=\"data row12 col1\" >0.020000</td>\n",
       "      <td id=\"T_d58af_row12_col2\" class=\"data row12 col2\" >0.020000</td>\n",
       "      <td id=\"T_d58af_row12_col3\" class=\"data row12 col3\" >0.020000</td>\n",
       "      <td id=\"T_d58af_row12_col4\" class=\"data row12 col4\" >0.920000</td>\n",
       "      <td id=\"T_d58af_row12_col5\" class=\"data row12 col5\" >4</td>\n",
       "    </tr>\n",
       "    <tr>\n",
       "      <th id=\"T_d58af_level0_row13\" class=\"row_heading level0 row13\" >Document13</th>\n",
       "      <td id=\"T_d58af_row13_col0\" class=\"data row13 col0\" >0.010000</td>\n",
       "      <td id=\"T_d58af_row13_col1\" class=\"data row13 col1\" >0.100000</td>\n",
       "      <td id=\"T_d58af_row13_col2\" class=\"data row13 col2\" >0.860000</td>\n",
       "      <td id=\"T_d58af_row13_col3\" class=\"data row13 col3\" >0.010000</td>\n",
       "      <td id=\"T_d58af_row13_col4\" class=\"data row13 col4\" >0.010000</td>\n",
       "      <td id=\"T_d58af_row13_col5\" class=\"data row13 col5\" >2</td>\n",
       "    </tr>\n",
       "    <tr>\n",
       "      <th id=\"T_d58af_level0_row14\" class=\"row_heading level0 row14\" >Document14</th>\n",
       "      <td id=\"T_d58af_row14_col0\" class=\"data row14 col0\" >0.550000</td>\n",
       "      <td id=\"T_d58af_row14_col1\" class=\"data row14 col1\" >0.160000</td>\n",
       "      <td id=\"T_d58af_row14_col2\" class=\"data row14 col2\" >0.020000</td>\n",
       "      <td id=\"T_d58af_row14_col3\" class=\"data row14 col3\" >0.020000</td>\n",
       "      <td id=\"T_d58af_row14_col4\" class=\"data row14 col4\" >0.240000</td>\n",
       "      <td id=\"T_d58af_row14_col5\" class=\"data row14 col5\" >0</td>\n",
       "    </tr>\n",
       "  </tbody>\n",
       "</table>\n"
      ],
      "text/plain": [
       "<pandas.io.formats.style.Styler at 0x7f809023f970>"
      ]
     },
     "execution_count": 93,
     "metadata": {},
     "output_type": "execute_result"
    }
   ],
   "source": [
    "%%time\n",
    "# Create Document - Topic Matrix\n",
    "lda_output = best_lda_model.transform(bow)\n",
    "\n",
    "# column names\n",
    "topicnames = ['topic' + str(i) for i in range(best_lda_model.n_components)] # crée une liste de colonne  en fonction du nombre de composante n\n",
    "\n",
    "# index names\n",
    "docnames = ['Document' + str(i) for i in range(bow.toarray().shape[0])] # crée une liste de ligne en fonction du nombre de lignes de Bag of Words\n",
    "\n",
    "\n",
    "# Make the pandas dataframe\n",
    "df_document_topic = pd.DataFrame(np.round(lda_output, 2), columns=topicnames, index=docnames)\n",
    "\n",
    "# Get dominant topic for each document\n",
    "dominant_topic = np.argmax(df_document_topic.values, axis=1)\n",
    "df_document_topic['dominant_topic'] = dominant_topic\n",
    "\n",
    "# Styling\n",
    "def color_green(val):\n",
    "    color = 'green' if val > .1 else 'black'\n",
    "    return 'color: {col}'.format(col=color)\n",
    "\n",
    "def make_bold(val):\n",
    "    weight = 700 if val > .1 else 400\n",
    "    return 'font-weight: {weight}'.format(weight=weight)\n",
    "\n",
    "# Apply Style\n",
    "df_document_topics = df_document_topic.head(15).style.applymap(color_green).applymap(make_bold)\n",
    "df_document_topics"
   ]
  },
  {
   "cell_type": "markdown",
   "id": "7965482a",
   "metadata": {},
   "source": [
    "#### Review des topics en fonction des documents :"
   ]
  },
  {
   "cell_type": "code",
   "execution_count": 94,
   "id": "ea4c40c7",
   "metadata": {
    "ExecuteTime": {
     "end_time": "2022-10-17T14:33:19.445668Z",
     "start_time": "2022-10-17T14:33:19.440217Z"
    }
   },
   "outputs": [
    {
     "data": {
      "text/html": [
       "<div>\n",
       "<style scoped>\n",
       "    .dataframe tbody tr th:only-of-type {\n",
       "        vertical-align: middle;\n",
       "    }\n",
       "\n",
       "    .dataframe tbody tr th {\n",
       "        vertical-align: top;\n",
       "    }\n",
       "\n",
       "    .dataframe thead th {\n",
       "        text-align: right;\n",
       "    }\n",
       "</style>\n",
       "<table border=\"1\" class=\"dataframe\">\n",
       "  <thead>\n",
       "    <tr style=\"text-align: right;\">\n",
       "      <th></th>\n",
       "      <th>Topic Num</th>\n",
       "      <th>Num Documents</th>\n",
       "    </tr>\n",
       "  </thead>\n",
       "  <tbody>\n",
       "    <tr>\n",
       "      <th>0</th>\n",
       "      <td>0</td>\n",
       "      <td>7543</td>\n",
       "    </tr>\n",
       "    <tr>\n",
       "      <th>1</th>\n",
       "      <td>4</td>\n",
       "      <td>7174</td>\n",
       "    </tr>\n",
       "    <tr>\n",
       "      <th>2</th>\n",
       "      <td>1</td>\n",
       "      <td>6325</td>\n",
       "    </tr>\n",
       "    <tr>\n",
       "      <th>3</th>\n",
       "      <td>3</td>\n",
       "      <td>5308</td>\n",
       "    </tr>\n",
       "    <tr>\n",
       "      <th>4</th>\n",
       "      <td>2</td>\n",
       "      <td>4814</td>\n",
       "    </tr>\n",
       "  </tbody>\n",
       "</table>\n",
       "</div>"
      ],
      "text/plain": [
       "   Topic Num  Num Documents\n",
       "0          0           7543\n",
       "1          4           7174\n",
       "2          1           6325\n",
       "3          3           5308\n",
       "4          2           4814"
      ]
     },
     "execution_count": 94,
     "metadata": {},
     "output_type": "execute_result"
    }
   ],
   "source": [
    "df_topic_distribution = df_document_topic['dominant_topic'].value_counts().reset_index(name=\"Num Documents\")\n",
    "df_topic_distribution.columns = ['Topic Num', 'Num Documents']\n",
    "df_topic_distribution"
   ]
  },
  {
   "cell_type": "markdown",
   "id": "caad7115",
   "metadata": {},
   "source": [
    "#### Visualisation :"
   ]
  },
  {
   "cell_type": "code",
   "execution_count": 95,
   "id": "392588ba",
   "metadata": {
    "ExecuteTime": {
     "end_time": "2022-10-17T14:33:19.459157Z",
     "start_time": "2022-10-17T14:33:19.446775Z"
    }
   },
   "outputs": [
    {
     "name": "stdout",
     "output_type": "stream",
     "text": [
      "CPU times: user 428 µs, sys: 112 µs, total: 540 µs\n",
      "Wall time: 540 µs\n"
     ]
    },
    {
     "data": {
      "text/html": [
       "<div>\n",
       "<style scoped>\n",
       "    .dataframe tbody tr th:only-of-type {\n",
       "        vertical-align: middle;\n",
       "    }\n",
       "\n",
       "    .dataframe tbody tr th {\n",
       "        vertical-align: top;\n",
       "    }\n",
       "\n",
       "    .dataframe thead th {\n",
       "        text-align: right;\n",
       "    }\n",
       "</style>\n",
       "<table border=\"1\" class=\"dataframe\">\n",
       "  <thead>\n",
       "    <tr style=\"text-align: right;\">\n",
       "      <th></th>\n",
       "      <th>access</th>\n",
       "      <th>account</th>\n",
       "      <th>action</th>\n",
       "      <th>add</th>\n",
       "      <th>address</th>\n",
       "      <th>advance</th>\n",
       "      <th>advice</th>\n",
       "      <th>algorithm</th>\n",
       "      <th>amount</th>\n",
       "      <th>android</th>\n",
       "      <th>...</th>\n",
       "      <th>version</th>\n",
       "      <th>video</th>\n",
       "      <th>view</th>\n",
       "      <th>way</th>\n",
       "      <th>web</th>\n",
       "      <th>website</th>\n",
       "      <th>window</th>\n",
       "      <th>word</th>\n",
       "      <th>work</th>\n",
       "      <th>year</th>\n",
       "    </tr>\n",
       "  </thead>\n",
       "  <tbody>\n",
       "    <tr>\n",
       "      <th>topic0</th>\n",
       "      <td>457.103419</td>\n",
       "      <td>0.250293</td>\n",
       "      <td>3.902073</td>\n",
       "      <td>145.841416</td>\n",
       "      <td>1.057060</td>\n",
       "      <td>241.008958</td>\n",
       "      <td>24.122565</td>\n",
       "      <td>0.200998</td>\n",
       "      <td>0.799511</td>\n",
       "      <td>167.700830</td>\n",
       "      <td>...</td>\n",
       "      <td>2627.990033</td>\n",
       "      <td>0.202166</td>\n",
       "      <td>0.388779</td>\n",
       "      <td>1501.807101</td>\n",
       "      <td>72.037250</td>\n",
       "      <td>19.975478</td>\n",
       "      <td>1.974818</td>\n",
       "      <td>0.201300</td>\n",
       "      <td>1615.957308</td>\n",
       "      <td>0.202709</td>\n",
       "    </tr>\n",
       "    <tr>\n",
       "      <th>topic1</th>\n",
       "      <td>1750.009437</td>\n",
       "      <td>819.489164</td>\n",
       "      <td>79.531209</td>\n",
       "      <td>50.561098</td>\n",
       "      <td>423.570381</td>\n",
       "      <td>127.054832</td>\n",
       "      <td>89.100997</td>\n",
       "      <td>0.201157</td>\n",
       "      <td>50.276368</td>\n",
       "      <td>112.262917</td>\n",
       "      <td>...</td>\n",
       "      <td>658.724960</td>\n",
       "      <td>663.562809</td>\n",
       "      <td>0.406643</td>\n",
       "      <td>1419.544289</td>\n",
       "      <td>447.429845</td>\n",
       "      <td>111.645175</td>\n",
       "      <td>161.647053</td>\n",
       "      <td>0.200822</td>\n",
       "      <td>936.967552</td>\n",
       "      <td>0.205693</td>\n",
       "    </tr>\n",
       "    <tr>\n",
       "      <th>topic2</th>\n",
       "      <td>22.651433</td>\n",
       "      <td>3.973154</td>\n",
       "      <td>545.989420</td>\n",
       "      <td>88.465216</td>\n",
       "      <td>1.080336</td>\n",
       "      <td>225.569545</td>\n",
       "      <td>56.456106</td>\n",
       "      <td>0.201557</td>\n",
       "      <td>50.448683</td>\n",
       "      <td>49.634927</td>\n",
       "      <td>...</td>\n",
       "      <td>185.596067</td>\n",
       "      <td>3.830501</td>\n",
       "      <td>1210.571369</td>\n",
       "      <td>1313.042090</td>\n",
       "      <td>93.128129</td>\n",
       "      <td>218.975630</td>\n",
       "      <td>487.226369</td>\n",
       "      <td>0.209187</td>\n",
       "      <td>884.995707</td>\n",
       "      <td>0.202098</td>\n",
       "    </tr>\n",
       "    <tr>\n",
       "      <th>topic3</th>\n",
       "      <td>95.065814</td>\n",
       "      <td>17.084933</td>\n",
       "      <td>0.374936</td>\n",
       "      <td>88.618365</td>\n",
       "      <td>7.137629</td>\n",
       "      <td>237.235236</td>\n",
       "      <td>54.959018</td>\n",
       "      <td>3.862698</td>\n",
       "      <td>214.758936</td>\n",
       "      <td>0.200456</td>\n",
       "      <td>...</td>\n",
       "      <td>5.184223</td>\n",
       "      <td>0.202006</td>\n",
       "      <td>1.401654</td>\n",
       "      <td>1896.633569</td>\n",
       "      <td>0.202953</td>\n",
       "      <td>0.201343</td>\n",
       "      <td>53.167869</td>\n",
       "      <td>0.558164</td>\n",
       "      <td>473.369043</td>\n",
       "      <td>231.112805</td>\n",
       "    </tr>\n",
       "    <tr>\n",
       "      <th>topic4</th>\n",
       "      <td>12.169896</td>\n",
       "      <td>0.202456</td>\n",
       "      <td>0.202362</td>\n",
       "      <td>17.513905</td>\n",
       "      <td>136.154594</td>\n",
       "      <td>293.131430</td>\n",
       "      <td>77.361315</td>\n",
       "      <td>339.533590</td>\n",
       "      <td>167.716503</td>\n",
       "      <td>0.200871</td>\n",
       "      <td>...</td>\n",
       "      <td>150.504716</td>\n",
       "      <td>0.202519</td>\n",
       "      <td>0.231556</td>\n",
       "      <td>2737.972951</td>\n",
       "      <td>0.201822</td>\n",
       "      <td>0.202373</td>\n",
       "      <td>33.983891</td>\n",
       "      <td>530.830526</td>\n",
       "      <td>1066.710391</td>\n",
       "      <td>174.276694</td>\n",
       "    </tr>\n",
       "  </tbody>\n",
       "</table>\n",
       "<p>5 rows × 396 columns</p>\n",
       "</div>"
      ],
      "text/plain": [
       "             access     account      action         add     address  \\\n",
       "topic0   457.103419    0.250293    3.902073  145.841416    1.057060   \n",
       "topic1  1750.009437  819.489164   79.531209   50.561098  423.570381   \n",
       "topic2    22.651433    3.973154  545.989420   88.465216    1.080336   \n",
       "topic3    95.065814   17.084933    0.374936   88.618365    7.137629   \n",
       "topic4    12.169896    0.202456    0.202362   17.513905  136.154594   \n",
       "\n",
       "           advance     advice   algorithm      amount     android  ...  \\\n",
       "topic0  241.008958  24.122565    0.200998    0.799511  167.700830  ...   \n",
       "topic1  127.054832  89.100997    0.201157   50.276368  112.262917  ...   \n",
       "topic2  225.569545  56.456106    0.201557   50.448683   49.634927  ...   \n",
       "topic3  237.235236  54.959018    3.862698  214.758936    0.200456  ...   \n",
       "topic4  293.131430  77.361315  339.533590  167.716503    0.200871  ...   \n",
       "\n",
       "            version       video         view          way         web  \\\n",
       "topic0  2627.990033    0.202166     0.388779  1501.807101   72.037250   \n",
       "topic1   658.724960  663.562809     0.406643  1419.544289  447.429845   \n",
       "topic2   185.596067    3.830501  1210.571369  1313.042090   93.128129   \n",
       "topic3     5.184223    0.202006     1.401654  1896.633569    0.202953   \n",
       "topic4   150.504716    0.202519     0.231556  2737.972951    0.201822   \n",
       "\n",
       "           website      window        word         work        year  \n",
       "topic0   19.975478    1.974818    0.201300  1615.957308    0.202709  \n",
       "topic1  111.645175  161.647053    0.200822   936.967552    0.205693  \n",
       "topic2  218.975630  487.226369    0.209187   884.995707    0.202098  \n",
       "topic3    0.201343   53.167869    0.558164   473.369043  231.112805  \n",
       "topic4    0.202373   33.983891  530.830526  1066.710391  174.276694  \n",
       "\n",
       "[5 rows x 396 columns]"
      ]
     },
     "execution_count": 95,
     "metadata": {},
     "output_type": "execute_result"
    }
   ],
   "source": [
    "%%time\n",
    "# Topic-Keyword Matrix\n",
    "df_topic_keywords = pd.DataFrame(best_lda_model.components_)\n",
    "\n",
    "# Assign Column and Index\n",
    "df_topic_keywords.columns = cv.get_feature_names_out()\n",
    "df_topic_keywords.index = topicnames\n",
    "\n",
    "# View\n",
    "df_topic_keywords.head(10)"
   ]
  },
  {
   "cell_type": "markdown",
   "id": "7e3ae2d0",
   "metadata": {},
   "source": [
    "#### Visualisation du top des mots par topic : "
   ]
  },
  {
   "cell_type": "code",
   "execution_count": 96,
   "id": "8d7470c3",
   "metadata": {
    "ExecuteTime": {
     "end_time": "2022-10-17T14:33:19.466542Z",
     "start_time": "2022-10-17T14:33:19.460435Z"
    }
   },
   "outputs": [
    {
     "name": "stdout",
     "output_type": "stream",
     "text": [
      "Pour le Topic 1, les mots avec les plus hautes valeurs sont :\n",
      "error        6357.039428\n",
      "file         6129.296588\n",
      "class        3991.760248\n",
      "code         3632.118813\n",
      "project      3403.863381\n",
      "version      2627.990033\n",
      "package      2004.390294\n",
      "method       1947.592103\n",
      "problem      1736.722584\n",
      "work         1615.957308\n",
      "use          1593.245576\n",
      "way          1501.807101\n",
      "script       1353.028487\n",
      "component    1196.334882\n",
      "module       1173.523017\n",
      "Name: topic0, dtype: float64\n",
      "\n",
      "\n",
      "Pour le Topic 2, les mots avec les plus hautes valeurs sont :\n",
      "application    2321.960591\n",
      "server         1913.193834\n",
      "app            1782.890255\n",
      "error          1772.187639\n",
      "access         1750.009437\n",
      "service        1535.171060\n",
      "http           1470.319825\n",
      "code           1459.923829\n",
      "way            1419.544289\n",
      "request        1401.820499\n",
      "client         1356.144145\n",
      "issue          1308.517117\n",
      "container      1295.188964\n",
      "command        1288.969833\n",
      "problem        1267.126677\n",
      "Name: topic1, dtype: float64\n",
      "\n",
      "\n",
      "Pour le Topic 3, les mots avec les plus hautes valeurs sont :\n",
      "image      3357.472751\n",
      "page       2716.122291\n",
      "code       2001.701001\n",
      "model      1641.534890\n",
      "button     1612.445013\n",
      "way        1313.042090\n",
      "problem    1231.272431\n",
      "view       1210.571369\n",
      "branch     1025.194922\n",
      "change      953.942281\n",
      "field       912.616592\n",
      "state       898.940943\n",
      "color       888.016852\n",
      "work        884.995707\n",
      "user        884.656027\n",
      "Name: topic2, dtype: float64\n",
      "\n",
      "\n",
      "Pour le Topic 4, les mots avec les plus hautes valeurs sont :\n",
      "value      5226.384451\n",
      "column     4122.173245\n",
      "list       2546.014866\n",
      "time       2411.444200\n",
      "way        1896.633569\n",
      "example    1831.760878\n",
      "row        1621.465792\n",
      "query      1385.021521\n",
      "date       1290.194327\n",
      "table      1264.370379\n",
      "array      1164.792677\n",
      "name       1144.283704\n",
      "group      1101.752795\n",
      "index      1096.529596\n",
      "result     1094.147449\n",
      "Name: topic3, dtype: float64\n",
      "\n",
      "\n",
      "Pour le Topic 5, les mots avec les plus hautes valeurs sont :\n",
      "function     7000.080225\n",
      "code         5279.384226\n",
      "output       3032.792024\n",
      "way          2737.972951\n",
      "example      2536.408689\n",
      "type         2225.922586\n",
      "number       2145.318075\n",
      "line         2136.276555\n",
      "problem      1466.780861\n",
      "case         1384.199385\n",
      "program      1353.856881\n",
      "something    1292.139285\n",
      "use          1268.607491\n",
      "size         1258.842988\n",
      "input        1225.403950\n",
      "Name: topic4, dtype: float64\n",
      "\n",
      "\n"
     ]
    }
   ],
   "source": [
    "for topic in range(df_topic_keywords.shape[0]):\n",
    "    tmp = df_topic_keywords.iloc[topic]\n",
    "    print(f'Pour le Topic {topic+1}, les mots avec les plus hautes valeurs sont :')\n",
    "    print(tmp.nlargest(15))\n",
    "    print('\\n')"
   ]
  },
  {
   "cell_type": "markdown",
   "id": "9c371f47",
   "metadata": {},
   "source": [
    "### lda opti pour le IDF :"
   ]
  },
  {
   "cell_type": "code",
   "execution_count": 97,
   "id": "d9f25dda",
   "metadata": {
    "ExecuteTime": {
     "end_time": "2022-10-17T14:33:19.470586Z",
     "start_time": "2022-10-17T14:33:19.467619Z"
    }
   },
   "outputs": [
    {
     "data": {
      "text/plain": [
       "'%%time\\n# Define Search Param\\nparams = {\\'n_components\\': [5, 6, 7, 8, 9, 10, 20, 30],\\n          \\'learning_decay\\': [.5, .7, .9]\\n          }\\n\\n# Init the Model\\nlda_idf = LatentDirichletAllocation(random_state=0)\\n\\n# Init Grid Search Class\\nmodel_idf = GridSearchCV(lda_idf,\\n                     param_grid=params,\\n                     cv=5,\\n                     verbose=2,\\n                     #n_jobs=-1,\\n                     )\\n\\n# Do the Grid Search\\nmodel_idf.fit(idf)\\nlda_output = model_idf.transform(idf)\\n\\n# Modéle à choisir\\nbest_lda_model_idf = model_idf.best_estimator_\\n\\n# meilleure paramétres :\\nprint(\"Meilleurs paramétres : \", model_idf.best_params_)\\n\\n# Score de cohérence :\\nprint(\"Meilleur Score de cohérence : \", model_idf.best_score_)\\n\\n# Score de perplexité :\\nprint(\"Meilleur score de perplexité : \", best_lda_model_idf.perplexity(idf))\\n\\n# A mettre en commentaire une fois le best parameter trouvé\\n## Wall time: 50min 43s'"
      ]
     },
     "execution_count": 97,
     "metadata": {},
     "output_type": "execute_result"
    }
   ],
   "source": [
    "\"\"\"%%time\n",
    "# Define Search Param\n",
    "params = {'n_components': [5, 6, 7, 8, 9, 10, 20, 30],\n",
    "          'learning_decay': [.5, .7, .9]\n",
    "          }\n",
    "\n",
    "# Init the Model\n",
    "lda_idf = LatentDirichletAllocation(random_state=0)\n",
    "\n",
    "# Init Grid Search Class\n",
    "model_idf = GridSearchCV(lda_idf,\n",
    "                     param_grid=params,\n",
    "                     cv=5,\n",
    "                     verbose=2,\n",
    "                     #n_jobs=-1,\n",
    "                     )\n",
    "\n",
    "# Do the Grid Search\n",
    "model_idf.fit(idf)\n",
    "lda_output = model_idf.transform(idf)\n",
    "\n",
    "# Modéle à choisir\n",
    "best_lda_model_idf = model_idf.best_estimator_\n",
    "\n",
    "# meilleure paramétres :\n",
    "print(\"Meilleurs paramétres : \", model_idf.best_params_)\n",
    "\n",
    "# Score de cohérence :\n",
    "print(\"Meilleur Score de cohérence : \", model_idf.best_score_)\n",
    "\n",
    "# Score de perplexité :\n",
    "print(\"Meilleur score de perplexité : \", best_lda_model_idf.perplexity(idf))\n",
    "\n",
    "# A mettre en commentaire une fois le best parameter trouvé\n",
    "## Wall time: 50min 43s\"\"\""
   ]
  },
  {
   "cell_type": "code",
   "execution_count": 98,
   "id": "dae2a85d",
   "metadata": {
    "ExecuteTime": {
     "end_time": "2022-10-17T14:36:37.453048Z",
     "start_time": "2022-10-17T14:33:19.471726Z"
    }
   },
   "outputs": [
    {
     "name": "stdout",
     "output_type": "stream",
     "text": [
      "Fitting 5 folds for each of 1 candidates, totalling 5 fits\n",
      "[CV] END .................learning_decay=0.5, n_components=5; total time=  30.9s\n",
      "[CV] END .................learning_decay=0.5, n_components=5; total time=  30.2s\n",
      "[CV] END .................learning_decay=0.5, n_components=5; total time=  31.0s\n",
      "[CV] END .................learning_decay=0.5, n_components=5; total time=  30.5s\n",
      "[CV] END .................learning_decay=0.5, n_components=5; total time=  31.0s\n",
      "Meilleurs paramétres :  {'learning_decay': 0.5, 'n_components': 5}\n",
      "Meilleur Score de cohérence :  -103297.95116157732\n",
      "Meilleur score de perplexité :  523.9064512108566\n",
      "CPU times: user 3min 16s, sys: 345 ms, total: 3min 17s\n",
      "Wall time: 3min 17s\n"
     ]
    }
   ],
   "source": [
    "%%time\n",
    "# Define Search Param\n",
    "params = {'n_components': [5],\n",
    "          'learning_decay': [.5]\n",
    "          }\n",
    "\n",
    "# Init the Model\n",
    "lda_idf = LatentDirichletAllocation(random_state=0)\n",
    "\n",
    "# Init Grid Search Class\n",
    "model_idf = GridSearchCV(lda_idf,\n",
    "                     param_grid=params,\n",
    "                     cv=5,\n",
    "                     verbose=2,\n",
    "                     #n_jobs=-1,\n",
    "                     )\n",
    "\n",
    "# Do the Grid Search\n",
    "model_idf.fit(idf)\n",
    "lda_output = model_idf.transform(idf)\n",
    "\n",
    "# Modéle à choisir\n",
    "best_lda_model_idf = model_idf.best_estimator_\n",
    "\n",
    "# meilleure paramétres :\n",
    "print(\"Meilleurs paramétres : \", model_idf.best_params_)\n",
    "\n",
    "# Score de cohérence :\n",
    "print(\"Meilleur Score de cohérence : \", model_idf.best_score_)\n",
    "\n",
    "# Score de perplexité :\n",
    "print(\"Meilleur score de perplexité : \", best_lda_model_idf.perplexity(idf))"
   ]
  },
  {
   "cell_type": "markdown",
   "id": "a006c33a",
   "metadata": {},
   "source": [
    "#### Topic dominant :"
   ]
  },
  {
   "cell_type": "code",
   "execution_count": 99,
   "id": "50c5867b",
   "metadata": {
    "ExecuteTime": {
     "end_time": "2022-10-17T14:36:41.648093Z",
     "start_time": "2022-10-17T14:36:37.453999Z"
    }
   },
   "outputs": [
    {
     "name": "stdout",
     "output_type": "stream",
     "text": [
      "CPU times: user 4.17 s, sys: 6.76 ms, total: 4.18 s\n",
      "Wall time: 4.18 s\n"
     ]
    },
    {
     "data": {
      "text/html": [
       "<style type=\"text/css\">\n",
       "#T_fd7f8_row0_col0, #T_fd7f8_row0_col1, #T_fd7f8_row0_col4, #T_fd7f8_row1_col0, #T_fd7f8_row1_col2, #T_fd7f8_row1_col3, #T_fd7f8_row1_col4, #T_fd7f8_row2_col2, #T_fd7f8_row2_col3, #T_fd7f8_row2_col4, #T_fd7f8_row2_col5, #T_fd7f8_row3_col1, #T_fd7f8_row3_col2, #T_fd7f8_row3_col3, #T_fd7f8_row3_col4, #T_fd7f8_row3_col5, #T_fd7f8_row4_col0, #T_fd7f8_row4_col3, #T_fd7f8_row4_col4, #T_fd7f8_row5_col0, #T_fd7f8_row5_col2, #T_fd7f8_row5_col3, #T_fd7f8_row5_col4, #T_fd7f8_row6_col1, #T_fd7f8_row6_col2, #T_fd7f8_row6_col4, #T_fd7f8_row6_col5, #T_fd7f8_row7_col0, #T_fd7f8_row7_col1, #T_fd7f8_row7_col2, #T_fd7f8_row7_col3, #T_fd7f8_row8_col0, #T_fd7f8_row8_col1, #T_fd7f8_row8_col4, #T_fd7f8_row9_col1, #T_fd7f8_row9_col4, #T_fd7f8_row10_col0, #T_fd7f8_row10_col1, #T_fd7f8_row10_col2, #T_fd7f8_row10_col3, #T_fd7f8_row11_col0, #T_fd7f8_row11_col1, #T_fd7f8_row11_col3, #T_fd7f8_row12_col0, #T_fd7f8_row12_col1, #T_fd7f8_row12_col2, #T_fd7f8_row12_col3, #T_fd7f8_row13_col0, #T_fd7f8_row13_col1, #T_fd7f8_row13_col4, #T_fd7f8_row14_col0, #T_fd7f8_row14_col2, #T_fd7f8_row14_col3 {\n",
       "  color: black;\n",
       "  font-weight: 400;\n",
       "}\n",
       "#T_fd7f8_row0_col2, #T_fd7f8_row0_col3, #T_fd7f8_row0_col5, #T_fd7f8_row1_col1, #T_fd7f8_row1_col5, #T_fd7f8_row2_col0, #T_fd7f8_row2_col1, #T_fd7f8_row3_col0, #T_fd7f8_row4_col1, #T_fd7f8_row4_col2, #T_fd7f8_row4_col5, #T_fd7f8_row5_col1, #T_fd7f8_row5_col5, #T_fd7f8_row6_col0, #T_fd7f8_row6_col3, #T_fd7f8_row7_col4, #T_fd7f8_row7_col5, #T_fd7f8_row8_col2, #T_fd7f8_row8_col3, #T_fd7f8_row8_col5, #T_fd7f8_row9_col0, #T_fd7f8_row9_col2, #T_fd7f8_row9_col3, #T_fd7f8_row9_col5, #T_fd7f8_row10_col4, #T_fd7f8_row10_col5, #T_fd7f8_row11_col2, #T_fd7f8_row11_col4, #T_fd7f8_row11_col5, #T_fd7f8_row12_col4, #T_fd7f8_row12_col5, #T_fd7f8_row13_col2, #T_fd7f8_row13_col3, #T_fd7f8_row13_col5, #T_fd7f8_row14_col1, #T_fd7f8_row14_col4, #T_fd7f8_row14_col5 {\n",
       "  color: green;\n",
       "  font-weight: 700;\n",
       "}\n",
       "</style>\n",
       "<table id=\"T_fd7f8_\">\n",
       "  <thead>\n",
       "    <tr>\n",
       "      <th class=\"blank level0\" >&nbsp;</th>\n",
       "      <th class=\"col_heading level0 col0\" >topic0</th>\n",
       "      <th class=\"col_heading level0 col1\" >topic1</th>\n",
       "      <th class=\"col_heading level0 col2\" >topic2</th>\n",
       "      <th class=\"col_heading level0 col3\" >topic3</th>\n",
       "      <th class=\"col_heading level0 col4\" >topic4</th>\n",
       "      <th class=\"col_heading level0 col5\" >dominant_topic</th>\n",
       "    </tr>\n",
       "  </thead>\n",
       "  <tbody>\n",
       "    <tr>\n",
       "      <th id=\"T_fd7f8_level0_row0\" class=\"row_heading level0 row0\" >Document0</th>\n",
       "      <td id=\"T_fd7f8_row0_col0\" class=\"data row0 col0\" >0.010000</td>\n",
       "      <td id=\"T_fd7f8_row0_col1\" class=\"data row0 col1\" >0.010000</td>\n",
       "      <td id=\"T_fd7f8_row0_col2\" class=\"data row0 col2\" >0.510000</td>\n",
       "      <td id=\"T_fd7f8_row0_col3\" class=\"data row0 col3\" >0.460000</td>\n",
       "      <td id=\"T_fd7f8_row0_col4\" class=\"data row0 col4\" >0.010000</td>\n",
       "      <td id=\"T_fd7f8_row0_col5\" class=\"data row0 col5\" >2</td>\n",
       "    </tr>\n",
       "    <tr>\n",
       "      <th id=\"T_fd7f8_level0_row1\" class=\"row_heading level0 row1\" >Document1</th>\n",
       "      <td id=\"T_fd7f8_row1_col0\" class=\"data row1 col0\" >0.030000</td>\n",
       "      <td id=\"T_fd7f8_row1_col1\" class=\"data row1 col1\" >0.860000</td>\n",
       "      <td id=\"T_fd7f8_row1_col2\" class=\"data row1 col2\" >0.030000</td>\n",
       "      <td id=\"T_fd7f8_row1_col3\" class=\"data row1 col3\" >0.030000</td>\n",
       "      <td id=\"T_fd7f8_row1_col4\" class=\"data row1 col4\" >0.030000</td>\n",
       "      <td id=\"T_fd7f8_row1_col5\" class=\"data row1 col5\" >1</td>\n",
       "    </tr>\n",
       "    <tr>\n",
       "      <th id=\"T_fd7f8_level0_row2\" class=\"row_heading level0 row2\" >Document2</th>\n",
       "      <td id=\"T_fd7f8_row2_col0\" class=\"data row2 col0\" >0.580000</td>\n",
       "      <td id=\"T_fd7f8_row2_col1\" class=\"data row2 col1\" >0.300000</td>\n",
       "      <td id=\"T_fd7f8_row2_col2\" class=\"data row2 col2\" >0.040000</td>\n",
       "      <td id=\"T_fd7f8_row2_col3\" class=\"data row2 col3\" >0.040000</td>\n",
       "      <td id=\"T_fd7f8_row2_col4\" class=\"data row2 col4\" >0.040000</td>\n",
       "      <td id=\"T_fd7f8_row2_col5\" class=\"data row2 col5\" >0</td>\n",
       "    </tr>\n",
       "    <tr>\n",
       "      <th id=\"T_fd7f8_level0_row3\" class=\"row_heading level0 row3\" >Document3</th>\n",
       "      <td id=\"T_fd7f8_row3_col0\" class=\"data row3 col0\" >0.900000</td>\n",
       "      <td id=\"T_fd7f8_row3_col1\" class=\"data row3 col1\" >0.010000</td>\n",
       "      <td id=\"T_fd7f8_row3_col2\" class=\"data row3 col2\" >0.080000</td>\n",
       "      <td id=\"T_fd7f8_row3_col3\" class=\"data row3 col3\" >0.010000</td>\n",
       "      <td id=\"T_fd7f8_row3_col4\" class=\"data row3 col4\" >0.010000</td>\n",
       "      <td id=\"T_fd7f8_row3_col5\" class=\"data row3 col5\" >0</td>\n",
       "    </tr>\n",
       "    <tr>\n",
       "      <th id=\"T_fd7f8_level0_row4\" class=\"row_heading level0 row4\" >Document4</th>\n",
       "      <td id=\"T_fd7f8_row4_col0\" class=\"data row4 col0\" >0.020000</td>\n",
       "      <td id=\"T_fd7f8_row4_col1\" class=\"data row4 col1\" >0.570000</td>\n",
       "      <td id=\"T_fd7f8_row4_col2\" class=\"data row4 col2\" >0.360000</td>\n",
       "      <td id=\"T_fd7f8_row4_col3\" class=\"data row4 col3\" >0.020000</td>\n",
       "      <td id=\"T_fd7f8_row4_col4\" class=\"data row4 col4\" >0.020000</td>\n",
       "      <td id=\"T_fd7f8_row4_col5\" class=\"data row4 col5\" >1</td>\n",
       "    </tr>\n",
       "    <tr>\n",
       "      <th id=\"T_fd7f8_level0_row5\" class=\"row_heading level0 row5\" >Document5</th>\n",
       "      <td id=\"T_fd7f8_row5_col0\" class=\"data row5 col0\" >0.030000</td>\n",
       "      <td id=\"T_fd7f8_row5_col1\" class=\"data row5 col1\" >0.870000</td>\n",
       "      <td id=\"T_fd7f8_row5_col2\" class=\"data row5 col2\" >0.030000</td>\n",
       "      <td id=\"T_fd7f8_row5_col3\" class=\"data row5 col3\" >0.030000</td>\n",
       "      <td id=\"T_fd7f8_row5_col4\" class=\"data row5 col4\" >0.030000</td>\n",
       "      <td id=\"T_fd7f8_row5_col5\" class=\"data row5 col5\" >1</td>\n",
       "    </tr>\n",
       "    <tr>\n",
       "      <th id=\"T_fd7f8_level0_row6\" class=\"row_heading level0 row6\" >Document6</th>\n",
       "      <td id=\"T_fd7f8_row6_col0\" class=\"data row6 col0\" >0.810000</td>\n",
       "      <td id=\"T_fd7f8_row6_col1\" class=\"data row6 col1\" >0.020000</td>\n",
       "      <td id=\"T_fd7f8_row6_col2\" class=\"data row6 col2\" >0.000000</td>\n",
       "      <td id=\"T_fd7f8_row6_col3\" class=\"data row6 col3\" >0.170000</td>\n",
       "      <td id=\"T_fd7f8_row6_col4\" class=\"data row6 col4\" >0.000000</td>\n",
       "      <td id=\"T_fd7f8_row6_col5\" class=\"data row6 col5\" >0</td>\n",
       "    </tr>\n",
       "    <tr>\n",
       "      <th id=\"T_fd7f8_level0_row7\" class=\"row_heading level0 row7\" >Document7</th>\n",
       "      <td id=\"T_fd7f8_row7_col0\" class=\"data row7 col0\" >0.020000</td>\n",
       "      <td id=\"T_fd7f8_row7_col1\" class=\"data row7 col1\" >0.020000</td>\n",
       "      <td id=\"T_fd7f8_row7_col2\" class=\"data row7 col2\" >0.020000</td>\n",
       "      <td id=\"T_fd7f8_row7_col3\" class=\"data row7 col3\" >0.020000</td>\n",
       "      <td id=\"T_fd7f8_row7_col4\" class=\"data row7 col4\" >0.910000</td>\n",
       "      <td id=\"T_fd7f8_row7_col5\" class=\"data row7 col5\" >4</td>\n",
       "    </tr>\n",
       "    <tr>\n",
       "      <th id=\"T_fd7f8_level0_row8\" class=\"row_heading level0 row8\" >Document8</th>\n",
       "      <td id=\"T_fd7f8_row8_col0\" class=\"data row8 col0\" >0.050000</td>\n",
       "      <td id=\"T_fd7f8_row8_col1\" class=\"data row8 col1\" >0.050000</td>\n",
       "      <td id=\"T_fd7f8_row8_col2\" class=\"data row8 col2\" >0.500000</td>\n",
       "      <td id=\"T_fd7f8_row8_col3\" class=\"data row8 col3\" >0.340000</td>\n",
       "      <td id=\"T_fd7f8_row8_col4\" class=\"data row8 col4\" >0.050000</td>\n",
       "      <td id=\"T_fd7f8_row8_col5\" class=\"data row8 col5\" >2</td>\n",
       "    </tr>\n",
       "    <tr>\n",
       "      <th id=\"T_fd7f8_level0_row9\" class=\"row_heading level0 row9\" >Document9</th>\n",
       "      <td id=\"T_fd7f8_row9_col0\" class=\"data row9 col0\" >0.230000</td>\n",
       "      <td id=\"T_fd7f8_row9_col1\" class=\"data row9 col1\" >0.010000</td>\n",
       "      <td id=\"T_fd7f8_row9_col2\" class=\"data row9 col2\" >0.640000</td>\n",
       "      <td id=\"T_fd7f8_row9_col3\" class=\"data row9 col3\" >0.120000</td>\n",
       "      <td id=\"T_fd7f8_row9_col4\" class=\"data row9 col4\" >0.010000</td>\n",
       "      <td id=\"T_fd7f8_row9_col5\" class=\"data row9 col5\" >2</td>\n",
       "    </tr>\n",
       "    <tr>\n",
       "      <th id=\"T_fd7f8_level0_row10\" class=\"row_heading level0 row10\" >Document10</th>\n",
       "      <td id=\"T_fd7f8_row10_col0\" class=\"data row10 col0\" >0.020000</td>\n",
       "      <td id=\"T_fd7f8_row10_col1\" class=\"data row10 col1\" >0.020000</td>\n",
       "      <td id=\"T_fd7f8_row10_col2\" class=\"data row10 col2\" >0.020000</td>\n",
       "      <td id=\"T_fd7f8_row10_col3\" class=\"data row10 col3\" >0.020000</td>\n",
       "      <td id=\"T_fd7f8_row10_col4\" class=\"data row10 col4\" >0.920000</td>\n",
       "      <td id=\"T_fd7f8_row10_col5\" class=\"data row10 col5\" >4</td>\n",
       "    </tr>\n",
       "    <tr>\n",
       "      <th id=\"T_fd7f8_level0_row11\" class=\"row_heading level0 row11\" >Document11</th>\n",
       "      <td id=\"T_fd7f8_row11_col0\" class=\"data row11 col0\" >0.010000</td>\n",
       "      <td id=\"T_fd7f8_row11_col1\" class=\"data row11 col1\" >0.010000</td>\n",
       "      <td id=\"T_fd7f8_row11_col2\" class=\"data row11 col2\" >0.420000</td>\n",
       "      <td id=\"T_fd7f8_row11_col3\" class=\"data row11 col3\" >0.010000</td>\n",
       "      <td id=\"T_fd7f8_row11_col4\" class=\"data row11 col4\" >0.570000</td>\n",
       "      <td id=\"T_fd7f8_row11_col5\" class=\"data row11 col5\" >4</td>\n",
       "    </tr>\n",
       "    <tr>\n",
       "      <th id=\"T_fd7f8_level0_row12\" class=\"row_heading level0 row12\" >Document12</th>\n",
       "      <td id=\"T_fd7f8_row12_col0\" class=\"data row12 col0\" >0.020000</td>\n",
       "      <td id=\"T_fd7f8_row12_col1\" class=\"data row12 col1\" >0.020000</td>\n",
       "      <td id=\"T_fd7f8_row12_col2\" class=\"data row12 col2\" >0.020000</td>\n",
       "      <td id=\"T_fd7f8_row12_col3\" class=\"data row12 col3\" >0.020000</td>\n",
       "      <td id=\"T_fd7f8_row12_col4\" class=\"data row12 col4\" >0.920000</td>\n",
       "      <td id=\"T_fd7f8_row12_col5\" class=\"data row12 col5\" >4</td>\n",
       "    </tr>\n",
       "    <tr>\n",
       "      <th id=\"T_fd7f8_level0_row13\" class=\"row_heading level0 row13\" >Document13</th>\n",
       "      <td id=\"T_fd7f8_row13_col0\" class=\"data row13 col0\" >0.010000</td>\n",
       "      <td id=\"T_fd7f8_row13_col1\" class=\"data row13 col1\" >0.010000</td>\n",
       "      <td id=\"T_fd7f8_row13_col2\" class=\"data row13 col2\" >0.280000</td>\n",
       "      <td id=\"T_fd7f8_row13_col3\" class=\"data row13 col3\" >0.690000</td>\n",
       "      <td id=\"T_fd7f8_row13_col4\" class=\"data row13 col4\" >0.010000</td>\n",
       "      <td id=\"T_fd7f8_row13_col5\" class=\"data row13 col5\" >3</td>\n",
       "    </tr>\n",
       "    <tr>\n",
       "      <th id=\"T_fd7f8_level0_row14\" class=\"row_heading level0 row14\" >Document14</th>\n",
       "      <td id=\"T_fd7f8_row14_col0\" class=\"data row14 col0\" >0.020000</td>\n",
       "      <td id=\"T_fd7f8_row14_col1\" class=\"data row14 col1\" >0.700000</td>\n",
       "      <td id=\"T_fd7f8_row14_col2\" class=\"data row14 col2\" >0.020000</td>\n",
       "      <td id=\"T_fd7f8_row14_col3\" class=\"data row14 col3\" >0.020000</td>\n",
       "      <td id=\"T_fd7f8_row14_col4\" class=\"data row14 col4\" >0.230000</td>\n",
       "      <td id=\"T_fd7f8_row14_col5\" class=\"data row14 col5\" >1</td>\n",
       "    </tr>\n",
       "  </tbody>\n",
       "</table>\n"
      ],
      "text/plain": [
       "<pandas.io.formats.style.Styler at 0x7f809023fca0>"
      ]
     },
     "execution_count": 99,
     "metadata": {},
     "output_type": "execute_result"
    }
   ],
   "source": [
    "%%time\n",
    "# Create Document - Topic Matrix\n",
    "lda_output = best_lda_model_idf.transform(bow)\n",
    "\n",
    "# column names\n",
    "topicnames = ['topic' + str(i) for i in range(best_lda_model_idf.n_components)] # crée une liste de colonne  en fonction du nombre de composante n\n",
    "\n",
    "# index names\n",
    "docnames = ['Document' + str(i) for i in range(idf.toarray().shape[0])] # crée une liste de ligne en fonction du nombre de lignes de Bag of Words\n",
    "\n",
    "\n",
    "# Make the pandas dataframe\n",
    "df_document_topic_2 = pd.DataFrame(np.round(lda_output, 2), columns=topicnames, index=docnames)\n",
    "\n",
    "# Get dominant topic for each document\n",
    "dominant_topic_2 = np.argmax(df_document_topic_2.values, axis=1)\n",
    "df_document_topic_2['dominant_topic'] = dominant_topic_2\n",
    "\n",
    "# Styling\n",
    "def color_green(val):\n",
    "    color = 'green' if val > .1 else 'black'\n",
    "    return 'color: {col}'.format(col=color)\n",
    "\n",
    "def make_bold(val):\n",
    "    weight = 700 if val > .1 else 400\n",
    "    return 'font-weight: {weight}'.format(weight=weight)\n",
    "\n",
    "# Apply Style\n",
    "df_document_topic_2 = df_document_topic_2.head(15).style.applymap(color_green).applymap(make_bold)\n",
    "df_document_topic_2"
   ]
  },
  {
   "cell_type": "markdown",
   "id": "06d3cf03",
   "metadata": {},
   "source": [
    "#### Recherche des topics en fonction des documents :"
   ]
  },
  {
   "cell_type": "code",
   "execution_count": 100,
   "id": "19375cfc",
   "metadata": {
    "ExecuteTime": {
     "end_time": "2022-10-17T14:36:41.653521Z",
     "start_time": "2022-10-17T14:36:41.648991Z"
    }
   },
   "outputs": [
    {
     "data": {
      "text/html": [
       "<div>\n",
       "<style scoped>\n",
       "    .dataframe tbody tr th:only-of-type {\n",
       "        vertical-align: middle;\n",
       "    }\n",
       "\n",
       "    .dataframe tbody tr th {\n",
       "        vertical-align: top;\n",
       "    }\n",
       "\n",
       "    .dataframe thead th {\n",
       "        text-align: right;\n",
       "    }\n",
       "</style>\n",
       "<table border=\"1\" class=\"dataframe\">\n",
       "  <thead>\n",
       "    <tr style=\"text-align: right;\">\n",
       "      <th></th>\n",
       "      <th>Topic Num</th>\n",
       "      <th>Num Documents</th>\n",
       "    </tr>\n",
       "  </thead>\n",
       "  <tbody>\n",
       "    <tr>\n",
       "      <th>0</th>\n",
       "      <td>0</td>\n",
       "      <td>7543</td>\n",
       "    </tr>\n",
       "    <tr>\n",
       "      <th>1</th>\n",
       "      <td>4</td>\n",
       "      <td>7174</td>\n",
       "    </tr>\n",
       "    <tr>\n",
       "      <th>2</th>\n",
       "      <td>1</td>\n",
       "      <td>6325</td>\n",
       "    </tr>\n",
       "    <tr>\n",
       "      <th>3</th>\n",
       "      <td>3</td>\n",
       "      <td>5308</td>\n",
       "    </tr>\n",
       "    <tr>\n",
       "      <th>4</th>\n",
       "      <td>2</td>\n",
       "      <td>4814</td>\n",
       "    </tr>\n",
       "  </tbody>\n",
       "</table>\n",
       "</div>"
      ],
      "text/plain": [
       "   Topic Num  Num Documents\n",
       "0          0           7543\n",
       "1          4           7174\n",
       "2          1           6325\n",
       "3          3           5308\n",
       "4          2           4814"
      ]
     },
     "execution_count": 100,
     "metadata": {},
     "output_type": "execute_result"
    }
   ],
   "source": [
    "df_topic_distribution = df_document_topic['dominant_topic'].value_counts().reset_index(name=\"Num Documents\")\n",
    "df_topic_distribution.columns = ['Topic Num', 'Num Documents']\n",
    "df_topic_distribution"
   ]
  },
  {
   "cell_type": "markdown",
   "id": "e9fd9659",
   "metadata": {},
   "source": [
    "#### Visualisation :"
   ]
  },
  {
   "cell_type": "code",
   "execution_count": 101,
   "id": "3fe17dc1",
   "metadata": {
    "ExecuteTime": {
     "end_time": "2022-10-17T14:36:41.665978Z",
     "start_time": "2022-10-17T14:36:41.654486Z"
    }
   },
   "outputs": [
    {
     "name": "stdout",
     "output_type": "stream",
     "text": [
      "CPU times: user 359 µs, sys: 6 µs, total: 365 µs\n",
      "Wall time: 366 µs\n"
     ]
    },
    {
     "data": {
      "text/html": [
       "<div>\n",
       "<style scoped>\n",
       "    .dataframe tbody tr th:only-of-type {\n",
       "        vertical-align: middle;\n",
       "    }\n",
       "\n",
       "    .dataframe tbody tr th {\n",
       "        vertical-align: top;\n",
       "    }\n",
       "\n",
       "    .dataframe thead th {\n",
       "        text-align: right;\n",
       "    }\n",
       "</style>\n",
       "<table border=\"1\" class=\"dataframe\">\n",
       "  <thead>\n",
       "    <tr style=\"text-align: right;\">\n",
       "      <th></th>\n",
       "      <th>access</th>\n",
       "      <th>account</th>\n",
       "      <th>action</th>\n",
       "      <th>add</th>\n",
       "      <th>address</th>\n",
       "      <th>advance</th>\n",
       "      <th>advice</th>\n",
       "      <th>algorithm</th>\n",
       "      <th>amount</th>\n",
       "      <th>android</th>\n",
       "      <th>...</th>\n",
       "      <th>version</th>\n",
       "      <th>video</th>\n",
       "      <th>view</th>\n",
       "      <th>way</th>\n",
       "      <th>web</th>\n",
       "      <th>website</th>\n",
       "      <th>window</th>\n",
       "      <th>word</th>\n",
       "      <th>work</th>\n",
       "      <th>year</th>\n",
       "    </tr>\n",
       "  </thead>\n",
       "  <tbody>\n",
       "    <tr>\n",
       "      <th>topic0</th>\n",
       "      <td>74.106619</td>\n",
       "      <td>0.268064</td>\n",
       "      <td>3.636315</td>\n",
       "      <td>23.714482</td>\n",
       "      <td>16.091369</td>\n",
       "      <td>39.968659</td>\n",
       "      <td>8.971015</td>\n",
       "      <td>3.641065</td>\n",
       "      <td>2.517653</td>\n",
       "      <td>0.201477</td>\n",
       "      <td>...</td>\n",
       "      <td>124.957262</td>\n",
       "      <td>0.201659</td>\n",
       "      <td>1.617669</td>\n",
       "      <td>267.841407</td>\n",
       "      <td>10.269878</td>\n",
       "      <td>3.848235</td>\n",
       "      <td>0.230162</td>\n",
       "      <td>1.195390</td>\n",
       "      <td>210.738434</td>\n",
       "      <td>0.200526</td>\n",
       "    </tr>\n",
       "    <tr>\n",
       "      <th>topic1</th>\n",
       "      <td>250.447585</td>\n",
       "      <td>156.916102</td>\n",
       "      <td>56.537467</td>\n",
       "      <td>25.878774</td>\n",
       "      <td>72.571180</td>\n",
       "      <td>61.314572</td>\n",
       "      <td>26.927983</td>\n",
       "      <td>0.201440</td>\n",
       "      <td>11.794242</td>\n",
       "      <td>55.507096</td>\n",
       "      <td>...</td>\n",
       "      <td>413.036905</td>\n",
       "      <td>117.810571</td>\n",
       "      <td>6.492666</td>\n",
       "      <td>236.056646</td>\n",
       "      <td>94.833623</td>\n",
       "      <td>41.228405</td>\n",
       "      <td>18.858467</td>\n",
       "      <td>0.200941</td>\n",
       "      <td>212.116173</td>\n",
       "      <td>0.409496</td>\n",
       "    </tr>\n",
       "    <tr>\n",
       "      <th>topic2</th>\n",
       "      <td>20.152980</td>\n",
       "      <td>2.651751</td>\n",
       "      <td>61.426922</td>\n",
       "      <td>18.561108</td>\n",
       "      <td>0.222553</td>\n",
       "      <td>48.269032</td>\n",
       "      <td>13.691295</td>\n",
       "      <td>0.201927</td>\n",
       "      <td>11.794944</td>\n",
       "      <td>24.819436</td>\n",
       "      <td>...</td>\n",
       "      <td>50.618156</td>\n",
       "      <td>30.117073</td>\n",
       "      <td>212.439921</td>\n",
       "      <td>168.119308</td>\n",
       "      <td>24.771064</td>\n",
       "      <td>45.568974</td>\n",
       "      <td>69.307829</td>\n",
       "      <td>0.202068</td>\n",
       "      <td>132.398055</td>\n",
       "      <td>0.201525</td>\n",
       "    </tr>\n",
       "    <tr>\n",
       "      <th>topic3</th>\n",
       "      <td>49.430397</td>\n",
       "      <td>1.448339</td>\n",
       "      <td>14.933112</td>\n",
       "      <td>23.125344</td>\n",
       "      <td>29.610305</td>\n",
       "      <td>32.969409</td>\n",
       "      <td>12.032780</td>\n",
       "      <td>14.690980</td>\n",
       "      <td>24.195090</td>\n",
       "      <td>0.201003</td>\n",
       "      <td>...</td>\n",
       "      <td>34.288894</td>\n",
       "      <td>0.204650</td>\n",
       "      <td>20.806549</td>\n",
       "      <td>282.387388</td>\n",
       "      <td>1.019009</td>\n",
       "      <td>0.203197</td>\n",
       "      <td>65.695353</td>\n",
       "      <td>0.213737</td>\n",
       "      <td>105.826568</td>\n",
       "      <td>0.201621</td>\n",
       "    </tr>\n",
       "    <tr>\n",
       "      <th>topic4</th>\n",
       "      <td>6.836955</td>\n",
       "      <td>12.617235</td>\n",
       "      <td>0.202641</td>\n",
       "      <td>9.077566</td>\n",
       "      <td>7.035054</td>\n",
       "      <td>86.766664</td>\n",
       "      <td>21.010910</td>\n",
       "      <td>67.132890</td>\n",
       "      <td>60.141034</td>\n",
       "      <td>0.200429</td>\n",
       "      <td>...</td>\n",
       "      <td>15.300137</td>\n",
       "      <td>0.202868</td>\n",
       "      <td>0.492669</td>\n",
       "      <td>250.944648</td>\n",
       "      <td>0.201632</td>\n",
       "      <td>0.201749</td>\n",
       "      <td>6.220247</td>\n",
       "      <td>129.130593</td>\n",
       "      <td>114.617533</td>\n",
       "      <td>94.841834</td>\n",
       "    </tr>\n",
       "  </tbody>\n",
       "</table>\n",
       "<p>5 rows × 396 columns</p>\n",
       "</div>"
      ],
      "text/plain": [
       "            access     account     action        add    address    advance  \\\n",
       "topic0   74.106619    0.268064   3.636315  23.714482  16.091369  39.968659   \n",
       "topic1  250.447585  156.916102  56.537467  25.878774  72.571180  61.314572   \n",
       "topic2   20.152980    2.651751  61.426922  18.561108   0.222553  48.269032   \n",
       "topic3   49.430397    1.448339  14.933112  23.125344  29.610305  32.969409   \n",
       "topic4    6.836955   12.617235   0.202641   9.077566   7.035054  86.766664   \n",
       "\n",
       "           advice  algorithm     amount    android  ...     version  \\\n",
       "topic0   8.971015   3.641065   2.517653   0.201477  ...  124.957262   \n",
       "topic1  26.927983   0.201440  11.794242  55.507096  ...  413.036905   \n",
       "topic2  13.691295   0.201927  11.794944  24.819436  ...   50.618156   \n",
       "topic3  12.032780  14.690980  24.195090   0.201003  ...   34.288894   \n",
       "topic4  21.010910  67.132890  60.141034   0.200429  ...   15.300137   \n",
       "\n",
       "             video        view         way        web    website     window  \\\n",
       "topic0    0.201659    1.617669  267.841407  10.269878   3.848235   0.230162   \n",
       "topic1  117.810571    6.492666  236.056646  94.833623  41.228405  18.858467   \n",
       "topic2   30.117073  212.439921  168.119308  24.771064  45.568974  69.307829   \n",
       "topic3    0.204650   20.806549  282.387388   1.019009   0.203197  65.695353   \n",
       "topic4    0.202868    0.492669  250.944648   0.201632   0.201749   6.220247   \n",
       "\n",
       "              word        work       year  \n",
       "topic0    1.195390  210.738434   0.200526  \n",
       "topic1    0.200941  212.116173   0.409496  \n",
       "topic2    0.202068  132.398055   0.201525  \n",
       "topic3    0.213737  105.826568   0.201621  \n",
       "topic4  129.130593  114.617533  94.841834  \n",
       "\n",
       "[5 rows x 396 columns]"
      ]
     },
     "execution_count": 101,
     "metadata": {},
     "output_type": "execute_result"
    }
   ],
   "source": [
    "%%time\n",
    "# Topic-Keyword Matrix\n",
    "df_topic_keywords_2 = pd.DataFrame(best_lda_model_idf.components_)\n",
    "\n",
    "# Assign Column and Index\n",
    "df_topic_keywords_2.columns = cv.get_feature_names_out()\n",
    "df_topic_keywords_2.index = topicnames\n",
    "\n",
    "# View\n",
    "df_topic_keywords_2.head(10)"
   ]
  },
  {
   "cell_type": "markdown",
   "id": "a01d9e0f",
   "metadata": {},
   "source": [
    "#### Visualisation du top des mots par topic : "
   ]
  },
  {
   "cell_type": "code",
   "execution_count": 102,
   "id": "7a7f28f5",
   "metadata": {
    "ExecuteTime": {
     "end_time": "2022-10-17T14:36:41.672740Z",
     "start_time": "2022-10-17T14:36:41.667087Z"
    }
   },
   "outputs": [
    {
     "name": "stdout",
     "output_type": "stream",
     "text": [
      "Pour le Topic 1, les mots avec les plus hautes valeurs sont :\n",
      "class        583.455623\n",
      "function     516.926290\n",
      "type         458.986277\n",
      "code         444.384646\n",
      "error        434.307639\n",
      "method       333.080983\n",
      "way          267.841407\n",
      "file         257.807898\n",
      "use          253.992288\n",
      "example      229.631621\n",
      "work         210.738434\n",
      "component    193.515655\n",
      "parameter    189.902180\n",
      "problem      182.937724\n",
      "package      175.717133\n",
      "Name: topic0, dtype: float64\n",
      "\n",
      "\n",
      "Pour le Topic 2, les mots avec les plus hautes valeurs sont :\n",
      "error          627.272197\n",
      "file           571.357997\n",
      "project        455.919020\n",
      "version        413.036905\n",
      "app            377.084680\n",
      "application    362.513724\n",
      "command        334.518073\n",
      "server         327.136206\n",
      "code           296.772035\n",
      "issue          293.663543\n",
      "problem        262.770637\n",
      "service        252.033734\n",
      "access         250.447585\n",
      "way            236.056646\n",
      "folder         226.692756\n",
      "Name: topic1, dtype: float64\n",
      "\n",
      "\n",
      "Pour le Topic 3, les mots avec les plus hautes valeurs sont :\n",
      "image      483.585399\n",
      "page       376.474119\n",
      "button     298.541906\n",
      "code       286.045620\n",
      "model      250.435643\n",
      "view       212.439921\n",
      "color      202.295075\n",
      "plot       186.486608\n",
      "way        168.119308\n",
      "screen     166.155818\n",
      "bar        156.876957\n",
      "problem    147.480666\n",
      "show       139.672844\n",
      "form       133.744886\n",
      "change     132.528957\n",
      "Name: topic2, dtype: float64\n",
      "\n",
      "\n",
      "Pour le Topic 4, les mots avec les plus hautes valeurs sont :\n",
      "value         415.815414\n",
      "list          383.999478\n",
      "array         294.770065\n",
      "way           282.387388\n",
      "code          277.066473\n",
      "time          259.607651\n",
      "query         242.256959\n",
      "function      235.489519\n",
      "memory        202.183570\n",
      "event         187.044903\n",
      "example       180.435364\n",
      "difference    180.035193\n",
      "loop          173.239603\n",
      "result        169.841866\n",
      "program       167.425470\n",
      "Name: topic3, dtype: float64\n",
      "\n",
      "\n",
      "Pour le Topic 5, les mots avec les plus hautes valeurs sont :\n",
      "column       800.771208\n",
      "output       414.650214\n",
      "number       374.100407\n",
      "value        338.738571\n",
      "row          315.986945\n",
      "code         304.310863\n",
      "example      283.426697\n",
      "dataframe    279.783686\n",
      "date         259.160989\n",
      "way          250.944648\n",
      "function     236.044479\n",
      "line         226.618514\n",
      "table        215.405113\n",
      "group        206.466785\n",
      "time         181.486496\n",
      "Name: topic4, dtype: float64\n",
      "\n",
      "\n"
     ]
    }
   ],
   "source": [
    "for topic in range(df_topic_keywords_2.shape[0]):\n",
    "    tmp = df_topic_keywords_2.iloc[topic]\n",
    "    print(f'Pour le Topic {topic+1}, les mots avec les plus hautes valeurs sont :')\n",
    "    print(tmp.nlargest(15))\n",
    "    print('\\n')"
   ]
  },
  {
   "cell_type": "markdown",
   "id": "41e39041",
   "metadata": {},
   "source": [
    "## NMF :"
   ]
  },
  {
   "cell_type": "markdown",
   "id": "f6390fc8",
   "metadata": {},
   "source": [
    "En algèbre linéaire et en analyse à plusieurs variables, la factorisation matricielle non négative est un groupe d’algorithmes qui permet de factoriser une matrice V en deux matrices (W et H) qui ne contiennent que des valeurs positives ou nulles et dont le produit est proche de V.\n",
    "\n",
    "source : https://datafranca.org/wiki/Factorisation_matricielle_non_négative\n",
    "source : https://predictivehacks.com/topic-modelling-with-nmf-in-python/"
   ]
  },
  {
   "cell_type": "code",
   "execution_count": 103,
   "id": "3754df25",
   "metadata": {
    "ExecuteTime": {
     "end_time": "2022-10-17T14:36:41.675611Z",
     "start_time": "2022-10-17T14:36:41.673580Z"
    }
   },
   "outputs": [],
   "source": [
    "import pandas as pd\n",
    "from sklearn.decomposition import NMF\n",
    "from sklearn.feature_extraction.text import TfidfVectorizer"
   ]
  },
  {
   "cell_type": "code",
   "execution_count": 104,
   "id": "60c15f9c",
   "metadata": {
    "ExecuteTime": {
     "end_time": "2022-10-17T14:36:41.678623Z",
     "start_time": "2022-10-17T14:36:41.676796Z"
    }
   },
   "outputs": [],
   "source": [
    "top_topics = 5\n",
    "X = idf"
   ]
  },
  {
   "cell_type": "code",
   "execution_count": 105,
   "id": "6d12f948",
   "metadata": {
    "ExecuteTime": {
     "end_time": "2022-10-17T14:36:41.950067Z",
     "start_time": "2022-10-17T14:36:41.679473Z"
    }
   },
   "outputs": [
    {
     "name": "stdout",
     "output_type": "stream",
     "text": [
      "CPU times: user 417 ms, sys: 845 ms, total: 1.26 s\n",
      "Wall time: 268 ms\n"
     ]
    }
   ],
   "source": [
    "%%time\n",
    "# Create an NMF instance: model\n",
    "# the 10 components will be the topics\n",
    "model_nmf = NMF(n_components=top_topics, random_state= 0)\n",
    " \n",
    "# Fit the model to TF-IDF\n",
    "model_nmf.fit(X)\n",
    " \n",
    "# Transform the TF-IDF: nmf_features\n",
    "nmf_features = model_nmf.transform(X)"
   ]
  },
  {
   "cell_type": "code",
   "execution_count": 106,
   "id": "4674e197",
   "metadata": {
    "ExecuteTime": {
     "end_time": "2022-10-17T14:36:41.956946Z",
     "start_time": "2022-10-17T14:36:41.951437Z"
    }
   },
   "outputs": [
    {
     "name": "stdout",
     "output_type": "stream",
     "text": [
      "Shape de X :\n"
     ]
    },
    {
     "data": {
      "text/plain": [
       "(31164, 396)"
      ]
     },
     "metadata": {},
     "output_type": "display_data"
    },
    {
     "name": "stdout",
     "output_type": "stream",
     "text": [
      "\n",
      "Shape des features de NMF :\n"
     ]
    },
    {
     "data": {
      "text/plain": [
       "(31164, 5)"
      ]
     },
     "metadata": {},
     "output_type": "display_data"
    },
    {
     "name": "stdout",
     "output_type": "stream",
     "text": [
      "\n",
      "Shape des composantes de NMF :\n"
     ]
    },
    {
     "data": {
      "text/plain": [
       "(5, 396)"
      ]
     },
     "metadata": {},
     "output_type": "display_data"
    }
   ],
   "source": [
    "print(f\"Shape de X :\")\n",
    "display(X.shape)\n",
    "print('')\n",
    "print(f\"Shape des features de NMF :\")\n",
    "display(nmf_features.shape)\n",
    "print('')\n",
    "print(f\"Shape des composantes de NMF :\")\n",
    "display(model_nmf.components_.shape)"
   ]
  },
  {
   "cell_type": "markdown",
   "id": "ac00c19f",
   "metadata": {},
   "source": [
    "#### Visualisation du DataFrame :"
   ]
  },
  {
   "cell_type": "code",
   "execution_count": 107,
   "id": "42d0cbf5",
   "metadata": {
    "ExecuteTime": {
     "end_time": "2022-10-17T14:36:41.969710Z",
     "start_time": "2022-10-17T14:36:41.958070Z"
    }
   },
   "outputs": [
    {
     "data": {
      "text/html": [
       "<div>\n",
       "<style scoped>\n",
       "    .dataframe tbody tr th:only-of-type {\n",
       "        vertical-align: middle;\n",
       "    }\n",
       "\n",
       "    .dataframe tbody tr th {\n",
       "        vertical-align: top;\n",
       "    }\n",
       "\n",
       "    .dataframe thead th {\n",
       "        text-align: right;\n",
       "    }\n",
       "</style>\n",
       "<table border=\"1\" class=\"dataframe\">\n",
       "  <thead>\n",
       "    <tr style=\"text-align: right;\">\n",
       "      <th></th>\n",
       "      <th>access</th>\n",
       "      <th>account</th>\n",
       "      <th>action</th>\n",
       "      <th>add</th>\n",
       "      <th>address</th>\n",
       "      <th>advance</th>\n",
       "      <th>advice</th>\n",
       "      <th>algorithm</th>\n",
       "      <th>amount</th>\n",
       "      <th>android</th>\n",
       "      <th>...</th>\n",
       "      <th>version</th>\n",
       "      <th>video</th>\n",
       "      <th>view</th>\n",
       "      <th>way</th>\n",
       "      <th>web</th>\n",
       "      <th>website</th>\n",
       "      <th>window</th>\n",
       "      <th>word</th>\n",
       "      <th>work</th>\n",
       "      <th>year</th>\n",
       "    </tr>\n",
       "  </thead>\n",
       "  <tbody>\n",
       "    <tr>\n",
       "      <th>0</th>\n",
       "      <td>0.498160</td>\n",
       "      <td>0.167885</td>\n",
       "      <td>0.147325</td>\n",
       "      <td>0.109624</td>\n",
       "      <td>0.123830</td>\n",
       "      <td>0.323973</td>\n",
       "      <td>0.092657</td>\n",
       "      <td>0.126795</td>\n",
       "      <td>0.146430</td>\n",
       "      <td>0.038186</td>\n",
       "      <td>...</td>\n",
       "      <td>0.281095</td>\n",
       "      <td>0.181997</td>\n",
       "      <td>0.336674</td>\n",
       "      <td>2.306975</td>\n",
       "      <td>0.145763</td>\n",
       "      <td>0.105544</td>\n",
       "      <td>0.203979</td>\n",
       "      <td>0.132680</td>\n",
       "      <td>1.208028</td>\n",
       "      <td>0.071922</td>\n",
       "    </tr>\n",
       "    <tr>\n",
       "      <th>1</th>\n",
       "      <td>0.000000</td>\n",
       "      <td>0.006553</td>\n",
       "      <td>0.000000</td>\n",
       "      <td>0.013212</td>\n",
       "      <td>0.001428</td>\n",
       "      <td>0.087533</td>\n",
       "      <td>0.012235</td>\n",
       "      <td>0.000261</td>\n",
       "      <td>0.059487</td>\n",
       "      <td>0.000000</td>\n",
       "      <td>...</td>\n",
       "      <td>0.000000</td>\n",
       "      <td>0.000000</td>\n",
       "      <td>0.000000</td>\n",
       "      <td>0.160460</td>\n",
       "      <td>0.000000</td>\n",
       "      <td>0.000000</td>\n",
       "      <td>0.017453</td>\n",
       "      <td>0.055755</td>\n",
       "      <td>0.023048</td>\n",
       "      <td>0.109591</td>\n",
       "    </tr>\n",
       "    <tr>\n",
       "      <th>2</th>\n",
       "      <td>0.094333</td>\n",
       "      <td>0.013669</td>\n",
       "      <td>0.031484</td>\n",
       "      <td>0.045443</td>\n",
       "      <td>0.008130</td>\n",
       "      <td>0.049186</td>\n",
       "      <td>0.015457</td>\n",
       "      <td>0.000000</td>\n",
       "      <td>0.000690</td>\n",
       "      <td>0.035074</td>\n",
       "      <td>...</td>\n",
       "      <td>0.156967</td>\n",
       "      <td>0.059195</td>\n",
       "      <td>0.015516</td>\n",
       "      <td>0.000000</td>\n",
       "      <td>0.034460</td>\n",
       "      <td>0.011991</td>\n",
       "      <td>0.000753</td>\n",
       "      <td>0.032006</td>\n",
       "      <td>0.173615</td>\n",
       "      <td>0.000000</td>\n",
       "    </tr>\n",
       "    <tr>\n",
       "      <th>3</th>\n",
       "      <td>0.112922</td>\n",
       "      <td>0.065060</td>\n",
       "      <td>0.033959</td>\n",
       "      <td>0.017047</td>\n",
       "      <td>0.030165</td>\n",
       "      <td>0.049055</td>\n",
       "      <td>0.016964</td>\n",
       "      <td>0.000000</td>\n",
       "      <td>0.000000</td>\n",
       "      <td>0.064908</td>\n",
       "      <td>...</td>\n",
       "      <td>0.967324</td>\n",
       "      <td>0.000000</td>\n",
       "      <td>0.000000</td>\n",
       "      <td>0.000000</td>\n",
       "      <td>0.049101</td>\n",
       "      <td>0.032365</td>\n",
       "      <td>0.021401</td>\n",
       "      <td>0.000000</td>\n",
       "      <td>0.106893</td>\n",
       "      <td>0.002968</td>\n",
       "    </tr>\n",
       "    <tr>\n",
       "      <th>4</th>\n",
       "      <td>0.013387</td>\n",
       "      <td>0.001505</td>\n",
       "      <td>0.000000</td>\n",
       "      <td>0.001547</td>\n",
       "      <td>0.027659</td>\n",
       "      <td>0.018666</td>\n",
       "      <td>0.019870</td>\n",
       "      <td>0.012280</td>\n",
       "      <td>0.010056</td>\n",
       "      <td>0.000000</td>\n",
       "      <td>...</td>\n",
       "      <td>0.000000</td>\n",
       "      <td>0.000000</td>\n",
       "      <td>0.000000</td>\n",
       "      <td>0.091969</td>\n",
       "      <td>0.000000</td>\n",
       "      <td>0.000000</td>\n",
       "      <td>0.000000</td>\n",
       "      <td>0.016261</td>\n",
       "      <td>0.115379</td>\n",
       "      <td>0.000000</td>\n",
       "    </tr>\n",
       "  </tbody>\n",
       "</table>\n",
       "<p>5 rows × 396 columns</p>\n",
       "</div>"
      ],
      "text/plain": [
       "     access   account    action       add   address   advance    advice  \\\n",
       "0  0.498160  0.167885  0.147325  0.109624  0.123830  0.323973  0.092657   \n",
       "1  0.000000  0.006553  0.000000  0.013212  0.001428  0.087533  0.012235   \n",
       "2  0.094333  0.013669  0.031484  0.045443  0.008130  0.049186  0.015457   \n",
       "3  0.112922  0.065060  0.033959  0.017047  0.030165  0.049055  0.016964   \n",
       "4  0.013387  0.001505  0.000000  0.001547  0.027659  0.018666  0.019870   \n",
       "\n",
       "   algorithm    amount   android  ...   version     video      view       way  \\\n",
       "0   0.126795  0.146430  0.038186  ...  0.281095  0.181997  0.336674  2.306975   \n",
       "1   0.000261  0.059487  0.000000  ...  0.000000  0.000000  0.000000  0.160460   \n",
       "2   0.000000  0.000690  0.035074  ...  0.156967  0.059195  0.015516  0.000000   \n",
       "3   0.000000  0.000000  0.064908  ...  0.967324  0.000000  0.000000  0.000000   \n",
       "4   0.012280  0.010056  0.000000  ...  0.000000  0.000000  0.000000  0.091969   \n",
       "\n",
       "        web   website    window      word      work      year  \n",
       "0  0.145763  0.105544  0.203979  0.132680  1.208028  0.071922  \n",
       "1  0.000000  0.000000  0.017453  0.055755  0.023048  0.109591  \n",
       "2  0.034460  0.011991  0.000753  0.032006  0.173615  0.000000  \n",
       "3  0.049101  0.032365  0.021401  0.000000  0.106893  0.002968  \n",
       "4  0.000000  0.000000  0.000000  0.016261  0.115379  0.000000  \n",
       "\n",
       "[5 rows x 396 columns]"
      ]
     },
     "execution_count": 107,
     "metadata": {},
     "output_type": "execute_result"
    }
   ],
   "source": [
    "# Create a DataFrame: components_df\n",
    "components_df = pd.DataFrame(model_nmf.components_, columns=cv.get_feature_names_out())\n",
    "components_df"
   ]
  },
  {
   "cell_type": "markdown",
   "id": "26dc2c98",
   "metadata": {},
   "source": [
    "#### Visualisation du top des mots par topic : "
   ]
  },
  {
   "cell_type": "code",
   "execution_count": 108,
   "id": "4c4f0647",
   "metadata": {
    "ExecuteTime": {
     "end_time": "2022-10-17T14:36:41.976409Z",
     "start_time": "2022-10-17T14:36:41.971177Z"
    }
   },
   "outputs": [
    {
     "name": "stdout",
     "output_type": "stream",
     "text": [
      "Pour le Topic 1, les mots avec les plus hautes valeurs sont :\n",
      "code         3.751194\n",
      "way          2.306975\n",
      "problem      1.452460\n",
      "example      1.404195\n",
      "time         1.377133\n",
      "class        1.328129\n",
      "work         1.208028\n",
      "use          1.179778\n",
      "list         1.123566\n",
      "something    1.049494\n",
      "Name: 0, dtype: float64\n",
      "\n",
      "\n",
      "Pour le Topic 2, les mots avec les plus hautes valeurs sont :\n",
      "column       4.390396\n",
      "value        1.827335\n",
      "row          1.056802\n",
      "dataframe    0.958390\n",
      "output       0.607753\n",
      "table        0.443640\n",
      "number       0.436476\n",
      "name         0.374864\n",
      "example      0.367322\n",
      "group        0.358919\n",
      "Name: 1, dtype: float64\n",
      "\n",
      "\n",
      "Pour le Topic 3, les mots avec les plus hautes valeurs sont :\n",
      "file         4.933103\n",
      "project      0.563522\n",
      "folder       0.459812\n",
      "command      0.420555\n",
      "script       0.411858\n",
      "line         0.384644\n",
      "directory    0.320127\n",
      "json         0.291015\n",
      "output       0.270002\n",
      "path         0.266529\n",
      "Name: 2, dtype: float64\n",
      "\n",
      "\n",
      "Pour le Topic 4, les mots avec les plus hautes valeurs sont :\n",
      "error          3.877580\n",
      "version        0.967324\n",
      "project        0.758602\n",
      "message        0.522663\n",
      "issue          0.445023\n",
      "command        0.374999\n",
      "app            0.365126\n",
      "package        0.363633\n",
      "application    0.301818\n",
      "help           0.264263\n",
      "Name: 3, dtype: float64\n",
      "\n",
      "\n",
      "Pour le Topic 5, les mots avec les plus hautes valeurs sont :\n",
      "function     4.554388\n",
      "type         0.798725\n",
      "call         0.293337\n",
      "value        0.292117\n",
      "argument     0.283923\n",
      "parameter    0.250627\n",
      "return       0.243601\n",
      "example      0.240247\n",
      "use          0.178351\n",
      "array        0.168672\n",
      "Name: 4, dtype: float64\n",
      "\n",
      "\n"
     ]
    }
   ],
   "source": [
    "for topic in range(components_df.shape[0]):\n",
    "    tmp = components_df.iloc[topic]\n",
    "    print(f'Pour le Topic {topic+1}, les mots avec les plus hautes valeurs sont :')\n",
    "    print(tmp.nlargest(10))\n",
    "    print('\\n')"
   ]
  },
  {
   "cell_type": "markdown",
   "id": "cd5ee741",
   "metadata": {},
   "source": [
    "## Word2cv :"
   ]
  },
  {
   "cell_type": "markdown",
   "id": "723eac11",
   "metadata": {},
   "source": [
    "Ce lien m'a fortement aidé : https://www.kaggle.com/code/pierremegret/gensim-word2vec-tutorial/notebook"
   ]
  },
  {
   "cell_type": "code",
   "execution_count": null,
   "id": "ae1e00ca",
   "metadata": {},
   "outputs": [],
   "source": []
  },
  {
   "cell_type": "code",
   "execution_count": null,
   "id": "83543e7c",
   "metadata": {},
   "outputs": [],
   "source": []
  },
  {
   "cell_type": "code",
   "execution_count": null,
   "id": "8a7b4335",
   "metadata": {},
   "outputs": [],
   "source": []
  },
  {
   "cell_type": "code",
   "execution_count": null,
   "id": "c44e456e",
   "metadata": {},
   "outputs": [],
   "source": []
  },
  {
   "cell_type": "code",
   "execution_count": null,
   "id": "b05427ad",
   "metadata": {},
   "outputs": [],
   "source": []
  },
  {
   "cell_type": "code",
   "execution_count": null,
   "id": "af54b1d6",
   "metadata": {},
   "outputs": [],
   "source": []
  },
  {
   "cell_type": "code",
   "execution_count": null,
   "id": "513f7cf3",
   "metadata": {},
   "outputs": [],
   "source": []
  },
  {
   "cell_type": "markdown",
   "id": "30303955",
   "metadata": {},
   "source": [
    "## Word Embedding :"
   ]
  },
  {
   "cell_type": "code",
   "execution_count": null,
   "id": "c157b993",
   "metadata": {},
   "outputs": [],
   "source": []
  },
  {
   "cell_type": "code",
   "execution_count": null,
   "id": "e0d0585a",
   "metadata": {},
   "outputs": [],
   "source": []
  },
  {
   "cell_type": "code",
   "execution_count": null,
   "id": "8759ab8d",
   "metadata": {},
   "outputs": [],
   "source": []
  },
  {
   "cell_type": "markdown",
   "id": "970027a0",
   "metadata": {},
   "source": [
    "## BERT :"
   ]
  },
  {
   "cell_type": "code",
   "execution_count": null,
   "id": "20bc322f",
   "metadata": {},
   "outputs": [],
   "source": []
  },
  {
   "cell_type": "markdown",
   "id": "bebf4872",
   "metadata": {},
   "source": [
    "# Approche supervisée :"
   ]
  },
  {
   "cell_type": "markdown",
   "id": "799bbe5e",
   "metadata": {},
   "source": [
    "## Création de colonne pour le futur X et y :"
   ]
  },
  {
   "cell_type": "code",
   "execution_count": 109,
   "id": "648d32b0",
   "metadata": {
    "ExecuteTime": {
     "end_time": "2022-10-17T14:36:41.987396Z",
     "start_time": "2022-10-17T14:36:41.977565Z"
    }
   },
   "outputs": [
    {
     "data": {
      "text/html": [
       "<div>\n",
       "<style scoped>\n",
       "    .dataframe tbody tr th:only-of-type {\n",
       "        vertical-align: middle;\n",
       "    }\n",
       "\n",
       "    .dataframe tbody tr th {\n",
       "        vertical-align: top;\n",
       "    }\n",
       "\n",
       "    .dataframe thead th {\n",
       "        text-align: right;\n",
       "    }\n",
       "</style>\n",
       "<table border=\"1\" class=\"dataframe\">\n",
       "  <thead>\n",
       "    <tr style=\"text-align: right;\">\n",
       "      <th></th>\n",
       "      <th>Corpus</th>\n",
       "      <th>Tags</th>\n",
       "      <th>corpus_preprocessing</th>\n",
       "      <th>tags_preprocessing</th>\n",
       "      <th>Tags_count</th>\n",
       "    </tr>\n",
       "  </thead>\n",
       "  <tbody>\n",
       "    <tr>\n",
       "      <th>0</th>\n",
       "      <td>delete loop form option image input form array...</td>\n",
       "      <td>php foreach pdo associative-array</td>\n",
       "      <td>[delete, loop, form, option, image, input, for...</td>\n",
       "      <td>[php, foreach, pdo, associative-array]</td>\n",
       "      <td>4</td>\n",
       "    </tr>\n",
       "    <tr>\n",
       "      <th>1</th>\n",
       "      <td>script mysql sql path way path path</td>\n",
       "      <td>mysql sql script</td>\n",
       "      <td>[script, mysql, sql, path, way, path, path]</td>\n",
       "      <td>[mysql, sql, script]</td>\n",
       "      <td>3</td>\n",
       "    </tr>\n",
       "    <tr>\n",
       "      <th>2</th>\n",
       "      <td>verification authentication python decode func...</td>\n",
       "      <td>python oauth-2.0 jwt rsa jwk</td>\n",
       "      <td>[verification, authentication, python, decode,...</td>\n",
       "      <td>[python, oauth-2.0, jwt, rsa, jwk]</td>\n",
       "      <td>5</td>\n",
       "    </tr>\n",
       "    <tr>\n",
       "      <th>3</th>\n",
       "      <td>work context manager example manager file sugg...</td>\n",
       "      <td>python contextmanager</td>\n",
       "      <td>[work, context, manager, example, manager, fil...</td>\n",
       "      <td>[python, contextmanager]</td>\n",
       "      <td>2</td>\n",
       "    </tr>\n",
       "    <tr>\n",
       "      <th>4</th>\n",
       "      <td>branch protection rule configuration branch br...</td>\n",
       "      <td>github</td>\n",
       "      <td>[branch, protection, rule, configuration, bran...</td>\n",
       "      <td>[github]</td>\n",
       "      <td>1</td>\n",
       "    </tr>\n",
       "    <tr>\n",
       "      <th>...</th>\n",
       "      <td>...</td>\n",
       "      <td>...</td>\n",
       "      <td>...</td>\n",
       "      <td>...</td>\n",
       "      <td>...</td>\n",
       "    </tr>\n",
       "    <tr>\n",
       "      <th>31159</th>\n",
       "      <td>class compile time class compile time code sni...</td>\n",
       "      <td>c++ c-preprocessor c++20 template-meta-program...</td>\n",
       "      <td>[class, compile, time, class, compile, time, c...</td>\n",
       "      <td>[c++, c-preprocessor, c++20, template-meta-pro...</td>\n",
       "      <td>4</td>\n",
       "    </tr>\n",
       "    <tr>\n",
       "      <th>31160</th>\n",
       "      <td>inline constraint function implementation look...</td>\n",
       "      <td>typescript typescript-generics tsc generic-con...</td>\n",
       "      <td>[inline, constraint, function, implementation,...</td>\n",
       "      <td>[typescript, typescript-generics, tsc, generic...</td>\n",
       "      <td>4</td>\n",
       "    </tr>\n",
       "    <tr>\n",
       "      <th>31161</th>\n",
       "      <td>classname javascript change class name li</td>\n",
       "      <td>javascript html css</td>\n",
       "      <td>[classname, javascript, change, class, name, li]</td>\n",
       "      <td>[javascript, html, cs]</td>\n",
       "      <td>3</td>\n",
       "    </tr>\n",
       "    <tr>\n",
       "      <th>31162</th>\n",
       "      <td>input change size shape tap shape user input e...</td>\n",
       "      <td>swift swiftui augmented-reality realitykit</td>\n",
       "      <td>[input, change, size, shape, tap, shape, user,...</td>\n",
       "      <td>[swift, swiftui, augmented-reality, realitykit]</td>\n",
       "      <td>4</td>\n",
       "    </tr>\n",
       "    <tr>\n",
       "      <th>31163</th>\n",
       "      <td>function macro definition gdb source file frag...</td>\n",
       "      <td>c gcc macros gdb</td>\n",
       "      <td>[function, macro, definition, gdb, source, fil...</td>\n",
       "      <td>[gcc, macro, gdb]</td>\n",
       "      <td>4</td>\n",
       "    </tr>\n",
       "  </tbody>\n",
       "</table>\n",
       "<p>31164 rows × 5 columns</p>\n",
       "</div>"
      ],
      "text/plain": [
       "                                                  Corpus  \\\n",
       "0      delete loop form option image input form array...   \n",
       "1                    script mysql sql path way path path   \n",
       "2      verification authentication python decode func...   \n",
       "3      work context manager example manager file sugg...   \n",
       "4      branch protection rule configuration branch br...   \n",
       "...                                                  ...   \n",
       "31159  class compile time class compile time code sni...   \n",
       "31160  inline constraint function implementation look...   \n",
       "31161          classname javascript change class name li   \n",
       "31162  input change size shape tap shape user input e...   \n",
       "31163  function macro definition gdb source file frag...   \n",
       "\n",
       "                                                    Tags  \\\n",
       "0                      php foreach pdo associative-array   \n",
       "1                                       mysql sql script   \n",
       "2                           python oauth-2.0 jwt rsa jwk   \n",
       "3                                  python contextmanager   \n",
       "4                                                 github   \n",
       "...                                                  ...   \n",
       "31159  c++ c-preprocessor c++20 template-meta-program...   \n",
       "31160  typescript typescript-generics tsc generic-con...   \n",
       "31161                                javascript html css   \n",
       "31162         swift swiftui augmented-reality realitykit   \n",
       "31163                                   c gcc macros gdb   \n",
       "\n",
       "                                    corpus_preprocessing  \\\n",
       "0      [delete, loop, form, option, image, input, for...   \n",
       "1            [script, mysql, sql, path, way, path, path]   \n",
       "2      [verification, authentication, python, decode,...   \n",
       "3      [work, context, manager, example, manager, fil...   \n",
       "4      [branch, protection, rule, configuration, bran...   \n",
       "...                                                  ...   \n",
       "31159  [class, compile, time, class, compile, time, c...   \n",
       "31160  [inline, constraint, function, implementation,...   \n",
       "31161   [classname, javascript, change, class, name, li]   \n",
       "31162  [input, change, size, shape, tap, shape, user,...   \n",
       "31163  [function, macro, definition, gdb, source, fil...   \n",
       "\n",
       "                                      tags_preprocessing  Tags_count  \n",
       "0                 [php, foreach, pdo, associative-array]           4  \n",
       "1                                   [mysql, sql, script]           3  \n",
       "2                     [python, oauth-2.0, jwt, rsa, jwk]           5  \n",
       "3                               [python, contextmanager]           2  \n",
       "4                                               [github]           1  \n",
       "...                                                  ...         ...  \n",
       "31159  [c++, c-preprocessor, c++20, template-meta-pro...           4  \n",
       "31160  [typescript, typescript-generics, tsc, generic...           4  \n",
       "31161                             [javascript, html, cs]           3  \n",
       "31162    [swift, swiftui, augmented-reality, realitykit]           4  \n",
       "31163                                  [gcc, macro, gdb]           4  \n",
       "\n",
       "[31164 rows x 5 columns]"
      ]
     },
     "execution_count": 109,
     "metadata": {},
     "output_type": "execute_result"
    }
   ],
   "source": [
    "df_visualisation"
   ]
  },
  {
   "cell_type": "code",
   "execution_count": 110,
   "id": "76bc5aae",
   "metadata": {
    "ExecuteTime": {
     "end_time": "2022-10-17T14:36:42.006133Z",
     "start_time": "2022-10-17T14:36:41.988686Z"
    }
   },
   "outputs": [],
   "source": [
    "df_modellisation = df_visualisation[['corpus_preprocessing','tags_preprocessing']]"
   ]
  },
  {
   "cell_type": "code",
   "execution_count": 111,
   "id": "d2dfb3ab",
   "metadata": {
    "ExecuteTime": {
     "end_time": "2022-10-17T14:36:42.037507Z",
     "start_time": "2022-10-17T14:36:42.007329Z"
    }
   },
   "outputs": [],
   "source": [
    "df_modellisation['corpus_finish'] = df_modellisation['corpus_preprocessing'].apply(lambda x : \" \".join(x))\n",
    "df_modellisation['tags_finish'] = df_modellisation['tags_preprocessing'].apply(lambda x : \" \".join(x))"
   ]
  },
  {
   "cell_type": "code",
   "execution_count": 112,
   "id": "2fb272c6",
   "metadata": {
    "ExecuteTime": {
     "end_time": "2022-10-17T14:36:42.048673Z",
     "start_time": "2022-10-17T14:36:42.038743Z"
    }
   },
   "outputs": [
    {
     "data": {
      "text/html": [
       "<div>\n",
       "<style scoped>\n",
       "    .dataframe tbody tr th:only-of-type {\n",
       "        vertical-align: middle;\n",
       "    }\n",
       "\n",
       "    .dataframe tbody tr th {\n",
       "        vertical-align: top;\n",
       "    }\n",
       "\n",
       "    .dataframe thead th {\n",
       "        text-align: right;\n",
       "    }\n",
       "</style>\n",
       "<table border=\"1\" class=\"dataframe\">\n",
       "  <thead>\n",
       "    <tr style=\"text-align: right;\">\n",
       "      <th></th>\n",
       "      <th>corpus_preprocessing</th>\n",
       "      <th>tags_preprocessing</th>\n",
       "      <th>corpus_finish</th>\n",
       "      <th>tags_finish</th>\n",
       "    </tr>\n",
       "  </thead>\n",
       "  <tbody>\n",
       "    <tr>\n",
       "      <th>0</th>\n",
       "      <td>[delete, loop, form, option, image, input, for...</td>\n",
       "      <td>[php, foreach, pdo, associative-array]</td>\n",
       "      <td>delete loop form option image input form array...</td>\n",
       "      <td>php foreach pdo associative-array</td>\n",
       "    </tr>\n",
       "    <tr>\n",
       "      <th>1</th>\n",
       "      <td>[script, mysql, sql, path, way, path, path]</td>\n",
       "      <td>[mysql, sql, script]</td>\n",
       "      <td>script mysql sql path way path path</td>\n",
       "      <td>mysql sql script</td>\n",
       "    </tr>\n",
       "    <tr>\n",
       "      <th>2</th>\n",
       "      <td>[verification, authentication, python, decode,...</td>\n",
       "      <td>[python, oauth-2.0, jwt, rsa, jwk]</td>\n",
       "      <td>verification authentication python decode func...</td>\n",
       "      <td>python oauth-2.0 jwt rsa jwk</td>\n",
       "    </tr>\n",
       "    <tr>\n",
       "      <th>3</th>\n",
       "      <td>[work, context, manager, example, manager, fil...</td>\n",
       "      <td>[python, contextmanager]</td>\n",
       "      <td>work context manager example manager file sugg...</td>\n",
       "      <td>python contextmanager</td>\n",
       "    </tr>\n",
       "    <tr>\n",
       "      <th>4</th>\n",
       "      <td>[branch, protection, rule, configuration, bran...</td>\n",
       "      <td>[github]</td>\n",
       "      <td>branch protection rule configuration branch br...</td>\n",
       "      <td>github</td>\n",
       "    </tr>\n",
       "    <tr>\n",
       "      <th>...</th>\n",
       "      <td>...</td>\n",
       "      <td>...</td>\n",
       "      <td>...</td>\n",
       "      <td>...</td>\n",
       "    </tr>\n",
       "    <tr>\n",
       "      <th>31159</th>\n",
       "      <td>[class, compile, time, class, compile, time, c...</td>\n",
       "      <td>[c++, c-preprocessor, c++20, template-meta-pro...</td>\n",
       "      <td>class compile time class compile time code sni...</td>\n",
       "      <td>c++ c-preprocessor c++20 template-meta-program...</td>\n",
       "    </tr>\n",
       "    <tr>\n",
       "      <th>31160</th>\n",
       "      <td>[inline, constraint, function, implementation,...</td>\n",
       "      <td>[typescript, typescript-generics, tsc, generic...</td>\n",
       "      <td>inline constraint function implementation look...</td>\n",
       "      <td>typescript typescript-generics tsc generic-con...</td>\n",
       "    </tr>\n",
       "    <tr>\n",
       "      <th>31161</th>\n",
       "      <td>[classname, javascript, change, class, name, li]</td>\n",
       "      <td>[javascript, html, cs]</td>\n",
       "      <td>classname javascript change class name li</td>\n",
       "      <td>javascript html cs</td>\n",
       "    </tr>\n",
       "    <tr>\n",
       "      <th>31162</th>\n",
       "      <td>[input, change, size, shape, tap, shape, user,...</td>\n",
       "      <td>[swift, swiftui, augmented-reality, realitykit]</td>\n",
       "      <td>input change size shape tap shape user input e...</td>\n",
       "      <td>swift swiftui augmented-reality realitykit</td>\n",
       "    </tr>\n",
       "    <tr>\n",
       "      <th>31163</th>\n",
       "      <td>[function, macro, definition, gdb, source, fil...</td>\n",
       "      <td>[gcc, macro, gdb]</td>\n",
       "      <td>function macro definition gdb source file frag...</td>\n",
       "      <td>gcc macro gdb</td>\n",
       "    </tr>\n",
       "  </tbody>\n",
       "</table>\n",
       "<p>31164 rows × 4 columns</p>\n",
       "</div>"
      ],
      "text/plain": [
       "                                    corpus_preprocessing  \\\n",
       "0      [delete, loop, form, option, image, input, for...   \n",
       "1            [script, mysql, sql, path, way, path, path]   \n",
       "2      [verification, authentication, python, decode,...   \n",
       "3      [work, context, manager, example, manager, fil...   \n",
       "4      [branch, protection, rule, configuration, bran...   \n",
       "...                                                  ...   \n",
       "31159  [class, compile, time, class, compile, time, c...   \n",
       "31160  [inline, constraint, function, implementation,...   \n",
       "31161   [classname, javascript, change, class, name, li]   \n",
       "31162  [input, change, size, shape, tap, shape, user,...   \n",
       "31163  [function, macro, definition, gdb, source, fil...   \n",
       "\n",
       "                                      tags_preprocessing  \\\n",
       "0                 [php, foreach, pdo, associative-array]   \n",
       "1                                   [mysql, sql, script]   \n",
       "2                     [python, oauth-2.0, jwt, rsa, jwk]   \n",
       "3                               [python, contextmanager]   \n",
       "4                                               [github]   \n",
       "...                                                  ...   \n",
       "31159  [c++, c-preprocessor, c++20, template-meta-pro...   \n",
       "31160  [typescript, typescript-generics, tsc, generic...   \n",
       "31161                             [javascript, html, cs]   \n",
       "31162    [swift, swiftui, augmented-reality, realitykit]   \n",
       "31163                                  [gcc, macro, gdb]   \n",
       "\n",
       "                                           corpus_finish  \\\n",
       "0      delete loop form option image input form array...   \n",
       "1                    script mysql sql path way path path   \n",
       "2      verification authentication python decode func...   \n",
       "3      work context manager example manager file sugg...   \n",
       "4      branch protection rule configuration branch br...   \n",
       "...                                                  ...   \n",
       "31159  class compile time class compile time code sni...   \n",
       "31160  inline constraint function implementation look...   \n",
       "31161          classname javascript change class name li   \n",
       "31162  input change size shape tap shape user input e...   \n",
       "31163  function macro definition gdb source file frag...   \n",
       "\n",
       "                                             tags_finish  \n",
       "0                      php foreach pdo associative-array  \n",
       "1                                       mysql sql script  \n",
       "2                           python oauth-2.0 jwt rsa jwk  \n",
       "3                                  python contextmanager  \n",
       "4                                                 github  \n",
       "...                                                  ...  \n",
       "31159  c++ c-preprocessor c++20 template-meta-program...  \n",
       "31160  typescript typescript-generics tsc generic-con...  \n",
       "31161                                 javascript html cs  \n",
       "31162         swift swiftui augmented-reality realitykit  \n",
       "31163                                      gcc macro gdb  \n",
       "\n",
       "[31164 rows x 4 columns]"
      ]
     },
     "execution_count": 112,
     "metadata": {},
     "output_type": "execute_result"
    }
   ],
   "source": [
    "df_modellisation"
   ]
  },
  {
   "cell_type": "markdown",
   "id": "db815d21",
   "metadata": {},
   "source": [
    "## Reduction du nombre de tags :"
   ]
  },
  {
   "cell_type": "code",
   "execution_count": 113,
   "id": "ed98abc0",
   "metadata": {
    "ExecuteTime": {
     "end_time": "2022-10-17T14:36:42.052002Z",
     "start_time": "2022-10-17T14:36:42.049899Z"
    }
   },
   "outputs": [],
   "source": [
    "from nltk import FreqDist"
   ]
  },
  {
   "cell_type": "code",
   "execution_count": 114,
   "id": "9cdb6715",
   "metadata": {
    "ExecuteTime": {
     "end_time": "2022-10-17T14:36:42.068275Z",
     "start_time": "2022-10-17T14:36:42.053098Z"
    }
   },
   "outputs": [],
   "source": [
    "frequence = FreqDist(df_modellisation['tags_finish'].tolist())"
   ]
  },
  {
   "cell_type": "code",
   "execution_count": 115,
   "id": "008d2ffd",
   "metadata": {
    "ExecuteTime": {
     "end_time": "2022-10-17T14:36:42.076023Z",
     "start_time": "2022-10-17T14:36:42.069324Z"
    }
   },
   "outputs": [],
   "source": [
    "# on stock un dictionnaire du nombre de tags que l'on souhaite garder\n",
    "from collections import Counter\n",
    "top_200 = dict(Counter(frequence).most_common(200))"
   ]
  },
  {
   "cell_type": "code",
   "execution_count": 116,
   "id": "3585a80c",
   "metadata": {
    "ExecuteTime": {
     "end_time": "2022-10-17T14:36:42.079947Z",
     "start_time": "2022-10-17T14:36:42.077208Z"
    }
   },
   "outputs": [],
   "source": [
    "top_200_tags = []\n",
    "for key,value in top_200.items() :\n",
    "    top_200_tags.append(key)\n",
    "# garder que les clefs"
   ]
  },
  {
   "cell_type": "code",
   "execution_count": 117,
   "id": "62084063",
   "metadata": {
    "ExecuteTime": {
     "end_time": "2022-10-17T14:36:42.246220Z",
     "start_time": "2022-10-17T14:36:42.081023Z"
    }
   },
   "outputs": [],
   "source": [
    "df_modellisation['tags_final'] = df_modellisation['tags_preprocessing'].apply(lambda x : [element for element in x if element in top_200_tags ])"
   ]
  },
  {
   "cell_type": "code",
   "execution_count": 118,
   "id": "05d3549b",
   "metadata": {
    "ExecuteTime": {
     "end_time": "2022-10-17T14:36:42.258063Z",
     "start_time": "2022-10-17T14:36:42.247187Z"
    }
   },
   "outputs": [
    {
     "data": {
      "text/html": [
       "<div>\n",
       "<style scoped>\n",
       "    .dataframe tbody tr th:only-of-type {\n",
       "        vertical-align: middle;\n",
       "    }\n",
       "\n",
       "    .dataframe tbody tr th {\n",
       "        vertical-align: top;\n",
       "    }\n",
       "\n",
       "    .dataframe thead th {\n",
       "        text-align: right;\n",
       "    }\n",
       "</style>\n",
       "<table border=\"1\" class=\"dataframe\">\n",
       "  <thead>\n",
       "    <tr style=\"text-align: right;\">\n",
       "      <th></th>\n",
       "      <th>corpus_preprocessing</th>\n",
       "      <th>tags_preprocessing</th>\n",
       "      <th>corpus_finish</th>\n",
       "      <th>tags_finish</th>\n",
       "      <th>tags_final</th>\n",
       "    </tr>\n",
       "  </thead>\n",
       "  <tbody>\n",
       "    <tr>\n",
       "      <th>0</th>\n",
       "      <td>[delete, loop, form, option, image, input, for...</td>\n",
       "      <td>[php, foreach, pdo, associative-array]</td>\n",
       "      <td>delete loop form option image input form array...</td>\n",
       "      <td>php foreach pdo associative-array</td>\n",
       "      <td>[php]</td>\n",
       "    </tr>\n",
       "    <tr>\n",
       "      <th>1</th>\n",
       "      <td>[script, mysql, sql, path, way, path, path]</td>\n",
       "      <td>[mysql, sql, script]</td>\n",
       "      <td>script mysql sql path way path path</td>\n",
       "      <td>mysql sql script</td>\n",
       "      <td>[mysql, sql]</td>\n",
       "    </tr>\n",
       "    <tr>\n",
       "      <th>2</th>\n",
       "      <td>[verification, authentication, python, decode,...</td>\n",
       "      <td>[python, oauth-2.0, jwt, rsa, jwk]</td>\n",
       "      <td>verification authentication python decode func...</td>\n",
       "      <td>python oauth-2.0 jwt rsa jwk</td>\n",
       "      <td>[python]</td>\n",
       "    </tr>\n",
       "    <tr>\n",
       "      <th>3</th>\n",
       "      <td>[work, context, manager, example, manager, fil...</td>\n",
       "      <td>[python, contextmanager]</td>\n",
       "      <td>work context manager example manager file sugg...</td>\n",
       "      <td>python contextmanager</td>\n",
       "      <td>[python]</td>\n",
       "    </tr>\n",
       "    <tr>\n",
       "      <th>4</th>\n",
       "      <td>[branch, protection, rule, configuration, bran...</td>\n",
       "      <td>[github]</td>\n",
       "      <td>branch protection rule configuration branch br...</td>\n",
       "      <td>github</td>\n",
       "      <td>[github]</td>\n",
       "    </tr>\n",
       "    <tr>\n",
       "      <th>...</th>\n",
       "      <td>...</td>\n",
       "      <td>...</td>\n",
       "      <td>...</td>\n",
       "      <td>...</td>\n",
       "      <td>...</td>\n",
       "    </tr>\n",
       "    <tr>\n",
       "      <th>31159</th>\n",
       "      <td>[class, compile, time, class, compile, time, c...</td>\n",
       "      <td>[c++, c-preprocessor, c++20, template-meta-pro...</td>\n",
       "      <td>class compile time class compile time code sni...</td>\n",
       "      <td>c++ c-preprocessor c++20 template-meta-program...</td>\n",
       "      <td>[c++]</td>\n",
       "    </tr>\n",
       "    <tr>\n",
       "      <th>31160</th>\n",
       "      <td>[inline, constraint, function, implementation,...</td>\n",
       "      <td>[typescript, typescript-generics, tsc, generic...</td>\n",
       "      <td>inline constraint function implementation look...</td>\n",
       "      <td>typescript typescript-generics tsc generic-con...</td>\n",
       "      <td>[typescript]</td>\n",
       "    </tr>\n",
       "    <tr>\n",
       "      <th>31161</th>\n",
       "      <td>[classname, javascript, change, class, name, li]</td>\n",
       "      <td>[javascript, html, cs]</td>\n",
       "      <td>classname javascript change class name li</td>\n",
       "      <td>javascript html cs</td>\n",
       "      <td>[javascript, cs]</td>\n",
       "    </tr>\n",
       "    <tr>\n",
       "      <th>31162</th>\n",
       "      <td>[input, change, size, shape, tap, shape, user,...</td>\n",
       "      <td>[swift, swiftui, augmented-reality, realitykit]</td>\n",
       "      <td>input change size shape tap shape user input e...</td>\n",
       "      <td>swift swiftui augmented-reality realitykit</td>\n",
       "      <td>[swift, swiftui]</td>\n",
       "    </tr>\n",
       "    <tr>\n",
       "      <th>31163</th>\n",
       "      <td>[function, macro, definition, gdb, source, fil...</td>\n",
       "      <td>[gcc, macro, gdb]</td>\n",
       "      <td>function macro definition gdb source file frag...</td>\n",
       "      <td>gcc macro gdb</td>\n",
       "      <td>[]</td>\n",
       "    </tr>\n",
       "  </tbody>\n",
       "</table>\n",
       "<p>31164 rows × 5 columns</p>\n",
       "</div>"
      ],
      "text/plain": [
       "                                    corpus_preprocessing  \\\n",
       "0      [delete, loop, form, option, image, input, for...   \n",
       "1            [script, mysql, sql, path, way, path, path]   \n",
       "2      [verification, authentication, python, decode,...   \n",
       "3      [work, context, manager, example, manager, fil...   \n",
       "4      [branch, protection, rule, configuration, bran...   \n",
       "...                                                  ...   \n",
       "31159  [class, compile, time, class, compile, time, c...   \n",
       "31160  [inline, constraint, function, implementation,...   \n",
       "31161   [classname, javascript, change, class, name, li]   \n",
       "31162  [input, change, size, shape, tap, shape, user,...   \n",
       "31163  [function, macro, definition, gdb, source, fil...   \n",
       "\n",
       "                                      tags_preprocessing  \\\n",
       "0                 [php, foreach, pdo, associative-array]   \n",
       "1                                   [mysql, sql, script]   \n",
       "2                     [python, oauth-2.0, jwt, rsa, jwk]   \n",
       "3                               [python, contextmanager]   \n",
       "4                                               [github]   \n",
       "...                                                  ...   \n",
       "31159  [c++, c-preprocessor, c++20, template-meta-pro...   \n",
       "31160  [typescript, typescript-generics, tsc, generic...   \n",
       "31161                             [javascript, html, cs]   \n",
       "31162    [swift, swiftui, augmented-reality, realitykit]   \n",
       "31163                                  [gcc, macro, gdb]   \n",
       "\n",
       "                                           corpus_finish  \\\n",
       "0      delete loop form option image input form array...   \n",
       "1                    script mysql sql path way path path   \n",
       "2      verification authentication python decode func...   \n",
       "3      work context manager example manager file sugg...   \n",
       "4      branch protection rule configuration branch br...   \n",
       "...                                                  ...   \n",
       "31159  class compile time class compile time code sni...   \n",
       "31160  inline constraint function implementation look...   \n",
       "31161          classname javascript change class name li   \n",
       "31162  input change size shape tap shape user input e...   \n",
       "31163  function macro definition gdb source file frag...   \n",
       "\n",
       "                                             tags_finish        tags_final  \n",
       "0                      php foreach pdo associative-array             [php]  \n",
       "1                                       mysql sql script      [mysql, sql]  \n",
       "2                           python oauth-2.0 jwt rsa jwk          [python]  \n",
       "3                                  python contextmanager          [python]  \n",
       "4                                                 github          [github]  \n",
       "...                                                  ...               ...  \n",
       "31159  c++ c-preprocessor c++20 template-meta-program...             [c++]  \n",
       "31160  typescript typescript-generics tsc generic-con...      [typescript]  \n",
       "31161                                 javascript html cs  [javascript, cs]  \n",
       "31162         swift swiftui augmented-reality realitykit  [swift, swiftui]  \n",
       "31163                                      gcc macro gdb                []  \n",
       "\n",
       "[31164 rows x 5 columns]"
      ]
     },
     "execution_count": 118,
     "metadata": {},
     "output_type": "execute_result"
    }
   ],
   "source": [
    "df_modellisation"
   ]
  },
  {
   "cell_type": "code",
   "execution_count": 119,
   "id": "daa93320",
   "metadata": {
    "ExecuteTime": {
     "end_time": "2022-10-17T14:36:42.873844Z",
     "start_time": "2022-10-17T14:36:42.259099Z"
    }
   },
   "outputs": [
    {
     "name": "stdout",
     "output_type": "stream",
     "text": [
      "Le nombre de lignes qui seront supprimés est de : 6502\n",
      "fLe nombre de ligne du dataframe avant suppression est de : 31164\n",
      "fLe nombre de ligne du dataframe aprés suppression est de : 24662\n"
     ]
    }
   ],
   "source": [
    "liste_index = []\n",
    "for i,l in df_modellisation.iterrows() :\n",
    "    if len(l['tags_final']) == 0 :\n",
    "        liste_index.append(i)\n",
    "print(f\"Le nombre de lignes qui seront supprimés est de :\", len(liste_index))\n",
    "print(\"fLe nombre de ligne du dataframe avant suppression est de :\", df_modellisation.shape[0])\n",
    "df_modellisation.drop(liste_index, inplace = True) # suppression de la liste\n",
    "print(\"fLe nombre de ligne du dataframe aprés suppression est de :\", df_modellisation.shape[0])"
   ]
  },
  {
   "cell_type": "code",
   "execution_count": 120,
   "id": "0bdbd629",
   "metadata": {
    "ExecuteTime": {
     "end_time": "2022-10-17T14:36:42.877873Z",
     "start_time": "2022-10-17T14:36:42.874877Z"
    }
   },
   "outputs": [],
   "source": [
    "df_modellisation_1 = df_modellisation[['corpus_finish','tags_final']].copy()"
   ]
  },
  {
   "cell_type": "markdown",
   "id": "e76f460f",
   "metadata": {},
   "source": [
    "# CSV pour les algo : "
   ]
  },
  {
   "cell_type": "code",
   "execution_count": 121,
   "id": "89985f76",
   "metadata": {
    "ExecuteTime": {
     "end_time": "2022-10-17T14:36:43.105328Z",
     "start_time": "2022-10-17T14:36:42.878901Z"
    }
   },
   "outputs": [],
   "source": [
    "df_modellisation.to_csv(\"P5_algorithme.csv\", index=False) # Cela permettra d'éviter d'attendre de relancer le notebook."
   ]
  },
  {
   "cell_type": "code",
   "execution_count": 122,
   "id": "90d9a09b",
   "metadata": {
    "ExecuteTime": {
     "end_time": "2022-10-17T14:36:43.711124Z",
     "start_time": "2022-10-17T14:36:43.106261Z"
    }
   },
   "outputs": [],
   "source": [
    "vectorizer = CountVectorizer(min_df = 200)\n",
    "corpus_bow = vectorizer.fit_transform(df_modellisation_1['corpus_finish'])"
   ]
  },
  {
   "cell_type": "code",
   "execution_count": 123,
   "id": "ba65a431",
   "metadata": {
    "ExecuteTime": {
     "end_time": "2022-10-17T14:36:44.416737Z",
     "start_time": "2022-10-17T14:36:43.711972Z"
    }
   },
   "outputs": [
    {
     "name": "stdout",
     "output_type": "stream",
     "text": [
      "CPU times: user 694 ms, sys: 8.54 ms, total: 702 ms\n",
      "Wall time: 703 ms\n"
     ]
    }
   ],
   "source": [
    "%%time\n",
    "data_bow,bow = bag_of_words(df_visualisation[\"Corpus\"])"
   ]
  },
  {
   "cell_type": "markdown",
   "id": "936a95cc",
   "metadata": {},
   "source": [
    "## Algorithme utilisant le BOW : "
   ]
  },
  {
   "cell_type": "markdown",
   "id": "ae819b44",
   "metadata": {},
   "source": [
    "### Train test via BOW :"
   ]
  },
  {
   "cell_type": "code",
   "execution_count": 124,
   "id": "b2c20fd9",
   "metadata": {
    "ExecuteTime": {
     "end_time": "2022-10-17T14:36:44.419773Z",
     "start_time": "2022-10-17T14:36:44.417727Z"
    }
   },
   "outputs": [],
   "source": [
    "from sklearn.model_selection import train_test_split"
   ]
  },
  {
   "cell_type": "code",
   "execution_count": 125,
   "id": "1ecc1396",
   "metadata": {
    "ExecuteTime": {
     "end_time": "2022-10-17T14:36:44.427969Z",
     "start_time": "2022-10-17T14:36:44.420552Z"
    }
   },
   "outputs": [],
   "source": [
    "X = corpus_bow # a modifier par tfidf et par wordtovec\n",
    "y = df_modellisation_1['tags_final']\n",
    "X_train, X_test, y_train, y_test = train_test_split(X, y, test_size=0.2, random_state=0)"
   ]
  },
  {
   "cell_type": "markdown",
   "id": "2313e0d2",
   "metadata": {},
   "source": [
    "### multilabel via BOW :"
   ]
  },
  {
   "cell_type": "code",
   "execution_count": 126,
   "id": "859fbd81",
   "metadata": {
    "ExecuteTime": {
     "end_time": "2022-10-17T14:36:44.431352Z",
     "start_time": "2022-10-17T14:36:44.429029Z"
    }
   },
   "outputs": [],
   "source": [
    "from sklearn.preprocessing import MultiLabelBinarizer\n",
    "from sklearn.multiclass import OneVsRestClassifier\n",
    "from sklearn.metrics import confusion_matrix"
   ]
  },
  {
   "cell_type": "code",
   "execution_count": 127,
   "id": "263f7e4c",
   "metadata": {
    "ExecuteTime": {
     "end_time": "2022-10-17T14:36:44.466057Z",
     "start_time": "2022-10-17T14:36:44.432302Z"
    }
   },
   "outputs": [
    {
     "name": "stdout",
     "output_type": "stream",
     "text": [
      "Affichage des classes du multilabel :\n"
     ]
    },
    {
     "data": {
      "text/plain": [
       "array(['excel vba', '', 'python panda', 'python',\n",
       "       'python panda dataframe', 'typescript', 'html cs', 'javascript',\n",
       "       'c++', 'powershell', 'git', 'ggplot2', 'rust',\n",
       "       'javascript reactjs', 'flutter', 'java', 'flutter dart',\n",
       "       'javascript html cs', 'reactjs', 'dplyr',\n",
       "       'android android-jetpack-compose', 'javascript html',\n",
       "       'excel excel-formula', 'python python-3.x', 'python numpy',\n",
       "       'shiny', 'codenameone', 'data.table', 'excel', 'python django',\n",
       "       'git github', 'python panda numpy', 'unity3d',\n",
       "       'typescript typescript-generics', 'github', 'reactjs material-ui',\n",
       "       'cs', 'java java-stream', 'github github-actions', 'angular',\n",
       "       'javascript typescript', 'ansible', 'go', 'kubernetes',\n",
       "       'react-native', 'android', 'elasticsearch', 'python matplotlib',\n",
       "       'gitlab', 'reactjs react-hooks', 'flutter flutter-layout',\n",
       "       'swift swiftui', 'visual-studio-code', 'kotlin', 'dataframe',\n",
       "       'reactjs typescript', 'android kotlin',\n",
       "       'reactjs react-router react-router-dom',\n",
       "       'android kotlin android-jetpack-compose', 'php', 'c++ c++20',\n",
       "       'javascript node.js', 'javascript reactjs typescript',\n",
       "       'javascript reactjs react-hooks', 'docker', 'javascript array',\n",
       "       'excel vba excel-formula', 'sql sql-server', 'haskell',\n",
       "       'angular typescript', 'io swift swiftui', 'github-actions',\n",
       "       'python tkinter', 'gitlab gitlab-ci', 'postgresql',\n",
       "       'python dictionary', 'javascript html jquery cs',\n",
       "       'python python-3.x panda dataframe', 'sql postgresql',\n",
       "       'python regex', 'django', 'python panda dataframe numpy',\n",
       "       'python tensorflow', 'go generic', 'c++ c++17', 'mysql sql',\n",
       "       'javascript reactjs next.js', 'regex', 'git gitlab',\n",
       "       'python django django-models django-views django-templates',\n",
       "       'sql oracle', 'julia', 'java android', 'react-native expo',\n",
       "       'html cs flexbox', 'python tensorflow kera', 'javascript jquery',\n",
       "       'python pygame', 'javascript vue.js', 'python discord discord.py',\n",
       "       'python panda dataframe pandas-groupby',\n",
       "       'snowflake-cloud-data-platform', 'reactjs react-native', 'mysql',\n",
       "       'python django django-models',\n",
       "       'javascript reactjs react-router react-router-dom',\n",
       "       'python opencv', 'bash', 'reactjs next.js', 'swiftui',\n",
       "       'android-jetpack-compose', 'javascript html jquery',\n",
       "       'java spring spring-boot', 'python array numpy', 'php laravel',\n",
       "       'git visual-studio-code', 'visual-studio', 'algorithm',\n",
       "       'c++ language-lawyer', 'terraform', 'docker docker-compose',\n",
       "       'tidyverse', 'python algorithm', '.net',\n",
       "       'javascript reactjs react-native', 'javascript html cs reactjs',\n",
       "       'python pytorch', 'sql sql-server tsql', 'java generic',\n",
       "       'javascript regex', 'python panda pandas-groupby',\n",
       "       'sql google-bigquery', 'github github-api', 'javascript p5.js',\n",
       "       'cypress', 'shiny shinydashboard', 'java spring-boot',\n",
       "       'google-apps-script google-sheets', 'apache-spark pyspark',\n",
       "       'scala apache-spark', 'node.js',\n",
       "       'python django django-rest-framework', 'python pip', 'sql',\n",
       "       'reactjs react-router-dom', 'io xcode flutter',\n",
       "       'typescript typescript-typings', 'mongodb',\n",
       "       'javascript reactjs react-router-dom',\n",
       "       'kotlin android-jetpack-compose', 'python plotly', 'asp.net-mvc',\n",
       "       'python scikit-learn', 'swift', 'scala', 'plotly r-plotly',\n",
       "       'flutter dart flutter-layout', 'dplyr tidyverse',\n",
       "       'svelte sveltekit', 'c++ template', 'python matplotlib seaborn',\n",
       "       'array', 'google-bigquery', 'vue.js', 'laravel',\n",
       "       'python discord.py', 'asp.net-core', 'c++ c++11',\n",
       "       'android android-studio', 'python web-scraping beautifulsoup',\n",
       "       'python panda datetime',\n",
       "       'javascript google-apps-script google-sheets', 'dplyr data.table',\n",
       "       'google-sheets google-sheets-formula', 'node.js mongodb',\n",
       "       'python selenium', 'python list',\n",
       "       'apache-spark pyspark apache-spark-sql', 'javascript cs',\n",
       "       'visual-studio-2022', 'java algorithm', 'panda dataframe',\n",
       "       'html cs bootstrap-5', 'strapi', 'python visual-studio-code',\n",
       "       'python python-decorators', 'node.js reactjs npm', 'next.js',\n",
       "       'reactjs react-router', 'python pycharm',\n",
       "       'php wordpress woocommerce', 'keycloak', 'java collection',\n",
       "       'rstudio', 'python python-3.x panda',\n",
       "       'sql snowflake-cloud-data-platform', 'tailwind-css',\n",
       "       'mongodb mongodb-query aggregation-framework',\n",
       "       'excel vba excel-2010', 'python json'], dtype=object)"
      ]
     },
     "metadata": {},
     "output_type": "display_data"
    }
   ],
   "source": [
    "multi_lab = MultiLabelBinarizer(classes= top_200_tags)\n",
    "train_labels = multi_lab.fit_transform(y_train)\n",
    "test_labels = multi_lab.transform(y_test)\n",
    "\n",
    "print(\"Affichage des classes du multilabel :\")\n",
    "display(multi_lab.classes_)"
   ]
  },
  {
   "cell_type": "code",
   "execution_count": 128,
   "id": "05406a2a",
   "metadata": {
    "ExecuteTime": {
     "end_time": "2022-10-17T14:36:44.472294Z",
     "start_time": "2022-10-17T14:36:44.467568Z"
    }
   },
   "outputs": [],
   "source": [
    "def multiscore(y_test, y_pred):\n",
    "    print(\"-\"*53)\n",
    "    print('')\n",
    "    print(\">\"*15, \"Accuracy :\",\n",
    "          '\\033[1m' + str(round(metrics.accuracy_score(y_test, y_pred), 2)) + '\\033[0m', \"<\"*20),\n",
    "    print('')\n",
    "    print(\"-\"*53)\n",
    "    print('')\n",
    "    print(\">\"*15, \"Hamming loss :\",\n",
    "          '\\033[1m' + str(round(metrics.hamming_loss(y_test, y_pred), 2)) + '\\033[0m', \"<\"*17),\n",
    "    print('')\n",
    "    print(\"-\"*53)\n",
    "    print('')\n",
    "    print(\">\"*15, \"Jaccard_score :\", '\\033[1m' + str(round(metrics.jaccard_score(y_test, y_pred, average=\"weighted\"), 2))\n",
    "          + '\\033[0m', \"<\"*16),\n",
    "    print('')\n",
    "    print(\"-\"*53)"
   ]
  },
  {
   "cell_type": "code",
   "execution_count": 129,
   "id": "d5f24ba1",
   "metadata": {
    "ExecuteTime": {
     "end_time": "2022-10-17T14:36:44.614016Z",
     "start_time": "2022-10-17T14:36:44.473839Z"
    }
   },
   "outputs": [],
   "source": [
    "from sklearn.linear_model import LogisticRegression\n",
    "from sklearn.ensemble import RandomForestClassifier\n",
    "from sklearn.tree import DecisionTreeClassifier\n",
    "from sklearn.neighbors import KNeighborsClassifier\n",
    "import xgboost as xgb\n",
    "from xgboost import XGBRegressor\n",
    "from sklearn.svm import LinearSVC"
   ]
  },
  {
   "cell_type": "markdown",
   "id": "182890e6",
   "metadata": {},
   "source": [
    "### Regression logistique :"
   ]
  },
  {
   "cell_type": "code",
   "execution_count": 130,
   "id": "17cebab6",
   "metadata": {
    "ExecuteTime": {
     "end_time": "2022-10-17T14:36:52.621848Z",
     "start_time": "2022-10-17T14:36:44.615127Z"
    }
   },
   "outputs": [
    {
     "name": "stdout",
     "output_type": "stream",
     "text": [
      "CPU times: user 7.97 s, sys: 25.1 ms, total: 7.99 s\n",
      "Wall time: 8 s\n"
     ]
    }
   ],
   "source": [
    "%%time\n",
    "model_log = OneVsRestClassifier(LogisticRegression())\n",
    "model_log.fit(X_train, train_labels)\n",
    "y_pred = model_log.predict(X_test)"
   ]
  },
  {
   "cell_type": "code",
   "execution_count": 131,
   "id": "0cdef1ef",
   "metadata": {
    "ExecuteTime": {
     "end_time": "2022-10-17T14:36:52.712818Z",
     "start_time": "2022-10-17T14:36:52.622833Z"
    },
    "scrolled": false
   },
   "outputs": [
    {
     "name": "stdout",
     "output_type": "stream",
     "text": [
      "-----------------------------------------------------\n",
      "\n",
      ">>>>>>>>>>>>>>> Accuracy : \u001b[1m0.11\u001b[0m <<<<<<<<<<<<<<<<<<<<\n",
      "\n",
      "-----------------------------------------------------\n",
      "\n",
      ">>>>>>>>>>>>>>> Hamming loss : \u001b[1m0.01\u001b[0m <<<<<<<<<<<<<<<<<\n",
      "\n",
      "-----------------------------------------------------\n",
      "\n",
      ">>>>>>>>>>>>>>> Jaccard_score : \u001b[1m0.14\u001b[0m <<<<<<<<<<<<<<<<\n",
      "\n",
      "-----------------------------------------------------\n"
     ]
    }
   ],
   "source": [
    "multiscore (test_labels, y_pred)"
   ]
  },
  {
   "cell_type": "markdown",
   "id": "a7341f77",
   "metadata": {},
   "source": [
    "### Random Forest :"
   ]
  },
  {
   "cell_type": "code",
   "execution_count": 132,
   "id": "05c1dcbe",
   "metadata": {
    "ExecuteTime": {
     "end_time": "2022-10-17T14:39:56.959953Z",
     "start_time": "2022-10-17T14:36:52.713623Z"
    },
    "scrolled": false
   },
   "outputs": [
    {
     "name": "stdout",
     "output_type": "stream",
     "text": [
      "[CV] END .................learning_decay=0.5, n_components=5; total time= 1.1min\n"
     ]
    },
    {
     "name": "stderr",
     "output_type": "stream",
     "text": [
      "/opt/anaconda3/lib/python3.8/site-packages/scipy/__init__.py:146: UserWarning: A NumPy version >=1.16.5 and <1.23.0 is required for this version of SciPy (detected version 1.23.1\n",
      "  warnings.warn(f\"A NumPy version >={np_minversion} and <{np_maxversion}\"\n"
     ]
    },
    {
     "name": "stdout",
     "output_type": "stream",
     "text": [
      "[CV] END .................learning_decay=0.5, n_components=5; total time= 1.1min\n"
     ]
    },
    {
     "name": "stderr",
     "output_type": "stream",
     "text": [
      "/opt/anaconda3/lib/python3.8/site-packages/scipy/__init__.py:146: UserWarning: A NumPy version >=1.16.5 and <1.23.0 is required for this version of SciPy (detected version 1.23.1\n",
      "  warnings.warn(f\"A NumPy version >={np_minversion} and <{np_maxversion}\"\n"
     ]
    },
    {
     "name": "stdout",
     "output_type": "stream",
     "text": [
      "[CV] END .................learning_decay=0.5, n_components=5; total time= 1.1min\n",
      "[CV] END .................learning_decay=0.5, n_components=5; total time= 1.1min\n"
     ]
    },
    {
     "name": "stderr",
     "output_type": "stream",
     "text": [
      "/opt/anaconda3/lib/python3.8/site-packages/scipy/__init__.py:146: UserWarning: A NumPy version >=1.16.5 and <1.23.0 is required for this version of SciPy (detected version 1.23.1\n",
      "  warnings.warn(f\"A NumPy version >={np_minversion} and <{np_maxversion}\"\n",
      "/opt/anaconda3/lib/python3.8/site-packages/scipy/__init__.py:146: UserWarning: A NumPy version >=1.16.5 and <1.23.0 is required for this version of SciPy (detected version 1.23.1\n",
      "  warnings.warn(f\"A NumPy version >={np_minversion} and <{np_maxversion}\"\n"
     ]
    },
    {
     "name": "stdout",
     "output_type": "stream",
     "text": [
      "[CV] END .................learning_decay=0.5, n_components=5; total time= 1.1min\n"
     ]
    },
    {
     "name": "stderr",
     "output_type": "stream",
     "text": [
      "/opt/anaconda3/lib/python3.8/site-packages/scipy/__init__.py:146: UserWarning: A NumPy version >=1.16.5 and <1.23.0 is required for this version of SciPy (detected version 1.23.1\n",
      "  warnings.warn(f\"A NumPy version >={np_minversion} and <{np_maxversion}\"\n"
     ]
    },
    {
     "name": "stdout",
     "output_type": "stream",
     "text": [
      "CPU times: user 3min 1s, sys: 1.12 s, total: 3min 2s\n",
      "Wall time: 3min 4s\n"
     ]
    }
   ],
   "source": [
    "%%time\n",
    "model_rf = OneVsRestClassifier(RandomForestClassifier())\n",
    "model_rf.fit(X_train, train_labels)\n",
    "y_pred = model_rf.predict(X_test)"
   ]
  },
  {
   "cell_type": "code",
   "execution_count": 133,
   "id": "027b27cf",
   "metadata": {
    "ExecuteTime": {
     "end_time": "2022-10-17T14:39:57.057905Z",
     "start_time": "2022-10-17T14:39:56.961122Z"
    }
   },
   "outputs": [
    {
     "name": "stdout",
     "output_type": "stream",
     "text": [
      "-----------------------------------------------------\n",
      "\n",
      ">>>>>>>>>>>>>>> Accuracy : \u001b[1m0.13\u001b[0m <<<<<<<<<<<<<<<<<<<<\n",
      "\n",
      "-----------------------------------------------------\n",
      "\n",
      ">>>>>>>>>>>>>>> Hamming loss : \u001b[1m0.01\u001b[0m <<<<<<<<<<<<<<<<<\n",
      "\n",
      "-----------------------------------------------------\n",
      "\n",
      ">>>>>>>>>>>>>>> Jaccard_score : \u001b[1m0.15\u001b[0m <<<<<<<<<<<<<<<<\n",
      "\n",
      "-----------------------------------------------------\n"
     ]
    }
   ],
   "source": [
    "multiscore (test_labels, y_pred)"
   ]
  },
  {
   "cell_type": "markdown",
   "id": "57e240b1",
   "metadata": {},
   "source": [
    "### Decision tree : "
   ]
  },
  {
   "cell_type": "code",
   "execution_count": 134,
   "id": "e56c660f",
   "metadata": {
    "ExecuteTime": {
     "end_time": "2022-10-17T14:40:15.018270Z",
     "start_time": "2022-10-17T14:39:57.059101Z"
    }
   },
   "outputs": [
    {
     "name": "stdout",
     "output_type": "stream",
     "text": [
      "CPU times: user 17.6 s, sys: 50.1 ms, total: 17.7 s\n",
      "Wall time: 18 s\n"
     ]
    }
   ],
   "source": [
    "%%time\n",
    "model_tree = OneVsRestClassifier(DecisionTreeClassifier())\n",
    "model_tree.fit(X_train, train_labels)\n",
    "y_pred = model_tree.predict(X_test)"
   ]
  },
  {
   "cell_type": "code",
   "execution_count": 135,
   "id": "2d38ffe0",
   "metadata": {
    "ExecuteTime": {
     "end_time": "2022-10-17T14:40:15.114455Z",
     "start_time": "2022-10-17T14:40:15.019546Z"
    }
   },
   "outputs": [
    {
     "name": "stdout",
     "output_type": "stream",
     "text": [
      "-----------------------------------------------------\n",
      "\n",
      ">>>>>>>>>>>>>>> Accuracy : \u001b[1m0.07\u001b[0m <<<<<<<<<<<<<<<<<<<<\n",
      "\n",
      "-----------------------------------------------------\n",
      "\n",
      ">>>>>>>>>>>>>>> Hamming loss : \u001b[1m0.01\u001b[0m <<<<<<<<<<<<<<<<<\n",
      "\n",
      "-----------------------------------------------------\n",
      "\n",
      ">>>>>>>>>>>>>>> Jaccard_score : \u001b[1m0.15\u001b[0m <<<<<<<<<<<<<<<<\n",
      "\n",
      "-----------------------------------------------------\n"
     ]
    }
   ],
   "source": [
    "multiscore (test_labels, y_pred)"
   ]
  },
  {
   "cell_type": "markdown",
   "id": "a14d8315",
   "metadata": {},
   "source": [
    "### KNN : "
   ]
  },
  {
   "cell_type": "code",
   "execution_count": 136,
   "id": "5fa7cb0f",
   "metadata": {
    "ExecuteTime": {
     "end_time": "2022-10-17T14:42:46.996591Z",
     "start_time": "2022-10-17T14:40:15.115499Z"
    }
   },
   "outputs": [
    {
     "name": "stdout",
     "output_type": "stream",
     "text": [
      "CPU times: user 2min 1s, sys: 28.8 s, total: 2min 30s\n",
      "Wall time: 2min 31s\n"
     ]
    }
   ],
   "source": [
    "%%time\n",
    "model_knn = OneVsRestClassifier(KNeighborsClassifier())\n",
    "model_knn.fit(X_train, train_labels)\n",
    "y_pred = model_knn.predict(X_test)"
   ]
  },
  {
   "cell_type": "code",
   "execution_count": 137,
   "id": "59a24591",
   "metadata": {
    "ExecuteTime": {
     "end_time": "2022-10-17T14:42:47.096200Z",
     "start_time": "2022-10-17T14:42:46.998485Z"
    }
   },
   "outputs": [
    {
     "name": "stdout",
     "output_type": "stream",
     "text": [
      "-----------------------------------------------------\n",
      "\n",
      ">>>>>>>>>>>>>>> Accuracy : \u001b[1m0.07\u001b[0m <<<<<<<<<<<<<<<<<<<<\n",
      "\n",
      "-----------------------------------------------------\n",
      "\n",
      ">>>>>>>>>>>>>>> Hamming loss : \u001b[1m0.01\u001b[0m <<<<<<<<<<<<<<<<<\n",
      "\n",
      "-----------------------------------------------------\n",
      "\n",
      ">>>>>>>>>>>>>>> Jaccard_score : \u001b[1m0.08\u001b[0m <<<<<<<<<<<<<<<<\n",
      "\n",
      "-----------------------------------------------------\n"
     ]
    }
   ],
   "source": [
    "multiscore (test_labels, y_pred)"
   ]
  },
  {
   "cell_type": "markdown",
   "id": "467ea4d3",
   "metadata": {},
   "source": [
    "### Xgboost :"
   ]
  },
  {
   "cell_type": "code",
   "execution_count": 138,
   "id": "72d0b019",
   "metadata": {
    "ExecuteTime": {
     "end_time": "2022-10-17T14:43:41.960219Z",
     "start_time": "2022-10-17T14:42:47.097317Z"
    }
   },
   "outputs": [
    {
     "name": "stdout",
     "output_type": "stream",
     "text": [
      "CPU times: user 5min 2s, sys: 35.2 s, total: 5min 37s\n",
      "Wall time: 54.9 s\n"
     ]
    }
   ],
   "source": [
    "%%time\n",
    "model_xgb = OneVsRestClassifier(XGBRegressor())\n",
    "model_xgb.fit(X_train, train_labels)\n",
    "y_pred = model_xgb.predict(X_test)"
   ]
  },
  {
   "cell_type": "code",
   "execution_count": 139,
   "id": "05242fca",
   "metadata": {
    "ExecuteTime": {
     "end_time": "2022-10-17T14:43:42.059510Z",
     "start_time": "2022-10-17T14:43:41.961516Z"
    }
   },
   "outputs": [
    {
     "name": "stdout",
     "output_type": "stream",
     "text": [
      "-----------------------------------------------------\n",
      "\n",
      ">>>>>>>>>>>>>>> Accuracy : \u001b[1m0.13\u001b[0m <<<<<<<<<<<<<<<<<<<<\n",
      "\n",
      "-----------------------------------------------------\n",
      "\n",
      ">>>>>>>>>>>>>>> Hamming loss : \u001b[1m0.01\u001b[0m <<<<<<<<<<<<<<<<<\n",
      "\n",
      "-----------------------------------------------------\n",
      "\n",
      ">>>>>>>>>>>>>>> Jaccard_score : \u001b[1m0.18\u001b[0m <<<<<<<<<<<<<<<<\n",
      "\n",
      "-----------------------------------------------------\n"
     ]
    }
   ],
   "source": [
    "multiscore (test_labels, y_pred)"
   ]
  },
  {
   "cell_type": "code",
   "execution_count": 140,
   "id": "fef5546d",
   "metadata": {
    "ExecuteTime": {
     "end_time": "2022-10-17T14:43:42.063002Z",
     "start_time": "2022-10-17T14:43:42.060802Z"
    }
   },
   "outputs": [],
   "source": [
    "#print_score(model, y_test, y_pred) # A implanter par la suite"
   ]
  },
  {
   "cell_type": "markdown",
   "id": "c038a465",
   "metadata": {},
   "source": [
    "### Linear SVC :"
   ]
  },
  {
   "cell_type": "code",
   "execution_count": 141,
   "id": "50d6a42c",
   "metadata": {
    "ExecuteTime": {
     "end_time": "2022-10-17T14:43:58.281736Z",
     "start_time": "2022-10-17T14:43:42.064102Z"
    }
   },
   "outputs": [
    {
     "name": "stdout",
     "output_type": "stream",
     "text": [
      "CPU times: user 16.3 s, sys: 159 ms, total: 16.5 s\n",
      "Wall time: 16.2 s\n"
     ]
    }
   ],
   "source": [
    "%%time\n",
    "model_svm = OneVsRestClassifier(LinearSVC())\n",
    "model_svm.fit(X_train, train_labels)\n",
    "\n",
    "y_pred = model_svm.predict(X_test)"
   ]
  },
  {
   "cell_type": "code",
   "execution_count": 142,
   "id": "fcc346fc",
   "metadata": {
    "ExecuteTime": {
     "end_time": "2022-10-17T14:43:58.374116Z",
     "start_time": "2022-10-17T14:43:58.282842Z"
    }
   },
   "outputs": [
    {
     "name": "stdout",
     "output_type": "stream",
     "text": [
      "-----------------------------------------------------\n",
      "\n",
      ">>>>>>>>>>>>>>> Accuracy : \u001b[1m0.07\u001b[0m <<<<<<<<<<<<<<<<<<<<\n",
      "\n",
      "-----------------------------------------------------\n",
      "\n",
      ">>>>>>>>>>>>>>> Hamming loss : \u001b[1m0.01\u001b[0m <<<<<<<<<<<<<<<<<\n",
      "\n",
      "-----------------------------------------------------\n",
      "\n",
      ">>>>>>>>>>>>>>> Jaccard_score : \u001b[1m0.09\u001b[0m <<<<<<<<<<<<<<<<\n",
      "\n",
      "-----------------------------------------------------\n"
     ]
    }
   ],
   "source": [
    "multiscore (test_labels, y_pred)"
   ]
  },
  {
   "cell_type": "code",
   "execution_count": 143,
   "id": "0acdc415",
   "metadata": {
    "ExecuteTime": {
     "end_time": "2022-10-17T14:43:58.377017Z",
     "start_time": "2022-10-17T14:43:58.375102Z"
    }
   },
   "outputs": [],
   "source": [
    "#print_score(model, y_test, y_pred) # A implanter par la suite"
   ]
  },
  {
   "cell_type": "markdown",
   "id": "34c0fc38",
   "metadata": {},
   "source": [
    "## Algorithme utilisant le tf-idf :"
   ]
  },
  {
   "cell_type": "markdown",
   "id": "298996ae",
   "metadata": {},
   "source": [
    "### Train test via tf-idf :"
   ]
  },
  {
   "cell_type": "code",
   "execution_count": 144,
   "id": "7b35c056",
   "metadata": {
    "ExecuteTime": {
     "end_time": "2022-10-17T14:43:58.666808Z",
     "start_time": "2022-10-17T14:43:58.377948Z"
    }
   },
   "outputs": [],
   "source": [
    "tf_idf_vec = TfidfVectorizer(min_df = 200)\n",
    "corpus_idf = tf_idf_vec.fit_transform(df_modellisation_1['corpus_finish'])"
   ]
  },
  {
   "cell_type": "code",
   "execution_count": 145,
   "id": "d56e25f5",
   "metadata": {
    "ExecuteTime": {
     "end_time": "2022-10-17T14:43:58.675242Z",
     "start_time": "2022-10-17T14:43:58.667772Z"
    }
   },
   "outputs": [],
   "source": [
    "X = corpus_idf # a modifier par tfidf et par wordtovec\n",
    "y = df_modellisation_1['tags_final']\n",
    "X_train, X_test, y_train, y_test = train_test_split(X, y, test_size=0.2, random_state=0)"
   ]
  },
  {
   "cell_type": "markdown",
   "id": "e8c286d2",
   "metadata": {},
   "source": [
    "### Multilabel via tf-idf :"
   ]
  },
  {
   "cell_type": "code",
   "execution_count": 146,
   "id": "1d90ae27",
   "metadata": {
    "ExecuteTime": {
     "end_time": "2022-10-17T14:43:58.708104Z",
     "start_time": "2022-10-17T14:43:58.676356Z"
    }
   },
   "outputs": [
    {
     "name": "stdout",
     "output_type": "stream",
     "text": [
      "Affichage des classes du multilabel :\n"
     ]
    },
    {
     "data": {
      "text/plain": [
       "array(['excel vba', '', 'python panda', 'python',\n",
       "       'python panda dataframe', 'typescript', 'html cs', 'javascript',\n",
       "       'c++', 'powershell', 'git', 'ggplot2', 'rust',\n",
       "       'javascript reactjs', 'flutter', 'java', 'flutter dart',\n",
       "       'javascript html cs', 'reactjs', 'dplyr',\n",
       "       'android android-jetpack-compose', 'javascript html',\n",
       "       'excel excel-formula', 'python python-3.x', 'python numpy',\n",
       "       'shiny', 'codenameone', 'data.table', 'excel', 'python django',\n",
       "       'git github', 'python panda numpy', 'unity3d',\n",
       "       'typescript typescript-generics', 'github', 'reactjs material-ui',\n",
       "       'cs', 'java java-stream', 'github github-actions', 'angular',\n",
       "       'javascript typescript', 'ansible', 'go', 'kubernetes',\n",
       "       'react-native', 'android', 'elasticsearch', 'python matplotlib',\n",
       "       'gitlab', 'reactjs react-hooks', 'flutter flutter-layout',\n",
       "       'swift swiftui', 'visual-studio-code', 'kotlin', 'dataframe',\n",
       "       'reactjs typescript', 'android kotlin',\n",
       "       'reactjs react-router react-router-dom',\n",
       "       'android kotlin android-jetpack-compose', 'php', 'c++ c++20',\n",
       "       'javascript node.js', 'javascript reactjs typescript',\n",
       "       'javascript reactjs react-hooks', 'docker', 'javascript array',\n",
       "       'excel vba excel-formula', 'sql sql-server', 'haskell',\n",
       "       'angular typescript', 'io swift swiftui', 'github-actions',\n",
       "       'python tkinter', 'gitlab gitlab-ci', 'postgresql',\n",
       "       'python dictionary', 'javascript html jquery cs',\n",
       "       'python python-3.x panda dataframe', 'sql postgresql',\n",
       "       'python regex', 'django', 'python panda dataframe numpy',\n",
       "       'python tensorflow', 'go generic', 'c++ c++17', 'mysql sql',\n",
       "       'javascript reactjs next.js', 'regex', 'git gitlab',\n",
       "       'python django django-models django-views django-templates',\n",
       "       'sql oracle', 'julia', 'java android', 'react-native expo',\n",
       "       'html cs flexbox', 'python tensorflow kera', 'javascript jquery',\n",
       "       'python pygame', 'javascript vue.js', 'python discord discord.py',\n",
       "       'python panda dataframe pandas-groupby',\n",
       "       'snowflake-cloud-data-platform', 'reactjs react-native', 'mysql',\n",
       "       'python django django-models',\n",
       "       'javascript reactjs react-router react-router-dom',\n",
       "       'python opencv', 'bash', 'reactjs next.js', 'swiftui',\n",
       "       'android-jetpack-compose', 'javascript html jquery',\n",
       "       'java spring spring-boot', 'python array numpy', 'php laravel',\n",
       "       'git visual-studio-code', 'visual-studio', 'algorithm',\n",
       "       'c++ language-lawyer', 'terraform', 'docker docker-compose',\n",
       "       'tidyverse', 'python algorithm', '.net',\n",
       "       'javascript reactjs react-native', 'javascript html cs reactjs',\n",
       "       'python pytorch', 'sql sql-server tsql', 'java generic',\n",
       "       'javascript regex', 'python panda pandas-groupby',\n",
       "       'sql google-bigquery', 'github github-api', 'javascript p5.js',\n",
       "       'cypress', 'shiny shinydashboard', 'java spring-boot',\n",
       "       'google-apps-script google-sheets', 'apache-spark pyspark',\n",
       "       'scala apache-spark', 'node.js',\n",
       "       'python django django-rest-framework', 'python pip', 'sql',\n",
       "       'reactjs react-router-dom', 'io xcode flutter',\n",
       "       'typescript typescript-typings', 'mongodb',\n",
       "       'javascript reactjs react-router-dom',\n",
       "       'kotlin android-jetpack-compose', 'python plotly', 'asp.net-mvc',\n",
       "       'python scikit-learn', 'swift', 'scala', 'plotly r-plotly',\n",
       "       'flutter dart flutter-layout', 'dplyr tidyverse',\n",
       "       'svelte sveltekit', 'c++ template', 'python matplotlib seaborn',\n",
       "       'array', 'google-bigquery', 'vue.js', 'laravel',\n",
       "       'python discord.py', 'asp.net-core', 'c++ c++11',\n",
       "       'android android-studio', 'python web-scraping beautifulsoup',\n",
       "       'python panda datetime',\n",
       "       'javascript google-apps-script google-sheets', 'dplyr data.table',\n",
       "       'google-sheets google-sheets-formula', 'node.js mongodb',\n",
       "       'python selenium', 'python list',\n",
       "       'apache-spark pyspark apache-spark-sql', 'javascript cs',\n",
       "       'visual-studio-2022', 'java algorithm', 'panda dataframe',\n",
       "       'html cs bootstrap-5', 'strapi', 'python visual-studio-code',\n",
       "       'python python-decorators', 'node.js reactjs npm', 'next.js',\n",
       "       'reactjs react-router', 'python pycharm',\n",
       "       'php wordpress woocommerce', 'keycloak', 'java collection',\n",
       "       'rstudio', 'python python-3.x panda',\n",
       "       'sql snowflake-cloud-data-platform', 'tailwind-css',\n",
       "       'mongodb mongodb-query aggregation-framework',\n",
       "       'excel vba excel-2010', 'python json'], dtype=object)"
      ]
     },
     "metadata": {},
     "output_type": "display_data"
    }
   ],
   "source": [
    "multi_lab = MultiLabelBinarizer(classes= top_200_tags)\n",
    "train_labels = multi_lab.fit_transform(y_train)\n",
    "test_labels = multi_lab.transform(y_test)\n",
    "\n",
    "print(\"Affichage des classes du multilabel :\")\n",
    "display(multi_lab.classes_)"
   ]
  },
  {
   "cell_type": "markdown",
   "id": "e7e5bae8",
   "metadata": {},
   "source": [
    "### Regression Logistique :"
   ]
  },
  {
   "cell_type": "code",
   "execution_count": 147,
   "id": "75418ea4",
   "metadata": {
    "ExecuteTime": {
     "end_time": "2022-10-17T14:44:03.451282Z",
     "start_time": "2022-10-17T14:43:58.709314Z"
    }
   },
   "outputs": [
    {
     "name": "stdout",
     "output_type": "stream",
     "text": [
      "CPU times: user 4.72 s, sys: 17.6 ms, total: 4.73 s\n",
      "Wall time: 4.74 s\n"
     ]
    }
   ],
   "source": [
    "%%time\n",
    "model_log = OneVsRestClassifier(LogisticRegression())\n",
    "model_log.fit(X_train, train_labels)\n",
    "y_pred = model_log.predict(X_test)"
   ]
  },
  {
   "cell_type": "code",
   "execution_count": 148,
   "id": "0a51708a",
   "metadata": {
    "ExecuteTime": {
     "end_time": "2022-10-17T14:44:03.544446Z",
     "start_time": "2022-10-17T14:44:03.452272Z"
    }
   },
   "outputs": [
    {
     "name": "stdout",
     "output_type": "stream",
     "text": [
      "-----------------------------------------------------\n",
      "\n",
      ">>>>>>>>>>>>>>> Accuracy : \u001b[1m0.09\u001b[0m <<<<<<<<<<<<<<<<<<<<\n",
      "\n",
      "-----------------------------------------------------\n",
      "\n",
      ">>>>>>>>>>>>>>> Hamming loss : \u001b[1m0.01\u001b[0m <<<<<<<<<<<<<<<<<\n",
      "\n",
      "-----------------------------------------------------\n",
      "\n",
      ">>>>>>>>>>>>>>> Jaccard_score : \u001b[1m0.12\u001b[0m <<<<<<<<<<<<<<<<\n",
      "\n",
      "-----------------------------------------------------\n"
     ]
    }
   ],
   "source": [
    "multiscore (test_labels, y_pred)"
   ]
  },
  {
   "cell_type": "markdown",
   "id": "9191ffbf",
   "metadata": {},
   "source": [
    "### Random Forest :"
   ]
  },
  {
   "cell_type": "code",
   "execution_count": 149,
   "id": "bb2b5170",
   "metadata": {
    "ExecuteTime": {
     "end_time": "2022-10-17T14:48:28.634932Z",
     "start_time": "2022-10-17T14:44:03.545559Z"
    }
   },
   "outputs": [
    {
     "name": "stdout",
     "output_type": "stream",
     "text": [
      "CPU times: user 4min 22s, sys: 813 ms, total: 4min 23s\n",
      "Wall time: 4min 25s\n"
     ]
    }
   ],
   "source": [
    "%%time\n",
    "model_rf = OneVsRestClassifier(RandomForestClassifier())\n",
    "model_rf.fit(X_train, train_labels)\n",
    "y_pred = model_rf.predict(X_test)"
   ]
  },
  {
   "cell_type": "code",
   "execution_count": 150,
   "id": "830317e5",
   "metadata": {
    "ExecuteTime": {
     "end_time": "2022-10-17T14:48:28.739903Z",
     "start_time": "2022-10-17T14:48:28.637490Z"
    }
   },
   "outputs": [
    {
     "name": "stdout",
     "output_type": "stream",
     "text": [
      "-----------------------------------------------------\n",
      "\n",
      ">>>>>>>>>>>>>>> Accuracy : \u001b[1m0.12\u001b[0m <<<<<<<<<<<<<<<<<<<<\n",
      "\n",
      "-----------------------------------------------------\n",
      "\n",
      ">>>>>>>>>>>>>>> Hamming loss : \u001b[1m0.01\u001b[0m <<<<<<<<<<<<<<<<<\n",
      "\n",
      "-----------------------------------------------------\n",
      "\n",
      ">>>>>>>>>>>>>>> Jaccard_score : \u001b[1m0.14\u001b[0m <<<<<<<<<<<<<<<<\n",
      "\n",
      "-----------------------------------------------------\n"
     ]
    }
   ],
   "source": [
    "multiscore (test_labels, y_pred)"
   ]
  },
  {
   "cell_type": "markdown",
   "id": "32518830",
   "metadata": {},
   "source": [
    "### Decision tree : "
   ]
  },
  {
   "cell_type": "code",
   "execution_count": 151,
   "id": "12144049",
   "metadata": {
    "ExecuteTime": {
     "end_time": "2022-10-17T14:49:23.540170Z",
     "start_time": "2022-10-17T14:48:28.741846Z"
    }
   },
   "outputs": [
    {
     "name": "stdout",
     "output_type": "stream",
     "text": [
      "CPU times: user 53.9 s, sys: 150 ms, total: 54.1 s\n",
      "Wall time: 54.8 s\n"
     ]
    }
   ],
   "source": [
    "%%time\n",
    "model_tree = OneVsRestClassifier(DecisionTreeClassifier())\n",
    "model_tree.fit(X_train, train_labels)\n",
    "y_pred = model_tree.predict(X_test)"
   ]
  },
  {
   "cell_type": "code",
   "execution_count": 152,
   "id": "bea03de6",
   "metadata": {
    "ExecuteTime": {
     "end_time": "2022-10-17T14:49:23.635188Z",
     "start_time": "2022-10-17T14:49:23.541254Z"
    }
   },
   "outputs": [
    {
     "name": "stdout",
     "output_type": "stream",
     "text": [
      "-----------------------------------------------------\n",
      "\n",
      ">>>>>>>>>>>>>>> Accuracy : \u001b[1m0.1\u001b[0m <<<<<<<<<<<<<<<<<<<<\n",
      "\n",
      "-----------------------------------------------------\n",
      "\n",
      ">>>>>>>>>>>>>>> Hamming loss : \u001b[1m0.01\u001b[0m <<<<<<<<<<<<<<<<<\n",
      "\n",
      "-----------------------------------------------------\n",
      "\n",
      ">>>>>>>>>>>>>>> Jaccard_score : \u001b[1m0.16\u001b[0m <<<<<<<<<<<<<<<<\n",
      "\n",
      "-----------------------------------------------------\n"
     ]
    }
   ],
   "source": [
    "multiscore (test_labels, y_pred)"
   ]
  },
  {
   "cell_type": "markdown",
   "id": "e5bf5c17",
   "metadata": {},
   "source": [
    "### KNN : "
   ]
  },
  {
   "cell_type": "code",
   "execution_count": 153,
   "id": "5c267819",
   "metadata": {
    "ExecuteTime": {
     "end_time": "2022-10-17T14:51:36.427084Z",
     "start_time": "2022-10-17T14:49:23.636350Z"
    }
   },
   "outputs": [
    {
     "name": "stdout",
     "output_type": "stream",
     "text": [
      "CPU times: user 1min 43s, sys: 28.3 s, total: 2min 12s\n",
      "Wall time: 2min 12s\n"
     ]
    }
   ],
   "source": [
    "%%time\n",
    "model_knn = OneVsRestClassifier(KNeighborsClassifier())\n",
    "model_knn.fit(X_train, train_labels)\n",
    "y_pred = model_knn.predict(X_test)"
   ]
  },
  {
   "cell_type": "code",
   "execution_count": 154,
   "id": "a4ef5074",
   "metadata": {
    "ExecuteTime": {
     "end_time": "2022-10-17T14:51:36.521582Z",
     "start_time": "2022-10-17T14:51:36.428329Z"
    }
   },
   "outputs": [
    {
     "name": "stdout",
     "output_type": "stream",
     "text": [
      "-----------------------------------------------------\n",
      "\n",
      ">>>>>>>>>>>>>>> Accuracy : \u001b[1m0.1\u001b[0m <<<<<<<<<<<<<<<<<<<<\n",
      "\n",
      "-----------------------------------------------------\n",
      "\n",
      ">>>>>>>>>>>>>>> Hamming loss : \u001b[1m0.01\u001b[0m <<<<<<<<<<<<<<<<<\n",
      "\n",
      "-----------------------------------------------------\n",
      "\n",
      ">>>>>>>>>>>>>>> Jaccard_score : \u001b[1m0.11\u001b[0m <<<<<<<<<<<<<<<<\n",
      "\n",
      "-----------------------------------------------------\n"
     ]
    }
   ],
   "source": [
    "multiscore (test_labels, y_pred)"
   ]
  },
  {
   "cell_type": "markdown",
   "id": "3469c53d",
   "metadata": {},
   "source": [
    "### Xgboost :"
   ]
  },
  {
   "cell_type": "code",
   "execution_count": 155,
   "id": "8a530738",
   "metadata": {
    "ExecuteTime": {
     "end_time": "2022-10-17T14:52:58.200629Z",
     "start_time": "2022-10-17T14:51:36.522580Z"
    }
   },
   "outputs": [
    {
     "name": "stdout",
     "output_type": "stream",
     "text": [
      "CPU times: user 9min 10s, sys: 25.1 s, total: 9min 36s\n",
      "Wall time: 1min 21s\n"
     ]
    }
   ],
   "source": [
    "%%time\n",
    "model_xgb = OneVsRestClassifier(XGBRegressor())\n",
    "model_xgb.fit(X_train, train_labels)\n",
    "y_pred = model_xgb.predict(X_test)"
   ]
  },
  {
   "cell_type": "code",
   "execution_count": 156,
   "id": "91812555",
   "metadata": {
    "ExecuteTime": {
     "end_time": "2022-10-17T14:52:58.300685Z",
     "start_time": "2022-10-17T14:52:58.202137Z"
    }
   },
   "outputs": [
    {
     "name": "stdout",
     "output_type": "stream",
     "text": [
      "-----------------------------------------------------\n",
      "\n",
      ">>>>>>>>>>>>>>> Accuracy : \u001b[1m0.14\u001b[0m <<<<<<<<<<<<<<<<<<<<\n",
      "\n",
      "-----------------------------------------------------\n",
      "\n",
      ">>>>>>>>>>>>>>> Hamming loss : \u001b[1m0.01\u001b[0m <<<<<<<<<<<<<<<<<\n",
      "\n",
      "-----------------------------------------------------\n",
      "\n",
      ">>>>>>>>>>>>>>> Jaccard_score : \u001b[1m0.17\u001b[0m <<<<<<<<<<<<<<<<\n",
      "\n",
      "-----------------------------------------------------\n"
     ]
    }
   ],
   "source": [
    "multiscore (test_labels, y_pred)"
   ]
  },
  {
   "cell_type": "markdown",
   "id": "663c212c",
   "metadata": {},
   "source": [
    "### Linear SVC :"
   ]
  },
  {
   "cell_type": "code",
   "execution_count": 157,
   "id": "61807413",
   "metadata": {
    "ExecuteTime": {
     "end_time": "2022-10-17T14:52:59.786778Z",
     "start_time": "2022-10-17T14:52:58.302129Z"
    }
   },
   "outputs": [
    {
     "name": "stdout",
     "output_type": "stream",
     "text": [
      "CPU times: user 1.75 s, sys: 154 ms, total: 1.9 s\n",
      "Wall time: 1.48 s\n"
     ]
    }
   ],
   "source": [
    "%%time\n",
    "model_svm = OneVsRestClassifier(LinearSVC())\n",
    "model_svm.fit(X_train, train_labels)\n",
    "\n",
    "y_pred = model_svm.predict(X_test)"
   ]
  },
  {
   "cell_type": "code",
   "execution_count": 158,
   "id": "c0f96fc3",
   "metadata": {
    "ExecuteTime": {
     "end_time": "2022-10-17T14:52:59.876204Z",
     "start_time": "2022-10-17T14:52:59.787794Z"
    }
   },
   "outputs": [
    {
     "name": "stdout",
     "output_type": "stream",
     "text": [
      "-----------------------------------------------------\n",
      "\n",
      ">>>>>>>>>>>>>>> Accuracy : \u001b[1m0.06\u001b[0m <<<<<<<<<<<<<<<<<<<<\n",
      "\n",
      "-----------------------------------------------------\n",
      "\n",
      ">>>>>>>>>>>>>>> Hamming loss : \u001b[1m0.01\u001b[0m <<<<<<<<<<<<<<<<<\n",
      "\n",
      "-----------------------------------------------------\n",
      "\n",
      ">>>>>>>>>>>>>>> Jaccard_score : \u001b[1m0.08\u001b[0m <<<<<<<<<<<<<<<<\n",
      "\n",
      "-----------------------------------------------------\n"
     ]
    }
   ],
   "source": [
    "multiscore (test_labels, y_pred)"
   ]
  },
  {
   "cell_type": "markdown",
   "id": "6d45186a",
   "metadata": {},
   "source": [
    "## Algorithme utilisant le word2vec :"
   ]
  },
  {
   "cell_type": "markdown",
   "id": "ae635360",
   "metadata": {},
   "source": [
    "### Train test via tf-idf :"
   ]
  },
  {
   "cell_type": "code",
   "execution_count": 159,
   "id": "62ae7b2b",
   "metadata": {
    "ExecuteTime": {
     "end_time": "2022-10-17T14:52:59.881326Z",
     "start_time": "2022-10-17T14:52:59.877215Z"
    }
   },
   "outputs": [
    {
     "data": {
      "text/plain": [
       "0        delete loop form option image input form array...\n",
       "1                      script mysql sql path way path path\n",
       "2        verification authentication python decode func...\n",
       "3        work context manager example manager file sugg...\n",
       "4        branch protection rule configuration branch br...\n",
       "                               ...                        \n",
       "31155    Step sdk register account project get import p...\n",
       "31159    class compile time class compile time code sni...\n",
       "31160    inline constraint function implementation look...\n",
       "31161            classname javascript change class name li\n",
       "31162    input change size shape tap shape user input e...\n",
       "Name: corpus_finish, Length: 24662, dtype: object"
      ]
     },
     "execution_count": 159,
     "metadata": {},
     "output_type": "execute_result"
    }
   ],
   "source": [
    "df_modellisation.corpus_finish"
   ]
  },
  {
   "cell_type": "code",
   "execution_count": 160,
   "id": "03ea3fc4",
   "metadata": {
    "ExecuteTime": {
     "end_time": "2022-10-17T14:53:00.053705Z",
     "start_time": "2022-10-17T14:52:59.882487Z"
    }
   },
   "outputs": [
    {
     "ename": "AttributeError",
     "evalue": "'GridSearchCV' object has no attribute 'build_vocab'",
     "output_type": "error",
     "traceback": [
      "\u001b[0;31m---------------------------------------------------------------------------\u001b[0m",
      "\u001b[0;31mAttributeError\u001b[0m                            Traceback (most recent call last)",
      "\u001b[0;32m/var/folders/v4/29d9wntd6nbf0_5_h459byjr0000gn/T/ipykernel_1021/2405197322.py\u001b[0m in \u001b[0;36m<cell line: 1>\u001b[0;34m()\u001b[0m\n\u001b[0;32m----> 1\u001b[0;31m \u001b[0mcorpus_word2vec\u001b[0m \u001b[0;34m=\u001b[0m \u001b[0mmodel\u001b[0m\u001b[0;34m.\u001b[0m\u001b[0mbuild_vocab\u001b[0m\u001b[0;34m(\u001b[0m\u001b[0mdf_modellisation\u001b[0m\u001b[0;34m.\u001b[0m\u001b[0mcorpus_finish\u001b[0m\u001b[0;34m,\u001b[0m \u001b[0mprogress_per\u001b[0m\u001b[0;34m=\u001b[0m \u001b[0;36m10\u001b[0m\u001b[0;34m)\u001b[0m\u001b[0;34m\u001b[0m\u001b[0;34m\u001b[0m\u001b[0m\n\u001b[0m",
      "\u001b[0;31mAttributeError\u001b[0m: 'GridSearchCV' object has no attribute 'build_vocab'"
     ]
    }
   ],
   "source": [
    "corpus_word2vec = model.build_vocab(df_modellisation.corpus_finish, progress_per= 10)"
   ]
  },
  {
   "cell_type": "code",
   "execution_count": null,
   "id": "d3a30e11",
   "metadata": {
    "ExecuteTime": {
     "end_time": "2022-10-17T14:53:00.080822Z",
     "start_time": "2022-10-17T14:53:00.080814Z"
    }
   },
   "outputs": [],
   "source": [
    "X = corpus_word2vec # a modifier par tfidf et par wordtovec\n",
    "y = df_modellisation_1['tags_final']\n",
    "X_train, X_test, y_train, y_test = train_test_split(X, y, test_size=0.2, random_state=0)"
   ]
  },
  {
   "cell_type": "code",
   "execution_count": null,
   "id": "30617493",
   "metadata": {
    "ExecuteTime": {
     "end_time": "2022-10-17T14:53:00.081368Z",
     "start_time": "2022-10-17T14:53:00.081361Z"
    }
   },
   "outputs": [],
   "source": [
    "import gensim.models\n",
    "from gensim.models import Word2Vec\n",
    "\n",
    "\n",
    "sentences = df_modellisation.corpus_preprocessing\n",
    "model = gensim.models.Word2Vec(window=10,\n",
    "                               min_count=5,\n",
    "                               worker=4\n",
    "                              )\n",
    "# model = gensim.models.Word2Vec(sentences, min_count=200, vector_size=200, workers=4)"
   ]
  },
  {
   "cell_type": "markdown",
   "id": "f6679f3c",
   "metadata": {},
   "source": [
    "### multilabel via BOW :"
   ]
  },
  {
   "cell_type": "code",
   "execution_count": null,
   "id": "33ffda89",
   "metadata": {},
   "outputs": [],
   "source": []
  },
  {
   "cell_type": "code",
   "execution_count": null,
   "id": "b36d5d98",
   "metadata": {},
   "outputs": [],
   "source": []
  },
  {
   "cell_type": "markdown",
   "id": "036cff42",
   "metadata": {},
   "source": [
    "## Algorithme utilisant Bert : "
   ]
  },
  {
   "cell_type": "code",
   "execution_count": null,
   "id": "396a00a9",
   "metadata": {},
   "outputs": [],
   "source": []
  },
  {
   "cell_type": "code",
   "execution_count": null,
   "id": "58c91cbb",
   "metadata": {},
   "outputs": [],
   "source": []
  },
  {
   "cell_type": "code",
   "execution_count": null,
   "id": "21cb0f5d",
   "metadata": {},
   "outputs": [],
   "source": []
  },
  {
   "cell_type": "code",
   "execution_count": null,
   "id": "b362fff9",
   "metadata": {},
   "outputs": [],
   "source": []
  },
  {
   "cell_type": "code",
   "execution_count": null,
   "id": "795b0b93",
   "metadata": {},
   "outputs": [],
   "source": []
  },
  {
   "cell_type": "markdown",
   "id": "30d53b43",
   "metadata": {},
   "source": [
    "## Choix du meilleur algorithme :"
   ]
  },
  {
   "cell_type": "markdown",
   "id": "43d5bc3d",
   "metadata": {},
   "source": [
    "### Pour le BOW :"
   ]
  },
  {
   "cell_type": "code",
   "execution_count": null,
   "id": "d3fec939",
   "metadata": {},
   "outputs": [],
   "source": []
  },
  {
   "cell_type": "markdown",
   "id": "7b767de3",
   "metadata": {},
   "source": [
    "### Pour le tf-idf :"
   ]
  },
  {
   "cell_type": "code",
   "execution_count": null,
   "id": "1b577ba0",
   "metadata": {},
   "outputs": [],
   "source": []
  },
  {
   "cell_type": "markdown",
   "id": "0d0a1d34",
   "metadata": {},
   "source": [
    "### Pour le word2vec :"
   ]
  },
  {
   "cell_type": "code",
   "execution_count": null,
   "id": "00661484",
   "metadata": {},
   "outputs": [],
   "source": []
  },
  {
   "cell_type": "markdown",
   "id": "3bcc0b12",
   "metadata": {},
   "source": [
    "### Pour le BERT :"
   ]
  },
  {
   "cell_type": "code",
   "execution_count": null,
   "id": "28d7612c",
   "metadata": {},
   "outputs": [],
   "source": []
  },
  {
   "cell_type": "code",
   "execution_count": null,
   "id": "cc4378c9",
   "metadata": {},
   "outputs": [],
   "source": []
  },
  {
   "cell_type": "code",
   "execution_count": null,
   "id": "a11dfff8",
   "metadata": {},
   "outputs": [],
   "source": []
  },
  {
   "cell_type": "code",
   "execution_count": null,
   "id": "834322a5",
   "metadata": {},
   "outputs": [],
   "source": []
  }
 ],
 "metadata": {
  "kernelspec": {
   "display_name": "Python 3 (ipykernel)",
   "language": "python",
   "name": "python3"
  },
  "language_info": {
   "codemirror_mode": {
    "name": "ipython",
    "version": 3
   },
   "file_extension": ".py",
   "mimetype": "text/x-python",
   "name": "python",
   "nbconvert_exporter": "python",
   "pygments_lexer": "ipython3",
   "version": "3.8.12"
  },
  "toc": {
   "base_numbering": 1,
   "nav_menu": {},
   "number_sections": true,
   "sideBar": true,
   "skip_h1_title": false,
   "title_cell": "Table of Contents",
   "title_sidebar": "Contents",
   "toc_cell": false,
   "toc_position": {
    "height": "calc(100% - 180px)",
    "left": "10px",
    "top": "150px",
    "width": "384px"
   },
   "toc_section_display": true,
   "toc_window_display": true
  },
  "varInspector": {
   "cols": {
    "lenName": 16,
    "lenType": 16,
    "lenVar": 40
   },
   "kernels_config": {
    "python": {
     "delete_cmd_postfix": "",
     "delete_cmd_prefix": "del ",
     "library": "var_list.py",
     "varRefreshCmd": "print(var_dic_list())"
    },
    "r": {
     "delete_cmd_postfix": ") ",
     "delete_cmd_prefix": "rm(",
     "library": "var_list.r",
     "varRefreshCmd": "cat(var_dic_list()) "
    }
   },
   "types_to_exclude": [
    "module",
    "function",
    "builtin_function_or_method",
    "instance",
    "_Feature"
   ],
   "window_display": false
  }
 },
 "nbformat": 4,
 "nbformat_minor": 5
}
