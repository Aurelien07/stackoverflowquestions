{
  "cells": [
    {
      "cell_type": "markdown",
      "metadata": {
        "id": "view-in-github",
        "colab_type": "text"
      },
      "source": [
        "<a href=\"https://colab.research.google.com/github/Aurelien07/stackoverflowquestions/blob/main/Projet_5_Analyse_supervis%C3%A9e.ipynb\" target=\"_parent\"><img src=\"https://colab.research.google.com/assets/colab-badge.svg\" alt=\"Open In Colab\"/></a>"
      ]
    },
    {
      "cell_type": "markdown",
      "id": "f3629ad5",
      "metadata": {
        "id": "f3629ad5"
      },
      "source": [
        "### Import des libraires :"
      ]
    },
    {
      "cell_type": "code",
      "source": [
        "!pip install transformers"
      ],
      "metadata": {
        "id": "ADM6r78BVwWE"
      },
      "id": "ADM6r78BVwWE",
      "execution_count": null,
      "outputs": []
    },
    {
      "cell_type": "code",
      "execution_count": null,
      "id": "7e7908cc",
      "metadata": {
        "ExecuteTime": {
          "end_time": "2022-11-06T03:05:50.134241Z",
          "start_time": "2022-11-06T03:05:45.204367Z"
        },
        "id": "7e7908cc"
      },
      "outputs": [],
      "source": [
        "import pickle\n",
        "import pandas as pd\n",
        "import numpy as np\n",
        "import IPython.display\n",
        "import re\n",
        "\n",
        "# Permettra de créer des accés avec google drive\n",
        "import os\n",
        "\n",
        "# Pour l'optimisation des algos :\n",
        "from sklearn.model_selection import GridSearchCV\n",
        "\n",
        "# pour les algorithmes supervisés :\n",
        "from sklearn.linear_model import LogisticRegression\n",
        "from sklearn.ensemble import RandomForestClassifier\n",
        "from sklearn.tree import DecisionTreeClassifier\n",
        "from sklearn.neighbors import KNeighborsClassifier\n",
        "import xgboost as xgb\n",
        "from xgboost import XGBRegressor\n",
        "from sklearn.svm import LinearSVC\n",
        "from sklearn.ensemble import GradientBoostingClassifier\n",
        "\n",
        "\n",
        "# Pour le BOW :\n",
        "from nltk.tokenize import word_tokenize\n",
        "\n",
        "# Pour le tf-idf :\n",
        "from sklearn.feature_extraction.text import TfidfVectorizer\n",
        "from sklearn.feature_extraction.text import TfidfTransformer\n",
        "\n",
        "import tensorflow_hub as tf_hub\n",
        "\n",
        "# Pour word2vec :\n",
        "import tensorflow as tf\n",
        "import tensorflow.keras\n",
        "from tensorflow.keras import backend as K\n",
        "from tensorflow.keras.preprocessing.text import Tokenizer\n",
        "from tensorflow.keras.preprocessing.sequence import pad_sequences\n",
        "from tensorflow.keras import metrics as kmetrics\n",
        "from tensorflow.keras.layers import *\n",
        "from tensorflow.keras.models import Model\n",
        "import gensim\n",
        "from gensim.models import Word2Vec, word2vec\n",
        "\n",
        "# Pour la visualisation des tokens :\n",
        "from sklearn.feature_extraction.text import CountVectorizer\n",
        "from yellowbrick.text import FreqDistVisualizer\n",
        "\n",
        "# Pour les scores :\n",
        "from sklearn import metrics\n",
        "from sklearn.metrics import accuracy_score, jaccard_score, hamming_loss\n",
        "from sklearn.metrics import roc_auc_score\n",
        "\n",
        "# Pour supprimer les warnings :\n",
        "import warnings\n",
        "warnings.filterwarnings(\"ignore\")"
      ]
    },
    {
      "cell_type": "markdown",
      "id": "6cfce533",
      "metadata": {
        "id": "6cfce533"
      },
      "source": [
        "### import des datas :"
      ]
    },
    {
      "cell_type": "code",
      "source": [
        "from google.colab import drive\n",
        "drive.mount('/content/drive')"
      ],
      "metadata": {
        "id": "DyZ_5lHaVYQ6"
      },
      "id": "DyZ_5lHaVYQ6",
      "execution_count": null,
      "outputs": []
    },
    {
      "cell_type": "code",
      "execution_count": null,
      "id": "4931ab8f",
      "metadata": {
        "ExecuteTime": {
          "end_time": "2022-11-06T03:05:53.079081Z",
          "start_time": "2022-11-06T03:05:52.424652Z"
        },
        "id": "4931ab8f"
      },
      "outputs": [],
      "source": [
        "df_modellisation = pd.read_pickle(\"/content/drive/My Drive/Colab Notebooks/TEST/df_modellisation_part_1.pkl\")"
      ]
    },
    {
      "cell_type": "code",
      "execution_count": null,
      "id": "b2b60db5",
      "metadata": {
        "ExecuteTime": {
          "end_time": "2022-11-06T03:05:56.320044Z",
          "start_time": "2022-11-06T03:05:56.291219Z"
        },
        "id": "b2b60db5"
      },
      "outputs": [],
      "source": [
        "df_modellisation"
      ]
    },
    {
      "cell_type": "markdown",
      "id": "cadc33ac",
      "metadata": {
        "id": "cadc33ac"
      },
      "source": [
        "### Mise en place de la limite des 50 tags :"
      ]
    },
    {
      "cell_type": "code",
      "execution_count": null,
      "id": "836415e9",
      "metadata": {
        "ExecuteTime": {
          "end_time": "2022-11-06T03:05:57.662509Z",
          "start_time": "2022-11-06T03:05:57.658556Z"
        },
        "id": "836415e9"
      },
      "outputs": [],
      "source": [
        "top_50_tags = pickle.load(open('/content/drive/My Drive/Colab Notebooks/TEST/top_50_tags.pkl', 'rb')) # pour le load"
      ]
    },
    {
      "cell_type": "markdown",
      "id": "5bffaf1a",
      "metadata": {
        "id": "5bffaf1a"
      },
      "source": [
        "### Fonction pour les scores :"
      ]
    },
    {
      "cell_type": "code",
      "execution_count": null,
      "id": "189d76ac",
      "metadata": {
        "ExecuteTime": {
          "end_time": "2022-11-06T03:05:58.839660Z",
          "start_time": "2022-11-06T03:05:58.831826Z"
        },
        "id": "189d76ac"
      },
      "outputs": [],
      "source": [
        "def dico_metric (dico, col) :\n",
        "\n",
        "  \"\"\"\n",
        "  source : https://scikit-learn.org/stable/modules/model_evaluation.html\n",
        "  Permet de créer un dictionnaire avec les scores des differents algorithmes.\n",
        "  \"\"\"\n",
        "  dico[col]  = {'Accuracy': round(metrics.accuracy_score(y_test, y_pred), 2) ,\n",
        "                'Hamming loss' : round(metrics.hamming_loss(y_test, y_pred), 2),\n",
        "              #  'Jaccard_score_macro' : round(metrics.jaccard_score(y_test, y_pred, average=\"macro\"), 2),\n",
        "                'Jaccard_score_micro' : round(metrics.jaccard_score(y_test, y_pred, average=\"micro\"), 2),\n",
        "              #  'f1_macro_score' : round(metrics.f1_score(y_test, y_pred, average='macro'), 2),\n",
        "                'f1_micro_score' : round(metrics.f1_score(y_test, y_pred, average='micro'), 2),\n",
        "                'Recall_micro_score' : round(metrics.f1_score(y_test, y_pred, average='micro'), 2),\n",
        "              #  'Recall_macro_score' : round(metrics.f1_score(y_test, y_pred, average='macro'), 2),\n",
        "                }\n",
        "  return dico"
      ]
    },
    {
      "cell_type": "markdown",
      "id": "936a95cc",
      "metadata": {
        "id": "936a95cc"
      },
      "source": [
        "# __Algorithme utilisant le BOW comme X :__"
      ]
    },
    {
      "cell_type": "markdown",
      "id": "acfa59bb",
      "metadata": {
        "id": "acfa59bb"
      },
      "source": [
        "### Utiliser le bow en pickle :"
      ]
    },
    {
      "cell_type": "code",
      "execution_count": null,
      "id": "b0281944",
      "metadata": {
        "ExecuteTime": {
          "end_time": "2022-11-06T03:06:12.425493Z",
          "start_time": "2022-11-06T03:06:12.415215Z"
        },
        "id": "b0281944"
      },
      "outputs": [],
      "source": [
        "bow = pickle.load(open('/content/drive/My Drive/Colab Notebooks/TEST/bow.pkl', 'rb')) # pour le load"
      ]
    },
    {
      "cell_type": "markdown",
      "id": "ae819b44",
      "metadata": {
        "id": "ae819b44"
      },
      "source": [
        "### Train test via BOW :"
      ]
    },
    {
      "cell_type": "code",
      "execution_count": null,
      "id": "572eff39",
      "metadata": {
        "ExecuteTime": {
          "end_time": "2022-11-06T03:06:03.650517Z",
          "start_time": "2022-11-06T03:06:03.645907Z"
        },
        "id": "572eff39"
      },
      "outputs": [],
      "source": [
        "from sklearn.model_selection import train_test_split\n",
        "from sklearn.preprocessing import MultiLabelBinarizer\n",
        "from sklearn.multiclass import OneVsRestClassifier\n",
        "from sklearn.metrics import confusion_matrix"
      ]
    },
    {
      "cell_type": "code",
      "execution_count": null,
      "id": "da59a588",
      "metadata": {
        "ExecuteTime": {
          "end_time": "2022-11-06T03:06:04.876669Z",
          "start_time": "2022-11-06T03:06:04.782850Z"
        },
        "id": "da59a588"
      },
      "outputs": [],
      "source": [
        "y = df_modellisation['tags_final']\n",
        "multi_lab = MultiLabelBinarizer(classes= top_50_tags)\n",
        "Y = multi_lab.fit_transform(y)\n",
        "\n",
        "print(\"Affichage des classes du multilabel :\")\n",
        "display(multi_lab.classes_)"
      ]
    },
    {
      "cell_type": "code",
      "execution_count": null,
      "id": "fc173e41",
      "metadata": {
        "ExecuteTime": {
          "end_time": "2022-11-06T03:06:16.588269Z",
          "start_time": "2022-11-06T03:06:16.510294Z"
        },
        "id": "fc173e41"
      },
      "outputs": [],
      "source": [
        "X = bow # a modifier par tfidf et par wordtovec\n",
        "y = Y\n",
        "X_train, X_test, y_train, y_test = train_test_split(X, y, test_size=0.2, random_state=0)"
      ]
    },
    {
      "cell_type": "markdown",
      "id": "hzhxwfyWxoW9",
      "metadata": {
        "id": "hzhxwfyWxoW9"
      },
      "source": [
        "### Création d'une liste pour les scores des métrics :"
      ]
    },
    {
      "cell_type": "code",
      "execution_count": null,
      "id": "624167ff",
      "metadata": {
        "ExecuteTime": {
          "end_time": "2022-11-06T02:58:05.508735Z",
          "start_time": "2022-11-06T02:58:05.505802Z"
        },
        "id": "624167ff"
      },
      "outputs": [],
      "source": [
        "model_metrics_bow = {} # Garde en mémoire les scores"
      ]
    },
    {
      "cell_type": "markdown",
      "id": "182890e6",
      "metadata": {
        "id": "182890e6"
      },
      "source": [
        "## Regression logistique :"
      ]
    },
    {
      "cell_type": "code",
      "execution_count": null,
      "id": "3b5f7779",
      "metadata": {
        "ExecuteTime": {
          "end_time": "2022-11-06T03:15:33.980966Z",
          "start_time": "2022-11-06T03:15:33.977471Z"
        },
        "id": "3b5f7779"
      },
      "outputs": [],
      "source": [
        "def regression_log (X_train, y_train, X_test) :\n",
        "  \n",
        "  model_svm = OneVsRestClassifier(LogisticRegression())\n",
        "  model_svm.fit(X_train, y_train)\n",
        "  y_pred = model_svm.predict(X_test)\n",
        "  \n",
        "  return y_pred"
      ]
    },
    {
      "cell_type": "code",
      "execution_count": null,
      "id": "d78b3c26",
      "metadata": {
        "ExecuteTime": {
          "end_time": "2022-11-04T20:30:11.504663Z",
          "start_time": "2022-11-04T20:29:51.135193Z"
        },
        "id": "d78b3c26"
      },
      "outputs": [],
      "source": [
        "%%time\n",
        "y_pred = regression_log (X_train, y_train, X_test)\n",
        "#multiscore (y_test, y_pred)\n",
        "dico_metric (model_metrics_bow, \"reg_log\")"
      ]
    },
    {
      "cell_type": "markdown",
      "id": "a7341f77",
      "metadata": {
        "id": "a7341f77"
      },
      "source": [
        "## Random Forest :"
      ]
    },
    {
      "cell_type": "code",
      "execution_count": null,
      "id": "cc641e6f",
      "metadata": {
        "ExecuteTime": {
          "end_time": "2022-11-06T03:15:35.667489Z",
          "start_time": "2022-11-06T03:15:35.662529Z"
        },
        "id": "cc641e6f"
      },
      "outputs": [],
      "source": [
        "def random_forest (X_train, y_train, X_test) :\n",
        "\n",
        "  model_rf = OneVsRestClassifier(RandomForestClassifier())\n",
        "  model_rf.fit(X_train, y_train)\n",
        "  y_pred = model_rf.predict(X_test) \n",
        "  \n",
        "  return y_pred"
      ]
    },
    {
      "cell_type": "code",
      "execution_count": null,
      "id": "fdee2243",
      "metadata": {
        "ExecuteTime": {
          "end_time": "2022-11-04T20:50:52.532259Z",
          "start_time": "2022-11-04T20:30:27.839918Z"
        },
        "id": "fdee2243"
      },
      "outputs": [],
      "source": [
        "%%time\n",
        "y_pred = random_forest (X_train, y_train, X_test)\n",
        "#multiscore (y_test, y_pred)\n",
        "dico_metric (model_metrics_bow, \"random_forest\")"
      ]
    },
    {
      "cell_type": "markdown",
      "id": "57e240b1",
      "metadata": {
        "id": "57e240b1"
      },
      "source": [
        "## Decision tree : "
      ]
    },
    {
      "cell_type": "code",
      "execution_count": null,
      "id": "c7cd7c3e",
      "metadata": {
        "ExecuteTime": {
          "end_time": "2022-11-06T03:15:37.812430Z",
          "start_time": "2022-11-06T03:15:37.806075Z"
        },
        "id": "c7cd7c3e"
      },
      "outputs": [],
      "source": [
        "def decision_tree (X_train, y_train, X_test) :\n",
        "\n",
        "  model_tree = OneVsRestClassifier(DecisionTreeClassifier())\n",
        "  model_tree.fit(X_train, y_train)\n",
        "  y_pred = model_tree.predict(X_test) \n",
        "  \n",
        "  return y_pred "
      ]
    },
    {
      "cell_type": "code",
      "execution_count": null,
      "id": "25f074ce",
      "metadata": {
        "ExecuteTime": {
          "end_time": "2022-11-04T20:56:15.288202Z",
          "start_time": "2022-11-04T20:54:13.936234Z"
        },
        "id": "25f074ce"
      },
      "outputs": [],
      "source": [
        "%%time\n",
        "y_pred = decision_tree (X_train, y_train, X_test)\n",
        "# multiscore (y_test, y_pred)\n",
        "dico_metric (model_metrics_bow, \"decision_tree\")"
      ]
    },
    {
      "cell_type": "markdown",
      "id": "a14d8315",
      "metadata": {
        "id": "a14d8315"
      },
      "source": [
        "## KNN : "
      ]
    },
    {
      "cell_type": "code",
      "execution_count": null,
      "id": "2311ced7",
      "metadata": {
        "ExecuteTime": {
          "end_time": "2022-11-06T03:15:40.245249Z",
          "start_time": "2022-11-06T03:15:40.240547Z"
        },
        "id": "2311ced7"
      },
      "outputs": [],
      "source": [
        "def KNeighbors (X_train, y_train, X_test) :\n",
        "\n",
        "  model_knn = OneVsRestClassifier(KNeighborsClassifier())\n",
        "  model_knn.fit(X_train, y_train)\n",
        "  y_pred = model_knn.predict(X_test)\n",
        "  \n",
        "  return y_pred"
      ]
    },
    {
      "cell_type": "code",
      "execution_count": null,
      "id": "14ae2f68",
      "metadata": {
        "ExecuteTime": {
          "end_time": "2022-11-04T21:18:21.208030Z",
          "start_time": "2022-11-04T20:59:56.688582Z"
        },
        "id": "14ae2f68"
      },
      "outputs": [],
      "source": [
        "%%time\n",
        "y_pred = KNeighbors (X_train, y_train, X_test)\n",
        "# multiscore (y_test, y_pred)\n",
        "dico_metric (model_metrics_bow, \"knn\")"
      ]
    },
    {
      "cell_type": "markdown",
      "id": "467ea4d3",
      "metadata": {
        "id": "467ea4d3"
      },
      "source": [
        "## Xgboost :"
      ]
    },
    {
      "cell_type": "code",
      "execution_count": null,
      "id": "d558c0b0",
      "metadata": {
        "ExecuteTime": {
          "end_time": "2022-11-05T13:48:56.938288Z",
          "start_time": "2022-11-05T13:48:56.931591Z"
        },
        "id": "d558c0b0"
      },
      "outputs": [],
      "source": [
        "def xgboost (X_train, y_train, X_test) :\n",
        "\n",
        "  model_xgb = OneVsRestClassifier(XGBRegressor())\n",
        "  model_xgb.fit(X_train, y_train)\n",
        "  y_pred = model_xgb.predict(X_test)  \n",
        "  return y_pred"
      ]
    },
    {
      "cell_type": "code",
      "execution_count": null,
      "id": "af380f4d",
      "metadata": {
        "ExecuteTime": {
          "end_time": "2022-11-04T21:21:31.836679Z",
          "start_time": "2022-11-04T21:20:32.960489Z"
        },
        "id": "af380f4d"
      },
      "outputs": [],
      "source": [
        "%%time\n",
        "y_pred = xgboost (X_train, y_train, X_test)\n",
        "# multiscore (y_test, y_pred)\n",
        "dico_metric (model_metrics_bow, \"xgboost\")"
      ]
    },
    {
      "cell_type": "markdown",
      "id": "cpcL10knxwTZ",
      "metadata": {
        "id": "cpcL10knxwTZ"
      },
      "source": [
        "## Gradient Boosting :"
      ]
    },
    {
      "cell_type": "code",
      "execution_count": null,
      "id": "db42c201",
      "metadata": {
        "ExecuteTime": {
          "end_time": "2022-11-06T03:15:42.475658Z",
          "start_time": "2022-11-06T03:15:42.471998Z"
        },
        "id": "db42c201"
      },
      "outputs": [],
      "source": [
        "def gradient_boost (X_train, y_train, X_test) :\n",
        "  \n",
        "  model_svm = OneVsRestClassifier(GradientBoostingClassifier())\n",
        "  model_svm.fit(X_train, y_train)\n",
        "  y_pred = model_svm.predict(X_test)\n",
        "  \n",
        "  return y_pred"
      ]
    },
    {
      "cell_type": "code",
      "execution_count": null,
      "id": "d1584644",
      "metadata": {
        "ExecuteTime": {
          "end_time": "2022-11-04T21:24:11.572639Z",
          "start_time": "2022-11-04T21:22:04.335232Z"
        },
        "id": "d1584644"
      },
      "outputs": [],
      "source": [
        "%%time\n",
        "y_pred = gradient_boost (X_train, y_train, X_test)\n",
        "# model_svc = multiscore (y_test, y_pred)\n",
        "dico_metric (model_metrics_bow, \"gradient_boost\")"
      ]
    },
    {
      "cell_type": "markdown",
      "id": "162e4ab5",
      "metadata": {
        "id": "162e4ab5"
      },
      "source": [
        "## AdaBoostClassifier :"
      ]
    },
    {
      "cell_type": "code",
      "execution_count": null,
      "id": "3f1451e8",
      "metadata": {
        "ExecuteTime": {
          "end_time": "2022-11-05T17:38:57.577626Z",
          "start_time": "2022-11-05T17:38:57.574092Z"
        },
        "id": "3f1451e8"
      },
      "outputs": [],
      "source": [
        "from sklearn.ensemble import AdaBoostClassifier"
      ]
    },
    {
      "cell_type": "code",
      "execution_count": null,
      "id": "150d061b",
      "metadata": {
        "ExecuteTime": {
          "end_time": "2022-11-06T03:15:45.080540Z",
          "start_time": "2022-11-06T03:15:45.077194Z"
        },
        "id": "150d061b"
      },
      "outputs": [],
      "source": [
        "def Ada_Boost_Classifier (X_train, y_train, X_test) :\n",
        "  \n",
        "  model_adab = OneVsRestClassifier(AdaBoostClassifier())\n",
        "  model_adab.fit(X_train, y_train)\n",
        "  y_pred = model_adab.predict(X_test)\n",
        "  \n",
        "  return y_pred"
      ]
    },
    {
      "cell_type": "code",
      "execution_count": null,
      "id": "d151017a",
      "metadata": {
        "ExecuteTime": {
          "end_time": "2022-11-04T21:27:00.935844Z",
          "start_time": "2022-11-04T21:26:48.246599Z"
        },
        "id": "d151017a"
      },
      "outputs": [],
      "source": [
        "%%time\n",
        "y_pred = Ada_Boost_Classifier (X_train, y_train, X_test)\n",
        "# model_svc = multiscore (y_test, y_pred)\n",
        "dico_metric (model_metrics_bow, \"Ada_Boost_Classifier\")"
      ]
    },
    {
      "cell_type": "markdown",
      "id": "qFV-o0RLD_IT",
      "metadata": {
        "id": "qFV-o0RLD_IT"
      },
      "source": [
        "### Dictionnaire des scores :"
      ]
    },
    {
      "cell_type": "code",
      "execution_count": null,
      "id": "77a8931e",
      "metadata": {
        "ExecuteTime": {
          "end_time": "2022-11-04T21:29:04.364000Z",
          "start_time": "2022-11-04T21:29:04.337966Z"
        },
        "id": "77a8931e"
      },
      "outputs": [],
      "source": [
        "score_bow = pd.DataFrame.from_dict(model_metrics_bow)\n",
        "# score_bow = score_bow.style.applymap(color_yellow).applymap(make_bold)\n",
        "print(\"-\"*83)\n",
        "print(\"-\"*35 + f\"Via le BOW :\" + \"-\"*36)\n",
        "print(\"-\"*83)\n",
        "display(score_bow)"
      ]
    },
    {
      "cell_type": "markdown",
      "id": "717df725",
      "metadata": {
        "id": "717df725"
      },
      "source": [
        "#### Sauvegarde du résultat :"
      ]
    },
    {
      "cell_type": "code",
      "execution_count": null,
      "id": "9253c627",
      "metadata": {
        "ExecuteTime": {
          "end_time": "2022-11-04T21:27:27.078678Z",
          "start_time": "2022-11-04T21:27:27.061525Z"
        },
        "id": "9253c627"
      },
      "outputs": [],
      "source": [
        "#score_bow.to_csv(\"resultat_score_bow.csv\", index=True) \n",
        "score_bow.to_csv(\"/content/drive/My Drive/Colab Notebooks/TEST/Resultat_score_bow.csv\", index=True) \n",
        "# Cela permettra d'éviter d'attendre de relancer le notebook."
      ]
    },
    {
      "cell_type": "code",
      "source": [
        "score_bow = pd.read_csv(\"/content/drive/My Drive/Colab Notebooks/TEST/Resultat_score_bow.csv\")\n",
        "score_bow "
      ],
      "metadata": {
        "id": "t6Vg9_Mka89k"
      },
      "id": "t6Vg9_Mka89k",
      "execution_count": null,
      "outputs": []
    },
    {
      "cell_type": "markdown",
      "id": "c2a7d906",
      "metadata": {
        "id": "c2a7d906"
      },
      "source": [
        "# __Algorithme utilisant le tf-idf comme X :__"
      ]
    },
    {
      "cell_type": "markdown",
      "id": "89610b89",
      "metadata": {
        "id": "89610b89"
      },
      "source": [
        "Ayant déjà crée un TF-IDF sur le notebook précédent, on va donc réutiliser notre TF-IDF pour l'utiliser pour notre algorithme."
      ]
    },
    {
      "cell_type": "markdown",
      "id": "15af2a39",
      "metadata": {
        "id": "15af2a39"
      },
      "source": [
        "### Utiliser le tf-idf en pickle :"
      ]
    },
    {
      "cell_type": "code",
      "execution_count": null,
      "id": "a67591c0",
      "metadata": {
        "ExecuteTime": {
          "end_time": "2022-11-04T21:33:42.346424Z",
          "start_time": "2022-11-04T21:33:42.328503Z"
        },
        "id": "a67591c0"
      },
      "outputs": [],
      "source": [
        "idf = pickle.load(open('idf.pkl', 'rb')) # pour le load"
      ]
    },
    {
      "cell_type": "markdown",
      "id": "1e7ac526",
      "metadata": {
        "id": "1e7ac526"
      },
      "source": [
        "### train test via Tf-IDF :"
      ]
    },
    {
      "cell_type": "code",
      "execution_count": null,
      "id": "6a76514e",
      "metadata": {
        "ExecuteTime": {
          "end_time": "2022-11-04T21:33:43.031069Z",
          "start_time": "2022-11-04T21:33:42.948154Z"
        },
        "id": "6a76514e"
      },
      "outputs": [],
      "source": [
        "X = idf # a modifier par tfidf et par wordtovec\n",
        "y = Y\n",
        "X_train, X_test, y_train, y_test = train_test_split(X, y, test_size=0.2, random_state=0)"
      ]
    },
    {
      "cell_type": "markdown",
      "id": "171c63f6",
      "metadata": {
        "id": "171c63f6"
      },
      "source": [
        "### Création d'une liste pour les scores des métrics :"
      ]
    },
    {
      "cell_type": "code",
      "execution_count": null,
      "id": "8b4d5d90",
      "metadata": {
        "ExecuteTime": {
          "end_time": "2022-11-04T22:23:49.765550Z",
          "start_time": "2022-11-04T22:23:49.755842Z"
        },
        "id": "8b4d5d90"
      },
      "outputs": [],
      "source": [
        "model_metrics_idf = {} # Garde en mémoire les scores"
      ]
    },
    {
      "cell_type": "markdown",
      "id": "a653b160",
      "metadata": {
        "id": "a653b160"
      },
      "source": [
        "## Regression logistique :"
      ]
    },
    {
      "cell_type": "code",
      "execution_count": null,
      "id": "f0f66bb1",
      "metadata": {
        "ExecuteTime": {
          "end_time": "2022-11-04T22:25:58.541616Z",
          "start_time": "2022-11-04T22:25:44.242244Z"
        },
        "id": "f0f66bb1"
      },
      "outputs": [],
      "source": [
        "%%time\n",
        "y_pred = regression_log (X_train, y_train, X_test)\n",
        "#multiscore (y_test, y_pred)\n",
        "dico_metric (model_metrics_idf, \"reg_log\")"
      ]
    },
    {
      "cell_type": "markdown",
      "id": "f4d25e9d",
      "metadata": {
        "id": "f4d25e9d"
      },
      "source": [
        "## Random Forest :"
      ]
    },
    {
      "cell_type": "code",
      "execution_count": null,
      "id": "031c3ddf",
      "metadata": {
        "ExecuteTime": {
          "end_time": "2022-11-04T22:49:45.169626Z",
          "start_time": "2022-11-04T22:26:24.347754Z"
        },
        "id": "031c3ddf"
      },
      "outputs": [],
      "source": [
        "%%time\n",
        "y_pred = random_forest (X_train, y_train, X_test)\n",
        "#multiscore (y_test, y_pred)\n",
        "dico_metric (model_metrics_idf, \"random_forest\")"
      ]
    },
    {
      "cell_type": "markdown",
      "id": "f43bbd45",
      "metadata": {
        "id": "f43bbd45"
      },
      "source": [
        "## Decision tree : "
      ]
    },
    {
      "cell_type": "code",
      "execution_count": null,
      "id": "60195a0a",
      "metadata": {
        "ExecuteTime": {
          "end_time": "2022-11-04T22:56:14.669566Z",
          "start_time": "2022-11-04T22:52:15.502537Z"
        },
        "id": "60195a0a"
      },
      "outputs": [],
      "source": [
        "%%time\n",
        "y_pred = decision_tree (X_train, y_train, X_test)\n",
        "# multiscore (y_test, y_pred)\n",
        "dico_metric (model_metrics_idf, \"decision_tree\")"
      ]
    },
    {
      "cell_type": "markdown",
      "id": "e9a0fd12",
      "metadata": {
        "id": "e9a0fd12"
      },
      "source": [
        "## KNN : "
      ]
    },
    {
      "cell_type": "code",
      "execution_count": null,
      "id": "979cc4ed",
      "metadata": {
        "ExecuteTime": {
          "end_time": "2022-11-04T23:15:20.272655Z",
          "start_time": "2022-11-04T22:57:06.191420Z"
        },
        "id": "979cc4ed"
      },
      "outputs": [],
      "source": [
        "%%time\n",
        "y_pred = KNeighbors (X_train, y_train, X_test)\n",
        "# multiscore (y_test, y_pred)\n",
        "dico_metric (model_metrics_idf, \"knn\")"
      ]
    },
    {
      "cell_type": "markdown",
      "id": "4713eb2d",
      "metadata": {
        "id": "4713eb2d"
      },
      "source": [
        "## Xgboost :"
      ]
    },
    {
      "cell_type": "code",
      "execution_count": null,
      "id": "f8657876",
      "metadata": {
        "ExecuteTime": {
          "end_time": "2022-11-04T23:26:56.854631Z",
          "start_time": "2022-11-04T23:24:54.342752Z"
        },
        "id": "f8657876"
      },
      "outputs": [],
      "source": [
        "%%time\n",
        "y_pred = xgboost (X_train, y_train, X_test)\n",
        "# multiscore (y_test, y_pred)\n",
        "dico_metric (model_metrics_idf, \"xgboost\")"
      ]
    },
    {
      "cell_type": "markdown",
      "id": "8cacd6b1",
      "metadata": {
        "id": "8cacd6b1"
      },
      "source": [
        "## Gradient Boosting :"
      ]
    },
    {
      "cell_type": "code",
      "execution_count": null,
      "id": "14000c4d",
      "metadata": {
        "ExecuteTime": {
          "end_time": "2022-11-04T23:37:58.366837Z",
          "start_time": "2022-11-04T23:29:28.414736Z"
        },
        "id": "14000c4d"
      },
      "outputs": [],
      "source": [
        "%%time\n",
        "y_pred = gradient_boost (X_train, y_train, X_test)\n",
        "# model_svc = multiscore (y_test, y_pred)\n",
        "dico_metric (model_metrics_idf, \"gradient_boost\")"
      ]
    },
    {
      "cell_type": "markdown",
      "id": "58fe7728",
      "metadata": {
        "id": "58fe7728"
      },
      "source": [
        "## AdaBoostClassifier :"
      ]
    },
    {
      "cell_type": "code",
      "execution_count": null,
      "id": "c53c90c8",
      "metadata": {
        "ExecuteTime": {
          "end_time": "2022-11-05T17:38:22.861662Z",
          "start_time": "2022-11-05T17:38:22.836119Z"
        },
        "id": "c53c90c8"
      },
      "outputs": [],
      "source": [
        "%%time\n",
        "y_pred = Ada_Boost_Classifier (X_train, y_train, X_test)\n",
        "# model_svc = multiscore (y_test, y_pred)\n",
        "dico_metric (model_metrics_idf, \"Ada_Boost_Classifier\")"
      ]
    },
    {
      "cell_type": "markdown",
      "id": "cb09145d",
      "metadata": {
        "id": "cb09145d"
      },
      "source": [
        "### Dictionnaire des scores :"
      ]
    },
    {
      "cell_type": "code",
      "execution_count": null,
      "id": "2ecbe071",
      "metadata": {
        "ExecuteTime": {
          "end_time": "2022-11-04T23:42:24.009951Z",
          "start_time": "2022-11-04T23:42:23.989118Z"
        },
        "id": "2ecbe071"
      },
      "outputs": [],
      "source": [
        "score_tfidf = pd.DataFrame.from_dict(model_metrics_idf)\n",
        "\n",
        "print(\"-\"*83)\n",
        "print(\"-\"*34 + f\"Via le TFIDF :\" + \"-\"*35)\n",
        "print(\"-\"*83)\n",
        "display(score_tfidf)"
      ]
    },
    {
      "cell_type": "markdown",
      "id": "324b3684",
      "metadata": {
        "id": "324b3684"
      },
      "source": [
        "#### Sauvegarde du résultat :"
      ]
    },
    {
      "cell_type": "code",
      "execution_count": null,
      "id": "0b58644d",
      "metadata": {
        "ExecuteTime": {
          "end_time": "2022-11-04T23:44:10.113852Z",
          "start_time": "2022-11-04T23:44:10.103632Z"
        },
        "id": "0b58644d"
      },
      "outputs": [],
      "source": [
        "score_tfidf.to_csv(\"resultat_score_tfidf.csv\", index=True) "
      ]
    },
    {
      "cell_type": "markdown",
      "id": "6d45186a",
      "metadata": {
        "id": "6d45186a"
      },
      "source": [
        "# __Algorithme utilisant le word2vec :__"
      ]
    },
    {
      "cell_type": "code",
      "execution_count": null,
      "id": "c347076a",
      "metadata": {
        "ExecuteTime": {
          "end_time": "2022-11-06T03:07:07.872216Z",
          "start_time": "2022-11-06T03:07:07.869454Z"
        },
        "id": "c347076a"
      },
      "outputs": [],
      "source": [
        "from nltk.corpus import stopwords\n",
        "import string  # permet d'avoir accés à toute les ponctuations."
      ]
    },
    {
      "cell_type": "code",
      "execution_count": null,
      "id": "cc4e17c8",
      "metadata": {
        "ExecuteTime": {
          "end_time": "2022-11-06T03:07:08.825173Z",
          "start_time": "2022-11-06T03:07:08.818665Z"
        },
        "id": "cc4e17c8"
      },
      "outputs": [],
      "source": [
        "def tokenize(text):\n",
        "\n",
        "    stop_words = set(stopwords.words('english'))\n",
        "    punctuation = set(string.punctuation)\n",
        "\n",
        "    try:\n",
        "        res = word_tokenize(text, language='english')\n",
        "    except TypeError:\n",
        "        return text\n",
        "\n",
        "    res = [token for token in res if token not in punctuation]\n",
        "    res = [token for token in res if token not in stop_words]\n",
        "   # res = [token for token in res if token not in letters]\n",
        "    return res"
      ]
    },
    {
      "cell_type": "markdown",
      "id": "XnSO-9QGTs65",
      "metadata": {
        "id": "XnSO-9QGTs65"
      },
      "source": [
        "### Connaître le nombre de mots max :"
      ]
    },
    {
      "cell_type": "code",
      "execution_count": null,
      "id": "1db45ab4",
      "metadata": {
        "ExecuteTime": {
          "end_time": "2022-11-06T03:07:24.572638Z",
          "start_time": "2022-11-06T03:07:09.868390Z"
        },
        "id": "1db45ab4"
      },
      "outputs": [],
      "source": [
        "# Pour connaitre le max len :\n",
        "df_modellisation['length_corpus'] = df_modellisation['corpus_finish'].apply(lambda x : len(tokenize(x)))\n",
        "print(f\"Dans le corpus, le nombre de mots maximum est de : \", df_modellisation['length_corpus'].max())"
      ]
    },
    {
      "cell_type": "markdown",
      "id": "ae635360",
      "metadata": {
        "id": "ae635360"
      },
      "source": [
        "### Train test via word2vec :"
      ]
    },
    {
      "cell_type": "code",
      "execution_count": null,
      "id": "131940e0",
      "metadata": {
        "ExecuteTime": {
          "end_time": "2022-11-06T03:07:28.633862Z",
          "start_time": "2022-11-06T03:07:28.628253Z"
        },
        "id": "131940e0"
      },
      "outputs": [],
      "source": [
        "corpus = df_modellisation['corpus_finish']\n",
        "corpus_count = 734"
      ]
    },
    {
      "cell_type": "code",
      "execution_count": null,
      "id": "81a44a39",
      "metadata": {
        "ExecuteTime": {
          "end_time": "2022-11-06T03:08:00.086503Z",
          "start_time": "2022-11-06T03:07:29.363697Z"
        },
        "id": "81a44a39"
      },
      "outputs": [],
      "source": [
        "!pip install gensim==4.2.0 # -> pour relancer le modéle "
      ]
    },
    {
      "cell_type": "markdown",
      "id": "e414c706",
      "metadata": {
        "id": "e414c706"
      },
      "source": [
        "### Mise en place de Word2vec :"
      ]
    },
    {
      "cell_type": "code",
      "execution_count": null,
      "id": "865126b9",
      "metadata": {
        "ExecuteTime": {
          "end_time": "2022-11-06T03:08:47.804407Z",
          "start_time": "2022-11-06T03:08:46.289982Z"
        },
        "id": "865126b9"
      },
      "outputs": [],
      "source": [
        "w2v_size=300\n",
        "w2v_window=5\n",
        "w2v_min_count=25\n",
        "w2v_epochs=100\n",
        "maxlen = 734 # taille des phrases à vérifier pour le max\n",
        "sentences = df_modellisation['corpus_finish'].tolist()\n",
        "sentences = [gensim.utils.simple_preprocess(text) for text in sentences]"
      ]
    },
    {
      "cell_type": "markdown",
      "id": "f9f75eae",
      "metadata": {
        "id": "f9f75eae"
      },
      "source": [
        "### Entrainement du Word2vec :"
      ]
    },
    {
      "cell_type": "code",
      "execution_count": null,
      "id": "17285eb9",
      "metadata": {
        "ExecuteTime": {
          "end_time": "2022-11-06T03:14:07.748382Z",
          "start_time": "2022-11-06T03:08:51.445182Z"
        },
        "id": "17285eb9"
      },
      "outputs": [],
      "source": [
        "%%time\n",
        "# Création et entraînement du modèle Word2Vec\n",
        "\n",
        "print(\"Build & train Word2Vec model ...\")\n",
        "w2v_model = gensim.models.Word2Vec(min_count=w2v_min_count, window=w2v_window,\n",
        "                                                vector_size=w2v_size,\n",
        "                                                seed=42,\n",
        "                                                workers=1)\n",
        "#                                                workers=multiprocessing.cpu_count())\n",
        "w2v_model.build_vocab(sentences)\n",
        "w2v_model.train(sentences, total_examples=w2v_model.corpus_count, epochs=w2v_epochs)\n",
        "model_vectors = w2v_model.wv\n",
        "w2v_words = model_vectors.index_to_key\n",
        "print(\"Vocabulary size: %i\" % len(w2v_words))\n",
        "print(\"Word2Vec trained\")"
      ]
    },
    {
      "cell_type": "markdown",
      "id": "358c1a32",
      "metadata": {
        "id": "358c1a32"
      },
      "source": [
        "#### pickle du modéle :"
      ]
    },
    {
      "cell_type": "code",
      "execution_count": null,
      "id": "9bd42dcd",
      "metadata": {
        "ExecuteTime": {
          "end_time": "2022-11-06T03:14:34.282146Z",
          "start_time": "2022-11-06T03:14:34.266289Z"
        },
        "id": "9bd42dcd"
      },
      "outputs": [],
      "source": [
        "pickle.dump(w2v_model, open('w2v_model.pkl', 'wb'))"
      ]
    },
    {
      "cell_type": "markdown",
      "id": "9b59f3fa",
      "metadata": {
        "id": "9b59f3fa"
      },
      "source": [
        "### Tokennisation du modéle :"
      ]
    },
    {
      "cell_type": "code",
      "execution_count": null,
      "id": "6c1650a8",
      "metadata": {
        "ExecuteTime": {
          "end_time": "2022-11-06T03:14:38.630013Z",
          "start_time": "2022-11-06T03:14:36.940818Z"
        },
        "id": "6c1650a8"
      },
      "outputs": [],
      "source": [
        "%%time\n",
        "# Préparation des sentences (tokenization)\n",
        "\n",
        "print(\"Fit Tokenizer ...\")\n",
        "tokenizer = Tokenizer()\n",
        "tokenizer.fit_on_texts(sentences)\n",
        "x_sentences = pad_sequences(tokenizer.texts_to_sequences(sentences),\n",
        "                                                     maxlen=maxlen,\n",
        "                                                     padding='post') \n",
        "                                                   \n",
        "num_words = len(tokenizer.word_index) + 1\n",
        "print(\"Number of unique words: %i\" % num_words)"
      ]
    },
    {
      "cell_type": "markdown",
      "id": "a4fbd914",
      "metadata": {
        "id": "a4fbd914"
      },
      "source": [
        "### Création de la matrice d'embedding :"
      ]
    },
    {
      "cell_type": "code",
      "execution_count": null,
      "id": "969f1ba1",
      "metadata": {
        "ExecuteTime": {
          "end_time": "2022-11-06T03:14:43.039650Z",
          "start_time": "2022-11-06T03:14:41.490722Z"
        },
        "id": "969f1ba1"
      },
      "outputs": [],
      "source": [
        "# Création de la matrice d'embedding\n",
        "\n",
        "print(\"Create Embedding matrix ...\")\n",
        "w2v_size = 300\n",
        "word_index = tokenizer.word_index\n",
        "vocab_size = len(word_index) + 1\n",
        "embedding_matrix = np.zeros((vocab_size, w2v_size))\n",
        "i=0\n",
        "j=0\n",
        "    \n",
        "for word, idx in word_index.items():\n",
        "    i +=1\n",
        "    if word in w2v_words:\n",
        "        j +=1\n",
        "        embedding_vector = model_vectors[word]\n",
        "        if embedding_vector is not None:\n",
        "            embedding_matrix[idx] = model_vectors[word]\n",
        "            \n",
        "word_rate = np.round(j/i,4)\n",
        "print(\"Word embedding rate : \", word_rate)\n",
        "print(\"Embedding matrix: %s\" % str(embedding_matrix.shape))"
      ]
    },
    {
      "cell_type": "markdown",
      "id": "2b2cf37f",
      "metadata": {
        "id": "2b2cf37f"
      },
      "source": [
        "### Création du modéle :"
      ]
    },
    {
      "cell_type": "code",
      "execution_count": null,
      "id": "b9503126",
      "metadata": {
        "ExecuteTime": {
          "end_time": "2022-11-06T03:14:49.767973Z",
          "start_time": "2022-11-06T03:14:49.560466Z"
        },
        "id": "b9503126"
      },
      "outputs": [],
      "source": [
        "# Création du modèle\n",
        "\n",
        "input=Input(shape=(len(x_sentences),maxlen),dtype='float64')\n",
        "word_input=Input(shape=(maxlen,),dtype='float64')  \n",
        "word_embedding=Embedding(input_dim=vocab_size,\n",
        "                         output_dim=w2v_size,\n",
        "                         weights = [embedding_matrix],\n",
        "                         input_length=maxlen)(word_input)\n",
        "word_vec=GlobalAveragePooling1D()(word_embedding)  \n",
        "embed_model = Model([word_input],word_vec)\n",
        "\n",
        "embed_model.summary()"
      ]
    },
    {
      "cell_type": "markdown",
      "id": "34f62f9f",
      "metadata": {
        "id": "34f62f9f"
      },
      "source": [
        "#### Pickle de  x_sentences :"
      ]
    },
    {
      "cell_type": "code",
      "execution_count": null,
      "id": "8545a1e3",
      "metadata": {
        "ExecuteTime": {
          "end_time": "2022-11-06T03:15:23.104636Z",
          "start_time": "2022-11-06T03:15:22.839884Z"
        },
        "id": "8545a1e3"
      },
      "outputs": [],
      "source": [
        "pickle.dump(x_sentences, open('x_sentences.pkl', 'wb'))\n",
        "#x_sentences = pickle.load(open('x_sentences.pkl', 'rb')) # pour le load"
      ]
    },
    {
      "cell_type": "markdown",
      "id": "6ff39fa7",
      "metadata": {
        "id": "6ff39fa7"
      },
      "source": [
        "### Train test via Word2vec :"
      ]
    },
    {
      "cell_type": "code",
      "execution_count": null,
      "id": "4143bce8",
      "metadata": {
        "ExecuteTime": {
          "end_time": "2022-11-06T03:15:25.941351Z",
          "start_time": "2022-11-06T03:15:25.789588Z"
        },
        "id": "4143bce8"
      },
      "outputs": [],
      "source": [
        "X = x_sentences # a modifier par tfidf et par wordtovec\n",
        "y = Y\n",
        "X_train, X_test, y_train, y_test = train_test_split(X, y, test_size=0.2, random_state=0)"
      ]
    },
    {
      "cell_type": "markdown",
      "id": "a4e1702a",
      "metadata": {
        "id": "a4e1702a"
      },
      "source": [
        "### Création d'une liste pour les scores des métrics :"
      ]
    },
    {
      "cell_type": "code",
      "execution_count": null,
      "id": "461aeb93",
      "metadata": {
        "ExecuteTime": {
          "end_time": "2022-11-06T03:15:27.559553Z",
          "start_time": "2022-11-06T03:15:27.556916Z"
        },
        "id": "461aeb93"
      },
      "outputs": [],
      "source": [
        "model_metrics_word2vec = {} # Garde en mémoire les scores"
      ]
    },
    {
      "cell_type": "markdown",
      "id": "KUKQNOMxEKTy",
      "metadata": {
        "id": "KUKQNOMxEKTy"
      },
      "source": [
        "## Regression Logistique :"
      ]
    },
    {
      "cell_type": "code",
      "execution_count": null,
      "id": "ac44fbb4",
      "metadata": {
        "ExecuteTime": {
          "end_time": "2022-11-06T03:22:58.538289Z",
          "start_time": "2022-11-06T03:15:52.288544Z"
        },
        "id": "ac44fbb4"
      },
      "outputs": [],
      "source": [
        "%%time\n",
        "y_pred = regression_log (X_train, y_train, X_test)\n",
        "#multiscore (y_test, y_pred)\n",
        "dico_metric (model_metrics_word2vec, \"reg_log\")"
      ]
    },
    {
      "cell_type": "markdown",
      "id": "6675f941",
      "metadata": {
        "id": "6675f941"
      },
      "source": [
        "## Random Forest :"
      ]
    },
    {
      "cell_type": "code",
      "execution_count": null,
      "id": "b900a15c",
      "metadata": {
        "ExecuteTime": {
          "end_time": "2022-11-06T03:26:10.973778Z",
          "start_time": "2022-11-06T03:24:20.248220Z"
        },
        "id": "b900a15c"
      },
      "outputs": [],
      "source": [
        "%%time\n",
        "y_pred = random_forest (X_train, y_train, X_test)\n",
        "#multiscore (y_test, y_pred)\n",
        "dico_metric (model_metrics_word2vec, \"random_forest\")"
      ]
    },
    {
      "cell_type": "markdown",
      "id": "ab99a9b6",
      "metadata": {
        "id": "ab99a9b6"
      },
      "source": [
        "## Decision tree : "
      ]
    },
    {
      "cell_type": "code",
      "execution_count": null,
      "id": "d3ee2b3f",
      "metadata": {
        "ExecuteTime": {
          "end_time": "2022-11-05T14:24:15.972369Z",
          "start_time": "2022-11-05T14:19:08.704370Z"
        },
        "id": "d3ee2b3f"
      },
      "outputs": [],
      "source": [
        "%%time\n",
        "y_pred = decision_tree (X_train, y_train, X_test)\n",
        "# multiscore (y_test, y_pred)\n",
        "dico_metric (model_metrics_word2vec, \"decision_tree\")"
      ]
    },
    {
      "cell_type": "markdown",
      "id": "b867ca0b",
      "metadata": {
        "id": "b867ca0b"
      },
      "source": [
        "## KNN : "
      ]
    },
    {
      "cell_type": "code",
      "execution_count": null,
      "id": "ef67509d",
      "metadata": {
        "ExecuteTime": {
          "end_time": "2022-11-05T15:21:40.680040Z",
          "start_time": "2022-11-05T14:28:31.889457Z"
        },
        "id": "ef67509d"
      },
      "outputs": [],
      "source": [
        "%%time\n",
        "y_pred = KNeighbors (X_train, y_train, X_test)\n",
        "# multiscore (y_test, y_pred)\n",
        "dico_metric (model_metrics_word2vec, \"knn\")"
      ]
    },
    {
      "cell_type": "markdown",
      "id": "158d455d",
      "metadata": {
        "id": "158d455d"
      },
      "source": [
        "## Xgboost :"
      ]
    },
    {
      "cell_type": "code",
      "execution_count": null,
      "id": "0183096f",
      "metadata": {
        "ExecuteTime": {
          "end_time": "2022-11-05T15:54:00.978725Z",
          "start_time": "2022-11-05T15:26:01.978174Z"
        },
        "id": "0183096f"
      },
      "outputs": [],
      "source": [
        "%%time\n",
        "y_pred = xgboost (X_train, y_train, X_test)\n",
        "# multiscore (y_test, y_pred)\n",
        "dico_metric (model_metrics_word2vec, \"xgboost\")"
      ]
    },
    {
      "cell_type": "markdown",
      "id": "1ce28a08",
      "metadata": {
        "id": "1ce28a08"
      },
      "source": [
        "## Gradient Boosting :"
      ]
    },
    {
      "cell_type": "code",
      "execution_count": null,
      "id": "2186f3f7",
      "metadata": {
        "ExecuteTime": {
          "end_time": "2022-11-05T17:21:24.892190Z",
          "start_time": "2022-11-05T15:56:33.262968Z"
        },
        "id": "2186f3f7"
      },
      "outputs": [],
      "source": [
        "%%time\n",
        "y_pred = gradient_boost (X_train, y_train, X_test)\n",
        "# model_svc = multiscore (y_test, y_pred)\n",
        "dico_metric (model_metrics_word2vec, \"gradient_boost\")"
      ]
    },
    {
      "cell_type": "markdown",
      "id": "60540e38",
      "metadata": {
        "id": "60540e38"
      },
      "source": [
        "## AdaBoostClassifier :"
      ]
    },
    {
      "cell_type": "code",
      "execution_count": null,
      "id": "cfc55bb9",
      "metadata": {
        "ExecuteTime": {
          "end_time": "2022-11-05T17:57:24.118588Z",
          "start_time": "2022-11-05T17:39:05.042716Z"
        },
        "id": "cfc55bb9"
      },
      "outputs": [],
      "source": [
        "%%time\n",
        "y_pred = Ada_Boost_Classifier (X_train, y_train, X_test)\n",
        "# model_svc = multiscore (y_test, y_pred)\n",
        "dico_metric (model_metrics_word2vec, \"Ada_Boost_Classifier\")"
      ]
    },
    {
      "cell_type": "markdown",
      "id": "1f1130b0",
      "metadata": {
        "id": "1f1130b0"
      },
      "source": [
        "### Dictionnaire des scores :"
      ]
    },
    {
      "cell_type": "code",
      "execution_count": null,
      "id": "443a7cd6",
      "metadata": {
        "ExecuteTime": {
          "end_time": "2022-11-05T17:58:10.513709Z",
          "start_time": "2022-11-05T17:58:10.490552Z"
        },
        "id": "443a7cd6"
      },
      "outputs": [],
      "source": [
        "score_word2vec = pd.DataFrame.from_dict(model_metrics_word2vec)\n",
        "\n",
        "print(\"-\"*83)\n",
        "print(\"-\"*32 + f\"Via le word2vec :\" + \"-\"*34)\n",
        "print(\"-\"*83)\n",
        "display(score_word2vec)"
      ]
    },
    {
      "cell_type": "markdown",
      "id": "2cbc7fd0",
      "metadata": {
        "id": "2cbc7fd0"
      },
      "source": [
        "#### Sauvegarde du résultat :"
      ]
    },
    {
      "cell_type": "code",
      "execution_count": null,
      "id": "830381a9",
      "metadata": {
        "ExecuteTime": {
          "end_time": "2022-11-05T17:58:24.846487Z",
          "start_time": "2022-11-05T17:58:24.827328Z"
        },
        "id": "830381a9"
      },
      "outputs": [],
      "source": [
        "score_word2vec.to_csv(\"resultat_score_word2vec.csv\") # Cela permettra d'éviter d'attendre de relancer le notebook."
      ]
    },
    {
      "cell_type": "markdown",
      "id": "3347ed84",
      "metadata": {
        "id": "3347ed84"
      },
      "source": [
        "# __Algorithme utilisant le BERT :__"
      ]
    },
    {
      "cell_type": "markdown",
      "id": "02642d4b",
      "metadata": {
        "id": "02642d4b"
      },
      "source": [
        "### Fonction pour le BERT :"
      ]
    },
    {
      "cell_type": "code",
      "execution_count": null,
      "id": "4ec05557",
      "metadata": {
        "ExecuteTime": {
          "end_time": "2022-11-06T02:06:55.439507Z",
          "start_time": "2022-11-06T02:06:55.431234Z"
        },
        "id": "4ec05557"
      },
      "outputs": [],
      "source": [
        "# Fonction de préparation des sentences\n",
        "def bert_inp_fct(sentences, bert_tokenizer, max_length) :\n",
        "    input_ids=[]\n",
        "    token_type_ids = []\n",
        "    attention_mask=[]\n",
        "    bert_inp_tot = []\n",
        "\n",
        "    for sent in sentences:\n",
        "        bert_inp = bert_tokenizer.encode_plus(sent,\n",
        "                                              add_special_tokens = True,\n",
        "                                              max_length = max_length,\n",
        "                                              padding='max_length',\n",
        "                                              return_attention_mask = True, \n",
        "                                              return_token_type_ids=True,\n",
        "                                              truncation=True,\n",
        "                                              return_tensors=\"tf\")\n",
        "    \n",
        "        input_ids.append(bert_inp['input_ids'][0])\n",
        "        token_type_ids.append(bert_inp['token_type_ids'][0])\n",
        "        attention_mask.append(bert_inp['attention_mask'][0])\n",
        "        bert_inp_tot.append((bert_inp['input_ids'][0], \n",
        "                             bert_inp['token_type_ids'][0], \n",
        "                             bert_inp['attention_mask'][0]))\n",
        "\n",
        "    input_ids = np.asarray(input_ids)\n",
        "    token_type_ids = np.asarray(token_type_ids)\n",
        "    attention_mask = np.array(attention_mask)\n",
        "    \n",
        "    return input_ids, token_type_ids, attention_mask, bert_inp_tot\n"
      ]
    },
    {
      "cell_type": "code",
      "execution_count": null,
      "id": "e23c2b4d",
      "metadata": {
        "ExecuteTime": {
          "end_time": "2022-11-06T02:06:56.144061Z",
          "start_time": "2022-11-06T02:06:56.132807Z"
        },
        "id": "e23c2b4d"
      },
      "outputs": [],
      "source": [
        "# Fonction de création des features\n",
        "def feature_BERT_fct(model, model_type, sentences, max_length, b_size, mode='HF') :\n",
        "    batch_size = b_size\n",
        "    batch_size_pred = b_size\n",
        "    bert_tokenizer = AutoTokenizer.from_pretrained(model_type)\n",
        "    time1 = time.time()\n",
        "\n",
        "    for step in range(len(sentences)//batch_size) :\n",
        "        idx = step*batch_size\n",
        "        input_ids, token_type_ids, attention_mask, bert_inp_tot = bert_inp_fct(sentences[idx:idx+batch_size], \n",
        "                                                                      bert_tokenizer, max_length)\n",
        "        \n",
        "        if mode=='HF' :    # Bert HuggingFace\n",
        "            outputs = model.predict([input_ids, attention_mask, token_type_ids], batch_size=batch_size_pred)\n",
        "            last_hidden_states = outputs.last_hidden_state\n",
        "\n",
        "        if mode=='TFhub' : # Bert Tensorflow Hub\n",
        "            text_preprocessed = {\"input_word_ids\" : input_ids, \n",
        "                                 \"input_mask\" : attention_mask, \n",
        "                                 \"input_type_ids\" : token_type_ids}\n",
        "            outputs = model(text_preprocessed)\n",
        "            last_hidden_states = outputs['sequence_output']\n",
        "             \n",
        "        if step ==0 :\n",
        "            last_hidden_states_tot = last_hidden_states\n",
        "            last_hidden_states_tot_0 = last_hidden_states\n",
        "        else :\n",
        "            last_hidden_states_tot = np.concatenate((last_hidden_states_tot,last_hidden_states))\n",
        "    \n",
        "    features_bert = np.array(last_hidden_states_tot).mean(axis=1)\n",
        "    \n",
        "    time2 = np.round(time.time() - time1,0)\n",
        "    print(\"temps traitement : \", time2)\n",
        "     \n",
        "    return features_bert, last_hidden_states_tot"
      ]
    },
    {
      "cell_type": "markdown",
      "id": "350b65a8",
      "metadata": {
        "id": "350b65a8"
      },
      "source": [
        "### Mise en place du BERT :"
      ]
    },
    {
      "cell_type": "code",
      "execution_count": null,
      "id": "5bf46f0c",
      "metadata": {
        "ExecuteTime": {
          "end_time": "2022-11-06T01:13:30.736960Z",
          "start_time": "2022-11-06T01:13:29.978471Z"
        },
        "id": "5bf46f0c"
      },
      "outputs": [],
      "source": [
        "pip install -U tensorflow-text==2.10.0"
      ]
    },
    {
      "cell_type": "code",
      "execution_count": null,
      "id": "144ae0d1",
      "metadata": {
        "ExecuteTime": {
          "end_time": "2022-11-06T02:07:02.009981Z",
          "start_time": "2022-11-06T02:07:01.999904Z"
        },
        "id": "144ae0d1"
      },
      "outputs": [],
      "source": [
        "import tensorflow as tf\n",
        "# import tensorflow_hub as hub\n",
        "import tensorflow.keras\n",
        "from tensorflow.keras import backend as K\n",
        "\n",
        "from tensorflow.keras.preprocessing.text import Tokenizer\n",
        "from tensorflow.keras.preprocessing.sequence import pad_sequences\n",
        "from tensorflow.keras import metrics as kmetrics\n",
        "from tensorflow.keras.layers import *\n",
        "from tensorflow.keras.models import Model\n",
        "\n",
        "# Bert\n",
        "import os\n",
        "import transformers\n",
        "from transformers import *\n",
        "\n",
        "os.environ[\"TF_KERAS\"]='1'"
      ]
    },
    {
      "cell_type": "code",
      "execution_count": null,
      "id": "7df52039",
      "metadata": {
        "ExecuteTime": {
          "end_time": "2022-11-06T02:07:04.426681Z",
          "start_time": "2022-11-06T02:07:04.419744Z"
        },
        "id": "7df52039"
      },
      "outputs": [],
      "source": [
        "print(tf .__version__)\n",
        "print(tensorflow.__version__)\n",
        "print(\"Num GPUs Available: \", len(tf.config.experimental.list_physical_devices('GPU')))\n",
        "print(tf.test.is_built_with_cuda())"
      ]
    },
    {
      "cell_type": "code",
      "execution_count": null,
      "id": "534ae887",
      "metadata": {
        "ExecuteTime": {
          "end_time": "2022-11-06T02:07:13.842457Z",
          "start_time": "2022-11-06T02:07:11.821909Z"
        },
        "id": "534ae887"
      },
      "outputs": [],
      "source": [
        "max_length = 734\n",
        "batch_size = 30\n",
        "model_type = 'bert-base-uncased'\n",
        "model = TFAutoModel.from_pretrained(model_type)\n",
        "sentences = df_modellisation['corpus_finish'].tolist()"
      ]
    },
    {
      "cell_type": "code",
      "execution_count": null,
      "id": "a934069e",
      "metadata": {
        "ExecuteTime": {
          "start_time": "2022-11-06T02:07:19.678Z"
        },
        "scrolled": false,
        "id": "a934069e"
      },
      "outputs": [],
      "source": [
        "import time\n",
        "# Création des features\n",
        "\n",
        "features_bert, last_hidden_states_tot = feature_BERT_fct(model, model_type, sentences, \n",
        "                                                         max_length, batch_size, mode='HF')"
      ]
    },
    {
      "cell_type": "markdown",
      "id": "fa58d706",
      "metadata": {
        "id": "fa58d706"
      },
      "source": [
        "#### pickle de features_bert :"
      ]
    },
    {
      "cell_type": "code",
      "execution_count": null,
      "id": "a84c9dcd",
      "metadata": {
        "ExecuteTime": {
          "start_time": "2022-11-06T02:38:58.240Z"
        },
        "id": "a84c9dcd"
      },
      "outputs": [],
      "source": [
        "pickle.dump(features_bert, open('features_bert.pkl', 'wb'))"
      ]
    },
    {
      "cell_type": "markdown",
      "id": "rdZmIT0VuS8y",
      "metadata": {
        "id": "rdZmIT0VuS8y"
      },
      "source": [
        "### Train test via Bert :"
      ]
    },
    {
      "cell_type": "code",
      "execution_count": null,
      "id": "339dc99a",
      "metadata": {
        "id": "339dc99a"
      },
      "outputs": [],
      "source": [
        "X = features_bert\n",
        "y = Y\n",
        "X_train, X_test, y_train, y_test = train_test_split(X, y, test_size=0.2, random_state=0)"
      ]
    },
    {
      "cell_type": "markdown",
      "id": "04305755",
      "metadata": {
        "id": "04305755"
      },
      "source": [
        "### Création d'une liste pour les scores des métrics :"
      ]
    },
    {
      "cell_type": "code",
      "execution_count": null,
      "id": "7923bbb4",
      "metadata": {
        "id": "7923bbb4"
      },
      "outputs": [],
      "source": [
        "model_metrics_bert = {} # Garde en mémoire les scores"
      ]
    },
    {
      "cell_type": "markdown",
      "id": "05U3I71GuZB0",
      "metadata": {
        "id": "05U3I71GuZB0"
      },
      "source": [
        "## Regression Logistique :"
      ]
    },
    {
      "cell_type": "code",
      "execution_count": null,
      "id": "1e869977",
      "metadata": {
        "id": "1e869977"
      },
      "outputs": [],
      "source": [
        "%%time\n",
        "y_pred = regression_log (X_train, y_train, X_test)\n",
        "#multiscore (y_test, y_pred)\n",
        "dico_metric (model_metrics_bert, \"reg_log\")"
      ]
    },
    {
      "cell_type": "markdown",
      "id": "sJvtMGBrurN2",
      "metadata": {
        "id": "sJvtMGBrurN2"
      },
      "source": [
        "## Random Forest :"
      ]
    },
    {
      "cell_type": "code",
      "execution_count": null,
      "id": "38d94dda",
      "metadata": {
        "id": "38d94dda"
      },
      "outputs": [],
      "source": [
        "%%time\n",
        "y_pred = random_forest (X_train, y_train, X_test)\n",
        "#multiscore (y_test, y_pred)\n",
        "dico_metric (model_metrics_bert, \"random_forest\")"
      ]
    },
    {
      "cell_type": "markdown",
      "id": "WMXVYhVeuvtX",
      "metadata": {
        "id": "WMXVYhVeuvtX"
      },
      "source": [
        "## Decision Tree Classifier :"
      ]
    },
    {
      "cell_type": "code",
      "execution_count": null,
      "id": "38ba9819",
      "metadata": {
        "id": "38ba9819"
      },
      "outputs": [],
      "source": [
        "%%time\n",
        "y_pred = decision_tree (X_train, y_train, X_test)\n",
        "# multiscore (y_test, y_pred)\n",
        "dico_metric (model_metrics_bert, \"decision_tree\")"
      ]
    },
    {
      "cell_type": "markdown",
      "id": "61684b3b",
      "metadata": {
        "id": "61684b3b"
      },
      "source": [
        "## KNN : "
      ]
    },
    {
      "cell_type": "code",
      "execution_count": null,
      "id": "034055b0",
      "metadata": {
        "id": "034055b0"
      },
      "outputs": [],
      "source": [
        "%%time\n",
        "y_pred = KNeighbors (X_train, y_train, X_test)\n",
        "# multiscore (y_test, y_pred)\n",
        "dico_metric (model_metrics_bert, \"knn\")"
      ]
    },
    {
      "cell_type": "markdown",
      "id": "813ba4d4",
      "metadata": {
        "id": "813ba4d4"
      },
      "source": [
        "## Xgboost :"
      ]
    },
    {
      "cell_type": "code",
      "execution_count": null,
      "id": "88b957b5",
      "metadata": {
        "id": "88b957b5"
      },
      "outputs": [],
      "source": [
        "%%time\n",
        "y_pred = xgboost (X_train, y_train, X_test)\n",
        "# multiscore (y_test, y_pred)\n",
        "dico_metric (model_metrics_bert, \"xgboost\")"
      ]
    },
    {
      "cell_type": "markdown",
      "id": "15ccd0f6",
      "metadata": {
        "id": "15ccd0f6"
      },
      "source": [
        "## Gradient Boosting :"
      ]
    },
    {
      "cell_type": "code",
      "execution_count": null,
      "id": "d941ade3",
      "metadata": {
        "id": "d941ade3"
      },
      "outputs": [],
      "source": [
        "%%time\n",
        "y_pred = gradient_boost (X_train, y_train, X_test)\n",
        "# model_svc = multiscore (y_test, y_pred)\n",
        "dico_metric (model_metrics_bert, \"gradient_boost\")"
      ]
    },
    {
      "cell_type": "markdown",
      "id": "1424ef56",
      "metadata": {
        "id": "1424ef56"
      },
      "source": [
        "## AdaBoostClassifier :"
      ]
    },
    {
      "cell_type": "code",
      "execution_count": null,
      "id": "b16f9457",
      "metadata": {
        "id": "b16f9457"
      },
      "outputs": [],
      "source": [
        "%%time\n",
        "y_pred = Ada_Boost_Classifier (X_train, y_train, X_test)\n",
        "# model_svc = multiscore (y_test, y_pred)\n",
        "dico_metric (model_metrics_bert, \"Ada_Boost_Classifier\")"
      ]
    },
    {
      "cell_type": "markdown",
      "id": "b3ffe09d",
      "metadata": {
        "id": "b3ffe09d"
      },
      "source": [
        "### Dictionnaire des scores :"
      ]
    },
    {
      "cell_type": "code",
      "execution_count": null,
      "id": "7cfc92ff",
      "metadata": {
        "id": "7cfc92ff"
      },
      "outputs": [],
      "source": [
        "score_bert = pd.DataFrame.from_dict(model_metrics_bert)\n",
        "\n",
        "print(\"-\"*100)\n",
        "print(\"-\"*42 + f\"Via le BERT :\" + \"-\"*42)\n",
        "print(\"-\"*100)\n",
        "display(score_bert)"
      ]
    },
    {
      "cell_type": "markdown",
      "id": "44f8aa6f",
      "metadata": {
        "id": "44f8aa6f"
      },
      "source": [
        "#### Sauvegarde du résultat :"
      ]
    },
    {
      "cell_type": "code",
      "execution_count": null,
      "id": "0f82e884",
      "metadata": {
        "id": "0f82e884"
      },
      "outputs": [],
      "source": [
        "score_bert.to_csv(\"resultat_score_bert.csv\") # Cela permettra d'éviter d'attendre de relancer le notebook."
      ]
    },
    {
      "cell_type": "markdown",
      "id": "28iT09cYUcwy",
      "metadata": {
        "id": "28iT09cYUcwy"
      },
      "source": [
        "# __Algorithme utilisant USE :__"
      ]
    },
    {
      "cell_type": "markdown",
      "id": "76abd11c",
      "metadata": {
        "id": "76abd11c"
      },
      "source": [
        "### Mise en place du USE :"
      ]
    },
    {
      "cell_type": "code",
      "execution_count": null,
      "id": "d8c35238",
      "metadata": {
        "ExecuteTime": {
          "end_time": "2022-11-06T03:06:21.349553Z",
          "start_time": "2022-11-06T03:06:21.342355Z"
        },
        "id": "d8c35238"
      },
      "outputs": [],
      "source": [
        "import tensorflow as tf\n",
        "# import tensorflow_hub as hub\n",
        "import tensorflow.keras\n",
        "from tensorflow.keras import backend as K\n",
        "\n",
        "from tensorflow.keras.preprocessing.text import Tokenizer\n",
        "from tensorflow.keras.preprocessing.sequence import pad_sequences\n",
        "from tensorflow.keras import metrics as kmetrics\n",
        "from tensorflow.keras.layers import *\n",
        "from tensorflow.keras.models import Model\n",
        "import tensorflow_hub as hub"
      ]
    },
    {
      "cell_type": "code",
      "execution_count": null,
      "id": "62f672a5",
      "metadata": {
        "ExecuteTime": {
          "end_time": "2022-11-06T03:06:25.377392Z",
          "start_time": "2022-11-06T03:06:25.255079Z"
        },
        "id": "62f672a5"
      },
      "outputs": [],
      "source": [
        "%%time\n",
        "module_url = hub.load(\"https://tfhub.dev/google/universal-sentence-encoder/4\")\n",
        "model =  tf_hub.load(module_url)\n",
        "print (\"module %s loaded\" % module_url)\n",
        "def embed(input):\n",
        "  return model(input)"
      ]
    },
    {
      "cell_type": "markdown",
      "id": "446de7ab",
      "metadata": {
        "id": "446de7ab"
      },
      "source": [
        "#### Mise au format array pour le X :"
      ]
    },
    {
      "cell_type": "code",
      "execution_count": null,
      "id": "e86d6c99",
      "metadata": {
        "ExecuteTime": {
          "end_time": "2022-11-05T18:31:16.586386Z",
          "start_time": "2022-11-05T18:31:16.586377Z"
        },
        "id": "e86d6c99"
      },
      "outputs": [],
      "source": [
        "%%time\n",
        "embedding_sentence = embed(df_modellisation['corpus_finish'].tolist())\n",
        "embedding_sentence = np.array(embedding_sentence)"
      ]
    },
    {
      "cell_type": "markdown",
      "id": "da0a693a",
      "metadata": {
        "id": "da0a693a"
      },
      "source": [
        "#### pickle de embedding_sentence :"
      ]
    },
    {
      "cell_type": "code",
      "execution_count": null,
      "id": "5142e17a",
      "metadata": {
        "ExecuteTime": {
          "end_time": "2022-11-06T03:27:05.094683Z",
          "start_time": "2022-11-06T03:27:04.992612Z"
        },
        "id": "5142e17a"
      },
      "outputs": [],
      "source": [
        "# pickle.dump(embedding_sentence, open('embedding_sentence.pkl', 'wb'))\n",
        "embedding_sentence = pickle.load(open('embedding_sentence.pkl', 'rb')) # pour le load"
      ]
    },
    {
      "cell_type": "markdown",
      "id": "LtMMtY5hwXSH",
      "metadata": {
        "id": "LtMMtY5hwXSH"
      },
      "source": [
        "### Train test via USE :"
      ]
    },
    {
      "cell_type": "code",
      "execution_count": null,
      "id": "c022e0da",
      "metadata": {
        "ExecuteTime": {
          "end_time": "2022-11-06T03:27:06.307388Z",
          "start_time": "2022-11-06T03:27:06.164244Z"
        },
        "id": "c022e0da"
      },
      "outputs": [],
      "source": [
        "X = embedding_sentence # pour la méthode USE\n",
        "y = Y\n",
        "X_train, X_test, y_train, y_test = train_test_split(X, y, test_size=0.2, random_state=0)"
      ]
    },
    {
      "cell_type": "markdown",
      "id": "d8446af6",
      "metadata": {
        "id": "d8446af6"
      },
      "source": [
        "### Création d'une liste pour les scores des métrics :"
      ]
    },
    {
      "cell_type": "code",
      "execution_count": null,
      "id": "84b6512d",
      "metadata": {
        "ExecuteTime": {
          "end_time": "2022-11-06T03:27:07.308967Z",
          "start_time": "2022-11-06T03:27:07.306232Z"
        },
        "id": "84b6512d"
      },
      "outputs": [],
      "source": [
        "model_metrics_use = {}"
      ]
    },
    {
      "cell_type": "markdown",
      "id": "dcdb4c39",
      "metadata": {
        "id": "dcdb4c39"
      },
      "source": [
        "## Regression logistique :"
      ]
    },
    {
      "cell_type": "code",
      "execution_count": null,
      "id": "9e722e05",
      "metadata": {
        "ExecuteTime": {
          "end_time": "2022-11-06T03:30:02.341244Z",
          "start_time": "2022-11-06T03:27:08.286529Z"
        },
        "id": "9e722e05"
      },
      "outputs": [],
      "source": [
        "%%time\n",
        "y_pred = regression_log (X_train, y_train, X_test)\n",
        "# multiscore (y_test, y_pred)\n",
        "dico_metric (model_metrics_use, \"reg_log\")"
      ]
    },
    {
      "cell_type": "markdown",
      "id": "097af508",
      "metadata": {
        "id": "097af508"
      },
      "source": [
        "## Random Forest :"
      ]
    },
    {
      "cell_type": "code",
      "execution_count": null,
      "id": "176b58e7",
      "metadata": {
        "ExecuteTime": {
          "start_time": "2022-11-06T03:30:05.854Z"
        },
        "id": "176b58e7"
      },
      "outputs": [],
      "source": [
        "%%time\n",
        "y_pred = random_forest (X_train, y_train, X_test)\n",
        "#multiscore (y_test, y_pred)\n",
        "dico_metric (model_metrics_use, \"random_forest\")"
      ]
    },
    {
      "cell_type": "markdown",
      "id": "376bc93d",
      "metadata": {
        "id": "376bc93d"
      },
      "source": [
        "## Decision tree : "
      ]
    },
    {
      "cell_type": "code",
      "execution_count": null,
      "id": "44579fab",
      "metadata": {
        "id": "44579fab"
      },
      "outputs": [],
      "source": [
        "%%time\n",
        "y_pred = decision_tree (X_train, y_train, X_test)\n",
        "# multiscore (y_test, y_pred)\n",
        "dico_metric (model_metrics_use, \"decision_tree\")"
      ]
    },
    {
      "cell_type": "markdown",
      "id": "53a81cd5",
      "metadata": {
        "id": "53a81cd5"
      },
      "source": [
        "## KNN : "
      ]
    },
    {
      "cell_type": "code",
      "execution_count": null,
      "id": "cdcc3d6c",
      "metadata": {
        "id": "cdcc3d6c"
      },
      "outputs": [],
      "source": [
        "%%time\n",
        "y_pred = KNeighbors (X_train, y_train, X_test)\n",
        "# multiscore (y_test, y_pred)\n",
        "dico_metric (model_metrics_use, \"knn\")"
      ]
    },
    {
      "cell_type": "markdown",
      "id": "07570c3c",
      "metadata": {
        "id": "07570c3c"
      },
      "source": [
        "## Xgboost :"
      ]
    },
    {
      "cell_type": "code",
      "execution_count": null,
      "id": "7c370da9",
      "metadata": {
        "id": "7c370da9"
      },
      "outputs": [],
      "source": [
        "%%time\n",
        "y_pred = xgboost (X_train, y_train, X_test)\n",
        "# multiscore (y_test, y_pred)\n",
        "dico_metric (model_metrics_use, \"xgboost\")"
      ]
    },
    {
      "cell_type": "markdown",
      "id": "e56458fd",
      "metadata": {
        "id": "e56458fd"
      },
      "source": [
        "## Gradient Boosting :"
      ]
    },
    {
      "cell_type": "code",
      "execution_count": null,
      "id": "23b4cdaf",
      "metadata": {
        "id": "23b4cdaf"
      },
      "outputs": [],
      "source": [
        "%%time\n",
        "y_pred = gradient_boost (X_train, y_train, X_test)\n",
        "# model_svc = multiscore (y_test, y_pred)\n",
        "dico_metric (model_metrics_use, \"gradient_boost\")"
      ]
    },
    {
      "cell_type": "markdown",
      "id": "c11c6874",
      "metadata": {
        "id": "c11c6874"
      },
      "source": [
        "## AdaBoostClassifier :"
      ]
    },
    {
      "cell_type": "code",
      "execution_count": null,
      "id": "f732a41d",
      "metadata": {
        "id": "f732a41d"
      },
      "outputs": [],
      "source": [
        "%%time\n",
        "y_pred = Ada_Boost_Classifier (X_train, y_train, X_test)\n",
        "# model_svc = multiscore (y_test, y_pred)\n",
        "dico_metric (model_metrics_use, \"Ada_Boost_Classifier\")"
      ]
    },
    {
      "cell_type": "markdown",
      "id": "aa178873",
      "metadata": {
        "id": "aa178873"
      },
      "source": [
        "### Dictionnaire des scores :"
      ]
    },
    {
      "cell_type": "code",
      "execution_count": null,
      "id": "f32fd5c5",
      "metadata": {
        "id": "f32fd5c5"
      },
      "outputs": [],
      "source": [
        "score_use = pd.DataFrame.from_dict(model_metrics_use)\n",
        "\n",
        "print(\"-\"*100)\n",
        "print(\"-\"*42 + f\"Via le use :\" + \"-\"*42)\n",
        "print(\"-\"*100)\n",
        "display(score_use)"
      ]
    },
    {
      "cell_type": "markdown",
      "id": "c287a356",
      "metadata": {
        "id": "c287a356"
      },
      "source": [
        "#### Sauvegarde du résultat :"
      ]
    },
    {
      "cell_type": "code",
      "execution_count": null,
      "id": "a8b74d2a",
      "metadata": {
        "id": "a8b74d2a"
      },
      "outputs": [],
      "source": [
        "score_bert.to_csv(\"resultat_score_bert.csv\") # Cela permettra d'éviter d'attendre de relancer le notebook."
      ]
    },
    {
      "cell_type": "markdown",
      "id": "b710aba4",
      "metadata": {
        "id": "b710aba4"
      },
      "source": [
        "# Choix de l'algorithme supervisé :"
      ]
    },
    {
      "cell_type": "markdown",
      "id": "b2e526bc",
      "metadata": {
        "id": "b2e526bc"
      },
      "source": [
        "## Visualisation des scores de toute les algorithmes utilisant des matrices d'embedding :"
      ]
    },
    {
      "cell_type": "code",
      "execution_count": null,
      "id": "52559344",
      "metadata": {
        "id": "52559344"
      },
      "outputs": [],
      "source": []
    }
  ],
  "metadata": {
    "kernelspec": {
      "display_name": "Python 3.9 (tensorflow)",
      "language": "python",
      "name": "tensorflow"
    },
    "language_info": {
      "codemirror_mode": {
        "name": "ipython",
        "version": 3
      },
      "file_extension": ".py",
      "mimetype": "text/x-python",
      "name": "python",
      "nbconvert_exporter": "python",
      "pygments_lexer": "ipython3",
      "version": "3.9.13"
    },
    "toc": {
      "base_numbering": 1,
      "nav_menu": {},
      "number_sections": true,
      "sideBar": true,
      "skip_h1_title": false,
      "title_cell": "Table of Contents",
      "title_sidebar": "Contents",
      "toc_cell": false,
      "toc_position": {
        "height": "calc(100% - 180px)",
        "left": "10px",
        "top": "150px",
        "width": "384px"
      },
      "toc_section_display": true,
      "toc_window_display": true
    },
    "varInspector": {
      "cols": {
        "lenName": 16,
        "lenType": 16,
        "lenVar": 40
      },
      "kernels_config": {
        "python": {
          "delete_cmd_postfix": "",
          "delete_cmd_prefix": "del ",
          "library": "var_list.py",
          "varRefreshCmd": "print(var_dic_list())"
        },
        "r": {
          "delete_cmd_postfix": ") ",
          "delete_cmd_prefix": "rm(",
          "library": "var_list.r",
          "varRefreshCmd": "cat(var_dic_list()) "
        }
      },
      "types_to_exclude": [
        "module",
        "function",
        "builtin_function_or_method",
        "instance",
        "_Feature"
      ],
      "window_display": false
    },
    "colab": {
      "private_outputs": true,
      "provenance": [],
      "toc_visible": true,
      "include_colab_link": true
    },
    "gpuClass": "standard"
  },
  "nbformat": 4,
  "nbformat_minor": 5
}