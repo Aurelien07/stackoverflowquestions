{
  "cells": [
    {
      "cell_type": "markdown",
      "metadata": {
        "id": "view-in-github",
        "colab_type": "text"
      },
      "source": [
        "<a href=\"https://colab.research.google.com/github/Aurelien07/stackoverflowquestions/blob/main/Projet_5_nettoyage.ipynb\" target=\"_parent\"><img src=\"https://colab.research.google.com/assets/colab-badge.svg\" alt=\"Open In Colab\"/></a>"
      ]
    },
    {
      "cell_type": "markdown",
      "id": "3cf9896b",
      "metadata": {
        "id": "3cf9896b"
      },
      "source": [
        "### Import des librairies"
      ]
    },
    {
      "cell_type": "code",
      "execution_count": null,
      "id": "9633091f",
      "metadata": {
        "ExecuteTime": {
          "end_time": "2022-11-05T22:34:05.927100Z",
          "start_time": "2022-11-05T22:34:04.748758Z"
        },
        "id": "9633091f"
      },
      "outputs": [],
      "source": [
        "import pandas as pd\n",
        "import numpy as np\n",
        "import IPython.display\n",
        "import re\n",
        "\n",
        "# Pour la visualisation graphique :\n",
        "import matplotlib.pyplot as plt\n",
        "from matplotlib.collections import LineCollection\n",
        "import seaborn as sns\n",
        "import plotly.express as px\n",
        "\n",
        "# Pour supprimer les warnings :\n",
        "import warnings\n",
        "warnings.filterwarnings(\"ignore\")\n",
        "\n",
        "# pour le modelling des mots :\n",
        "import nltk\n",
        "from nltk.corpus import stopwords\n",
        "from nltk import word_tokenize\n",
        "from nltk.tokenize import sent_tokenize\n",
        "from nltk.stem import WordNetLemmatizer\n",
        "import lxml\n",
        "import html5lib\n",
        "from bs4 import BeautifulSoup\n",
        "\n",
        "# Pour la visualisation des tokens :\n",
        "from sklearn.feature_extraction.text import CountVectorizer\n",
        "from yellowbrick.text import FreqDistVisualizer"
      ]
    },
    {
      "cell_type": "markdown",
      "id": "b138dcc6",
      "metadata": {
        "id": "b138dcc6"
      },
      "source": [
        "### Fonction pour le nettoyage / visualisation :"
      ]
    },
    {
      "cell_type": "code",
      "execution_count": null,
      "id": "e47f64dd",
      "metadata": {
        "ExecuteTime": {
          "end_time": "2022-11-05T22:34:05.930174Z",
          "start_time": "2022-11-05T22:34:05.927936Z"
        },
        "id": "e47f64dd"
      },
      "outputs": [],
      "source": [
        "# potentiellement à optimisé pour une meilleure visibilité :\n",
        "def visu_yellow(data):\n",
        "\n",
        "    # Load the text data\n",
        "    vectorizer = CountVectorizer()\n",
        "    docs = vectorizer.fit_transform(data)\n",
        "    features = vectorizer.get_feature_names_out()\n",
        "    visualizer = FreqDistVisualizer(\n",
        "        features=features, orient='v', size=(1080, 720))\n",
        "    visualizer.fit(docs)\n",
        "    visualizer.show()"
      ]
    },
    {
      "cell_type": "markdown",
      "id": "multiple-termination",
      "metadata": {
        "id": "multiple-termination"
      },
      "source": [
        "## Importation des données"
      ]
    },
    {
      "cell_type": "markdown",
      "id": "invisible-preparation",
      "metadata": {
        "id": "invisible-preparation"
      },
      "source": [
        "Pour les besoins du notebook nous ne conservons que les titres, corps du texte et tags des document importés. \n",
        "\n",
        "Nous créons également un chemin pour utiliser nos fichiers dans le drive."
      ]
    },
    {
      "cell_type": "code",
      "source": [
        "from google.colab import drive\n",
        "drive.mount('/content/drive')"
      ],
      "metadata": {
        "colab": {
          "base_uri": "https://localhost:8080/"
        },
        "id": "xKZRv2X_CiJm",
        "outputId": "1024e982-fd80-4c0f-84fb-cb2d5710a481"
      },
      "id": "xKZRv2X_CiJm",
      "execution_count": null,
      "outputs": [
        {
          "output_type": "stream",
          "name": "stdout",
          "text": [
            "Mounted at /content/drive\n"
          ]
        }
      ]
    },
    {
      "cell_type": "code",
      "execution_count": null,
      "id": "cfe6cd90",
      "metadata": {
        "ExecuteTime": {
          "end_time": "2022-11-05T22:34:08.629513Z",
          "start_time": "2022-11-05T22:34:05.931733Z"
        },
        "colab": {
          "base_uri": "https://localhost:8080/",
          "height": 333
        },
        "id": "cfe6cd90",
        "outputId": "4d976ef3-1689-485e-fd3c-d3c0bcecd5ac"
      },
      "outputs": [
        {
          "output_type": "execute_result",
          "data": {
            "text/plain": [
              "                                               Title  \\\n",
              "0  How can I construct my objects allocated throu...   \n",
              "1  How to clear NextJs GetStaticPaths cache / \"un...   \n",
              "2  Flutter Web - Text field scrolls instead of se...   \n",
              "3  Avoid closure on fast path by storing state in...   \n",
              "4  Java Memory Model: a JLS statement about seque...   \n",
              "\n",
              "                                                Body  \\\n",
              "0  <p>C++20 removed the <code>construct()</code> ...   \n",
              "1  <p>I think this is quite a vanilla question bu...   \n",
              "2  <p>I'm having an issue with Flutter Web's Text...   \n",
              "3  <p>I'm analysing <a href=\"https://github.com/d...   \n",
              "4  <p>I'm reading <a href=\"https://docs.oracle.co...   \n",
              "\n",
              "                                  Tags  \n",
              "0         <c++><std><c++20><allocator>  \n",
              "1    <typescript><next.js><contentful>  \n",
              "2  <textfield><selection><flutter-web>  \n",
              "3            <c#><.net-core><closures>  \n",
              "4       <java><java-memory-model><jls>  "
            ],
            "text/html": [
              "\n",
              "  <div id=\"df-5a71e316-c123-4d59-86bf-ea6b7c0f6294\">\n",
              "    <div class=\"colab-df-container\">\n",
              "      <div>\n",
              "<style scoped>\n",
              "    .dataframe tbody tr th:only-of-type {\n",
              "        vertical-align: middle;\n",
              "    }\n",
              "\n",
              "    .dataframe tbody tr th {\n",
              "        vertical-align: top;\n",
              "    }\n",
              "\n",
              "    .dataframe thead th {\n",
              "        text-align: right;\n",
              "    }\n",
              "</style>\n",
              "<table border=\"1\" class=\"dataframe\">\n",
              "  <thead>\n",
              "    <tr style=\"text-align: right;\">\n",
              "      <th></th>\n",
              "      <th>Title</th>\n",
              "      <th>Body</th>\n",
              "      <th>Tags</th>\n",
              "    </tr>\n",
              "  </thead>\n",
              "  <tbody>\n",
              "    <tr>\n",
              "      <th>0</th>\n",
              "      <td>How can I construct my objects allocated throu...</td>\n",
              "      <td>&lt;p&gt;C++20 removed the &lt;code&gt;construct()&lt;/code&gt; ...</td>\n",
              "      <td>&lt;c++&gt;&lt;std&gt;&lt;c++20&gt;&lt;allocator&gt;</td>\n",
              "    </tr>\n",
              "    <tr>\n",
              "      <th>1</th>\n",
              "      <td>How to clear NextJs GetStaticPaths cache / \"un...</td>\n",
              "      <td>&lt;p&gt;I think this is quite a vanilla question bu...</td>\n",
              "      <td>&lt;typescript&gt;&lt;next.js&gt;&lt;contentful&gt;</td>\n",
              "    </tr>\n",
              "    <tr>\n",
              "      <th>2</th>\n",
              "      <td>Flutter Web - Text field scrolls instead of se...</td>\n",
              "      <td>&lt;p&gt;I'm having an issue with Flutter Web's Text...</td>\n",
              "      <td>&lt;textfield&gt;&lt;selection&gt;&lt;flutter-web&gt;</td>\n",
              "    </tr>\n",
              "    <tr>\n",
              "      <th>3</th>\n",
              "      <td>Avoid closure on fast path by storing state in...</td>\n",
              "      <td>&lt;p&gt;I'm analysing &lt;a href=\"https://github.com/d...</td>\n",
              "      <td>&lt;c#&gt;&lt;.net-core&gt;&lt;closures&gt;</td>\n",
              "    </tr>\n",
              "    <tr>\n",
              "      <th>4</th>\n",
              "      <td>Java Memory Model: a JLS statement about seque...</td>\n",
              "      <td>&lt;p&gt;I'm reading &lt;a href=\"https://docs.oracle.co...</td>\n",
              "      <td>&lt;java&gt;&lt;java-memory-model&gt;&lt;jls&gt;</td>\n",
              "    </tr>\n",
              "  </tbody>\n",
              "</table>\n",
              "</div>\n",
              "      <button class=\"colab-df-convert\" onclick=\"convertToInteractive('df-5a71e316-c123-4d59-86bf-ea6b7c0f6294')\"\n",
              "              title=\"Convert this dataframe to an interactive table.\"\n",
              "              style=\"display:none;\">\n",
              "        \n",
              "  <svg xmlns=\"http://www.w3.org/2000/svg\" height=\"24px\"viewBox=\"0 0 24 24\"\n",
              "       width=\"24px\">\n",
              "    <path d=\"M0 0h24v24H0V0z\" fill=\"none\"/>\n",
              "    <path d=\"M18.56 5.44l.94 2.06.94-2.06 2.06-.94-2.06-.94-.94-2.06-.94 2.06-2.06.94zm-11 1L8.5 8.5l.94-2.06 2.06-.94-2.06-.94L8.5 2.5l-.94 2.06-2.06.94zm10 10l.94 2.06.94-2.06 2.06-.94-2.06-.94-.94-2.06-.94 2.06-2.06.94z\"/><path d=\"M17.41 7.96l-1.37-1.37c-.4-.4-.92-.59-1.43-.59-.52 0-1.04.2-1.43.59L10.3 9.45l-7.72 7.72c-.78.78-.78 2.05 0 2.83L4 21.41c.39.39.9.59 1.41.59.51 0 1.02-.2 1.41-.59l7.78-7.78 2.81-2.81c.8-.78.8-2.07 0-2.86zM5.41 20L4 18.59l7.72-7.72 1.47 1.35L5.41 20z\"/>\n",
              "  </svg>\n",
              "      </button>\n",
              "      \n",
              "  <style>\n",
              "    .colab-df-container {\n",
              "      display:flex;\n",
              "      flex-wrap:wrap;\n",
              "      gap: 12px;\n",
              "    }\n",
              "\n",
              "    .colab-df-convert {\n",
              "      background-color: #E8F0FE;\n",
              "      border: none;\n",
              "      border-radius: 50%;\n",
              "      cursor: pointer;\n",
              "      display: none;\n",
              "      fill: #1967D2;\n",
              "      height: 32px;\n",
              "      padding: 0 0 0 0;\n",
              "      width: 32px;\n",
              "    }\n",
              "\n",
              "    .colab-df-convert:hover {\n",
              "      background-color: #E2EBFA;\n",
              "      box-shadow: 0px 1px 2px rgba(60, 64, 67, 0.3), 0px 1px 3px 1px rgba(60, 64, 67, 0.15);\n",
              "      fill: #174EA6;\n",
              "    }\n",
              "\n",
              "    [theme=dark] .colab-df-convert {\n",
              "      background-color: #3B4455;\n",
              "      fill: #D2E3FC;\n",
              "    }\n",
              "\n",
              "    [theme=dark] .colab-df-convert:hover {\n",
              "      background-color: #434B5C;\n",
              "      box-shadow: 0px 1px 3px 1px rgba(0, 0, 0, 0.15);\n",
              "      filter: drop-shadow(0px 1px 2px rgba(0, 0, 0, 0.3));\n",
              "      fill: #FFFFFF;\n",
              "    }\n",
              "  </style>\n",
              "\n",
              "      <script>\n",
              "        const buttonEl =\n",
              "          document.querySelector('#df-5a71e316-c123-4d59-86bf-ea6b7c0f6294 button.colab-df-convert');\n",
              "        buttonEl.style.display =\n",
              "          google.colab.kernel.accessAllowed ? 'block' : 'none';\n",
              "\n",
              "        async function convertToInteractive(key) {\n",
              "          const element = document.querySelector('#df-5a71e316-c123-4d59-86bf-ea6b7c0f6294');\n",
              "          const dataTable =\n",
              "            await google.colab.kernel.invokeFunction('convertToInteractive',\n",
              "                                                     [key], {});\n",
              "          if (!dataTable) return;\n",
              "\n",
              "          const docLinkHtml = 'Like what you see? Visit the ' +\n",
              "            '<a target=\"_blank\" href=https://colab.research.google.com/notebooks/data_table.ipynb>data table notebook</a>'\n",
              "            + ' to learn more about interactive tables.';\n",
              "          element.innerHTML = '';\n",
              "          dataTable['output_type'] = 'display_data';\n",
              "          await google.colab.output.renderOutput(dataTable, element);\n",
              "          const docLink = document.createElement('div');\n",
              "          docLink.innerHTML = docLinkHtml;\n",
              "          element.appendChild(docLink);\n",
              "        }\n",
              "      </script>\n",
              "    </div>\n",
              "  </div>\n",
              "  "
            ]
          },
          "metadata": {},
          "execution_count": 7
        }
      ],
      "source": [
        "data = pd.read_csv(\"/content/drive/My Drive/Colab Notebooks/TEST/P5_exploration.csv\")\n",
        "data.head()"
      ]
    },
    {
      "cell_type": "markdown",
      "id": "continuing-affiliate",
      "metadata": {
        "id": "continuing-affiliate"
      },
      "source": [
        "# Pré-traitement :"
      ]
    },
    {
      "cell_type": "markdown",
      "id": "6689dabc",
      "metadata": {
        "id": "6689dabc"
      },
      "source": [
        "Pour chacune de nos opérations, nous allons utiliser la fonction %%time pour nous permettre de connaître le temps entre chaque opération.\n",
        "\n",
        "En considérant le temps entre chaque opération, si l'opération est trop longue, il conviendra de faire un pickle pour le garder en mémoire."
      ]
    },
    {
      "cell_type": "markdown",
      "id": "7d1a251b",
      "metadata": {
        "id": "7d1a251b"
      },
      "source": [
        "### Suppression des balises Tags :"
      ]
    },
    {
      "cell_type": "code",
      "execution_count": null,
      "id": "9fadcf62",
      "metadata": {
        "ExecuteTime": {
          "end_time": "2022-11-05T22:34:09.157591Z",
          "start_time": "2022-11-05T22:34:08.630602Z"
        },
        "id": "9fadcf62"
      },
      "outputs": [],
      "source": [
        "# Preprocess les tags\n",
        "data[\"Tags\"] = data[\"Tags\"].str.lower() \n",
        "data[\"Tags\"] = data[\"Tags\"].replace({\"><\" : \" \"}, regex=True)\n",
        "data[\"Tags\"] = data[\"Tags\"].replace({\"<\" : \"\"}, regex=True)\n",
        "data[\"Tags\"] = data[\"Tags\"].replace({\">\" : \"\"}, regex=True)"
      ]
    },
    {
      "cell_type": "markdown",
      "id": "cultural-supplier",
      "metadata": {
        "id": "cultural-supplier"
      },
      "source": [
        "### Création de la colonne corpus :"
      ]
    },
    {
      "cell_type": "markdown",
      "id": "applicable-mayor",
      "metadata": {
        "id": "applicable-mayor"
      },
      "source": [
        "Nous commençons par créer une nouvelle variable associant le titre (Title) et le corps du texte (Body)"
      ]
    },
    {
      "cell_type": "code",
      "execution_count": null,
      "id": "402d75ce",
      "metadata": {
        "ExecuteTime": {
          "end_time": "2022-11-05T22:34:09.234750Z",
          "start_time": "2022-11-05T22:34:09.158483Z"
        },
        "colab": {
          "base_uri": "https://localhost:8080/",
          "height": 452
        },
        "id": "402d75ce",
        "outputId": "9bcc2a6d-c30e-494f-e2e1-3d241ae4b783"
      },
      "outputs": [
        {
          "output_type": "display_data",
          "data": {
            "text/plain": [
              "                                               Title  \\\n",
              "0  How can I construct my objects allocated throu...   \n",
              "1  How to clear NextJs GetStaticPaths cache / \"un...   \n",
              "2  Flutter Web - Text field scrolls instead of se...   \n",
              "3  Avoid closure on fast path by storing state in...   \n",
              "4  Java Memory Model: a JLS statement about seque...   \n",
              "\n",
              "                                                Body  \\\n",
              "0  <p>C++20 removed the <code>construct()</code> ...   \n",
              "1  <p>I think this is quite a vanilla question bu...   \n",
              "2  <p>I'm having an issue with Flutter Web's Text...   \n",
              "3  <p>I'm analysing <a href=\"https://github.com/d...   \n",
              "4  <p>I'm reading <a href=\"https://docs.oracle.co...   \n",
              "\n",
              "                              Tags  \\\n",
              "0          c++ std c++20 allocator   \n",
              "1    typescript next.js contentful   \n",
              "2  textfield selection flutter-web   \n",
              "3            c# .net-core closures   \n",
              "4       java java-memory-model jls   \n",
              "\n",
              "                                              Corpus  \n",
              "0  How can I construct my objects allocated throu...  \n",
              "1  How to clear NextJs GetStaticPaths cache / \"un...  \n",
              "2  Flutter Web - Text field scrolls instead of se...  \n",
              "3  Avoid closure on fast path by storing state in...  \n",
              "4  Java Memory Model: a JLS statement about seque...  "
            ],
            "text/html": [
              "\n",
              "  <div id=\"df-a88f4946-ca44-43f2-b89f-dba6dccfcef5\">\n",
              "    <div class=\"colab-df-container\">\n",
              "      <div>\n",
              "<style scoped>\n",
              "    .dataframe tbody tr th:only-of-type {\n",
              "        vertical-align: middle;\n",
              "    }\n",
              "\n",
              "    .dataframe tbody tr th {\n",
              "        vertical-align: top;\n",
              "    }\n",
              "\n",
              "    .dataframe thead th {\n",
              "        text-align: right;\n",
              "    }\n",
              "</style>\n",
              "<table border=\"1\" class=\"dataframe\">\n",
              "  <thead>\n",
              "    <tr style=\"text-align: right;\">\n",
              "      <th></th>\n",
              "      <th>Title</th>\n",
              "      <th>Body</th>\n",
              "      <th>Tags</th>\n",
              "      <th>Corpus</th>\n",
              "    </tr>\n",
              "  </thead>\n",
              "  <tbody>\n",
              "    <tr>\n",
              "      <th>0</th>\n",
              "      <td>How can I construct my objects allocated throu...</td>\n",
              "      <td>&lt;p&gt;C++20 removed the &lt;code&gt;construct()&lt;/code&gt; ...</td>\n",
              "      <td>c++ std c++20 allocator</td>\n",
              "      <td>How can I construct my objects allocated throu...</td>\n",
              "    </tr>\n",
              "    <tr>\n",
              "      <th>1</th>\n",
              "      <td>How to clear NextJs GetStaticPaths cache / \"un...</td>\n",
              "      <td>&lt;p&gt;I think this is quite a vanilla question bu...</td>\n",
              "      <td>typescript next.js contentful</td>\n",
              "      <td>How to clear NextJs GetStaticPaths cache / \"un...</td>\n",
              "    </tr>\n",
              "    <tr>\n",
              "      <th>2</th>\n",
              "      <td>Flutter Web - Text field scrolls instead of se...</td>\n",
              "      <td>&lt;p&gt;I'm having an issue with Flutter Web's Text...</td>\n",
              "      <td>textfield selection flutter-web</td>\n",
              "      <td>Flutter Web - Text field scrolls instead of se...</td>\n",
              "    </tr>\n",
              "    <tr>\n",
              "      <th>3</th>\n",
              "      <td>Avoid closure on fast path by storing state in...</td>\n",
              "      <td>&lt;p&gt;I'm analysing &lt;a href=\"https://github.com/d...</td>\n",
              "      <td>c# .net-core closures</td>\n",
              "      <td>Avoid closure on fast path by storing state in...</td>\n",
              "    </tr>\n",
              "    <tr>\n",
              "      <th>4</th>\n",
              "      <td>Java Memory Model: a JLS statement about seque...</td>\n",
              "      <td>&lt;p&gt;I'm reading &lt;a href=\"https://docs.oracle.co...</td>\n",
              "      <td>java java-memory-model jls</td>\n",
              "      <td>Java Memory Model: a JLS statement about seque...</td>\n",
              "    </tr>\n",
              "  </tbody>\n",
              "</table>\n",
              "</div>\n",
              "      <button class=\"colab-df-convert\" onclick=\"convertToInteractive('df-a88f4946-ca44-43f2-b89f-dba6dccfcef5')\"\n",
              "              title=\"Convert this dataframe to an interactive table.\"\n",
              "              style=\"display:none;\">\n",
              "        \n",
              "  <svg xmlns=\"http://www.w3.org/2000/svg\" height=\"24px\"viewBox=\"0 0 24 24\"\n",
              "       width=\"24px\">\n",
              "    <path d=\"M0 0h24v24H0V0z\" fill=\"none\"/>\n",
              "    <path d=\"M18.56 5.44l.94 2.06.94-2.06 2.06-.94-2.06-.94-.94-2.06-.94 2.06-2.06.94zm-11 1L8.5 8.5l.94-2.06 2.06-.94-2.06-.94L8.5 2.5l-.94 2.06-2.06.94zm10 10l.94 2.06.94-2.06 2.06-.94-2.06-.94-.94-2.06-.94 2.06-2.06.94z\"/><path d=\"M17.41 7.96l-1.37-1.37c-.4-.4-.92-.59-1.43-.59-.52 0-1.04.2-1.43.59L10.3 9.45l-7.72 7.72c-.78.78-.78 2.05 0 2.83L4 21.41c.39.39.9.59 1.41.59.51 0 1.02-.2 1.41-.59l7.78-7.78 2.81-2.81c.8-.78.8-2.07 0-2.86zM5.41 20L4 18.59l7.72-7.72 1.47 1.35L5.41 20z\"/>\n",
              "  </svg>\n",
              "      </button>\n",
              "      \n",
              "  <style>\n",
              "    .colab-df-container {\n",
              "      display:flex;\n",
              "      flex-wrap:wrap;\n",
              "      gap: 12px;\n",
              "    }\n",
              "\n",
              "    .colab-df-convert {\n",
              "      background-color: #E8F0FE;\n",
              "      border: none;\n",
              "      border-radius: 50%;\n",
              "      cursor: pointer;\n",
              "      display: none;\n",
              "      fill: #1967D2;\n",
              "      height: 32px;\n",
              "      padding: 0 0 0 0;\n",
              "      width: 32px;\n",
              "    }\n",
              "\n",
              "    .colab-df-convert:hover {\n",
              "      background-color: #E2EBFA;\n",
              "      box-shadow: 0px 1px 2px rgba(60, 64, 67, 0.3), 0px 1px 3px 1px rgba(60, 64, 67, 0.15);\n",
              "      fill: #174EA6;\n",
              "    }\n",
              "\n",
              "    [theme=dark] .colab-df-convert {\n",
              "      background-color: #3B4455;\n",
              "      fill: #D2E3FC;\n",
              "    }\n",
              "\n",
              "    [theme=dark] .colab-df-convert:hover {\n",
              "      background-color: #434B5C;\n",
              "      box-shadow: 0px 1px 3px 1px rgba(0, 0, 0, 0.15);\n",
              "      filter: drop-shadow(0px 1px 2px rgba(0, 0, 0, 0.3));\n",
              "      fill: #FFFFFF;\n",
              "    }\n",
              "  </style>\n",
              "\n",
              "      <script>\n",
              "        const buttonEl =\n",
              "          document.querySelector('#df-a88f4946-ca44-43f2-b89f-dba6dccfcef5 button.colab-df-convert');\n",
              "        buttonEl.style.display =\n",
              "          google.colab.kernel.accessAllowed ? 'block' : 'none';\n",
              "\n",
              "        async function convertToInteractive(key) {\n",
              "          const element = document.querySelector('#df-a88f4946-ca44-43f2-b89f-dba6dccfcef5');\n",
              "          const dataTable =\n",
              "            await google.colab.kernel.invokeFunction('convertToInteractive',\n",
              "                                                     [key], {});\n",
              "          if (!dataTable) return;\n",
              "\n",
              "          const docLinkHtml = 'Like what you see? Visit the ' +\n",
              "            '<a target=\"_blank\" href=https://colab.research.google.com/notebooks/data_table.ipynb>data table notebook</a>'\n",
              "            + ' to learn more about interactive tables.';\n",
              "          element.innerHTML = '';\n",
              "          dataTable['output_type'] = 'display_data';\n",
              "          await google.colab.output.renderOutput(dataTable, element);\n",
              "          const docLink = document.createElement('div');\n",
              "          docLink.innerHTML = docLinkHtml;\n",
              "          element.appendChild(docLink);\n",
              "        }\n",
              "      </script>\n",
              "    </div>\n",
              "  </div>\n",
              "  "
            ]
          },
          "metadata": {}
        },
        {
          "output_type": "stream",
          "name": "stdout",
          "text": [
            "CPU times: user 195 ms, sys: 3.51 ms, total: 198 ms\n",
            "Wall time: 199 ms\n"
          ]
        }
      ],
      "source": [
        "%%time\n",
        "data['Corpus'] = data['Title'] + data['Body']\n",
        "# Certains algorithmes auront besoin d'une liste\n",
        "corpus = data['Corpus'].to_list()\n",
        "# Certains algorithmes auront besoin d'une liste\n",
        "tags = data['Tags'].to_list()\n",
        "display(data.head(5))"
      ]
    },
    {
      "cell_type": "markdown",
      "id": "1aabf6e6",
      "metadata": {
        "id": "1aabf6e6"
      },
      "source": [
        "#### Visualisation :"
      ]
    },
    {
      "cell_type": "code",
      "execution_count": null,
      "id": "bd130ce0",
      "metadata": {
        "ExecuteTime": {
          "end_time": "2022-11-05T22:34:09.238781Z",
          "start_time": "2022-11-05T22:34:09.235792Z"
        },
        "colab": {
          "base_uri": "https://localhost:8080/",
          "height": 207
        },
        "id": "bd130ce0",
        "outputId": "432bf2fd-ca65-4587-e534-542747e9047e"
      },
      "outputs": [
        {
          "output_type": "stream",
          "name": "stdout",
          "text": [
            "Visualisation pré-nettoyage du Corpus :\n",
            "\n"
          ]
        },
        {
          "output_type": "display_data",
          "data": {
            "text/plain": [
              "'How can I construct my objects allocated through std::allocator::allocate()?<p>C++20 removed the <code>construct()</code> and <code>destruct()</code> members from <code>std::allocator</code>. How am I supposed to construct my objects allocated through <code>std::allocator&lt;T&gt;::allocate()</code>? I found <code>std::uninitialized_fill()</code> and <code>std::uninitialized_copy()</code>, but as far as I understood they are not allocator-aware, and they do copies, which I think would hurt performance a lot for non-POD types.</p>\\n'"
            ],
            "application/vnd.google.colaboratory.intrinsic+json": {
              "type": "string"
            }
          },
          "metadata": {}
        },
        {
          "output_type": "stream",
          "name": "stdout",
          "text": [
            "\n"
          ]
        }
      ],
      "source": [
        "print(\"Visualisation pré-nettoyage du Corpus :\")\n",
        "print('')\n",
        "display(data.Corpus[0])\n",
        "print('')"
      ]
    },
    {
      "cell_type": "markdown",
      "id": "accessory-rebound",
      "metadata": {
        "id": "accessory-rebound"
      },
      "source": [
        "### Nettoyage HTML via beautiful soup :"
      ]
    },
    {
      "cell_type": "markdown",
      "id": "utility-consistency",
      "metadata": {
        "id": "utility-consistency"
      },
      "source": [
        "Nous allons maintenant nettoyer les données en rapport avec les balises HTML."
      ]
    },
    {
      "cell_type": "code",
      "execution_count": null,
      "id": "23923049",
      "metadata": {
        "ExecuteTime": {
          "end_time": "2022-11-05T22:38:18.557492Z",
          "start_time": "2022-11-05T22:34:09.239901Z"
        },
        "colab": {
          "base_uri": "https://localhost:8080/"
        },
        "id": "23923049",
        "outputId": "4941c44d-c6ca-4785-fe56-33cfcb5881dc"
      },
      "outputs": [
        {
          "output_type": "stream",
          "name": "stdout",
          "text": [
            "CPU times: user 12min 49s, sys: 2.6 s, total: 12min 52s\n",
            "Wall time: 13min\n"
          ]
        }
      ],
      "source": [
        "%%time\n",
        "\n",
        "def clean_html(text_html):\n",
        "    soup = BeautifulSoup(text_html, \"html5lib\")\n",
        "    for element in soup.find_all(\"code\"):\n",
        "        # print(element)\n",
        "        element.decompose()\n",
        "    return soup.get_text().replace(\"\\n\", \" \")\n",
        "\n",
        "\n",
        "corpus_del_bal = [clean_html(text) for text in corpus]\n",
        "data['Corpus'] = data['Corpus'].apply(lambda x : clean_html(x))"
      ]
    },
    {
      "cell_type": "markdown",
      "id": "6233453f",
      "metadata": {
        "id": "6233453f"
      },
      "source": [
        "#### Visualisation :"
      ]
    },
    {
      "cell_type": "code",
      "execution_count": null,
      "id": "c27d2b08",
      "metadata": {
        "ExecuteTime": {
          "end_time": "2022-11-05T22:38:18.560772Z",
          "start_time": "2022-11-05T22:38:18.558332Z"
        },
        "colab": {
          "base_uri": "https://localhost:8080/",
          "height": 156
        },
        "id": "c27d2b08",
        "outputId": "464eb81b-7f68-4bcc-8e9b-442f2a9289d6"
      },
      "outputs": [
        {
          "output_type": "stream",
          "name": "stdout",
          "text": [
            "Visualisation du nettoyage Beautiful Soup :\n",
            "\n"
          ]
        },
        {
          "output_type": "display_data",
          "data": {
            "text/plain": [
              "'How can I construct my objects allocated through std::allocator::allocate()?C++20 removed the  and  members from . How am I supposed to construct my objects allocated through ? I found  and , but as far as I understood they are not allocator-aware, and they do copies, which I think would hurt performance a lot for non-POD types. '"
            ],
            "application/vnd.google.colaboratory.intrinsic+json": {
              "type": "string"
            }
          },
          "metadata": {}
        },
        {
          "output_type": "stream",
          "name": "stdout",
          "text": [
            "\n"
          ]
        }
      ],
      "source": [
        "print(\"Visualisation du nettoyage Beautiful Soup :\")\n",
        "print('')\n",
        "display(corpus_del_bal[0])\n",
        "print('')"
      ]
    },
    {
      "cell_type": "markdown",
      "id": "76f49de8",
      "metadata": {
        "id": "76f49de8"
      },
      "source": [
        "#### Visualisation Yellowbricks en token :"
      ]
    },
    {
      "cell_type": "code",
      "execution_count": null,
      "id": "a64e0d36",
      "metadata": {
        "ExecuteTime": {
          "end_time": "2022-11-05T22:38:24.508901Z",
          "start_time": "2022-11-05T22:38:18.565329Z"
        },
        "colab": {
          "base_uri": "https://localhost:8080/",
          "height": 452
        },
        "id": "a64e0d36",
        "outputId": "9735bc59-4874-41df-fab0-1de9fba74d78"
      },
      "outputs": [
        {
          "output_type": "display_data",
          "data": {
            "text/plain": [
              "<Figure size 1080x720 with 1 Axes>"
            ],
            "image/png": "[encoded data removed]"
          },
          "metadata": {}
        }
      ],
      "source": [
        "visu_yellow(corpus_del_bal)"
      ]
    },
    {
      "cell_type": "markdown",
      "id": "7dae84ba",
      "metadata": {
        "id": "7dae84ba"
      },
      "source": [
        "On voit qu'il y a toujours des mots redondants qui ne servent à rien à l'analyse."
      ]
    },
    {
      "cell_type": "markdown",
      "id": "direct-savannah",
      "metadata": {
        "id": "direct-savannah"
      },
      "source": [
        "### Nettoyage du texte (Suppression des fins de lignes et des chiffres) :"
      ]
    },
    {
      "cell_type": "markdown",
      "id": "af5c65d2",
      "metadata": {
        "id": "af5c65d2"
      },
      "source": [
        "ici, nous supprimons les fins de lignes et les chiffres."
      ]
    },
    {
      "cell_type": "code",
      "execution_count": null,
      "id": "3a1fd8cf",
      "metadata": {
        "ExecuteTime": {
          "end_time": "2022-11-05T22:38:47.733434Z",
          "start_time": "2022-11-05T22:38:24.510011Z"
        },
        "colab": {
          "base_uri": "https://localhost:8080/"
        },
        "id": "3a1fd8cf",
        "outputId": "e4eb6a05-5af5-4701-cc11-091db82adcf0"
      },
      "outputs": [
        {
          "output_type": "stream",
          "name": "stdout",
          "text": [
            "CPU times: user 36.1 s, sys: 195 ms, total: 36.3 s\n",
            "Wall time: 36.4 s\n"
          ]
        }
      ],
      "source": [
        "%%time\n",
        "\n",
        "def text_cleaning(text):\n",
        "    text = re.sub('\\w*\\d\\w*', '', text)  # supprimer tout les chiffres\n",
        "    text = re.sub(r'\\n', '', text)  # retirer les fins de lignes\n",
        "    text = re.sub(r'\\s+', ' ', text)  # retirer les fins de lignes de corpus\n",
        "    # text = re.split(\",\" , \" \")\n",
        "    return text\n",
        "\n",
        "\n",
        "corpus_x = [text_cleaning(text) for text in corpus_del_bal]  # pour la liste\n",
        "tags_x = [text_cleaning(text).strip() for text in tags]  # pour la liste\n",
        "data['Corpus'] = data['Corpus'].apply(lambda x : text_cleaning(x))"
      ]
    },
    {
      "cell_type": "markdown",
      "id": "921d2076",
      "metadata": {
        "id": "921d2076"
      },
      "source": [
        "#### Visualisation :"
      ]
    },
    {
      "cell_type": "code",
      "execution_count": null,
      "id": "1594ef8f",
      "metadata": {
        "ExecuteTime": {
          "end_time": "2022-11-05T22:38:47.737427Z",
          "start_time": "2022-11-05T22:38:47.734340Z"
        },
        "colab": {
          "base_uri": "https://localhost:8080/",
          "height": 261
        },
        "id": "1594ef8f",
        "outputId": "413ee3e9-962c-45eb-8a7d-0acf47950eab"
      },
      "outputs": [
        {
          "output_type": "stream",
          "name": "stdout",
          "text": [
            "---------------------------------------------\n",
            "Visualisation du nettoyage texte sur le corpus :\n",
            "---------------------------------------------\n"
          ]
        },
        {
          "output_type": "display_data",
          "data": {
            "text/plain": [
              "'How can I construct my objects allocated through std::allocator::allocate()?C++ removed the and members from . How am I supposed to construct my objects allocated through ? I found and , but as far as I understood they are not allocator-aware, and they do copies, which I think would hurt performance a lot for non-POD types. '"
            ],
            "application/vnd.google.colaboratory.intrinsic+json": {
              "type": "string"
            }
          },
          "metadata": {}
        },
        {
          "output_type": "stream",
          "name": "stdout",
          "text": [
            "\n",
            "---------------------------------------------\n",
            "Visualisation du nettoyage texte sur les tags :\n",
            "---------------------------------------------\n"
          ]
        },
        {
          "output_type": "display_data",
          "data": {
            "text/plain": [
              "'c++ std c++ allocator'"
            ],
            "application/vnd.google.colaboratory.intrinsic+json": {
              "type": "string"
            }
          },
          "metadata": {}
        },
        {
          "output_type": "stream",
          "name": "stdout",
          "text": [
            "\n"
          ]
        }
      ],
      "source": [
        "print('-'*45)\n",
        "print(\"Visualisation du nettoyage texte sur le corpus :\")\n",
        "print('-'*45)\n",
        "display(corpus_x[0])\n",
        "print(\"\")\n",
        "\n",
        "print('-'*45)\n",
        "print(\"Visualisation du nettoyage texte sur les tags :\")\n",
        "print('-'*45)\n",
        "display(tags_x[0])\n",
        "print(\"\")"
      ]
    },
    {
      "cell_type": "markdown",
      "id": "55950378",
      "metadata": {
        "id": "55950378"
      },
      "source": [
        "#### Visualisation Yellowbricks en token :"
      ]
    },
    {
      "cell_type": "code",
      "execution_count": null,
      "id": "2975793b",
      "metadata": {
        "ExecuteTime": {
          "end_time": "2022-11-05T22:38:53.494722Z",
          "start_time": "2022-11-05T22:38:47.738698Z"
        },
        "colab": {
          "base_uri": "https://localhost:8080/",
          "height": 452
        },
        "id": "2975793b",
        "outputId": "539a4469-7122-4082-de52-ce2575ee85af"
      },
      "outputs": [
        {
          "output_type": "display_data",
          "data": {
            "text/plain": [
              "<Figure size 1080x720 with 1 Axes>"
            ],
            "image/png": "[encoded data removed]"
          },
          "metadata": {}
        }
      ],
      "source": [
        "visu_yellow(corpus_x)"
      ]
    },
    {
      "cell_type": "markdown",
      "id": "cad7f251",
      "metadata": {
        "id": "cad7f251"
      },
      "source": [
        "Le corpus pré-nettoyé reste actuellement inutilisable."
      ]
    },
    {
      "cell_type": "code",
      "execution_count": null,
      "id": "83cab873",
      "metadata": {
        "ExecuteTime": {
          "end_time": "2022-11-05T22:38:54.085214Z",
          "start_time": "2022-11-05T22:38:53.495789Z"
        },
        "colab": {
          "base_uri": "https://localhost:8080/",
          "height": 463
        },
        "id": "83cab873",
        "outputId": "0c248295-87be-4fcb-8c39-c7c2e5c8cde7"
      },
      "outputs": [
        {
          "output_type": "display_data",
          "data": {
            "text/plain": [
              "<Figure size 1080x720 with 1 Axes>"
            ],
            "image/png": "[encoded data removed]"
          },
          "metadata": {}
        }
      ],
      "source": [
        "visu_yellow(tags_x)"
      ]
    },
    {
      "cell_type": "markdown",
      "id": "46886262",
      "metadata": {
        "id": "46886262"
      },
      "source": [
        "Ici, on peut voir que les Tags sont bien représentés."
      ]
    },
    {
      "cell_type": "markdown",
      "id": "c8ac08eb",
      "metadata": {
        "id": "c8ac08eb"
      },
      "source": [
        "### Suppression des verbes contractées :"
      ]
    },
    {
      "cell_type": "markdown",
      "id": "522975f8",
      "metadata": {
        "id": "522975f8"
      },
      "source": [
        "Suppression des formes contractés des verbes."
      ]
    },
    {
      "cell_type": "code",
      "execution_count": null,
      "id": "ccec7fbe",
      "metadata": {
        "ExecuteTime": {
          "end_time": "2022-11-05T22:38:54.092206Z",
          "start_time": "2022-11-05T22:38:54.086242Z"
        },
        "id": "ccec7fbe"
      },
      "outputs": [],
      "source": [
        "CONTRACTION_MAP = {\n",
        "\"ain't\": \"is not\",\n",
        "\"aren't\": \"are not\",\n",
        "\"can't\": \"cannot\",\n",
        "\"can't've\": \"cannot have\",\n",
        "\"'cause\": \"because\",\n",
        "\"could've\": \"could have\",\n",
        "\"couldn't\": \"could not\",\n",
        "\"couldn't've\": \"could not have\",\n",
        "\"didn't\": \"did not\",\n",
        "\"doesn't\": \"does not\",\n",
        "\"don't\": \"do not\",\n",
        "\"hadn't\": \"had not\",\n",
        "\"hadn't've\": \"had not have\",\n",
        "\"hasn't\": \"has not\",\n",
        "\"haven't\": \"have not\",\n",
        "\"he'd\": \"he would\",\n",
        "\"he'd've\": \"he would have\",\n",
        "\"he'll\": \"he will\",\n",
        "\"he'll've\": \"he he will have\",\n",
        "\"he's\": \"he is\",\n",
        "\"how'd\": \"how did\",\n",
        "\"how'd'y\": \"how do you\",\n",
        "\"how'll\": \"how will\",\n",
        "\"how's\": \"how is\",\n",
        "\"I'd\": \"I would\",\n",
        "\"I'd've\": \"I would have\",\n",
        "\"I'll\": \"I will\",\n",
        "\"I'll've\": \"I will have\",\n",
        "\"I'm\": \"I am\",\n",
        "\"I've\": \"I have\",\n",
        "\"i'd\": \"i would\",\n",
        "\"i'd've\": \"i would have\",\n",
        "\"i'll\": \"i will\",\n",
        "\"i'll've\": \"i will have\",\n",
        "\"i'm\": \"i am\",\n",
        "\"i've\": \"i have\",\n",
        "\"isn't\": \"is not\",\n",
        "\"it'd\": \"it would\",\n",
        "\"it'd've\": \"it would have\",\n",
        "\"it'll\": \"it will\",\n",
        "\"it'll've\": \"it will have\",\n",
        "\"it's\": \"it is\",\n",
        "\"let's\": \"let us\",\n",
        "\"ma'am\": \"madam\",\n",
        "\"mayn't\": \"may not\",\n",
        "\"might've\": \"might have\",\n",
        "\"mightn't\": \"might not\",\n",
        "\"mightn't've\": \"might not have\",\n",
        "\"must've\": \"must have\",\n",
        "\"mustn't\": \"must not\",\n",
        "\"mustn't've\": \"must not have\",\n",
        "\"needn't\": \"need not\",\n",
        "\"needn't've\": \"need not have\",\n",
        "\"o'clock\": \"of the clock\",\n",
        "\"oughtn't\": \"ought not\",\n",
        "\"oughtn't've\": \"ought not have\",\n",
        "\"shan't\": \"shall not\",\n",
        "\"sha'n't\": \"shall not\",\n",
        "\"shan't've\": \"shall not have\",\n",
        "\"she'd\": \"she would\",\n",
        "\"she'd've\": \"she would have\",\n",
        "\"she'll\": \"she will\",\n",
        "\"she'll've\": \"she will have\",\n",
        "\"she's\": \"she is\",\n",
        "\"should've\": \"should have\",\n",
        "\"shouldn't\": \"should not\",\n",
        "\"shouldn't've\": \"should not have\",\n",
        "\"so've\": \"so have\",\n",
        "\"so's\": \"so as\",\n",
        "\"that'd\": \"that would\",\n",
        "\"that'd've\": \"that would have\",\n",
        "\"that's\": \"that is\",\n",
        "\"there'd\": \"there would\",\n",
        "\"there'd've\": \"there would have\",\n",
        "\"there's\": \"there is\",\n",
        "\"they'd\": \"they would\",\n",
        "\"they'd've\": \"they would have\",\n",
        "\"they'll\": \"they will\",\n",
        "\"they'll've\": \"they will have\",\n",
        "\"they're\": \"they are\",\n",
        "\"they've\": \"they have\",\n",
        "\"to've\": \"to have\",\n",
        "\"wasn't\": \"was not\",\n",
        "\"we'd\": \"we would\",\n",
        "\"we'd've\": \"we would have\",\n",
        "\"we'll\": \"we will\",\n",
        "\"we'll've\": \"we will have\",\n",
        "\"we're\": \"we are\",\n",
        "\"we've\": \"we have\",\n",
        "\"weren't\": \"were not\",\n",
        "\"what'll\": \"what will\",\n",
        "\"what'll've\": \"what will have\",\n",
        "\"what're\": \"what are\",\n",
        "\"what's\": \"what is\",\n",
        "\"what've\": \"what have\",\n",
        "\"when's\": \"when is\",\n",
        "\"when've\": \"when have\",\n",
        "\"where'd\": \"where did\",\n",
        "\"where's\": \"where is\",\n",
        "\"where've\": \"where have\",\n",
        "\"who'll\": \"who will\",\n",
        "\"who'll've\": \"who will have\",\n",
        "\"who's\": \"who is\",\n",
        "\"who've\": \"who have\",\n",
        "\"why's\": \"why is\",\n",
        "\"why've\": \"why have\",\n",
        "\"will've\": \"will have\",\n",
        "\"won't\": \"will not\",\n",
        "\"won't've\": \"will not have\",\n",
        "\"would've\": \"would have\",\n",
        "\"wouldn't\": \"would not\",\n",
        "\"wouldn't've\": \"would not have\",\n",
        "\"y'all\": \"you all\",\n",
        "\"y'all'd\": \"you all would\",\n",
        "\"y'all'd've\": \"you all would have\",\n",
        "\"y'all're\": \"you all are\",\n",
        "\"y'all've\": \"you all have\",\n",
        "\"you'd\": \"you would\",\n",
        "\"you'd've\": \"you would have\",\n",
        "\"you'll\": \"you will\",\n",
        "\"you'll've\": \"you will have\",\n",
        "\"you're\": \"you are\",\n",
        "\"you've\": \"you have\"\n",
        "}"
      ]
    },
    {
      "cell_type": "code",
      "execution_count": null,
      "id": "b69b6272",
      "metadata": {
        "ExecuteTime": {
          "end_time": "2022-11-05T22:38:54.095615Z",
          "start_time": "2022-11-05T22:38:54.093125Z"
        },
        "id": "b69b6272"
      },
      "outputs": [],
      "source": [
        "def expand_contractions(text, contraction_mapping=CONTRACTION_MAP):\n",
        "\n",
        "    contractions_pattern = re.compile('({})'.format('|'.join(contraction_mapping.keys())),\n",
        "                                      flags=re.IGNORECASE | re.DOTALL)\n",
        "\n",
        "    def expand_match(contraction):\n",
        "        match = contraction.group(0)\n",
        "        first_char = match[0]\n",
        "        expanded_contraction = contraction_mapping.get(match)\\\n",
        "            if contraction_mapping.get(match)\\\n",
        "            else contraction_mapping.get(match.lower())\n",
        "        expanded_contraction = first_char+expanded_contraction[1:]\n",
        "        return expanded_contraction\n",
        "\n",
        "    expanded_text = contractions_pattern.sub(expand_match, text)\n",
        "    expanded_text = re.sub(\"'\", \"\", expanded_text)\n",
        "    return expanded_text"
      ]
    },
    {
      "cell_type": "code",
      "execution_count": null,
      "id": "c38c8468",
      "metadata": {
        "ExecuteTime": {
          "end_time": "2022-11-05T22:40:22.203930Z",
          "start_time": "2022-11-05T22:38:54.096461Z"
        },
        "colab": {
          "base_uri": "https://localhost:8080/"
        },
        "id": "c38c8468",
        "outputId": "e74ddce6-f5e0-42da-e86f-0814174a8343"
      },
      "outputs": [
        {
          "output_type": "stream",
          "name": "stdout",
          "text": [
            "CPU times: user 2min 52s, sys: 437 ms, total: 2min 52s\n",
            "Wall time: 2min 52s\n"
          ]
        }
      ],
      "source": [
        "%%time\n",
        "corpus_x = [expand_contractions(text) for text in corpus_del_bal]\n",
        "tags_x = [expand_contractions(text).strip() for text in tags]\n",
        "# data['Corpus'] = data['Corpus'].apply(lambda x : expand_contractions(x))"
      ]
    },
    {
      "cell_type": "markdown",
      "id": "e2c1a5ab",
      "metadata": {
        "id": "e2c1a5ab"
      },
      "source": [
        "#### Visualisation "
      ]
    },
    {
      "cell_type": "code",
      "execution_count": null,
      "id": "29979729",
      "metadata": {
        "ExecuteTime": {
          "end_time": "2022-11-05T22:40:22.207851Z",
          "start_time": "2022-11-05T22:40:22.204871Z"
        },
        "colab": {
          "base_uri": "https://localhost:8080/",
          "height": 261
        },
        "id": "29979729",
        "outputId": "d05588cf-9901-486e-ad89-f8ad50fc7899"
      },
      "outputs": [
        {
          "output_type": "stream",
          "name": "stdout",
          "text": [
            "------------------------------------------------------------\n",
            "Visualisation de la suppression des verbes contractés sur le corpus :\n",
            "------------------------------------------------------------\n"
          ]
        },
        {
          "output_type": "display_data",
          "data": {
            "text/plain": [
              "'How can I construct my objects allocated through std::allocator::allocate()?C++20 removed the  and  members from . How am I supposed to construct my objects allocated through ? I found  and , but as far as I understood they are not allocator-aware, and they do copies, which I think would hurt performance a lot for non-POD types. '"
            ],
            "application/vnd.google.colaboratory.intrinsic+json": {
              "type": "string"
            }
          },
          "metadata": {}
        },
        {
          "output_type": "stream",
          "name": "stdout",
          "text": [
            "\n",
            "------------------------------------------------------------\n",
            "Visualisation de la suppression des verbes contractés sur les tags :\n",
            "------------------------------------------------------------\n"
          ]
        },
        {
          "output_type": "display_data",
          "data": {
            "text/plain": [
              "'c++ std c++20 allocator'"
            ],
            "application/vnd.google.colaboratory.intrinsic+json": {
              "type": "string"
            }
          },
          "metadata": {}
        },
        {
          "output_type": "stream",
          "name": "stdout",
          "text": [
            "\n"
          ]
        }
      ],
      "source": [
        "print('-'*60)\n",
        "print(\"Visualisation de la suppression des verbes contractés sur le corpus :\")\n",
        "print('-'*60)\n",
        "display(corpus_x[0])\n",
        "print(\"\")\n",
        "\n",
        "print('-'*60)\n",
        "print(\"Visualisation de la suppression des verbes contractés sur les tags :\")\n",
        "print('-'*60)\n",
        "display(tags_x[0])\n",
        "print(\"\")"
      ]
    },
    {
      "cell_type": "markdown",
      "id": "da26b527",
      "metadata": {
        "id": "da26b527"
      },
      "source": [
        "#### Visualisation Yellowbricks en token :"
      ]
    },
    {
      "cell_type": "code",
      "execution_count": null,
      "id": "074ca264",
      "metadata": {
        "ExecuteTime": {
          "end_time": "2022-11-05T22:40:28.131107Z",
          "start_time": "2022-11-05T22:40:22.208684Z"
        },
        "colab": {
          "base_uri": "https://localhost:8080/",
          "height": 452
        },
        "id": "074ca264",
        "outputId": "c21d68b5-59e6-460a-b313-273963b2aa67"
      },
      "outputs": [
        {
          "output_type": "display_data",
          "data": {
            "text/plain": [
              "<Figure size 1080x720 with 1 Axes>"
            ],
            "image/png": "[encoded data removed]"
          },
          "metadata": {}
        }
      ],
      "source": [
        "visu_yellow(corpus_x)"
      ]
    },
    {
      "cell_type": "markdown",
      "id": "04913499",
      "metadata": {
        "id": "04913499"
      },
      "source": [
        "Peu de difference ici, vu que les mots contractées ne doivent pas être dans le top 50."
      ]
    },
    {
      "cell_type": "code",
      "execution_count": null,
      "id": "cbf45dea",
      "metadata": {
        "ExecuteTime": {
          "end_time": "2022-11-05T22:40:28.666256Z",
          "start_time": "2022-11-05T22:40:28.131996Z"
        },
        "colab": {
          "base_uri": "https://localhost:8080/",
          "height": 463
        },
        "id": "cbf45dea",
        "outputId": "aad53212-32d5-4134-b54a-e6144ebd8863"
      },
      "outputs": [
        {
          "output_type": "display_data",
          "data": {
            "text/plain": [
              "<Figure size 1080x720 with 1 Axes>"
            ],
            "image/png": "[encoded data removed]"
          },
          "metadata": {}
        }
      ],
      "source": [
        "visu_yellow(tags_x)"
      ]
    },
    {
      "cell_type": "markdown",
      "id": "21c772d3",
      "metadata": {
        "id": "21c772d3"
      },
      "source": [
        "Idem les tags étant déjà des termes spécifiques, pas de raison de retrouver une difference entre les 2."
      ]
    },
    {
      "cell_type": "markdown",
      "id": "94e4e4a9",
      "metadata": {
        "id": "94e4e4a9"
      },
      "source": [
        "### Tokenization + suppression des stopwords :"
      ]
    },
    {
      "cell_type": "markdown",
      "id": "dffb5d90",
      "metadata": {
        "id": "dffb5d90"
      },
      "source": [
        "La tokenisation consiste essentielleent à diviser une phrase, paragraphe ou un document de texte en unités plus petites, entant que mots ou termes individuels. On appelle ces mots des tokens d'ou tokenisation."
      ]
    },
    {
      "cell_type": "markdown",
      "id": "7cb9b1e4",
      "metadata": {
        "id": "7cb9b1e4"
      },
      "source": [
        "Un stopword est un mot qui est tellement commun qu'il est inutile de l'indexer ou de l'utiliser dans une recherche."
      ]
    },
    {
      "cell_type": "code",
      "execution_count": null,
      "id": "a1791360",
      "metadata": {
        "ExecuteTime": {
          "end_time": "2022-11-05T22:40:29.056542Z",
          "start_time": "2022-11-05T22:40:28.667312Z"
        },
        "colab": {
          "base_uri": "https://localhost:8080/"
        },
        "id": "a1791360",
        "outputId": "533de0c5-7b89-452d-fc59-8086ef0be6e4"
      },
      "outputs": [
        {
          "output_type": "stream",
          "name": "stderr",
          "text": [
            "[nltk_data] Downloading package stopwords to /root/nltk_data...\n",
            "[nltk_data]   Unzipping corpora/stopwords.zip.\n",
            "[nltk_data] Downloading package punkt to /root/nltk_data...\n",
            "[nltk_data]   Unzipping tokenizers/punkt.zip.\n"
          ]
        },
        {
          "output_type": "execute_result",
          "data": {
            "text/plain": [
              "True"
            ]
          },
          "metadata": {},
          "execution_count": 24
        }
      ],
      "source": [
        "import string  # permet d'avoir accés à toute les ponctuations.\n",
        "from nltk.corpus import stopwords\n",
        "nltk.download('stopwords')\n",
        "from nltk.tokenize import word_tokenize\n",
        "import nltk\n",
        "nltk.download('punkt')"
      ]
    },
    {
      "cell_type": "code",
      "execution_count": null,
      "id": "4bbafaf3",
      "metadata": {
        "ExecuteTime": {
          "end_time": "2022-11-05T22:40:29.059859Z",
          "start_time": "2022-11-05T22:40:29.057655Z"
        },
        "id": "4bbafaf3"
      },
      "outputs": [],
      "source": [
        "def tokenize(text):\n",
        "\n",
        "    stop_words = set(stopwords.words('english'))\n",
        "    punctuation = set(string.punctuation)\n",
        "\n",
        "    try:\n",
        "        res = word_tokenize(text, language='english')\n",
        "    except TypeError:\n",
        "        return text\n",
        "\n",
        "    res = [token for token in res if token not in punctuation]\n",
        "    res = [token for token in res if token not in stop_words]\n",
        "   # res = [token for token in res if token not in letters]\n",
        "    return res"
      ]
    },
    {
      "cell_type": "code",
      "execution_count": null,
      "id": "774afa5b",
      "metadata": {
        "ExecuteTime": {
          "end_time": "2022-11-05T22:41:47.895664Z",
          "start_time": "2022-11-05T22:40:29.060746Z"
        },
        "colab": {
          "base_uri": "https://localhost:8080/"
        },
        "id": "774afa5b",
        "outputId": "f7c3c70d-5262-4abd-f327-ec9853c60fe8"
      },
      "outputs": [
        {
          "output_type": "stream",
          "name": "stdout",
          "text": [
            "CPU times: user 3min 17s, sys: 8.77 s, total: 3min 26s\n",
            "Wall time: 3min 27s\n"
          ]
        }
      ],
      "source": [
        "%%time\n",
        "corpus_token = [tokenize(text) for text in corpus_x]\n",
        "tag_token = [tokenize(text) for text in tags_x]\n",
        "# data['Corpus'] = data['Corpus'].apply(lambda x : tokenize(x))"
      ]
    },
    {
      "cell_type": "markdown",
      "id": "ed54de43",
      "metadata": {
        "id": "ed54de43"
      },
      "source": [
        "#### Visualisation :"
      ]
    },
    {
      "cell_type": "code",
      "execution_count": null,
      "id": "298d60fb",
      "metadata": {
        "ExecuteTime": {
          "end_time": "2022-11-05T22:41:47.900063Z",
          "start_time": "2022-11-05T22:41:47.896617Z"
        },
        "scrolled": false,
        "colab": {
          "base_uri": "https://localhost:8080/",
          "height": 714
        },
        "id": "298d60fb",
        "outputId": "5d0eb313-5b27-4304-d791-0104e8cde4bc"
      },
      "outputs": [
        {
          "output_type": "stream",
          "name": "stdout",
          "text": [
            "-----------------------------------------------------------------\n",
            "Visualisation de la suppression de la tokennisation sur le corpus :\n",
            "-----------------------------------------------------------------\n"
          ]
        },
        {
          "output_type": "display_data",
          "data": {
            "text/plain": [
              "['How',\n",
              " 'I',\n",
              " 'construct',\n",
              " 'objects',\n",
              " 'allocated',\n",
              " 'std',\n",
              " ':allocator',\n",
              " ':allocate',\n",
              " 'C++20',\n",
              " 'removed',\n",
              " 'members',\n",
              " 'How',\n",
              " 'I',\n",
              " 'supposed',\n",
              " 'construct',\n",
              " 'objects',\n",
              " 'allocated',\n",
              " 'I',\n",
              " 'found',\n",
              " 'far',\n",
              " 'I',\n",
              " 'understood',\n",
              " 'allocator-aware',\n",
              " 'copies',\n",
              " 'I',\n",
              " 'think',\n",
              " 'would',\n",
              " 'hurt',\n",
              " 'performance',\n",
              " 'lot',\n",
              " 'non-POD',\n",
              " 'types']"
            ]
          },
          "metadata": {}
        },
        {
          "output_type": "stream",
          "name": "stdout",
          "text": [
            "\n",
            "-----------------------------------------------------------------\n",
            "Visualisation de la suppression de la tokennisation sur les tags :\n",
            "-----------------------------------------------------------------\n"
          ]
        },
        {
          "output_type": "display_data",
          "data": {
            "text/plain": [
              "['c++', 'std', 'c++20', 'allocator']"
            ]
          },
          "metadata": {}
        },
        {
          "output_type": "stream",
          "name": "stdout",
          "text": [
            "\n"
          ]
        }
      ],
      "source": [
        "print('-'*65)\n",
        "print(\"Visualisation de la suppression de la tokennisation sur le corpus :\")\n",
        "print('-'*65)\n",
        "display(corpus_token[0])\n",
        "print(\"\")\n",
        "\n",
        "print('-'*65)\n",
        "print(\"Visualisation de la suppression de la tokennisation sur les tags :\")\n",
        "print('-'*65)\n",
        "display(tag_token[0])\n",
        "print('')"
      ]
    },
    {
      "cell_type": "markdown",
      "id": "honey-basement",
      "metadata": {
        "id": "honey-basement"
      },
      "source": [
        "###  POS tagging :"
      ]
    },
    {
      "cell_type": "markdown",
      "id": "481c2b3d",
      "metadata": {
        "id": "481c2b3d"
      },
      "source": [
        "Parts of Speech (POS) Tagging. Parts of speech tagging simply refers to assigning parts of speech to individual words in a sentence, which means that, unlike phrase matching, which is performed at the sentence or multi-word level, parts of speech tagging is performed at the token level.\n",
        "\n",
        "source : https://stackabuse.com/python-for-nlp-parts-of-speech-tagging-and-named-entity-recognition/"
      ]
    },
    {
      "cell_type": "markdown",
      "id": "4b38fa55",
      "metadata": {
        "id": "4b38fa55"
      },
      "source": [
        "NN: noun, common, singular or mass"
      ]
    },
    {
      "cell_type": "markdown",
      "id": "6872e675",
      "metadata": {
        "ExecuteTime": {
          "end_time": "2022-11-03T21:12:10.691823Z",
          "start_time": "2022-11-03T21:12:10.688222Z"
        },
        "id": "6872e675"
      },
      "source": [
        "POS tagging Parts of Speech (POS) Tagging. Parts of speech tagging simply refers to assigning parts of speech to individual words in a sentence, which means that, unlike phrase matching, which is performed at the sentence or multi-word level, parts of speech tagging is performed at the token level.\n",
        "\n",
        "NN: noun, common, singular or mass\n",
        "\n",
        "source : https://stackabuse.com/python-for-nlp-parts-of-speech-tagging-and-named-entity-recognition/:"
      ]
    },
    {
      "cell_type": "code",
      "execution_count": null,
      "id": "2e48b211",
      "metadata": {
        "ExecuteTime": {
          "end_time": "2022-11-05T22:41:47.910011Z",
          "start_time": "2022-11-05T22:41:47.900978Z"
        },
        "colab": {
          "base_uri": "https://localhost:8080/"
        },
        "id": "2e48b211",
        "outputId": "07c197b3-9f24-4a3f-b074-2e1610f28936"
      },
      "outputs": [
        {
          "output_type": "stream",
          "name": "stderr",
          "text": [
            "[nltk_data] Downloading package averaged_perceptron_tagger to\n",
            "[nltk_data]     /root/nltk_data...\n",
            "[nltk_data]   Unzipping taggers/averaged_perceptron_tagger.zip.\n"
          ]
        },
        {
          "output_type": "execute_result",
          "data": {
            "text/plain": [
              "True"
            ]
          },
          "metadata": {},
          "execution_count": 28
        }
      ],
      "source": [
        "nltk.download('averaged_perceptron_tagger')"
      ]
    },
    {
      "cell_type": "code",
      "execution_count": null,
      "id": "d8733df0",
      "metadata": {
        "ExecuteTime": {
          "end_time": "2022-11-05T22:41:47.913377Z",
          "start_time": "2022-11-05T22:41:47.911040Z"
        },
        "id": "d8733df0"
      },
      "outputs": [],
      "source": [
        "def filtering_nouns(text):\n",
        "\n",
        "    res = nltk.pos_tag(text)\n",
        "\n",
        "    res = [token[0] for token in res if token[1] == 'NN']# Rajouter adverbe etc etc\n",
        "\n",
        "    return res"
      ]
    },
    {
      "cell_type": "code",
      "execution_count": null,
      "id": "92e2d0cc",
      "metadata": {
        "ExecuteTime": {
          "end_time": "2022-11-05T22:46:02.093252Z",
          "start_time": "2022-11-05T22:41:47.914495Z"
        },
        "colab": {
          "base_uri": "https://localhost:8080/"
        },
        "id": "92e2d0cc",
        "outputId": "8a7cafd8-5938-4496-8136-9b6ec8d9f098"
      },
      "outputs": [
        {
          "output_type": "stream",
          "name": "stdout",
          "text": [
            "CPU times: user 10min 39s, sys: 4.63 s, total: 10min 43s\n",
            "Wall time: 10min 45s\n"
          ]
        }
      ],
      "source": [
        "%%time\n",
        "nn_corpus = [filtering_nouns(tokens) for tokens in corpus_token]"
      ]
    },
    {
      "cell_type": "markdown",
      "id": "09fe5c6d",
      "metadata": {
        "id": "09fe5c6d"
      },
      "source": [
        "#### Visualisation :"
      ]
    },
    {
      "cell_type": "code",
      "execution_count": null,
      "id": "1493ed4a",
      "metadata": {
        "ExecuteTime": {
          "end_time": "2022-11-05T22:46:02.102551Z",
          "start_time": "2022-11-05T22:46:02.099144Z"
        },
        "colab": {
          "base_uri": "https://localhost:8080/",
          "height": 102
        },
        "id": "1493ed4a",
        "outputId": "071eb1ed-2a0c-4358-dc54-6f1507ea1dd2"
      },
      "outputs": [
        {
          "output_type": "stream",
          "name": "stdout",
          "text": [
            "-----------------------------------------------------------------\n",
            "Visualisation du POS Tagging sur le corpus :\n",
            "-----------------------------------------------------------------\n"
          ]
        },
        {
          "output_type": "display_data",
          "data": {
            "text/plain": [
              "[':allocator', 'construct', 'performance', 'lot']"
            ]
          },
          "metadata": {}
        },
        {
          "output_type": "stream",
          "name": "stdout",
          "text": [
            "\n"
          ]
        }
      ],
      "source": [
        "print('-'*65)\n",
        "print(\"Visualisation du POS Tagging sur le corpus :\")\n",
        "print('-'*65)\n",
        "display(nn_corpus[0])\n",
        "print(\"\")"
      ]
    },
    {
      "cell_type": "markdown",
      "id": "color-bargain",
      "metadata": {
        "id": "color-bargain"
      },
      "source": [
        "### Lemmatisation"
      ]
    },
    {
      "cell_type": "markdown",
      "id": "d963dfcb",
      "metadata": {
        "id": "d963dfcb"
      },
      "source": [
        "La lemmatisation désigne un traitement lexical apporté à un texte en vue de son classement dans un index ou de son analyse. Ce traitement consiste à appliquer aux occurrences des lexèmes sujets à flexion un codage renvoyant à leur entrée lexicale commune, que l'on désigne sous le terme de lemme.\n",
        "\n",
        "source : Wikipedia"
      ]
    },
    {
      "cell_type": "code",
      "execution_count": null,
      "id": "ca284bb1",
      "metadata": {
        "ExecuteTime": {
          "end_time": "2022-11-05T22:46:02.185497Z",
          "start_time": "2022-11-05T22:46:02.104916Z"
        },
        "colab": {
          "base_uri": "https://localhost:8080/"
        },
        "id": "ca284bb1",
        "outputId": "59617eeb-a230-40be-d435-867a1b460d1f"
      },
      "outputs": [
        {
          "output_type": "stream",
          "name": "stderr",
          "text": [
            "[nltk_data] Downloading package wordnet to /root/nltk_data...\n",
            "[nltk_data] Downloading package omw-1.4 to /root/nltk_data...\n"
          ]
        },
        {
          "output_type": "execute_result",
          "data": {
            "text/plain": [
              "True"
            ]
          },
          "metadata": {},
          "execution_count": 32
        }
      ],
      "source": [
        "from nltk.corpus import wordnet\n",
        "nltk.download('wordnet')\n",
        "nltk.download('omw-1.4')"
      ]
    },
    {
      "cell_type": "code",
      "execution_count": null,
      "id": "a83f86d5",
      "metadata": {
        "ExecuteTime": {
          "end_time": "2022-11-05T22:46:02.189214Z",
          "start_time": "2022-11-05T22:46:02.186700Z"
        },
        "id": "a83f86d5"
      },
      "outputs": [],
      "source": [
        "def lemmatisation(text):\n",
        "\n",
        "    # Init the Wordnet Lemmatizer\n",
        "    lemmatizer = WordNetLemmatizer()\n",
        "\n",
        "    res = [lemmatizer.lemmatize(word, wordnet.VERB) for word in text]\n",
        "    res = [lemmatizer.lemmatize(word, wordnet.ADJ) for word in res]\n",
        "    res = [lemmatizer.lemmatize(word, wordnet.NOUN) for word in res]\n",
        "    res = [lemmatizer.lemmatize(word, wordnet.ADV) for word in res]\n",
        "    return res"
      ]
    },
    {
      "cell_type": "code",
      "execution_count": null,
      "id": "43abf7b7",
      "metadata": {
        "ExecuteTime": {
          "end_time": "2022-11-05T22:46:20.830444Z",
          "start_time": "2022-11-05T22:46:02.190338Z"
        },
        "colab": {
          "base_uri": "https://localhost:8080/"
        },
        "id": "43abf7b7",
        "outputId": "4477f9da-579b-4823-a526-eaeb48d7ad06"
      },
      "outputs": [
        {
          "output_type": "stream",
          "name": "stdout",
          "text": [
            "CPU times: user 43.6 s, sys: 504 ms, total: 44.1 s\n",
            "Wall time: 44.2 s\n"
          ]
        }
      ],
      "source": [
        "%%time\n",
        "corpus_lem = [lemmatisation(tokens) for tokens in nn_corpus]\n",
        "tags_lem = [lemmatisation(tokens) for tokens in tag_token]\n",
        "# data['Corpus'] = data['Corpus'].apply(lambda x : lemmatisation(x))\n",
        "\n",
        "tags_liste = []\n",
        "for tokens in tags_lem:\n",
        "    tokens = [token for token in tokens if len(token) > 1]\n",
        "    tags_liste.append(tokens)"
      ]
    },
    {
      "cell_type": "markdown",
      "id": "292f7af2",
      "metadata": {
        "id": "292f7af2"
      },
      "source": [
        "#### Visualisation :"
      ]
    },
    {
      "cell_type": "code",
      "execution_count": null,
      "id": "cceb0e3a",
      "metadata": {
        "ExecuteTime": {
          "end_time": "2022-11-05T22:46:20.834589Z",
          "start_time": "2022-11-05T22:46:20.831324Z"
        },
        "colab": {
          "base_uri": "https://localhost:8080/",
          "height": 187
        },
        "id": "cceb0e3a",
        "outputId": "e5dae07a-8187-44a6-ddd8-78339627b9d8"
      },
      "outputs": [
        {
          "output_type": "stream",
          "name": "stdout",
          "text": [
            "-----------------------------------------------------------------\n",
            "Visualisation de la lemmatisation sur le corpus :\n",
            "-----------------------------------------------------------------\n"
          ]
        },
        {
          "output_type": "display_data",
          "data": {
            "text/plain": [
              "[':allocator', 'construct', 'performance', 'lot']"
            ]
          },
          "metadata": {}
        },
        {
          "output_type": "stream",
          "name": "stdout",
          "text": [
            "\n",
            "-----------------------------------------------------------------\n",
            "Visualisation de la lemmatisation sur les Tags\n",
            "-----------------------------------------------------------------\n"
          ]
        },
        {
          "output_type": "display_data",
          "data": {
            "text/plain": [
              "['c++', 'std', 'c++20', 'allocator']"
            ]
          },
          "metadata": {}
        },
        {
          "output_type": "stream",
          "name": "stdout",
          "text": [
            "\n"
          ]
        }
      ],
      "source": [
        "print('-'*65)\n",
        "print(\"Visualisation de la lemmatisation sur le corpus :\")\n",
        "print('-'*65)\n",
        "display(corpus_lem[0])\n",
        "print(\"\")\n",
        "\n",
        "print('-'*65)\n",
        "print(\"Visualisation de la lemmatisation sur les Tags\")\n",
        "print('-'*65)\n",
        "display(tags_lem[0])\n",
        "print(\"\")"
      ]
    },
    {
      "cell_type": "markdown",
      "id": "governmental-paraguay",
      "metadata": {
        "id": "governmental-paraguay"
      },
      "source": [
        "# Features Engineering :"
      ]
    },
    {
      "cell_type": "markdown",
      "id": "reliable-butter",
      "metadata": {
        "id": "reliable-butter"
      },
      "source": [
        "## Création des colonnes de preprocessing et création d'un nouveau DF :"
      ]
    },
    {
      "cell_type": "code",
      "execution_count": null,
      "id": "02a897b7",
      "metadata": {
        "ExecuteTime": {
          "end_time": "2022-11-05T22:46:20.902620Z",
          "start_time": "2022-11-05T22:46:20.835613Z"
        },
        "id": "02a897b7"
      },
      "outputs": [],
      "source": [
        "# remettre sous forme de phrase et non sous forme de liste\n",
        "corpus_df = [\" \".join(text) for text in corpus_lem]\n",
        "# On crée un dataframe\n",
        "corpus_df = pd.DataFrame(corpus_df, columns=['corpus_preprocessing'])"
      ]
    },
    {
      "cell_type": "code",
      "execution_count": null,
      "id": "f99827a5",
      "metadata": {
        "ExecuteTime": {
          "end_time": "2022-11-05T22:46:20.907392Z",
          "start_time": "2022-11-05T22:46:20.903634Z"
        },
        "colab": {
          "base_uri": "https://localhost:8080/",
          "height": 419
        },
        "id": "f99827a5",
        "outputId": "0d3b29fa-512c-4ec2-edf8-d4d8ea3015b3"
      },
      "outputs": [
        {
          "output_type": "execute_result",
          "data": {
            "text/plain": [
              "                                     corpus_preprocessing\n",
              "0                    :allocator construct performance lot\n",
              "1       cache route question anything site regeneratio...\n",
              "2       field issue text scroll view line select text ...\n",
              "3       closure path state localsI closure path state ...\n",
              "4       statement consistency Chapter statement consis...\n",
              "...                                                   ...\n",
              "152261  date column dd/mm/yy hh mm hh mm ssI dataframe...\n",
              "152262              iPhone version Xcode error device way\n",
              "152263  start background task project start action sta...\n",
              "152264  difference install question anything run machi...\n",
              "152265  child widget parent contain parent widget time...\n",
              "\n",
              "[152266 rows x 1 columns]"
            ],
            "text/html": [
              "\n",
              "  <div id=\"df-3e2f8cbb-4dd1-4739-8c1c-f6ba5aa17df0\">\n",
              "    <div class=\"colab-df-container\">\n",
              "      <div>\n",
              "<style scoped>\n",
              "    .dataframe tbody tr th:only-of-type {\n",
              "        vertical-align: middle;\n",
              "    }\n",
              "\n",
              "    .dataframe tbody tr th {\n",
              "        vertical-align: top;\n",
              "    }\n",
              "\n",
              "    .dataframe thead th {\n",
              "        text-align: right;\n",
              "    }\n",
              "</style>\n",
              "<table border=\"1\" class=\"dataframe\">\n",
              "  <thead>\n",
              "    <tr style=\"text-align: right;\">\n",
              "      <th></th>\n",
              "      <th>corpus_preprocessing</th>\n",
              "    </tr>\n",
              "  </thead>\n",
              "  <tbody>\n",
              "    <tr>\n",
              "      <th>0</th>\n",
              "      <td>:allocator construct performance lot</td>\n",
              "    </tr>\n",
              "    <tr>\n",
              "      <th>1</th>\n",
              "      <td>cache route question anything site regeneratio...</td>\n",
              "    </tr>\n",
              "    <tr>\n",
              "      <th>2</th>\n",
              "      <td>field issue text scroll view line select text ...</td>\n",
              "    </tr>\n",
              "    <tr>\n",
              "      <th>3</th>\n",
              "      <td>closure path state localsI closure path state ...</td>\n",
              "    </tr>\n",
              "    <tr>\n",
              "      <th>4</th>\n",
              "      <td>statement consistency Chapter statement consis...</td>\n",
              "    </tr>\n",
              "    <tr>\n",
              "      <th>...</th>\n",
              "      <td>...</td>\n",
              "    </tr>\n",
              "    <tr>\n",
              "      <th>152261</th>\n",
              "      <td>date column dd/mm/yy hh mm hh mm ssI dataframe...</td>\n",
              "    </tr>\n",
              "    <tr>\n",
              "      <th>152262</th>\n",
              "      <td>iPhone version Xcode error device way</td>\n",
              "    </tr>\n",
              "    <tr>\n",
              "      <th>152263</th>\n",
              "      <td>start background task project start action sta...</td>\n",
              "    </tr>\n",
              "    <tr>\n",
              "      <th>152264</th>\n",
              "      <td>difference install question anything run machi...</td>\n",
              "    </tr>\n",
              "    <tr>\n",
              "      <th>152265</th>\n",
              "      <td>child widget parent contain parent widget time...</td>\n",
              "    </tr>\n",
              "  </tbody>\n",
              "</table>\n",
              "<p>152266 rows × 1 columns</p>\n",
              "</div>\n",
              "      <button class=\"colab-df-convert\" onclick=\"convertToInteractive('df-3e2f8cbb-4dd1-4739-8c1c-f6ba5aa17df0')\"\n",
              "              title=\"Convert this dataframe to an interactive table.\"\n",
              "              style=\"display:none;\">\n",
              "        \n",
              "  <svg xmlns=\"http://www.w3.org/2000/svg\" height=\"24px\"viewBox=\"0 0 24 24\"\n",
              "       width=\"24px\">\n",
              "    <path d=\"M0 0h24v24H0V0z\" fill=\"none\"/>\n",
              "    <path d=\"M18.56 5.44l.94 2.06.94-2.06 2.06-.94-2.06-.94-.94-2.06-.94 2.06-2.06.94zm-11 1L8.5 8.5l.94-2.06 2.06-.94-2.06-.94L8.5 2.5l-.94 2.06-2.06.94zm10 10l.94 2.06.94-2.06 2.06-.94-2.06-.94-.94-2.06-.94 2.06-2.06.94z\"/><path d=\"M17.41 7.96l-1.37-1.37c-.4-.4-.92-.59-1.43-.59-.52 0-1.04.2-1.43.59L10.3 9.45l-7.72 7.72c-.78.78-.78 2.05 0 2.83L4 21.41c.39.39.9.59 1.41.59.51 0 1.02-.2 1.41-.59l7.78-7.78 2.81-2.81c.8-.78.8-2.07 0-2.86zM5.41 20L4 18.59l7.72-7.72 1.47 1.35L5.41 20z\"/>\n",
              "  </svg>\n",
              "      </button>\n",
              "      \n",
              "  <style>\n",
              "    .colab-df-container {\n",
              "      display:flex;\n",
              "      flex-wrap:wrap;\n",
              "      gap: 12px;\n",
              "    }\n",
              "\n",
              "    .colab-df-convert {\n",
              "      background-color: #E8F0FE;\n",
              "      border: none;\n",
              "      border-radius: 50%;\n",
              "      cursor: pointer;\n",
              "      display: none;\n",
              "      fill: #1967D2;\n",
              "      height: 32px;\n",
              "      padding: 0 0 0 0;\n",
              "      width: 32px;\n",
              "    }\n",
              "\n",
              "    .colab-df-convert:hover {\n",
              "      background-color: #E2EBFA;\n",
              "      box-shadow: 0px 1px 2px rgba(60, 64, 67, 0.3), 0px 1px 3px 1px rgba(60, 64, 67, 0.15);\n",
              "      fill: #174EA6;\n",
              "    }\n",
              "\n",
              "    [theme=dark] .colab-df-convert {\n",
              "      background-color: #3B4455;\n",
              "      fill: #D2E3FC;\n",
              "    }\n",
              "\n",
              "    [theme=dark] .colab-df-convert:hover {\n",
              "      background-color: #434B5C;\n",
              "      box-shadow: 0px 1px 3px 1px rgba(0, 0, 0, 0.15);\n",
              "      filter: drop-shadow(0px 1px 2px rgba(0, 0, 0, 0.3));\n",
              "      fill: #FFFFFF;\n",
              "    }\n",
              "  </style>\n",
              "\n",
              "      <script>\n",
              "        const buttonEl =\n",
              "          document.querySelector('#df-3e2f8cbb-4dd1-4739-8c1c-f6ba5aa17df0 button.colab-df-convert');\n",
              "        buttonEl.style.display =\n",
              "          google.colab.kernel.accessAllowed ? 'block' : 'none';\n",
              "\n",
              "        async function convertToInteractive(key) {\n",
              "          const element = document.querySelector('#df-3e2f8cbb-4dd1-4739-8c1c-f6ba5aa17df0');\n",
              "          const dataTable =\n",
              "            await google.colab.kernel.invokeFunction('convertToInteractive',\n",
              "                                                     [key], {});\n",
              "          if (!dataTable) return;\n",
              "\n",
              "          const docLinkHtml = 'Like what you see? Visit the ' +\n",
              "            '<a target=\"_blank\" href=https://colab.research.google.com/notebooks/data_table.ipynb>data table notebook</a>'\n",
              "            + ' to learn more about interactive tables.';\n",
              "          element.innerHTML = '';\n",
              "          dataTable['output_type'] = 'display_data';\n",
              "          await google.colab.output.renderOutput(dataTable, element);\n",
              "          const docLink = document.createElement('div');\n",
              "          docLink.innerHTML = docLinkHtml;\n",
              "          element.appendChild(docLink);\n",
              "        }\n",
              "      </script>\n",
              "    </div>\n",
              "  </div>\n",
              "  "
            ]
          },
          "metadata": {},
          "execution_count": 37
        }
      ],
      "source": [
        "corpus_df"
      ]
    },
    {
      "cell_type": "code",
      "execution_count": null,
      "id": "b047e5b8",
      "metadata": {
        "ExecuteTime": {
          "end_time": "2022-11-05T22:46:20.932672Z",
          "start_time": "2022-11-05T22:46:20.909441Z"
        },
        "id": "b047e5b8"
      },
      "outputs": [],
      "source": [
        "tags_df = [\" \".join(tags) for tags in tags_liste]\n",
        "tags_df = pd.DataFrame(tags_df, columns=['tags_preprocessing'])"
      ]
    },
    {
      "cell_type": "code",
      "execution_count": null,
      "id": "f0264e44",
      "metadata": {
        "ExecuteTime": {
          "end_time": "2022-11-05T22:46:20.937679Z",
          "start_time": "2022-11-05T22:46:20.933768Z"
        },
        "colab": {
          "base_uri": "https://localhost:8080/",
          "height": 419
        },
        "id": "f0264e44",
        "outputId": "ba1ae902-998f-416a-94d6-8a4b3d4b5471"
      },
      "outputs": [
        {
          "output_type": "execute_result",
          "data": {
            "text/plain": [
              "                                       tags_preprocessing\n",
              "0                                 c++ std c++20 allocator\n",
              "1                           typescript next.js contentful\n",
              "2                         textfield selection flutter-web\n",
              "3                                       .net-core closure\n",
              "4                              java java-memory-model jls\n",
              "...                                                   ...\n",
              "152261                                panda date datetime\n",
              "152262                                    io iphone xcode\n",
              "152263  android android-architecture-components androi...\n",
              "152264                 javascript node.js npm npm-install\n",
              "152265                               android dart flutter\n",
              "\n",
              "[152266 rows x 1 columns]"
            ],
            "text/html": [
              "\n",
              "  <div id=\"df-36a534bc-64fc-4f73-8382-3ee2d4a0fa41\">\n",
              "    <div class=\"colab-df-container\">\n",
              "      <div>\n",
              "<style scoped>\n",
              "    .dataframe tbody tr th:only-of-type {\n",
              "        vertical-align: middle;\n",
              "    }\n",
              "\n",
              "    .dataframe tbody tr th {\n",
              "        vertical-align: top;\n",
              "    }\n",
              "\n",
              "    .dataframe thead th {\n",
              "        text-align: right;\n",
              "    }\n",
              "</style>\n",
              "<table border=\"1\" class=\"dataframe\">\n",
              "  <thead>\n",
              "    <tr style=\"text-align: right;\">\n",
              "      <th></th>\n",
              "      <th>tags_preprocessing</th>\n",
              "    </tr>\n",
              "  </thead>\n",
              "  <tbody>\n",
              "    <tr>\n",
              "      <th>0</th>\n",
              "      <td>c++ std c++20 allocator</td>\n",
              "    </tr>\n",
              "    <tr>\n",
              "      <th>1</th>\n",
              "      <td>typescript next.js contentful</td>\n",
              "    </tr>\n",
              "    <tr>\n",
              "      <th>2</th>\n",
              "      <td>textfield selection flutter-web</td>\n",
              "    </tr>\n",
              "    <tr>\n",
              "      <th>3</th>\n",
              "      <td>.net-core closure</td>\n",
              "    </tr>\n",
              "    <tr>\n",
              "      <th>4</th>\n",
              "      <td>java java-memory-model jls</td>\n",
              "    </tr>\n",
              "    <tr>\n",
              "      <th>...</th>\n",
              "      <td>...</td>\n",
              "    </tr>\n",
              "    <tr>\n",
              "      <th>152261</th>\n",
              "      <td>panda date datetime</td>\n",
              "    </tr>\n",
              "    <tr>\n",
              "      <th>152262</th>\n",
              "      <td>io iphone xcode</td>\n",
              "    </tr>\n",
              "    <tr>\n",
              "      <th>152263</th>\n",
              "      <td>android android-architecture-components androi...</td>\n",
              "    </tr>\n",
              "    <tr>\n",
              "      <th>152264</th>\n",
              "      <td>javascript node.js npm npm-install</td>\n",
              "    </tr>\n",
              "    <tr>\n",
              "      <th>152265</th>\n",
              "      <td>android dart flutter</td>\n",
              "    </tr>\n",
              "  </tbody>\n",
              "</table>\n",
              "<p>152266 rows × 1 columns</p>\n",
              "</div>\n",
              "      <button class=\"colab-df-convert\" onclick=\"convertToInteractive('df-36a534bc-64fc-4f73-8382-3ee2d4a0fa41')\"\n",
              "              title=\"Convert this dataframe to an interactive table.\"\n",
              "              style=\"display:none;\">\n",
              "        \n",
              "  <svg xmlns=\"http://www.w3.org/2000/svg\" height=\"24px\"viewBox=\"0 0 24 24\"\n",
              "       width=\"24px\">\n",
              "    <path d=\"M0 0h24v24H0V0z\" fill=\"none\"/>\n",
              "    <path d=\"M18.56 5.44l.94 2.06.94-2.06 2.06-.94-2.06-.94-.94-2.06-.94 2.06-2.06.94zm-11 1L8.5 8.5l.94-2.06 2.06-.94-2.06-.94L8.5 2.5l-.94 2.06-2.06.94zm10 10l.94 2.06.94-2.06 2.06-.94-2.06-.94-.94-2.06-.94 2.06-2.06.94z\"/><path d=\"M17.41 7.96l-1.37-1.37c-.4-.4-.92-.59-1.43-.59-.52 0-1.04.2-1.43.59L10.3 9.45l-7.72 7.72c-.78.78-.78 2.05 0 2.83L4 21.41c.39.39.9.59 1.41.59.51 0 1.02-.2 1.41-.59l7.78-7.78 2.81-2.81c.8-.78.8-2.07 0-2.86zM5.41 20L4 18.59l7.72-7.72 1.47 1.35L5.41 20z\"/>\n",
              "  </svg>\n",
              "      </button>\n",
              "      \n",
              "  <style>\n",
              "    .colab-df-container {\n",
              "      display:flex;\n",
              "      flex-wrap:wrap;\n",
              "      gap: 12px;\n",
              "    }\n",
              "\n",
              "    .colab-df-convert {\n",
              "      background-color: #E8F0FE;\n",
              "      border: none;\n",
              "      border-radius: 50%;\n",
              "      cursor: pointer;\n",
              "      display: none;\n",
              "      fill: #1967D2;\n",
              "      height: 32px;\n",
              "      padding: 0 0 0 0;\n",
              "      width: 32px;\n",
              "    }\n",
              "\n",
              "    .colab-df-convert:hover {\n",
              "      background-color: #E2EBFA;\n",
              "      box-shadow: 0px 1px 2px rgba(60, 64, 67, 0.3), 0px 1px 3px 1px rgba(60, 64, 67, 0.15);\n",
              "      fill: #174EA6;\n",
              "    }\n",
              "\n",
              "    [theme=dark] .colab-df-convert {\n",
              "      background-color: #3B4455;\n",
              "      fill: #D2E3FC;\n",
              "    }\n",
              "\n",
              "    [theme=dark] .colab-df-convert:hover {\n",
              "      background-color: #434B5C;\n",
              "      box-shadow: 0px 1px 3px 1px rgba(0, 0, 0, 0.15);\n",
              "      filter: drop-shadow(0px 1px 2px rgba(0, 0, 0, 0.3));\n",
              "      fill: #FFFFFF;\n",
              "    }\n",
              "  </style>\n",
              "\n",
              "      <script>\n",
              "        const buttonEl =\n",
              "          document.querySelector('#df-36a534bc-64fc-4f73-8382-3ee2d4a0fa41 button.colab-df-convert');\n",
              "        buttonEl.style.display =\n",
              "          google.colab.kernel.accessAllowed ? 'block' : 'none';\n",
              "\n",
              "        async function convertToInteractive(key) {\n",
              "          const element = document.querySelector('#df-36a534bc-64fc-4f73-8382-3ee2d4a0fa41');\n",
              "          const dataTable =\n",
              "            await google.colab.kernel.invokeFunction('convertToInteractive',\n",
              "                                                     [key], {});\n",
              "          if (!dataTable) return;\n",
              "\n",
              "          const docLinkHtml = 'Like what you see? Visit the ' +\n",
              "            '<a target=\"_blank\" href=https://colab.research.google.com/notebooks/data_table.ipynb>data table notebook</a>'\n",
              "            + ' to learn more about interactive tables.';\n",
              "          element.innerHTML = '';\n",
              "          dataTable['output_type'] = 'display_data';\n",
              "          await google.colab.output.renderOutput(dataTable, element);\n",
              "          const docLink = document.createElement('div');\n",
              "          docLink.innerHTML = docLinkHtml;\n",
              "          element.appendChild(docLink);\n",
              "        }\n",
              "      </script>\n",
              "    </div>\n",
              "  </div>\n",
              "  "
            ]
          },
          "metadata": {},
          "execution_count": 39
        }
      ],
      "source": [
        "tags_df"
      ]
    },
    {
      "cell_type": "code",
      "execution_count": null,
      "id": "d4d3f094",
      "metadata": {
        "ExecuteTime": {
          "end_time": "2022-11-05T22:46:20.943715Z",
          "start_time": "2022-11-05T22:46:20.938633Z"
        },
        "id": "d4d3f094"
      },
      "outputs": [],
      "source": [
        "df_final = pd.concat([corpus_df, tags_df], axis=1)"
      ]
    },
    {
      "cell_type": "code",
      "execution_count": null,
      "id": "1978d231",
      "metadata": {
        "ExecuteTime": {
          "end_time": "2022-11-05T22:46:21.545934Z",
          "start_time": "2022-11-05T22:46:20.944820Z"
        },
        "id": "1978d231"
      },
      "outputs": [],
      "source": [
        "df_final['corpus_preprocessing'] = df_final['corpus_preprocessing'].apply(\n",
        "    lambda x: x.split(' '))\n",
        "df_final['tags_preprocessing'] = df_final['tags_preprocessing'].apply(\n",
        "    lambda x: x.split(' '))"
      ]
    },
    {
      "cell_type": "code",
      "execution_count": null,
      "id": "380b47c9",
      "metadata": {
        "ExecuteTime": {
          "end_time": "2022-11-05T22:46:21.558715Z",
          "start_time": "2022-11-05T22:46:21.546890Z"
        },
        "id": "380b47c9"
      },
      "outputs": [],
      "source": [
        "corpus_final = df_final['corpus_preprocessing'].to_list()\n",
        "tags_final = df_final['tags_preprocessing'].to_list()\n",
        "data_corpus_base = data['Corpus'].to_list()"
      ]
    },
    {
      "cell_type": "code",
      "execution_count": null,
      "id": "a270ea51",
      "metadata": {
        "ExecuteTime": {
          "end_time": "2022-11-05T22:46:21.570685Z",
          "start_time": "2022-11-05T22:46:21.559847Z"
        },
        "id": "a270ea51"
      },
      "outputs": [],
      "source": [
        "df_visualisation = pd.concat([data['Corpus'],\n",
        "                              data['Tags'],\n",
        "                              df_final['corpus_preprocessing'],\n",
        "                              df_final['tags_preprocessing']],\n",
        "                             axis=1)"
      ]
    },
    {
      "cell_type": "code",
      "execution_count": null,
      "id": "be2c98c6",
      "metadata": {
        "ExecuteTime": {
          "end_time": "2022-11-05T22:46:21.585919Z",
          "start_time": "2022-11-05T22:46:21.571548Z"
        },
        "colab": {
          "base_uri": "https://localhost:8080/",
          "height": 418
        },
        "id": "be2c98c6",
        "outputId": "0d0bf148-1fff-4bd4-b5a9-0bfdd568eea5"
      },
      "outputs": [
        {
          "output_type": "display_data",
          "data": {
            "text/plain": [
              "                                              Corpus  \\\n",
              "0  How can I construct my objects allocated throu...   \n",
              "1  How to clear NextJs GetStaticPaths cache / \"un...   \n",
              "2  Flutter Web - Text field scrolls instead of se...   \n",
              "3  Avoid closure on fast path by storing state in...   \n",
              "4  Java Memory Model: a JLS statement about seque...   \n",
              "\n",
              "                              Tags  \\\n",
              "0          c++ std c++20 allocator   \n",
              "1    typescript next.js contentful   \n",
              "2  textfield selection flutter-web   \n",
              "3            c# .net-core closures   \n",
              "4       java java-memory-model jls   \n",
              "\n",
              "                                corpus_preprocessing  \\\n",
              "0          [:allocator, construct, performance, lot]   \n",
              "1  [cache, route, question, anything, site, regen...   \n",
              "2  [field, issue, text, scroll, view, line, selec...   \n",
              "3  [closure, path, state, localsI, closure, path,...   \n",
              "4  [statement, consistency, Chapter, statement, c...   \n",
              "\n",
              "                    tags_preprocessing  \n",
              "0         [c++, std, c++20, allocator]  \n",
              "1    [typescript, next.js, contentful]  \n",
              "2  [textfield, selection, flutter-web]  \n",
              "3                 [.net-core, closure]  \n",
              "4       [java, java-memory-model, jls]  "
            ],
            "text/html": [
              "\n",
              "  <div id=\"df-a5a242ee-3afd-4a84-ad4b-bd4c6bf2ae63\">\n",
              "    <div class=\"colab-df-container\">\n",
              "      <div>\n",
              "<style scoped>\n",
              "    .dataframe tbody tr th:only-of-type {\n",
              "        vertical-align: middle;\n",
              "    }\n",
              "\n",
              "    .dataframe tbody tr th {\n",
              "        vertical-align: top;\n",
              "    }\n",
              "\n",
              "    .dataframe thead th {\n",
              "        text-align: right;\n",
              "    }\n",
              "</style>\n",
              "<table border=\"1\" class=\"dataframe\">\n",
              "  <thead>\n",
              "    <tr style=\"text-align: right;\">\n",
              "      <th></th>\n",
              "      <th>Corpus</th>\n",
              "      <th>Tags</th>\n",
              "      <th>corpus_preprocessing</th>\n",
              "      <th>tags_preprocessing</th>\n",
              "    </tr>\n",
              "  </thead>\n",
              "  <tbody>\n",
              "    <tr>\n",
              "      <th>0</th>\n",
              "      <td>How can I construct my objects allocated throu...</td>\n",
              "      <td>c++ std c++20 allocator</td>\n",
              "      <td>[:allocator, construct, performance, lot]</td>\n",
              "      <td>[c++, std, c++20, allocator]</td>\n",
              "    </tr>\n",
              "    <tr>\n",
              "      <th>1</th>\n",
              "      <td>How to clear NextJs GetStaticPaths cache / \"un...</td>\n",
              "      <td>typescript next.js contentful</td>\n",
              "      <td>[cache, route, question, anything, site, regen...</td>\n",
              "      <td>[typescript, next.js, contentful]</td>\n",
              "    </tr>\n",
              "    <tr>\n",
              "      <th>2</th>\n",
              "      <td>Flutter Web - Text field scrolls instead of se...</td>\n",
              "      <td>textfield selection flutter-web</td>\n",
              "      <td>[field, issue, text, scroll, view, line, selec...</td>\n",
              "      <td>[textfield, selection, flutter-web]</td>\n",
              "    </tr>\n",
              "    <tr>\n",
              "      <th>3</th>\n",
              "      <td>Avoid closure on fast path by storing state in...</td>\n",
              "      <td>c# .net-core closures</td>\n",
              "      <td>[closure, path, state, localsI, closure, path,...</td>\n",
              "      <td>[.net-core, closure]</td>\n",
              "    </tr>\n",
              "    <tr>\n",
              "      <th>4</th>\n",
              "      <td>Java Memory Model: a JLS statement about seque...</td>\n",
              "      <td>java java-memory-model jls</td>\n",
              "      <td>[statement, consistency, Chapter, statement, c...</td>\n",
              "      <td>[java, java-memory-model, jls]</td>\n",
              "    </tr>\n",
              "  </tbody>\n",
              "</table>\n",
              "</div>\n",
              "      <button class=\"colab-df-convert\" onclick=\"convertToInteractive('df-a5a242ee-3afd-4a84-ad4b-bd4c6bf2ae63')\"\n",
              "              title=\"Convert this dataframe to an interactive table.\"\n",
              "              style=\"display:none;\">\n",
              "        \n",
              "  <svg xmlns=\"http://www.w3.org/2000/svg\" height=\"24px\"viewBox=\"0 0 24 24\"\n",
              "       width=\"24px\">\n",
              "    <path d=\"M0 0h24v24H0V0z\" fill=\"none\"/>\n",
              "    <path d=\"M18.56 5.44l.94 2.06.94-2.06 2.06-.94-2.06-.94-.94-2.06-.94 2.06-2.06.94zm-11 1L8.5 8.5l.94-2.06 2.06-.94-2.06-.94L8.5 2.5l-.94 2.06-2.06.94zm10 10l.94 2.06.94-2.06 2.06-.94-2.06-.94-.94-2.06-.94 2.06-2.06.94z\"/><path d=\"M17.41 7.96l-1.37-1.37c-.4-.4-.92-.59-1.43-.59-.52 0-1.04.2-1.43.59L10.3 9.45l-7.72 7.72c-.78.78-.78 2.05 0 2.83L4 21.41c.39.39.9.59 1.41.59.51 0 1.02-.2 1.41-.59l7.78-7.78 2.81-2.81c.8-.78.8-2.07 0-2.86zM5.41 20L4 18.59l7.72-7.72 1.47 1.35L5.41 20z\"/>\n",
              "  </svg>\n",
              "      </button>\n",
              "      \n",
              "  <style>\n",
              "    .colab-df-container {\n",
              "      display:flex;\n",
              "      flex-wrap:wrap;\n",
              "      gap: 12px;\n",
              "    }\n",
              "\n",
              "    .colab-df-convert {\n",
              "      background-color: #E8F0FE;\n",
              "      border: none;\n",
              "      border-radius: 50%;\n",
              "      cursor: pointer;\n",
              "      display: none;\n",
              "      fill: #1967D2;\n",
              "      height: 32px;\n",
              "      padding: 0 0 0 0;\n",
              "      width: 32px;\n",
              "    }\n",
              "\n",
              "    .colab-df-convert:hover {\n",
              "      background-color: #E2EBFA;\n",
              "      box-shadow: 0px 1px 2px rgba(60, 64, 67, 0.3), 0px 1px 3px 1px rgba(60, 64, 67, 0.15);\n",
              "      fill: #174EA6;\n",
              "    }\n",
              "\n",
              "    [theme=dark] .colab-df-convert {\n",
              "      background-color: #3B4455;\n",
              "      fill: #D2E3FC;\n",
              "    }\n",
              "\n",
              "    [theme=dark] .colab-df-convert:hover {\n",
              "      background-color: #434B5C;\n",
              "      box-shadow: 0px 1px 3px 1px rgba(0, 0, 0, 0.15);\n",
              "      filter: drop-shadow(0px 1px 2px rgba(0, 0, 0, 0.3));\n",
              "      fill: #FFFFFF;\n",
              "    }\n",
              "  </style>\n",
              "\n",
              "      <script>\n",
              "        const buttonEl =\n",
              "          document.querySelector('#df-a5a242ee-3afd-4a84-ad4b-bd4c6bf2ae63 button.colab-df-convert');\n",
              "        buttonEl.style.display =\n",
              "          google.colab.kernel.accessAllowed ? 'block' : 'none';\n",
              "\n",
              "        async function convertToInteractive(key) {\n",
              "          const element = document.querySelector('#df-a5a242ee-3afd-4a84-ad4b-bd4c6bf2ae63');\n",
              "          const dataTable =\n",
              "            await google.colab.kernel.invokeFunction('convertToInteractive',\n",
              "                                                     [key], {});\n",
              "          if (!dataTable) return;\n",
              "\n",
              "          const docLinkHtml = 'Like what you see? Visit the ' +\n",
              "            '<a target=\"_blank\" href=https://colab.research.google.com/notebooks/data_table.ipynb>data table notebook</a>'\n",
              "            + ' to learn more about interactive tables.';\n",
              "          element.innerHTML = '';\n",
              "          dataTable['output_type'] = 'display_data';\n",
              "          await google.colab.output.renderOutput(dataTable, element);\n",
              "          const docLink = document.createElement('div');\n",
              "          docLink.innerHTML = docLinkHtml;\n",
              "          element.appendChild(docLink);\n",
              "        }\n",
              "      </script>\n",
              "    </div>\n",
              "  </div>\n",
              "  "
            ]
          },
          "metadata": {}
        }
      ],
      "source": [
        "display(df_visualisation.head())\n",
        "# Ici on voit bien qu'on a nos tags modifiés et non modifiés,.\n",
        "# on pourra supprimer les balises via regex par la suite pour les tags"
      ]
    },
    {
      "cell_type": "markdown",
      "id": "659191c6",
      "metadata": {
        "id": "659191c6"
      },
      "source": [
        "Avant de calculer le bag of Word, le tf idf et le nmf, on va réduire le nombre de tags pour notre analyse."
      ]
    },
    {
      "cell_type": "markdown",
      "id": "199a74ba",
      "metadata": {
        "id": "199a74ba"
      },
      "source": [
        "## Comptage des Tags :"
      ]
    },
    {
      "cell_type": "code",
      "execution_count": null,
      "id": "e861e203",
      "metadata": {
        "ExecuteTime": {
          "end_time": "2022-11-05T22:46:21.636268Z",
          "start_time": "2022-11-05T22:46:21.586994Z"
        },
        "colab": {
          "base_uri": "https://localhost:8080/",
          "height": 540
        },
        "id": "e861e203",
        "outputId": "2355eab5-86f1-4edc-86bb-edc98dcba356"
      },
      "outputs": [
        {
          "output_type": "execute_result",
          "data": {
            "text/plain": [
              "                                              Corpus  \\\n",
              "0  How can I construct my objects allocated throu...   \n",
              "1  How to clear NextJs GetStaticPaths cache / \"un...   \n",
              "2  Flutter Web - Text field scrolls instead of se...   \n",
              "3  Avoid closure on fast path by storing state in...   \n",
              "4  Java Memory Model: a JLS statement about seque...   \n",
              "\n",
              "                              Tags  \\\n",
              "0          c++ std c++20 allocator   \n",
              "1    typescript next.js contentful   \n",
              "2  textfield selection flutter-web   \n",
              "3            c# .net-core closures   \n",
              "4       java java-memory-model jls   \n",
              "\n",
              "                                corpus_preprocessing  \\\n",
              "0          [:allocator, construct, performance, lot]   \n",
              "1  [cache, route, question, anything, site, regen...   \n",
              "2  [field, issue, text, scroll, view, line, selec...   \n",
              "3  [closure, path, state, localsI, closure, path,...   \n",
              "4  [statement, consistency, Chapter, statement, c...   \n",
              "\n",
              "                    tags_preprocessing  Tags_count  \n",
              "0         [c++, std, c++20, allocator]           4  \n",
              "1    [typescript, next.js, contentful]           3  \n",
              "2  [textfield, selection, flutter-web]           3  \n",
              "3                 [.net-core, closure]           3  \n",
              "4       [java, java-memory-model, jls]           3  "
            ],
            "text/html": [
              "\n",
              "  <div id=\"df-d5dc3d19-06e6-4fff-b713-9ca34e697af1\">\n",
              "    <div class=\"colab-df-container\">\n",
              "      <div>\n",
              "<style scoped>\n",
              "    .dataframe tbody tr th:only-of-type {\n",
              "        vertical-align: middle;\n",
              "    }\n",
              "\n",
              "    .dataframe tbody tr th {\n",
              "        vertical-align: top;\n",
              "    }\n",
              "\n",
              "    .dataframe thead th {\n",
              "        text-align: right;\n",
              "    }\n",
              "</style>\n",
              "<table border=\"1\" class=\"dataframe\">\n",
              "  <thead>\n",
              "    <tr style=\"text-align: right;\">\n",
              "      <th></th>\n",
              "      <th>Corpus</th>\n",
              "      <th>Tags</th>\n",
              "      <th>corpus_preprocessing</th>\n",
              "      <th>tags_preprocessing</th>\n",
              "      <th>Tags_count</th>\n",
              "    </tr>\n",
              "  </thead>\n",
              "  <tbody>\n",
              "    <tr>\n",
              "      <th>0</th>\n",
              "      <td>How can I construct my objects allocated throu...</td>\n",
              "      <td>c++ std c++20 allocator</td>\n",
              "      <td>[:allocator, construct, performance, lot]</td>\n",
              "      <td>[c++, std, c++20, allocator]</td>\n",
              "      <td>4</td>\n",
              "    </tr>\n",
              "    <tr>\n",
              "      <th>1</th>\n",
              "      <td>How to clear NextJs GetStaticPaths cache / \"un...</td>\n",
              "      <td>typescript next.js contentful</td>\n",
              "      <td>[cache, route, question, anything, site, regen...</td>\n",
              "      <td>[typescript, next.js, contentful]</td>\n",
              "      <td>3</td>\n",
              "    </tr>\n",
              "    <tr>\n",
              "      <th>2</th>\n",
              "      <td>Flutter Web - Text field scrolls instead of se...</td>\n",
              "      <td>textfield selection flutter-web</td>\n",
              "      <td>[field, issue, text, scroll, view, line, selec...</td>\n",
              "      <td>[textfield, selection, flutter-web]</td>\n",
              "      <td>3</td>\n",
              "    </tr>\n",
              "    <tr>\n",
              "      <th>3</th>\n",
              "      <td>Avoid closure on fast path by storing state in...</td>\n",
              "      <td>c# .net-core closures</td>\n",
              "      <td>[closure, path, state, localsI, closure, path,...</td>\n",
              "      <td>[.net-core, closure]</td>\n",
              "      <td>3</td>\n",
              "    </tr>\n",
              "    <tr>\n",
              "      <th>4</th>\n",
              "      <td>Java Memory Model: a JLS statement about seque...</td>\n",
              "      <td>java java-memory-model jls</td>\n",
              "      <td>[statement, consistency, Chapter, statement, c...</td>\n",
              "      <td>[java, java-memory-model, jls]</td>\n",
              "      <td>3</td>\n",
              "    </tr>\n",
              "  </tbody>\n",
              "</table>\n",
              "</div>\n",
              "      <button class=\"colab-df-convert\" onclick=\"convertToInteractive('df-d5dc3d19-06e6-4fff-b713-9ca34e697af1')\"\n",
              "              title=\"Convert this dataframe to an interactive table.\"\n",
              "              style=\"display:none;\">\n",
              "        \n",
              "  <svg xmlns=\"http://www.w3.org/2000/svg\" height=\"24px\"viewBox=\"0 0 24 24\"\n",
              "       width=\"24px\">\n",
              "    <path d=\"M0 0h24v24H0V0z\" fill=\"none\"/>\n",
              "    <path d=\"M18.56 5.44l.94 2.06.94-2.06 2.06-.94-2.06-.94-.94-2.06-.94 2.06-2.06.94zm-11 1L8.5 8.5l.94-2.06 2.06-.94-2.06-.94L8.5 2.5l-.94 2.06-2.06.94zm10 10l.94 2.06.94-2.06 2.06-.94-2.06-.94-.94-2.06-.94 2.06-2.06.94z\"/><path d=\"M17.41 7.96l-1.37-1.37c-.4-.4-.92-.59-1.43-.59-.52 0-1.04.2-1.43.59L10.3 9.45l-7.72 7.72c-.78.78-.78 2.05 0 2.83L4 21.41c.39.39.9.59 1.41.59.51 0 1.02-.2 1.41-.59l7.78-7.78 2.81-2.81c.8-.78.8-2.07 0-2.86zM5.41 20L4 18.59l7.72-7.72 1.47 1.35L5.41 20z\"/>\n",
              "  </svg>\n",
              "      </button>\n",
              "      \n",
              "  <style>\n",
              "    .colab-df-container {\n",
              "      display:flex;\n",
              "      flex-wrap:wrap;\n",
              "      gap: 12px;\n",
              "    }\n",
              "\n",
              "    .colab-df-convert {\n",
              "      background-color: #E8F0FE;\n",
              "      border: none;\n",
              "      border-radius: 50%;\n",
              "      cursor: pointer;\n",
              "      display: none;\n",
              "      fill: #1967D2;\n",
              "      height: 32px;\n",
              "      padding: 0 0 0 0;\n",
              "      width: 32px;\n",
              "    }\n",
              "\n",
              "    .colab-df-convert:hover {\n",
              "      background-color: #E2EBFA;\n",
              "      box-shadow: 0px 1px 2px rgba(60, 64, 67, 0.3), 0px 1px 3px 1px rgba(60, 64, 67, 0.15);\n",
              "      fill: #174EA6;\n",
              "    }\n",
              "\n",
              "    [theme=dark] .colab-df-convert {\n",
              "      background-color: #3B4455;\n",
              "      fill: #D2E3FC;\n",
              "    }\n",
              "\n",
              "    [theme=dark] .colab-df-convert:hover {\n",
              "      background-color: #434B5C;\n",
              "      box-shadow: 0px 1px 3px 1px rgba(0, 0, 0, 0.15);\n",
              "      filter: drop-shadow(0px 1px 2px rgba(0, 0, 0, 0.3));\n",
              "      fill: #FFFFFF;\n",
              "    }\n",
              "  </style>\n",
              "\n",
              "      <script>\n",
              "        const buttonEl =\n",
              "          document.querySelector('#df-d5dc3d19-06e6-4fff-b713-9ca34e697af1 button.colab-df-convert');\n",
              "        buttonEl.style.display =\n",
              "          google.colab.kernel.accessAllowed ? 'block' : 'none';\n",
              "\n",
              "        async function convertToInteractive(key) {\n",
              "          const element = document.querySelector('#df-d5dc3d19-06e6-4fff-b713-9ca34e697af1');\n",
              "          const dataTable =\n",
              "            await google.colab.kernel.invokeFunction('convertToInteractive',\n",
              "                                                     [key], {});\n",
              "          if (!dataTable) return;\n",
              "\n",
              "          const docLinkHtml = 'Like what you see? Visit the ' +\n",
              "            '<a target=\"_blank\" href=https://colab.research.google.com/notebooks/data_table.ipynb>data table notebook</a>'\n",
              "            + ' to learn more about interactive tables.';\n",
              "          element.innerHTML = '';\n",
              "          dataTable['output_type'] = 'display_data';\n",
              "          await google.colab.output.renderOutput(dataTable, element);\n",
              "          const docLink = document.createElement('div');\n",
              "          docLink.innerHTML = docLinkHtml;\n",
              "          element.appendChild(docLink);\n",
              "        }\n",
              "      </script>\n",
              "    </div>\n",
              "  </div>\n",
              "  "
            ]
          },
          "metadata": {},
          "execution_count": 45
        }
      ],
      "source": [
        "df_visualisation[\"Tags_count\"] = df_visualisation[\"Tags\"].apply(lambda x : len(x.split()))\n",
        "df_visualisation.head()"
      ]
    },
    {
      "cell_type": "code",
      "execution_count": null,
      "id": "5fc7d3d7",
      "metadata": {
        "ExecuteTime": {
          "end_time": "2022-11-05T22:46:21.639769Z",
          "start_time": "2022-11-05T22:46:21.637334Z"
        },
        "colab": {
          "base_uri": "https://localhost:8080/"
        },
        "id": "5fc7d3d7",
        "outputId": "d5e29d51-feec-4feb-bf5d-c956d4fb67c8"
      },
      "outputs": [
        {
          "output_type": "stream",
          "name": "stdout",
          "text": [
            "Le nombre de Tags dans une question est au nombre de :  \u001b[1m3.19\u001b[0m\n"
          ]
        }
      ],
      "source": [
        "print( \"Le nombre de Tags dans une question est au nombre de : \", '\\033[1m'+ str(round(df_visualisation[\"Tags_count\"].mean(),2)) + '\\033[0m')"
      ]
    },
    {
      "cell_type": "markdown",
      "id": "ca8fbc52",
      "metadata": {
        "id": "ca8fbc52"
      },
      "source": [
        "# Enregistrer le dataframe dans un PICKLE :"
      ]
    },
    {
      "cell_type": "code",
      "execution_count": null,
      "id": "53250125",
      "metadata": {
        "ExecuteTime": {
          "end_time": "2022-11-05T22:46:22.436381Z",
          "start_time": "2022-11-05T22:46:21.640618Z"
        },
        "id": "53250125"
      },
      "outputs": [],
      "source": [
        "pd.to_pickle(df_visualisation, \"/content/drive/My Drive/Colab Notebooks/TEST/p5_visualisation_part_1.pkl\")"
      ]
    }
  ],
  "metadata": {
    "kernelspec": {
      "display_name": "Python 3.9 (tensorflow)",
      "language": "python",
      "name": "tensorflow"
    },
    "language_info": {
      "codemirror_mode": {
        "name": "ipython",
        "version": 3
      },
      "file_extension": ".py",
      "mimetype": "text/x-python",
      "name": "python",
      "nbconvert_exporter": "python",
      "pygments_lexer": "ipython3",
      "version": "3.9.13"
    },
    "toc": {
      "base_numbering": 1,
      "nav_menu": {},
      "number_sections": true,
      "sideBar": true,
      "skip_h1_title": false,
      "title_cell": "Table of Contents",
      "title_sidebar": "Contents",
      "toc_cell": false,
      "toc_position": {
        "height": "calc(100% - 180px)",
        "left": "10px",
        "top": "150px",
        "width": "384px"
      },
      "toc_section_display": true,
      "toc_window_display": true
    },
    "varInspector": {
      "cols": {
        "lenName": 16,
        "lenType": 16,
        "lenVar": 40
      },
      "kernels_config": {
        "python": {
          "delete_cmd_postfix": "",
          "delete_cmd_prefix": "del ",
          "library": "var_list.py",
          "varRefreshCmd": "print(var_dic_list())"
        },
        "r": {
          "delete_cmd_postfix": ") ",
          "delete_cmd_prefix": "rm(",
          "library": "var_list.r",
          "varRefreshCmd": "cat(var_dic_list()) "
        }
      },
      "types_to_exclude": [
        "module",
        "function",
        "builtin_function_or_method",
        "instance",
        "_Feature"
      ],
      "window_display": false
    },
    "colab": {
      "provenance": [],
      "toc_visible": true,
      "include_colab_link": true
    }
  },
  "nbformat": 4,
  "nbformat_minor": 5
}